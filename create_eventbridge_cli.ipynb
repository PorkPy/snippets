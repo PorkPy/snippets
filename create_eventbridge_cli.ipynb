{
 "cells": [
  {
   "cell_type": "code",
   "execution_count": 1,
   "id": "90629cdc",
   "metadata": {},
   "outputs": [
    {
     "name": "stdout",
     "output_type": "stream",
     "text": [
      "arn:aws:iam::798861612849:role/service-role/AmazonSageMaker-ExecutionRole-20221020T100790\n"
     ]
    }
   ],
   "source": [
    "import sagemaker\n",
    "\n",
    "role_arn = sagemaker.get_execution_role()\n",
    "print(role_arn)\n",
    "\n",
    "#'arn:aws:sagemaker:eu-west-2:798861612849:pipeline/MyPipeline-2023-07-03-21-07-05'"
   ]
  },
  {
   "cell_type": "code",
   "execution_count": 5,
   "id": "b2e26b1c",
   "metadata": {},
   "outputs": [
    {
     "ename": "SyntaxError",
     "evalue": "invalid syntax (3444005236.py, line 1)",
     "output_type": "error",
     "traceback": [
      "\u001b[0;36m  Cell \u001b[0;32mIn[5], line 1\u001b[0;36m\u001b[0m\n\u001b[0;31m    aws events put-rule --name cmg_sagemaker_pipeline --event-pattern \"{\\\"source\\\": [\\\"aws.s3\\\"], \\\"detail-type\\\": [\\\"ObjectCreated:*\\\"], \\\"detail\\\": {\\\"bucket\\\": {\\\"name\\\": [\\\"cmg-sagemaker-compliance-cases-data\\\"]}, \\\"object\\\": {\\\"key\\\": [{\\\"prefix\\\": \\\"arrears-compliance-processed-data/30-04-2023-train-test/training\\\"}]}}}\" --state ENABLED --description \"Rule to trigger SageMaker pipeline when new file is added to S3 bucket\" --role-arn <role_arn>\u001b[0m\n\u001b[0m        ^\u001b[0m\n\u001b[0;31mSyntaxError\u001b[0m\u001b[0;31m:\u001b[0m invalid syntax\n"
     ]
    }
   ],
   "source": [
    "# Set variables\n",
    "s3_bucket='cmg-sagemaker-compliance-cases-data'\n",
    "s3_prefix='arrears-compliance-processed-data/30-04-2023-train-test/'\n",
    "pipeline_name='MyPipeline-2023-07-03-21-07-05'\n",
    "region='eu-west-2'\n",
    "\n",
    "# Get the pipeline ARN\n",
    "pipeline_arn=$(aws sagemaker list-pipelines --pipeline-name-prefix $pipeline_name --region $region --query 'PipelineSummaries[0].PipelineArn' --output text)\n",
    "\n",
    "# Create the rule\n",
    "rule_arn=$(aws events put-rule --name 'cmg_sagemaker_pipeline' --event-pattern \"{\\\"source\\\": [\\\"aws.s3\\\"], \\\"detail-type\\\": [\\\"ObjectCreated:*\\\"], \\\"detail\\\": {\\\"bucket\\\": {\\\"name\\\": [\\\"$s3_bucket\\\"]}, \\\"object\\\": {\\\"key\\\": [{\\\"prefix\\\": \\\"$s3_prefix\\\"}]}}}\" --state 'ENABLED' --description 'Rule to trigger SageMaker pipeline when new file is added to S3 bucket' --region $region --query 'RuleArn' --output text)\n",
    "\n",
    "# Add the target\n",
    "aws events put-targets --rule 'my-sagemaker-pipeline-trigger-rule' --targets \"Id\"=\"1\",\"Arn\"=\"$pipeline_arn\",\"Input\"='{\"PipelineExecutionDescription\": \"Started by EventBridge rule\"}',\"InputPath\"=\"$.detail\" --region $region\n",
    "\n",
    "echo \"Rule ARN: $rule_arn\"\n"
   ]
  }
 ],
 "metadata": {
  "kernelspec": {
   "display_name": "conda_python3",
   "language": "python",
   "name": "conda_python3"
  },
  "language_info": {
   "codemirror_mode": {
    "name": "ipython",
    "version": 3
   },
   "file_extension": ".py",
   "mimetype": "text/x-python",
   "name": "python",
   "nbconvert_exporter": "python",
   "pygments_lexer": "ipython3",
   "version": "3.10.10"
  }
 },
 "nbformat": 4,
 "nbformat_minor": 5
}
