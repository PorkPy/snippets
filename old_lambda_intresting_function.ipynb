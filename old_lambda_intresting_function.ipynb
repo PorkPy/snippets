{
 "cells": [
  {
   "cell_type": "code",
   "execution_count": null,
   "id": "d1ce8bec",
   "metadata": {},
   "outputs": [],
   "source": [
    "import boto3\n",
    "import numpy as np\n",
    "\n",
    "# Create a SageMaker client\n",
    "sagemaker = boto3.client(\"sagemaker\")\n",
    "\n",
    "# Define the S3 bucket and prefix\n",
    "bucket = \"your_bucket\"\n",
    "prefix = \"your_prefix\"\n",
    "\n",
    "# Define the function handler\n",
    "def lambda_handler(event, context):\n",
    "    # Get the object key from the event\n",
    "    key = event[\"Records\"][0][\"s3\"][\"object\"][\"key\"]\n",
    "    \n",
    "    # Load the dataframe from S3\n",
    "    df = pd.read_csv(f\"s3://{bucket}/{key}\")\n",
    "    \n",
    "    # Split it into 2000 row chunks\n",
    "    chunks = np.array_split(df, len(df) // 2000 + 1)\n",
    "    \n",
    "    # Loop through the chunks and send them to SageMaker for batch transform\n",
    "    for i, chunk in enumerate(chunks):\n",
    "        # Save the chunk as a csv file in S3\n",
    "        chunk.to_csv(f\"s3://{bucket}/{prefix}/chunk_{i}.csv\", index=False)\n",
    "        \n",
    "        # Create a batch transform request\n",
    "        request = {\n",
    "            \"TransformJobName\": f\"chunk_{i}\",\n",
    "            \"ModelName\": \"your_model_name\",\n",
    "            \"TransformInput\": {\n",
    "                \"DataSource\": {\n",
    "                    \"S3DataSource\": {\n",
    "                        \"S3DataType\": \"S3Prefix\",\n",
    "                        \"S3Uri\": f\"s3://{bucket}/{prefix}/chunk_{i}.csv\"\n",
    "                    }\n",
    "                },\n",
    "                \"ContentType\": \"text/csv\",\n",
    "                \"SplitType\": \"Line\"\n",
    "            },\n",
    "            \"TransformOutput\": {\n",
    "                \"S3OutputPath\": f\"s3://{bucket}/{prefix}/output_{i}\"\n",
    "            },\n",
    "            \"TransformResources\": {\n",
    "                \"InstanceType\": \"ml.m4.xlarge\",\n",
    "                \"InstanceCount\": 1\n",
    "            }\n",
    "        }\n",
    "        \n",
    "        # Send the request to SageMaker\n",
    "        response = sagemaker.create_transform_job(**request)\n",
    "        \n",
    "        # Print the response\n",
    "        print(response)\n"
   ]
  }
 ],
 "metadata": {
  "kernelspec": {
   "display_name": "conda_python3",
   "language": "python",
   "name": "conda_python3"
  },
  "language_info": {
   "codemirror_mode": {
    "name": "ipython",
    "version": 3
   },
   "file_extension": ".py",
   "mimetype": "text/x-python",
   "name": "python",
   "nbconvert_exporter": "python",
   "pygments_lexer": "ipython3",
   "version": "3.10.10"
  }
 },
 "nbformat": 4,
 "nbformat_minor": 5
}
