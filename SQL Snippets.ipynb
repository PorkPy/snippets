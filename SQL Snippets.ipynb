{
 "cells": [
  {
   "cell_type": "code",
   "execution_count": 105,
   "id": "598c9723",
   "metadata": {
    "ExecuteTime": {
     "end_time": "2022-10-09T20:28:42.649750Z",
     "start_time": "2022-10-09T20:28:42.637927Z"
    }
   },
   "outputs": [
    {
     "data": {
      "text/html": [
       "<div>\n",
       "<style scoped>\n",
       "    .dataframe tbody tr th:only-of-type {\n",
       "        vertical-align: middle;\n",
       "    }\n",
       "\n",
       "    .dataframe tbody tr th {\n",
       "        vertical-align: top;\n",
       "    }\n",
       "\n",
       "    .dataframe thead th {\n",
       "        text-align: right;\n",
       "    }\n",
       "</style>\n",
       "<table border=\"1\" class=\"dataframe\">\n",
       "  <thead>\n",
       "    <tr style=\"text-align: right;\">\n",
       "      <th></th>\n",
       "      <th>type</th>\n",
       "      <th>name</th>\n",
       "      <th>tbl_name</th>\n",
       "      <th>rootpage</th>\n",
       "      <th>sql</th>\n",
       "    </tr>\n",
       "  </thead>\n",
       "  <tbody>\n",
       "    <tr>\n",
       "      <th>0</th>\n",
       "      <td>table</td>\n",
       "      <td>facts</td>\n",
       "      <td>facts</td>\n",
       "      <td>2</td>\n",
       "      <td>CREATE TABLE \"facts\" (\"id\" INTEGER PRIMARY KEY...</td>\n",
       "    </tr>\n",
       "    <tr>\n",
       "      <th>1</th>\n",
       "      <td>table</td>\n",
       "      <td>sqlite_sequence</td>\n",
       "      <td>sqlite_sequence</td>\n",
       "      <td>3</td>\n",
       "      <td>CREATE TABLE sqlite_sequence(name,seq)</td>\n",
       "    </tr>\n",
       "  </tbody>\n",
       "</table>\n",
       "</div>"
      ],
      "text/plain": [
       "    type             name         tbl_name  rootpage  \\\n",
       "0  table            facts            facts         2   \n",
       "1  table  sqlite_sequence  sqlite_sequence         3   \n",
       "\n",
       "                                                 sql  \n",
       "0  CREATE TABLE \"facts\" (\"id\" INTEGER PRIMARY KEY...  \n",
       "1             CREATE TABLE sqlite_sequence(name,seq)  "
      ]
     },
     "execution_count": 105,
     "metadata": {},
     "output_type": "execute_result"
    }
   ],
   "source": [
    "import sqlite3\n",
    "import pandas as pd\n",
    "conn= sqlite3.connect('factbook.db')\n",
    "q= \"SELECT  * FROM sqlite_master WHERE type='table';\"\n",
    "pd.read_sql_query(q, conn)"
   ]
  },
  {
   "cell_type": "code",
   "execution_count": 16,
   "id": "bb49e2d9",
   "metadata": {
    "ExecuteTime": {
     "end_time": "2022-10-09T16:20:06.566346Z",
     "start_time": "2022-10-09T16:20:06.560663Z"
    },
    "scrolled": true
   },
   "outputs": [
    {
     "data": {
      "text/plain": [
       "[('table',\n",
       "  'facts',\n",
       "  'facts',\n",
       "  2,\n",
       "  'CREATE TABLE \"facts\" (\"id\" INTEGER PRIMARY KEY AUTOINCREMENT NOT NULL, \"code\" varchar(255) NOT NULL, \"name\" varchar(255) NOT NULL, \"area\" integer, \"area_land\" integer, \"area_water\" integer, \"population\" integer, \"population_growth\" float, \"birth_rate\" float, \"death_rate\" float, \"migration_rate\" float, \"created_at\" datetime, \"updated_at\" datetime)'),\n",
       " ('table',\n",
       "  'sqlite_sequence',\n",
       "  'sqlite_sequence',\n",
       "  3,\n",
       "  'CREATE TABLE sqlite_sequence(name,seq)')]"
      ]
     },
     "execution_count": 16,
     "metadata": {},
     "output_type": "execute_result"
    }
   ],
   "source": [
    "cursor= conn.cursor()\n",
    "cursor.execute(q).fetchall()"
   ]
  },
  {
   "cell_type": "code",
   "execution_count": 37,
   "id": "bf39be8a",
   "metadata": {
    "ExecuteTime": {
     "end_time": "2022-10-09T17:11:39.181060Z",
     "start_time": "2022-10-09T17:11:39.174261Z"
    },
    "scrolled": true
   },
   "outputs": [],
   "source": [
    "q1= \"SELECT * FROM facts\"# limit 5\"\n",
    "data = pd.read_sql_query(q1,conn)\n",
    "#data"
   ]
  },
  {
   "cell_type": "code",
   "execution_count": 28,
   "id": "6fbd8a9a",
   "metadata": {
    "ExecuteTime": {
     "end_time": "2022-10-09T16:42:47.196199Z",
     "start_time": "2022-10-09T16:42:47.178028Z"
    },
    "scrolled": true
   },
   "outputs": [
    {
     "data": {
      "text/html": [
       "<div>\n",
       "<style scoped>\n",
       "    .dataframe tbody tr th:only-of-type {\n",
       "        vertical-align: middle;\n",
       "    }\n",
       "\n",
       "    .dataframe tbody tr th {\n",
       "        vertical-align: top;\n",
       "    }\n",
       "\n",
       "    .dataframe thead th {\n",
       "        text-align: right;\n",
       "    }\n",
       "</style>\n",
       "<table border=\"1\" class=\"dataframe\">\n",
       "  <thead>\n",
       "    <tr style=\"text-align: right;\">\n",
       "      <th></th>\n",
       "      <th>id</th>\n",
       "      <th>code</th>\n",
       "      <th>name</th>\n",
       "      <th>area</th>\n",
       "      <th>area_land</th>\n",
       "      <th>area_water</th>\n",
       "      <th>population</th>\n",
       "      <th>population_growth</th>\n",
       "      <th>birth_rate</th>\n",
       "      <th>death_rate</th>\n",
       "      <th>migration_rate</th>\n",
       "      <th>created_at</th>\n",
       "      <th>updated_at</th>\n",
       "    </tr>\n",
       "  </thead>\n",
       "  <tbody>\n",
       "    <tr>\n",
       "      <th>0</th>\n",
       "      <td>5</td>\n",
       "      <td>ao</td>\n",
       "      <td>Angola</td>\n",
       "      <td>1246700</td>\n",
       "      <td>1246700</td>\n",
       "      <td>0</td>\n",
       "      <td>19625353</td>\n",
       "      <td>2.78</td>\n",
       "      <td>38.78</td>\n",
       "      <td>11.49</td>\n",
       "      <td>0.46</td>\n",
       "      <td>2015-11-01 13:20:08.625072</td>\n",
       "      <td>2015-11-01 13:20:08.625072</td>\n",
       "    </tr>\n",
       "  </tbody>\n",
       "</table>\n",
       "</div>"
      ],
      "text/plain": [
       "   id code    name     area  area_land  area_water  population  \\\n",
       "0   5   ao  Angola  1246700    1246700           0    19625353   \n",
       "\n",
       "   population_growth  birth_rate  death_rate  migration_rate  \\\n",
       "0               2.78       38.78       11.49            0.46   \n",
       "\n",
       "                   created_at                  updated_at  \n",
       "0  2015-11-01 13:20:08.625072  2015-11-01 13:20:08.625072  "
      ]
     },
     "metadata": {},
     "output_type": "display_data"
    }
   ],
   "source": [
    "def sql():\n",
    "    sql_input = \"SELECT * \\\n",
    "                 FROM facts \\\n",
    "                 WHERE name = 'Angola' \\\n",
    "                 \"\n",
    "    return sql_input\n",
    "\n",
    "def get_data():\n",
    "    eng = sqlite3.connect('factbook.db')\n",
    "    sql_input = sql()\n",
    "    sql_input = \" \".join(sql_input.split())\n",
    "    data = pd.read_sql(sql_input, eng)\n",
    "    return data\n",
    "\n",
    "data = get_data()\n",
    "\n",
    "display(data)"
   ]
  },
  {
   "cell_type": "code",
   "execution_count": 56,
   "id": "b24aad1c",
   "metadata": {
    "ExecuteTime": {
     "end_time": "2022-10-09T17:26:37.817497Z",
     "start_time": "2022-10-09T17:26:37.809963Z"
    },
    "scrolled": true
   },
   "outputs": [
    {
     "data": {
      "text/html": [
       "<div>\n",
       "<style scoped>\n",
       "    .dataframe tbody tr th:only-of-type {\n",
       "        vertical-align: middle;\n",
       "    }\n",
       "\n",
       "    .dataframe tbody tr th {\n",
       "        vertical-align: top;\n",
       "    }\n",
       "\n",
       "    .dataframe thead th {\n",
       "        text-align: right;\n",
       "    }\n",
       "</style>\n",
       "<table border=\"1\" class=\"dataframe\">\n",
       "  <thead>\n",
       "    <tr style=\"text-align: right;\">\n",
       "      <th></th>\n",
       "      <th>name</th>\n",
       "    </tr>\n",
       "    <tr>\n",
       "      <th>Cat</th>\n",
       "      <th></th>\n",
       "    </tr>\n",
       "  </thead>\n",
       "  <tbody>\n",
       "    <tr>\n",
       "      <th>False</th>\n",
       "      <td>255</td>\n",
       "    </tr>\n",
       "    <tr>\n",
       "      <th>True</th>\n",
       "      <td>6</td>\n",
       "    </tr>\n",
       "  </tbody>\n",
       "</table>\n",
       "</div>"
      ],
      "text/plain": [
       "       name\n",
       "Cat        \n",
       "False   255\n",
       "True      6"
      ]
     },
     "execution_count": 56,
     "metadata": {},
     "output_type": "execute_result"
    }
   ],
   "source": [
    "data2 = data['name'].str.contains('An',\n",
    "                         regex=True,\n",
    "                         na=False).value_counts().to_frame().rename_axis('Cat')\n",
    "\n",
    "data2"
   ]
  },
  {
   "cell_type": "markdown",
   "id": "7a1e1058",
   "metadata": {},
   "source": [
    "nested queries"
   ]
  },
  {
   "cell_type": "code",
   "execution_count": 62,
   "id": "5194d12e",
   "metadata": {
    "ExecuteTime": {
     "end_time": "2022-10-09T17:36:23.424346Z",
     "start_time": "2022-10-09T17:36:23.409683Z"
    },
    "scrolled": true
   },
   "outputs": [
    {
     "data": {
      "text/html": [
       "<div>\n",
       "<style scoped>\n",
       "    .dataframe tbody tr th:only-of-type {\n",
       "        vertical-align: middle;\n",
       "    }\n",
       "\n",
       "    .dataframe tbody tr th {\n",
       "        vertical-align: top;\n",
       "    }\n",
       "\n",
       "    .dataframe thead th {\n",
       "        text-align: right;\n",
       "    }\n",
       "</style>\n",
       "<table border=\"1\" class=\"dataframe\">\n",
       "  <thead>\n",
       "    <tr style=\"text-align: right;\">\n",
       "      <th></th>\n",
       "      <th>id</th>\n",
       "      <th>code</th>\n",
       "      <th>name</th>\n",
       "      <th>area</th>\n",
       "      <th>area_land</th>\n",
       "      <th>area_water</th>\n",
       "      <th>population</th>\n",
       "      <th>population_growth</th>\n",
       "      <th>birth_rate</th>\n",
       "      <th>death_rate</th>\n",
       "      <th>migration_rate</th>\n",
       "      <th>created_at</th>\n",
       "      <th>updated_at</th>\n",
       "    </tr>\n",
       "  </thead>\n",
       "  <tbody>\n",
       "    <tr>\n",
       "      <th>0</th>\n",
       "      <td>261</td>\n",
       "      <td>xx</td>\n",
       "      <td>World</td>\n",
       "      <td>None</td>\n",
       "      <td>None</td>\n",
       "      <td>None</td>\n",
       "      <td>7256490011</td>\n",
       "      <td>1.08</td>\n",
       "      <td>18.6</td>\n",
       "      <td>7.8</td>\n",
       "      <td>None</td>\n",
       "      <td>2015-11-01 13:39:09.910721</td>\n",
       "      <td>2015-11-01 13:39:09.910721</td>\n",
       "    </tr>\n",
       "  </tbody>\n",
       "</table>\n",
       "</div>"
      ],
      "text/plain": [
       "    id code   name  area area_land area_water  population  population_growth  \\\n",
       "0  261   xx  World  None      None       None  7256490011               1.08   \n",
       "\n",
       "   birth_rate  death_rate migration_rate                  created_at  \\\n",
       "0        18.6         7.8           None  2015-11-01 13:39:09.910721   \n",
       "\n",
       "                   updated_at  \n",
       "0  2015-11-01 13:39:09.910721  "
      ]
     },
     "execution_count": 62,
     "metadata": {},
     "output_type": "execute_result"
    }
   ],
   "source": [
    "q3= '''\n",
    "    SELECT * FROM facts WHERE population==(SELECT max(population) FROM facts)\n",
    "'''\n",
    "pd.read_sql_query(q3,conn)"
   ]
  },
  {
   "cell_type": "code",
   "execution_count": 63,
   "id": "faa9abd7",
   "metadata": {
    "ExecuteTime": {
     "end_time": "2022-10-09T17:37:40.341136Z",
     "start_time": "2022-10-09T17:37:38.253292Z"
    }
   },
   "outputs": [
    {
     "name": "stderr",
     "output_type": "stream",
     "text": [
      "/opt/anaconda3/envs/test/lib/python3.7/site-packages/ipykernel_launcher.py:12: UserWarning: To output multiple subplots, the figure containing the passed axes is being cleared\n",
      "  if sys.path[0] == '':\n"
     ]
    },
    {
     "data": {
      "text/plain": [
       "array([[<AxesSubplot:title={'center':'population'}>,\n",
       "        <AxesSubplot:title={'center':'population_growth'}>],\n",
       "       [<AxesSubplot:title={'center':'birth_rate'}>,\n",
       "        <AxesSubplot:title={'center':'death_rate'}>]], dtype=object)"
      ]
     },
     "execution_count": 63,
     "metadata": {},
     "output_type": "execute_result"
    },
    {
     "data": {
      "image/png": "[encoded data removed]",
      "text/plain": [
       "<Figure size 720x720 with 4 Axes>"
      ]
     },
     "metadata": {
      "needs_background": "light"
     },
     "output_type": "display_data"
    }
   ],
   "source": [
    "import matplotlib.pyplot as plt\n",
    "import seaborn as sns\n",
    "%matplotlib inline\n",
    "fig = plt.figure(figsize=(10,10))\n",
    "ax = fig.add_subplot(111)\n",
    "q5 = '''\n",
    "select population, population_growth, birth_rate, death_rate\n",
    "from facts\n",
    "where population != (select max(population) from facts)\n",
    "and population != (select min(population) from facts);\n",
    "'''\n",
    "pd.read_sql_query(q5, conn).hist(ax=ax)"
   ]
  },
  {
   "cell_type": "code",
   "execution_count": 106,
   "id": "ba621528",
   "metadata": {
    "ExecuteTime": {
     "end_time": "2022-10-09T20:29:57.401378Z",
     "start_time": "2022-10-09T20:29:57.394237Z"
    }
   },
   "outputs": [
    {
     "data": {
      "text/html": [
       "<div>\n",
       "<style scoped>\n",
       "    .dataframe tbody tr th:only-of-type {\n",
       "        vertical-align: middle;\n",
       "    }\n",
       "\n",
       "    .dataframe tbody tr th {\n",
       "        vertical-align: top;\n",
       "    }\n",
       "\n",
       "    .dataframe thead th {\n",
       "        text-align: right;\n",
       "    }\n",
       "</style>\n",
       "<table border=\"1\" class=\"dataframe\">\n",
       "  <thead>\n",
       "    <tr style=\"text-align: right;\">\n",
       "      <th></th>\n",
       "      <th>name</th>\n",
       "    </tr>\n",
       "  </thead>\n",
       "  <tbody>\n",
       "    <tr>\n",
       "      <th>0</th>\n",
       "      <td>facts</td>\n",
       "    </tr>\n",
       "    <tr>\n",
       "      <th>1</th>\n",
       "      <td>sqlite_sequence</td>\n",
       "    </tr>\n",
       "  </tbody>\n",
       "</table>\n",
       "</div>"
      ],
      "text/plain": [
       "              name\n",
       "0            facts\n",
       "1  sqlite_sequence"
      ]
     },
     "execution_count": 106,
     "metadata": {},
     "output_type": "execute_result"
    }
   ],
   "source": [
    "q6='''\n",
    "SELECT name FROM sqlite_master  \n",
    "  WHERE type=\"table\"'''\n",
    "pd.read_sql_query(q6, conn)"
   ]
  },
  {
   "cell_type": "code",
   "execution_count": 99,
   "id": "738284e7",
   "metadata": {
    "ExecuteTime": {
     "end_time": "2022-10-09T20:22:27.182341Z",
     "start_time": "2022-10-09T20:22:27.179477Z"
    }
   },
   "outputs": [],
   "source": [
    "conn.close()"
   ]
  },
  {
   "cell_type": "code",
   "execution_count": null,
   "id": "fb7090a9",
   "metadata": {},
   "outputs": [],
   "source": []
  },
  {
   "cell_type": "code",
   "execution_count": null,
   "id": "6ac5d7ae",
   "metadata": {},
   "outputs": [],
   "source": []
  },
  {
   "cell_type": "code",
   "execution_count": 300,
   "id": "b1d4fc92",
   "metadata": {
    "ExecuteTime": {
     "end_time": "2022-10-12T22:23:09.753532Z",
     "start_time": "2022-10-12T22:23:09.711335Z"
    },
    "scrolled": true
   },
   "outputs": [],
   "source": [
    "#%%capture\n",
    "#%load_ext sql\n",
    "%sql sqlite:///company.db\n"
   ]
  },
  {
   "cell_type": "code",
   "execution_count": 301,
   "id": "70e35848",
   "metadata": {
    "ExecuteTime": {
     "end_time": "2022-10-12T22:23:12.652984Z",
     "start_time": "2022-10-12T22:23:12.642376Z"
    },
    "scrolled": true
   },
   "outputs": [
    {
     "name": "stdout",
     "output_type": "stream",
     "text": [
      " * sqlite:///company.db\n",
      "Done.\n"
     ]
    },
    {
     "data": {
      "text/html": [
       "<table>\n",
       "    <tr>\n",
       "        <th>seq</th>\n",
       "        <th>name</th>\n",
       "        <th>file</th>\n",
       "    </tr>\n",
       "    <tr>\n",
       "        <td>0</td>\n",
       "        <td>main</td>\n",
       "        <td>/Users/dominic.mckean/Library/CloudStorage/OneDrive-SecureEngineering/notebooks/company.db</td>\n",
       "    </tr>\n",
       "</table>"
      ],
      "text/plain": [
       "[(0, 'main', '/Users/dominic.mckean/Library/CloudStorage/OneDrive-SecureEngineering/notebooks/company.db')]"
      ]
     },
     "execution_count": 301,
     "metadata": {},
     "output_type": "execute_result"
    }
   ],
   "source": [
    "%sql PRAGMA database_list;\n"
   ]
  },
  {
   "cell_type": "code",
   "execution_count": 140,
   "id": "d38b1890",
   "metadata": {
    "ExecuteTime": {
     "end_time": "2022-10-09T20:50:54.033416Z",
     "start_time": "2022-10-09T20:50:54.025822Z"
    },
    "scrolled": true
   },
   "outputs": [
    {
     "name": "stdout",
     "output_type": "stream",
     "text": [
      " * sqlite:///factbook.db\n",
      "Done.\n"
     ]
    },
    {
     "data": {
      "text/html": [
       "<table>\n",
       "    <tr>\n",
       "        <th>id</th>\n",
       "        <th>code</th>\n",
       "        <th>name</th>\n",
       "        <th>area</th>\n",
       "        <th>area_land</th>\n",
       "        <th>area_water</th>\n",
       "        <th>population</th>\n",
       "        <th>population_growth</th>\n",
       "        <th>birth_rate</th>\n",
       "        <th>death_rate</th>\n",
       "        <th>migration_rate</th>\n",
       "        <th>created_at</th>\n",
       "        <th>updated_at</th>\n",
       "    </tr>\n",
       "    <tr>\n",
       "        <td>1</td>\n",
       "        <td>af</td>\n",
       "        <td>Afghanistan</td>\n",
       "        <td>652230</td>\n",
       "        <td>652230</td>\n",
       "        <td>0</td>\n",
       "        <td>32564342</td>\n",
       "        <td>2.32</td>\n",
       "        <td>38.57</td>\n",
       "        <td>13.89</td>\n",
       "        <td>1.51</td>\n",
       "        <td>2015-11-01 13:19:49.461734</td>\n",
       "        <td>2015-11-01 13:19:49.461734</td>\n",
       "    </tr>\n",
       "    <tr>\n",
       "        <td>2</td>\n",
       "        <td>al</td>\n",
       "        <td>Albania</td>\n",
       "        <td>28748</td>\n",
       "        <td>27398</td>\n",
       "        <td>1350</td>\n",
       "        <td>3029278</td>\n",
       "        <td>0.3</td>\n",
       "        <td>12.92</td>\n",
       "        <td>6.58</td>\n",
       "        <td>3.3</td>\n",
       "        <td>2015-11-01 13:19:54.431082</td>\n",
       "        <td>2015-11-01 13:19:54.431082</td>\n",
       "    </tr>\n",
       "    <tr>\n",
       "        <td>3</td>\n",
       "        <td>ag</td>\n",
       "        <td>Algeria</td>\n",
       "        <td>2381741</td>\n",
       "        <td>2381741</td>\n",
       "        <td>0</td>\n",
       "        <td>39542166</td>\n",
       "        <td>1.84</td>\n",
       "        <td>23.67</td>\n",
       "        <td>4.31</td>\n",
       "        <td>0.92</td>\n",
       "        <td>2015-11-01 13:19:59.961286</td>\n",
       "        <td>2015-11-01 13:19:59.961286</td>\n",
       "    </tr>\n",
       "    <tr>\n",
       "        <td>4</td>\n",
       "        <td>an</td>\n",
       "        <td>Andorra</td>\n",
       "        <td>468</td>\n",
       "        <td>468</td>\n",
       "        <td>0</td>\n",
       "        <td>85580</td>\n",
       "        <td>0.12</td>\n",
       "        <td>8.13</td>\n",
       "        <td>6.96</td>\n",
       "        <td>0.0</td>\n",
       "        <td>2015-11-01 13:20:03.659945</td>\n",
       "        <td>2015-11-01 13:20:03.659945</td>\n",
       "    </tr>\n",
       "    <tr>\n",
       "        <td>5</td>\n",
       "        <td>ao</td>\n",
       "        <td>Angola</td>\n",
       "        <td>1246700</td>\n",
       "        <td>1246700</td>\n",
       "        <td>0</td>\n",
       "        <td>19625353</td>\n",
       "        <td>2.78</td>\n",
       "        <td>38.78</td>\n",
       "        <td>11.49</td>\n",
       "        <td>0.46</td>\n",
       "        <td>2015-11-01 13:20:08.625072</td>\n",
       "        <td>2015-11-01 13:20:08.625072</td>\n",
       "    </tr>\n",
       "</table>"
      ],
      "text/plain": [
       "[(1, 'af', 'Afghanistan', 652230, 652230, 0, 32564342, 2.32, 38.57, 13.89, 1.51, '2015-11-01 13:19:49.461734', '2015-11-01 13:19:49.461734'),\n",
       " (2, 'al', 'Albania', 28748, 27398, 1350, 3029278, 0.3, 12.92, 6.58, 3.3, '2015-11-01 13:19:54.431082', '2015-11-01 13:19:54.431082'),\n",
       " (3, 'ag', 'Algeria', 2381741, 2381741, 0, 39542166, 1.84, 23.67, 4.31, 0.92, '2015-11-01 13:19:59.961286', '2015-11-01 13:19:59.961286'),\n",
       " (4, 'an', 'Andorra', 468, 468, 0, 85580, 0.12, 8.13, 6.96, 0.0, '2015-11-01 13:20:03.659945', '2015-11-01 13:20:03.659945'),\n",
       " (5, 'ao', 'Angola', 1246700, 1246700, 0, 19625353, 2.78, 38.78, 11.49, 0.46, '2015-11-01 13:20:08.625072', '2015-11-01 13:20:08.625072')]"
      ]
     },
     "execution_count": 140,
     "metadata": {},
     "output_type": "execute_result"
    }
   ],
   "source": [
    "%sql SELECT * FROM facts limit 5"
   ]
  },
  {
   "cell_type": "code",
   "execution_count": 298,
   "id": "4a524da7",
   "metadata": {
    "ExecuteTime": {
     "end_time": "2022-10-12T22:22:44.145961Z",
     "start_time": "2022-10-12T22:22:44.104893Z"
    }
   },
   "outputs": [],
   "source": [
    "%sql -x / --close sqlite:///students.db"
   ]
  },
  {
   "cell_type": "code",
   "execution_count": 165,
   "id": "2695ae75",
   "metadata": {
    "ExecuteTime": {
     "end_time": "2022-10-09T21:17:54.267272Z",
     "start_time": "2022-10-09T21:17:54.259373Z"
    }
   },
   "outputs": [
    {
     "name": "stdout",
     "output_type": "stream",
     "text": [
      " * sqlite:///students.db\n",
      "Done.\n"
     ]
    },
    {
     "data": {
      "text/plain": [
       "[]"
      ]
     },
     "execution_count": 165,
     "metadata": {},
     "output_type": "execute_result"
    }
   ],
   "source": [
    "%%sql\n",
    "\n",
    "CREATE TABLE student(\n",
    "    sudent_id INT PRIMARY KEY,\n",
    "    name VARCHARE(20),\n",
    "    major VARCHARE(20)\n",
    "    \n",
    ");"
   ]
  },
  {
   "cell_type": "code",
   "execution_count": 250,
   "id": "4df07f1e",
   "metadata": {
    "ExecuteTime": {
     "end_time": "2022-10-09T22:24:20.927482Z",
     "start_time": "2022-10-09T22:24:20.920881Z"
    }
   },
   "outputs": [
    {
     "name": "stdout",
     "output_type": "stream",
     "text": [
      " * sqlite:///students.db\n",
      "Done.\n"
     ]
    },
    {
     "data": {
      "text/plain": [
       "[]"
      ]
     },
     "execution_count": 250,
     "metadata": {},
     "output_type": "execute_result"
    }
   ],
   "source": [
    "%%sql\n",
    "\n",
    "CREATE TABLE student(\n",
    "    student_id INTEGER NOT NULL PRIMARY KEY,\n",
    "    name VARCHARE(20),\n",
    "    major VARCHARE(20)\n",
    ");"
   ]
  },
  {
   "cell_type": "code",
   "execution_count": 249,
   "id": "3512fb94",
   "metadata": {
    "ExecuteTime": {
     "end_time": "2022-10-09T22:24:17.552438Z",
     "start_time": "2022-10-09T22:24:17.546111Z"
    }
   },
   "outputs": [
    {
     "name": "stdout",
     "output_type": "stream",
     "text": [
      " * sqlite:///students.db\n",
      "Done.\n"
     ]
    },
    {
     "data": {
      "text/plain": [
       "[]"
      ]
     },
     "execution_count": 249,
     "metadata": {},
     "output_type": "execute_result"
    }
   ],
   "source": [
    "%%sql\n",
    "\n",
    "DROP TABLE student;"
   ]
  },
  {
   "cell_type": "code",
   "execution_count": 187,
   "id": "e295217e",
   "metadata": {
    "ExecuteTime": {
     "end_time": "2022-10-09T21:32:06.855633Z",
     "start_time": "2022-10-09T21:32:06.848588Z"
    },
    "scrolled": true
   },
   "outputs": [
    {
     "name": "stdout",
     "output_type": "stream",
     "text": [
      " * sqlite:///students.db\n",
      "Done.\n"
     ]
    },
    {
     "data": {
      "text/plain": [
       "[]"
      ]
     },
     "execution_count": 187,
     "metadata": {},
     "output_type": "execute_result"
    }
   ],
   "source": [
    "%sql ALTER TABLE student ADD gpa DECIMAL(3, 2);"
   ]
  },
  {
   "cell_type": "code",
   "execution_count": 190,
   "id": "585114d3",
   "metadata": {
    "ExecuteTime": {
     "end_time": "2022-10-09T21:40:19.203153Z",
     "start_time": "2022-10-09T21:40:19.195566Z"
    },
    "scrolled": true
   },
   "outputs": [
    {
     "name": "stdout",
     "output_type": "stream",
     "text": [
      " * sqlite:///students.db\n",
      "Done.\n"
     ]
    },
    {
     "data": {
      "text/plain": [
       "[]"
      ]
     },
     "execution_count": 190,
     "metadata": {},
     "output_type": "execute_result"
    }
   ],
   "source": [
    "%sql ALTER TABLE student DROP COLUMN gpa;"
   ]
  },
  {
   "cell_type": "code",
   "execution_count": 251,
   "id": "f2ad4913",
   "metadata": {
    "ExecuteTime": {
     "end_time": "2022-10-09T22:24:25.683678Z",
     "start_time": "2022-10-09T22:24:25.672342Z"
    },
    "scrolled": true
   },
   "outputs": [
    {
     "name": "stdout",
     "output_type": "stream",
     "text": [
      " * sqlite:///students.db\n",
      "1 rows affected.\n",
      " * sqlite:///students.db\n",
      "1 rows affected.\n"
     ]
    },
    {
     "data": {
      "text/plain": [
       "[]"
      ]
     },
     "execution_count": 251,
     "metadata": {},
     "output_type": "execute_result"
    }
   ],
   "source": [
    "\n",
    "%sql INSERT INTO student VALUES(NULL, 'Jake', 'Biology');\n",
    "%sql INSERT INTO student VALUES(NULL, 'Kate', 'Sociology');\n",
    "#%sql INSERT INTO student VALUES(3, 'Claire', NULL);\n",
    "#%sql INSERT INTO student(name, major) VALUES('Mike', 'Computer Science');\n",
    "#%sql INSERT INTO student VALUES(5, 'Mike', 'Computer Science');"
   ]
  },
  {
   "cell_type": "code",
   "execution_count": 284,
   "id": "7c18156b",
   "metadata": {
    "ExecuteTime": {
     "end_time": "2022-10-11T08:40:26.724815Z",
     "start_time": "2022-10-11T08:40:26.711814Z"
    },
    "scrolled": false
   },
   "outputs": [
    {
     "name": "stdout",
     "output_type": "stream",
     "text": [
      " * sqlite:///students.db\n",
      "Done.\n"
     ]
    },
    {
     "data": {
      "text/html": [
       "<table>\n",
       "    <tr>\n",
       "        <th>student_id</th>\n",
       "        <th>name</th>\n",
       "        <th>major</th>\n",
       "    </tr>\n",
       "    <tr>\n",
       "        <td>1</td>\n",
       "        <td>Jake</td>\n",
       "        <td>Bio</td>\n",
       "    </tr>\n",
       "    <tr>\n",
       "        <td>2</td>\n",
       "        <td>Kate</td>\n",
       "        <td>Sociology</td>\n",
       "    </tr>\n",
       "</table>"
      ],
      "text/plain": [
       "[(1, 'Jake', 'Bio'), (2, 'Kate', 'Sociology')]"
      ]
     },
     "execution_count": 284,
     "metadata": {},
     "output_type": "execute_result"
    }
   ],
   "source": [
    "%sql SELECT * FROM student;"
   ]
  },
  {
   "cell_type": "code",
   "execution_count": 283,
   "id": "2b27a095",
   "metadata": {
    "ExecuteTime": {
     "end_time": "2022-10-11T08:40:20.174483Z",
     "start_time": "2022-10-11T08:40:20.120505Z"
    },
    "scrolled": true
   },
   "outputs": [
    {
     "name": "stdout",
     "output_type": "stream",
     "text": [
      " * sqlite:///students.db\n",
      "1 rows affected.\n"
     ]
    },
    {
     "data": {
      "text/plain": [
       "[]"
      ]
     },
     "execution_count": 283,
     "metadata": {},
     "output_type": "execute_result"
    }
   ],
   "source": [
    "%%sql\n",
    "\n",
    "UPDATE student\n",
    "SET major = 'Bio'\n",
    "WHERE major = 'Biology'"
   ]
  },
  {
   "cell_type": "code",
   "execution_count": 325,
   "id": "06ccc9b6",
   "metadata": {
    "ExecuteTime": {
     "end_time": "2022-10-12T23:06:48.777505Z",
     "start_time": "2022-10-12T23:06:48.771476Z"
    }
   },
   "outputs": [
    {
     "name": "stdout",
     "output_type": "stream",
     "text": [
      " * sqlite:///company.db\n",
      "Done.\n"
     ]
    },
    {
     "data": {
      "text/html": [
       "<table>\n",
       "    <tr>\n",
       "        <th>seq</th>\n",
       "        <th>name</th>\n",
       "        <th>file</th>\n",
       "    </tr>\n",
       "    <tr>\n",
       "        <td>0</td>\n",
       "        <td>main</td>\n",
       "        <td>/Users/dominic.mckean/Library/CloudStorage/OneDrive-SecureEngineering/notebooks/company.db</td>\n",
       "    </tr>\n",
       "</table>"
      ],
      "text/plain": [
       "[(0, 'main', '/Users/dominic.mckean/Library/CloudStorage/OneDrive-SecureEngineering/notebooks/company.db')]"
      ]
     },
     "execution_count": 325,
     "metadata": {},
     "output_type": "execute_result"
    }
   ],
   "source": [
    "%sql PRAGMA database_list;\n"
   ]
  },
  {
   "cell_type": "code",
   "execution_count": 336,
   "id": "4011d329",
   "metadata": {
    "ExecuteTime": {
     "end_time": "2022-10-12T23:13:06.261809Z",
     "start_time": "2022-10-12T23:13:06.253312Z"
    },
    "scrolled": true
   },
   "outputs": [
    {
     "name": "stdout",
     "output_type": "stream",
     "text": [
      " * sqlite:///company.db\n",
      "Done.\n"
     ]
    },
    {
     "data": {
      "text/html": [
       "<table>\n",
       "    <tr>\n",
       "        <th>cid</th>\n",
       "        <th>name</th>\n",
       "        <th>type</th>\n",
       "        <th>notnull</th>\n",
       "        <th>dflt_value</th>\n",
       "        <th>pk</th>\n",
       "    </tr>\n",
       "    <tr>\n",
       "        <td>0</td>\n",
       "        <td>branch_id</td>\n",
       "        <td>INT</td>\n",
       "        <td>0</td>\n",
       "        <td>None</td>\n",
       "        <td>1</td>\n",
       "    </tr>\n",
       "    <tr>\n",
       "        <td>1</td>\n",
       "        <td>branch_name</td>\n",
       "        <td>VARCHAR(40)</td>\n",
       "        <td>0</td>\n",
       "        <td>None</td>\n",
       "        <td>0</td>\n",
       "    </tr>\n",
       "    <tr>\n",
       "        <td>2</td>\n",
       "        <td>mgr_id</td>\n",
       "        <td>INT</td>\n",
       "        <td>0</td>\n",
       "        <td>None</td>\n",
       "        <td>0</td>\n",
       "    </tr>\n",
       "    <tr>\n",
       "        <td>3</td>\n",
       "        <td>mgr_start_date</td>\n",
       "        <td>DATE</td>\n",
       "        <td>0</td>\n",
       "        <td>None</td>\n",
       "        <td>0</td>\n",
       "    </tr>\n",
       "</table>"
      ],
      "text/plain": [
       "[(0, 'branch_id', 'INT', 0, None, 1),\n",
       " (1, 'branch_name', 'VARCHAR(40)', 0, None, 0),\n",
       " (2, 'mgr_id', 'INT', 0, None, 0),\n",
       " (3, 'mgr_start_date', 'DATE', 0, None, 0)]"
      ]
     },
     "execution_count": 336,
     "metadata": {},
     "output_type": "execute_result"
    }
   ],
   "source": [
    "%sql PRAGMA table_info(branch);\n"
   ]
  },
  {
   "cell_type": "code",
   "execution_count": 365,
   "id": "81444177",
   "metadata": {
    "ExecuteTime": {
     "end_time": "2022-10-12T23:53:13.975504Z",
     "start_time": "2022-10-12T23:53:13.802554Z"
    }
   },
   "outputs": [
    {
     "name": "stdout",
     "output_type": "stream",
     "text": [
      "branch           client           works_with     \r\n",
      "branch_supplier  employee       \r\n"
     ]
    }
   ],
   "source": [
    "for i in range(len(!sqlite3 company.db .table)):\n",
    "    !sqlite3 company.db .table\n",
    "\n"
   ]
  },
  {
   "cell_type": "code",
   "execution_count": 314,
   "id": "11dd696f",
   "metadata": {
    "ExecuteTime": {
     "end_time": "2022-10-12T22:39:51.781696Z",
     "start_time": "2022-10-12T22:39:51.609787Z"
    }
   },
   "outputs": [
    {
     "name": "stdout",
     "output_type": "stream",
     "text": [
      "Error: in prepare, near \"FOREIGN\": syntax error\r\n",
      "  ALTER TABLE employee  ADD FOREIGN KEY(branch_id)  REFERENCES branch(branch_id)\r\n",
      "              error here ---^\r\n"
     ]
    }
   ],
   "source": [
    "!sqlite3 company.db \"\"\"ALTER TABLE employee \\\n",
    "                        ADD FOREIGN KEY(branch_id) \\\n",
    "                        REFERENCES branch(branch_id) \\\n",
    "                        ON DELETE SET NULL; \\\n",
    "                        \"\"\""
   ]
  },
  {
   "cell_type": "code",
   "execution_count": 334,
   "id": "de28b542",
   "metadata": {
    "ExecuteTime": {
     "end_time": "2022-10-12T23:12:30.721430Z",
     "start_time": "2022-10-12T23:12:30.697143Z"
    }
   },
   "outputs": [
    {
     "name": "stdout",
     "output_type": "stream",
     "text": [
      " * sqlite:///company.db\n",
      "Done.\n",
      "Done.\n",
      "Done.\n",
      "Done.\n",
      "Done.\n"
     ]
    },
    {
     "data": {
      "text/plain": [
       "[]"
      ]
     },
     "execution_count": 334,
     "metadata": {},
     "output_type": "execute_result"
    }
   ],
   "source": [
    "%%sql\n",
    "\n",
    "CREATE TABLE employee (\n",
    "  emp_id INT PRIMARY KEY,\n",
    "  first_name VARCHAR(40),\n",
    "  last_name VARCHAR(40),\n",
    "  birth_day DATE,\n",
    "  sex VARCHAR(1),\n",
    "  salary INT,\n",
    "  super_id INT,\n",
    "  branch_id INT,\n",
    "    FOREIGN KEY(branch_id)\n",
    "    REFERENCES branch(branch_id)\n",
    "    ON DELETE SET NULL,\n",
    "    FOREIGN KEY(super_id)\n",
    "    REFERENCES employee(emp_id)\n",
    "    ON DELETE SET NULL\n",
    ");\n",
    "\n",
    "CREATE TABLE branch (\n",
    "  branch_id INT PRIMARY KEY,\n",
    "  branch_name VARCHAR(40),\n",
    "  mgr_id INT,\n",
    "  mgr_start_date DATE,\n",
    "  FOREIGN KEY(mgr_id) REFERENCES employee(emp_id) ON DELETE SET NULL\n",
    ");\n",
    "\n",
    "\n",
    "CREATE TABLE client (\n",
    "  client_id INT PRIMARY KEY,\n",
    "  client_name VARCHAR(40),\n",
    "  branch_id INT,\n",
    "  FOREIGN KEY(branch_id) REFERENCES branch(branch_id) ON DELETE SET NULL\n",
    ");\n",
    "\n",
    "CREATE TABLE works_with (\n",
    "  emp_id INT,\n",
    "  client_id INT,\n",
    "  total_sales INT,\n",
    "  PRIMARY KEY(emp_id, client_id),\n",
    "  FOREIGN KEY(emp_id) REFERENCES employee(emp_id) ON DELETE CASCADE,\n",
    "  FOREIGN KEY(client_id) REFERENCES client(client_id) ON DELETE CASCADE\n",
    ");\n",
    "\n",
    "CREATE TABLE branch_supplier (\n",
    "  branch_id INT,\n",
    "  supplier_name VARCHAR(40),\n",
    "  supply_type VARCHAR(40),\n",
    "  PRIMARY KEY(branch_id, supplier_name),\n",
    "  FOREIGN KEY(branch_id) REFERENCES branch(branch_id) ON DELETE CASCADE\n",
    ");"
   ]
  },
  {
   "cell_type": "code",
   "execution_count": 337,
   "id": "ca465e23",
   "metadata": {
    "ExecuteTime": {
     "end_time": "2022-10-12T23:14:33.371405Z",
     "start_time": "2022-10-12T23:14:33.273558Z"
    }
   },
   "outputs": [
    {
     "name": "stdout",
     "output_type": "stream",
     "text": [
      " * sqlite:///company.db\n",
      "Done.\n",
      "1 rows affected.\n",
      "1 rows affected.\n",
      "1 rows affected.\n",
      "Done.\n",
      "1 rows affected.\n",
      "1 rows affected.\n",
      "1 rows affected.\n",
      "1 rows affected.\n",
      "1 rows affected.\n",
      "Done.\n",
      "1 rows affected.\n",
      "1 rows affected.\n",
      "1 rows affected.\n",
      "1 rows affected.\n",
      "Done.\n",
      "1 rows affected.\n",
      "1 rows affected.\n",
      "1 rows affected.\n",
      "1 rows affected.\n",
      "1 rows affected.\n",
      "1 rows affected.\n",
      "Done.\n",
      "1 rows affected.\n",
      "1 rows affected.\n",
      "1 rows affected.\n",
      "1 rows affected.\n",
      "1 rows affected.\n",
      "1 rows affected.\n",
      "Done.\n",
      "1 rows affected.\n",
      "1 rows affected.\n",
      "1 rows affected.\n",
      "1 rows affected.\n",
      "1 rows affected.\n",
      "1 rows affected.\n",
      "1 rows affected.\n",
      "1 rows affected.\n"
     ]
    },
    {
     "data": {
      "text/plain": [
       "[]"
      ]
     },
     "execution_count": 337,
     "metadata": {},
     "output_type": "execute_result"
    }
   ],
   "source": [
    "%%sql\n",
    "-- -----------------------------------------------------------------------------\n",
    "\n",
    "-- Corporate\n",
    "INSERT INTO employee VALUES(100, 'David', 'Wallace', '1967-11-17', 'M', 250000, NULL, NULL);\n",
    "\n",
    "INSERT INTO branch VALUES(1, 'Corporate', 100, '2006-02-09');\n",
    "\n",
    "UPDATE employee\n",
    "SET branch_id = 1\n",
    "WHERE emp_id = 100;\n",
    "\n",
    "INSERT INTO employee VALUES(101, 'Jan', 'Levinson', '1961-05-11', 'F', 110000, 100, 1);\n",
    "\n",
    "-- Scranton\n",
    "INSERT INTO employee VALUES(102, 'Michael', 'Scott', '1964-03-15', 'M', 75000, 100, NULL);\n",
    "\n",
    "INSERT INTO branch VALUES(2, 'Scranton', 102, '1992-04-06');\n",
    "\n",
    "UPDATE employee\n",
    "SET branch_id = 2\n",
    "WHERE emp_id = 102;\n",
    "\n",
    "INSERT INTO employee VALUES(103, 'Angela', 'Martin', '1971-06-25', 'F', 63000, 102, 2);\n",
    "INSERT INTO employee VALUES(104, 'Kelly', 'Kapoor', '1980-02-05', 'F', 55000, 102, 2);\n",
    "INSERT INTO employee VALUES(105, 'Stanley', 'Hudson', '1958-02-19', 'M', 69000, 102, 2);\n",
    "\n",
    "-- Stamford\n",
    "INSERT INTO employee VALUES(106, 'Josh', 'Porter', '1969-09-05', 'M', 78000, 100, NULL);\n",
    "\n",
    "INSERT INTO branch VALUES(3, 'Stamford', 106, '1998-02-13');\n",
    "\n",
    "UPDATE employee\n",
    "SET branch_id = 3\n",
    "WHERE emp_id = 106;\n",
    "\n",
    "INSERT INTO employee VALUES(107, 'Andy', 'Bernard', '1973-07-22', 'M', 65000, 106, 3);\n",
    "INSERT INTO employee VALUES(108, 'Jim', 'Halpert', '1978-10-01', 'M', 71000, 106, 3);\n",
    "\n",
    "\n",
    "-- BRANCH SUPPLIER\n",
    "INSERT INTO branch_supplier VALUES(2, 'Hammer Mill', 'Paper');\n",
    "INSERT INTO branch_supplier VALUES(2, 'Uni-ball', 'Writing Utensils');\n",
    "INSERT INTO branch_supplier VALUES(3, 'Patriot Paper', 'Paper');\n",
    "INSERT INTO branch_supplier VALUES(2, 'J.T. Forms & Labels', 'Custom Forms');\n",
    "INSERT INTO branch_supplier VALUES(3, 'Uni-ball', 'Writing Utensils');\n",
    "INSERT INTO branch_supplier VALUES(3, 'Hammer Mill', 'Paper');\n",
    "INSERT INTO branch_supplier VALUES(3, 'Stamford Lables', 'Custom Forms');\n",
    "\n",
    "-- CLIENT\n",
    "INSERT INTO client VALUES(400, 'Dunmore Highschool', 2);\n",
    "INSERT INTO client VALUES(401, 'Lackawana Country', 2);\n",
    "INSERT INTO client VALUES(402, 'FedEx', 3);\n",
    "INSERT INTO client VALUES(403, 'John Daly Law, LLC', 3);\n",
    "INSERT INTO client VALUES(404, 'Scranton Whitepages', 2);\n",
    "INSERT INTO client VALUES(405, 'Times Newspaper', 3);\n",
    "INSERT INTO client VALUES(406, 'FedEx', 2);\n",
    "\n",
    "-- WORKS_WITH\n",
    "INSERT INTO works_with VALUES(105, 400, 55000);\n",
    "INSERT INTO works_with VALUES(102, 401, 267000);\n",
    "INSERT INTO works_with VALUES(108, 402, 22500);\n",
    "INSERT INTO works_with VALUES(107, 403, 5000);\n",
    "INSERT INTO works_with VALUES(108, 403, 12000);\n",
    "INSERT INTO works_with VALUES(105, 404, 33000);\n",
    "INSERT INTO works_with VALUES(107, 405, 26000);\n",
    "INSERT INTO works_with VALUES(102, 406, 15000);\n",
    "INSERT INTO works_with VALUES(105, 406, 130000);"
   ]
  },
  {
   "cell_type": "code",
   "execution_count": 359,
   "id": "ccd5d1f4",
   "metadata": {
    "ExecuteTime": {
     "end_time": "2022-10-12T23:39:19.999399Z",
     "start_time": "2022-10-12T23:39:19.995335Z"
    }
   },
   "outputs": [
    {
     "ename": "SyntaxError",
     "evalue": "invalid syntax (<ipython-input-359-89aae9300c35>, line 2)",
     "output_type": "error",
     "traceback": [
      "\u001b[0;36m  File \u001b[0;32m\"<ipython-input-359-89aae9300c35>\"\u001b[0;36m, line \u001b[0;32m2\u001b[0m\n\u001b[0;31m    print(%sql SELECT * FROM table)\u001b[0m\n\u001b[0m          ^\u001b[0m\n\u001b[0;31mSyntaxError\u001b[0m\u001b[0;31m:\u001b[0m invalid syntax\n"
     ]
    }
   ],
   "source": [
    "for table in bob:\n",
    "    print(%sql SELECT * FROM table)\n"
   ]
  },
  {
   "cell_type": "code",
   "execution_count": 362,
   "id": "a710a930",
   "metadata": {
    "ExecuteTime": {
     "end_time": "2022-10-12T23:51:56.968552Z",
     "start_time": "2022-10-12T23:51:56.952478Z"
    }
   },
   "outputs": [
    {
     "name": "stdout",
     "output_type": "stream",
     "text": [
      "branch           client           works_with     \n",
      "('SELECT * \\n                   FROM (?)\\n                 ', 'branch           client           works_with     ')\n"
     ]
    },
    {
     "ename": "AttributeError",
     "evalue": "'tuple' object has no attribute 'split'",
     "output_type": "error",
     "traceback": [
      "\u001b[0;31m---------------------------------------------------------------------------\u001b[0m",
      "\u001b[0;31mAttributeError\u001b[0m                            Traceback (most recent call last)",
      "\u001b[0;32m<ipython-input-362-bd09811eb310>\u001b[0m in \u001b[0;36m<module>\u001b[0;34m\u001b[0m\n\u001b[1;32m     15\u001b[0m \u001b[0;34m\u001b[0m\u001b[0m\n\u001b[1;32m     16\u001b[0m \u001b[0;32mfor\u001b[0m \u001b[0mtable\u001b[0m \u001b[0;32min\u001b[0m \u001b[0mbob\u001b[0m\u001b[0;34m:\u001b[0m\u001b[0;34m\u001b[0m\u001b[0;34m\u001b[0m\u001b[0m\n\u001b[0;32m---> 17\u001b[0;31m     \u001b[0mdata\u001b[0m \u001b[0;34m=\u001b[0m \u001b[0mget_data\u001b[0m\u001b[0;34m(\u001b[0m\u001b[0mtable\u001b[0m\u001b[0;34m)\u001b[0m\u001b[0;34m\u001b[0m\u001b[0;34m\u001b[0m\u001b[0m\n\u001b[0m\u001b[1;32m     18\u001b[0m     \u001b[0mdisplay\u001b[0m\u001b[0;34m(\u001b[0m\u001b[0mdata\u001b[0m\u001b[0;34m)\u001b[0m\u001b[0;34m\u001b[0m\u001b[0;34m\u001b[0m\u001b[0m\n\u001b[1;32m     19\u001b[0m \u001b[0;34m\u001b[0m\u001b[0m\n",
      "\u001b[0;32m<ipython-input-362-bd09811eb310>\u001b[0m in \u001b[0;36mget_data\u001b[0;34m(table)\u001b[0m\n\u001b[1;32m     10\u001b[0m     \u001b[0msql_input\u001b[0m \u001b[0;34m=\u001b[0m \u001b[0msql\u001b[0m\u001b[0;34m(\u001b[0m\u001b[0mtable\u001b[0m\u001b[0;34m)\u001b[0m\u001b[0;34m\u001b[0m\u001b[0;34m\u001b[0m\u001b[0m\n\u001b[1;32m     11\u001b[0m     \u001b[0mprint\u001b[0m\u001b[0;34m(\u001b[0m\u001b[0msql_input\u001b[0m\u001b[0;34m)\u001b[0m\u001b[0;34m\u001b[0m\u001b[0;34m\u001b[0m\u001b[0m\n\u001b[0;32m---> 12\u001b[0;31m     \u001b[0msql_input\u001b[0m \u001b[0;34m=\u001b[0m \u001b[0;34m\" \"\u001b[0m\u001b[0;34m.\u001b[0m\u001b[0mjoin\u001b[0m\u001b[0;34m(\u001b[0m\u001b[0msql_input\u001b[0m\u001b[0;34m.\u001b[0m\u001b[0msplit\u001b[0m\u001b[0;34m(\u001b[0m\u001b[0;34m)\u001b[0m\u001b[0;34m)\u001b[0m\u001b[0;34m\u001b[0m\u001b[0;34m\u001b[0m\u001b[0m\n\u001b[0m\u001b[1;32m     13\u001b[0m     \u001b[0mdata\u001b[0m \u001b[0;34m=\u001b[0m \u001b[0mpd\u001b[0m\u001b[0;34m.\u001b[0m\u001b[0mread_sql\u001b[0m\u001b[0;34m(\u001b[0m\u001b[0msql_input\u001b[0m\u001b[0;34m,\u001b[0m \u001b[0meng\u001b[0m\u001b[0;34m)\u001b[0m\u001b[0;34m\u001b[0m\u001b[0;34m\u001b[0m\u001b[0m\n\u001b[1;32m     14\u001b[0m     \u001b[0;32mreturn\u001b[0m \u001b[0mdata\u001b[0m\u001b[0;34m\u001b[0m\u001b[0;34m\u001b[0m\u001b[0m\n",
      "\u001b[0;31mAttributeError\u001b[0m: 'tuple' object has no attribute 'split'"
     ]
    }
   ],
   "source": [
    "def sql(table):\n",
    "    sql_input = \"\"\"SELECT * \n",
    "                   FROM (?)\n",
    "                 \"\"\", (table)\n",
    "    return sql_input\n",
    "\n",
    "def get_data(table):\n",
    "    print(table)\n",
    "    eng = sqlite3.connect('factbook.db')\n",
    "    sql_input = sql(table)\n",
    "    print(sql_input)\n",
    "    sql_input = \" \".join(sql_input.split())\n",
    "    data = pd.read_sql(sql_input, eng)\n",
    "    return data\n",
    "\n",
    "for table in bob:\n",
    "    data = get_data(table)\n",
    "    display(data)\n",
    "\n",
    "display(data)"
   ]
  },
  {
   "cell_type": "code",
   "execution_count": null,
   "id": "bc5d1401",
   "metadata": {},
   "outputs": [],
   "source": []
  },
  {
   "cell_type": "code",
   "execution_count": null,
   "id": "da14d0ff",
   "metadata": {},
   "outputs": [],
   "source": [
    "SELECT * \n",
    "FROM crm\n",
    "WHERE CRM."
   ]
  },
  {
   "cell_type": "code",
   "execution_count": null,
   "id": "6dede6d6",
   "metadata": {},
   "outputs": [],
   "source": []
  },
  {
   "cell_type": "code",
   "execution_count": null,
   "id": "91e25759",
   "metadata": {},
   "outputs": [],
   "source": []
  },
  {
   "cell_type": "code",
   "execution_count": null,
   "id": "97f0f9c1",
   "metadata": {},
   "outputs": [],
   "source": []
  },
  {
   "cell_type": "code",
   "execution_count": null,
   "id": "a936e790",
   "metadata": {},
   "outputs": [],
   "source": []
  },
  {
   "cell_type": "code",
   "execution_count": null,
   "id": "5fe71093",
   "metadata": {},
   "outputs": [],
   "source": []
  },
  {
   "cell_type": "code",
   "execution_count": null,
   "id": "40481968",
   "metadata": {},
   "outputs": [],
   "source": []
  },
  {
   "cell_type": "code",
   "execution_count": null,
   "id": "546c07fb",
   "metadata": {},
   "outputs": [],
   "source": []
  },
  {
   "cell_type": "code",
   "execution_count": null,
   "id": "d06d3055",
   "metadata": {},
   "outputs": [],
   "source": []
  },
  {
   "cell_type": "code",
   "execution_count": null,
   "id": "93035f3e",
   "metadata": {},
   "outputs": [],
   "source": []
  },
  {
   "cell_type": "code",
   "execution_count": null,
   "id": "0f75dd69",
   "metadata": {},
   "outputs": [],
   "source": []
  },
  {
   "cell_type": "code",
   "execution_count": null,
   "id": "1441fb3b",
   "metadata": {},
   "outputs": [],
   "source": []
  },
  {
   "cell_type": "code",
   "execution_count": null,
   "id": "718a8138",
   "metadata": {},
   "outputs": [],
   "source": []
  },
  {
   "cell_type": "code",
   "execution_count": null,
   "id": "05ff4a86",
   "metadata": {},
   "outputs": [],
   "source": []
  },
  {
   "cell_type": "code",
   "execution_count": null,
   "id": "7100c875",
   "metadata": {},
   "outputs": [],
   "source": []
  },
  {
   "cell_type": "code",
   "execution_count": null,
   "id": "73667a4a",
   "metadata": {},
   "outputs": [],
   "source": []
  },
  {
   "cell_type": "code",
   "execution_count": null,
   "id": "7da5e28b",
   "metadata": {},
   "outputs": [],
   "source": []
  },
  {
   "cell_type": "code",
   "execution_count": null,
   "id": "ef359aa5",
   "metadata": {},
   "outputs": [],
   "source": []
  },
  {
   "cell_type": "markdown",
   "id": "e612b539",
   "metadata": {},
   "source": [
    "string reversals for interview "
   ]
  },
  {
   "cell_type": "code",
   "execution_count": 260,
   "id": "24eb1e61",
   "metadata": {
    "ExecuteTime": {
     "end_time": "2022-10-10T21:45:03.448537Z",
     "start_time": "2022-10-10T21:45:03.446114Z"
    },
    "scrolled": true
   },
   "outputs": [],
   "source": [
    "s = \"hello world\"#[::-1]"
   ]
  },
  {
   "cell_type": "code",
   "execution_count": 265,
   "id": "3b386b09",
   "metadata": {
    "ExecuteTime": {
     "end_time": "2022-10-10T21:45:54.359335Z",
     "start_time": "2022-10-10T21:45:54.355673Z"
    }
   },
   "outputs": [
    {
     "data": {
      "text/plain": [
       "'dlrow olleh'"
      ]
     },
     "execution_count": 265,
     "metadata": {},
     "output_type": "execute_result"
    }
   ],
   "source": [
    "''.join(reversed(s))"
   ]
  },
  {
   "cell_type": "code",
   "execution_count": 267,
   "id": "a7ed4071",
   "metadata": {
    "ExecuteTime": {
     "end_time": "2022-10-10T22:08:26.518306Z",
     "start_time": "2022-10-10T22:08:26.513448Z"
    }
   },
   "outputs": [
    {
     "data": {
      "text/plain": [
       "'emosewa si mod'"
      ]
     },
     "execution_count": 267,
     "metadata": {},
     "output_type": "execute_result"
    }
   ],
   "source": [
    "def rev_string(s): \n",
    "    if len(s) == 1:\n",
    "        return s\n",
    "\n",
    "    return s[-1] + rev_string(s[:-1])\n",
    "rev_string('dom is awesome')"
   ]
  },
  {
   "cell_type": "code",
   "execution_count": 281,
   "id": "5ba42df9",
   "metadata": {
    "ExecuteTime": {
     "end_time": "2022-10-11T08:34:33.815170Z",
     "start_time": "2022-10-11T08:34:33.811162Z"
    }
   },
   "outputs": [
    {
     "data": {
      "text/plain": [
       "'hello world'"
      ]
     },
     "execution_count": 281,
     "metadata": {},
     "output_type": "execute_result"
    }
   ],
   "source": [
    "s = s[-1] + s[:-1]\n",
    "s"
   ]
  },
  {
   "cell_type": "code",
   "execution_count": 295,
   "id": "d708ffe1",
   "metadata": {
    "ExecuteTime": {
     "end_time": "2022-10-11T12:50:36.259567Z",
     "start_time": "2022-10-11T12:50:36.203948Z"
    }
   },
   "outputs": [
    {
     "data": {
      "text/html": [
       "<div>\n",
       "<style scoped>\n",
       "    .dataframe tbody tr th:only-of-type {\n",
       "        vertical-align: middle;\n",
       "    }\n",
       "\n",
       "    .dataframe tbody tr th {\n",
       "        vertical-align: top;\n",
       "    }\n",
       "\n",
       "    .dataframe thead th {\n",
       "        text-align: right;\n",
       "    }\n",
       "</style>\n",
       "<table border=\"1\" class=\"dataframe\">\n",
       "  <thead>\n",
       "    <tr style=\"text-align: right;\">\n",
       "      <th></th>\n",
       "      <th>a</th>\n",
       "      <th>b</th>\n",
       "    </tr>\n",
       "  </thead>\n",
       "  <tbody>\n",
       "    <tr>\n",
       "      <th>0</th>\n",
       "      <td>1</td>\n",
       "      <td>2312</td>\n",
       "    </tr>\n",
       "    <tr>\n",
       "      <th>1</th>\n",
       "      <td>1</td>\n",
       "      <td>31321</td>\n",
       "    </tr>\n",
       "    <tr>\n",
       "      <th>2</th>\n",
       "      <td>1</td>\n",
       "      <td>123123</td>\n",
       "    </tr>\n",
       "    <tr>\n",
       "      <th>3</th>\n",
       "      <td>*</td>\n",
       "      <td>43534</td>\n",
       "    </tr>\n",
       "    <tr>\n",
       "      <th>4</th>\n",
       "      <td>2</td>\n",
       "      <td>545435</td>\n",
       "    </tr>\n",
       "    <tr>\n",
       "      <th>5</th>\n",
       "      <td>2</td>\n",
       "      <td>4353</td>\n",
       "    </tr>\n",
       "    <tr>\n",
       "      <th>6</th>\n",
       "      <td>2</td>\n",
       "      <td>453</td>\n",
       "    </tr>\n",
       "    <tr>\n",
       "      <th>7</th>\n",
       "      <td>2</td>\n",
       "      <td>65765</td>\n",
       "    </tr>\n",
       "    <tr>\n",
       "      <th>8</th>\n",
       "      <td>2</td>\n",
       "      <td>78978</td>\n",
       "    </tr>\n",
       "    <tr>\n",
       "      <th>9</th>\n",
       "      <td>2</td>\n",
       "      <td>464</td>\n",
       "    </tr>\n",
       "    <tr>\n",
       "      <th>10</th>\n",
       "      <td>2</td>\n",
       "      <td>3534</td>\n",
       "    </tr>\n",
       "    <tr>\n",
       "      <th>11</th>\n",
       "      <td>3</td>\n",
       "      <td>756</td>\n",
       "    </tr>\n",
       "    <tr>\n",
       "      <th>12</th>\n",
       "      <td>3</td>\n",
       "      <td>3535</td>\n",
       "    </tr>\n",
       "    <tr>\n",
       "      <th>13</th>\n",
       "      <td>3</td>\n",
       "      <td>7567</td>\n",
       "    </tr>\n",
       "    <tr>\n",
       "      <th>14</th>\n",
       "      <td>3</td>\n",
       "      <td>98090</td>\n",
       "    </tr>\n",
       "    <tr>\n",
       "      <th>15</th>\n",
       "      <td>3</td>\n",
       "      <td>9008</td>\n",
       "    </tr>\n",
       "    <tr>\n",
       "      <th>16</th>\n",
       "      <td>4</td>\n",
       "      <td>6788</td>\n",
       "    </tr>\n",
       "    <tr>\n",
       "      <th>17</th>\n",
       "      <td>4</td>\n",
       "      <td>354</td>\n",
       "    </tr>\n",
       "    <tr>\n",
       "      <th>18</th>\n",
       "      <td>4</td>\n",
       "      <td>23423</td>\n",
       "    </tr>\n",
       "    <tr>\n",
       "      <th>19</th>\n",
       "      <td>4</td>\n",
       "      <td>42542</td>\n",
       "    </tr>\n",
       "    <tr>\n",
       "      <th>20</th>\n",
       "      <td>d</td>\n",
       "      <td>6456</td>\n",
       "    </tr>\n",
       "    <tr>\n",
       "      <th>21</th>\n",
       "      <td>d</td>\n",
       "      <td>90</td>\n",
       "    </tr>\n",
       "  </tbody>\n",
       "</table>\n",
       "</div>"
      ],
      "text/plain": [
       "    a       b\n",
       "0   1    2312\n",
       "1   1   31321\n",
       "2   1  123123\n",
       "3   *   43534\n",
       "4   2  545435\n",
       "5   2    4353\n",
       "6   2     453\n",
       "7   2   65765\n",
       "8   2   78978\n",
       "9   2     464\n",
       "10  2    3534\n",
       "11  3     756\n",
       "12  3    3535\n",
       "13  3    7567\n",
       "14  3   98090\n",
       "15  3    9008\n",
       "16  4    6788\n",
       "17  4     354\n",
       "18  4   23423\n",
       "19  4   42542\n",
       "20  d    6456\n",
       "21  d      90"
      ]
     },
     "metadata": {},
     "output_type": "display_data"
    },
    {
     "data": {
      "text/html": [
       "<div>\n",
       "<style scoped>\n",
       "    .dataframe tbody tr th:only-of-type {\n",
       "        vertical-align: middle;\n",
       "    }\n",
       "\n",
       "    .dataframe tbody tr th {\n",
       "        vertical-align: top;\n",
       "    }\n",
       "\n",
       "    .dataframe thead tr th {\n",
       "        text-align: left;\n",
       "    }\n",
       "\n",
       "    .dataframe thead tr:last-of-type th {\n",
       "        text-align: right;\n",
       "    }\n",
       "</style>\n",
       "<table border=\"1\" class=\"dataframe\">\n",
       "  <thead>\n",
       "    <tr>\n",
       "      <th></th>\n",
       "      <th>b</th>\n",
       "    </tr>\n",
       "    <tr>\n",
       "      <th></th>\n",
       "      <th>count</th>\n",
       "    </tr>\n",
       "    <tr>\n",
       "      <th>a</th>\n",
       "      <th></th>\n",
       "    </tr>\n",
       "  </thead>\n",
       "  <tbody>\n",
       "    <tr>\n",
       "      <th>1</th>\n",
       "      <td>3</td>\n",
       "    </tr>\n",
       "    <tr>\n",
       "      <th>2</th>\n",
       "      <td>7</td>\n",
       "    </tr>\n",
       "    <tr>\n",
       "      <th>3</th>\n",
       "      <td>5</td>\n",
       "    </tr>\n",
       "    <tr>\n",
       "      <th>4</th>\n",
       "      <td>4</td>\n",
       "    </tr>\n",
       "    <tr>\n",
       "      <th>*</th>\n",
       "      <td>1</td>\n",
       "    </tr>\n",
       "    <tr>\n",
       "      <th>d</th>\n",
       "      <td>2</td>\n",
       "    </tr>\n",
       "  </tbody>\n",
       "</table>\n",
       "</div>"
      ],
      "text/plain": [
       "      b\n",
       "  count\n",
       "a      \n",
       "1     3\n",
       "2     7\n",
       "3     5\n",
       "4     4\n",
       "*     1\n",
       "d     2"
      ]
     },
     "execution_count": 295,
     "metadata": {},
     "output_type": "execute_result"
    }
   ],
   "source": [
    "bob = {'a': [1,1,1,'*',2,2,2,2,2,2,2,3,3,3,3,3,4,4,4,4,'d','d'],\n",
    "      'b': [2312,31321,123123,43534,545435,4353,453,65765,78978,\n",
    "            464,3534,756,3535,7567,98090,9008,6788,354,23423,42542,6456,90]}\n",
    "bob = pd.DataFrame(bob)\n",
    "display(bob)\n",
    "cat = bob.groupby(['a']).agg({'b': ['count']})\n",
    "cat"
   ]
  }
 ],
 "metadata": {
  "kernelspec": {
   "display_name": "Python 3",
   "language": "python",
   "name": "python3"
  },
  "language_info": {
   "codemirror_mode": {
    "name": "ipython",
    "version": 3
   },
   "file_extension": ".py",
   "mimetype": "text/x-python",
   "name": "python",
   "nbconvert_exporter": "python",
   "pygments_lexer": "ipython3",
   "version": "3.7.13"
  },
  "toc": {
   "base_numbering": 1,
   "nav_menu": {},
   "number_sections": true,
   "sideBar": true,
   "skip_h1_title": false,
   "title_cell": "Table of Contents",
   "title_sidebar": "Contents",
   "toc_cell": false,
   "toc_position": {},
   "toc_section_display": true,
   "toc_window_display": false
  },
  "varInspector": {
   "cols": {
    "lenName": 16,
    "lenType": 16,
    "lenVar": 40
   },
   "kernels_config": {
    "python": {
     "delete_cmd_postfix": "",
     "delete_cmd_prefix": "del ",
     "library": "var_list.py",
     "varRefreshCmd": "print(var_dic_list())"
    },
    "r": {
     "delete_cmd_postfix": ") ",
     "delete_cmd_prefix": "rm(",
     "library": "var_list.r",
     "varRefreshCmd": "cat(var_dic_list()) "
    }
   },
   "types_to_exclude": [
    "module",
    "function",
    "builtin_function_or_method",
    "instance",
    "_Feature"
   ],
   "window_display": false
  }
 },
 "nbformat": 4,
 "nbformat_minor": 5
}
