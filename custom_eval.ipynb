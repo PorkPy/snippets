{
 "cells": [
  {
   "cell_type": "code",
   "execution_count": null,
   "id": "daf39a89",
   "metadata": {},
   "outputs": [],
   "source": [
    "## Training code for custom evaluation metrics\n",
    "\n",
    "import argparse\n",
    "import xgboost as xgb\n",
    "from sklearn.metrics import precision_score, recall_score\n",
    "\n",
    "def custom_eval(preds, dtrain):\n",
    "    labels = dtrain.get_label()\n",
    "    preds = preds > 0.5 # You can adjust this threshold as needed\n",
    "    precision = precision_score(labels, preds, average=None)\n",
    "    recall = recall_score(labels, preds, average=None)\n",
    "    # return a pair metric_name, result. The metric name must not contain a colon (:) or a space\n",
    "    # since preds are margin(before logistic transformation, cutoff at 0)\n",
    "    return [('precision_0', precision[0]), ('precision_1', precision[1]), ('recall_0', recall[0]), ('recall_1', recall[1])]\n",
    "\n",
    "if __name__ == '__main__':\n",
    "    parser = argparse.ArgumentParser()\n",
    "\n",
    "    # Add arguments for data locations\n",
    "    parser.add_argument('--train', type=str)\n",
    "    parser.add_argument('--validation', type=str)\n",
    "\n",
    "    # Add arguments for hyperparameters\n",
    "    parser.add_argument('--eval_metric', type=str)\n",
    "    parser.add_argument('--objective', type=str)\n",
    "    parser.add_argument('--num_round', type=int)\n",
    "    parser.add_argument('--rate_drop', type=float)\n",
    "    parser.add_argument('--tweedie_variance_power', type=float)\n",
    "    parser.add_argument('--seed', type=int)\n",
    "\n",
    "    args = parser.parse_args()\n",
    "\n",
    "    # Load your data from the Pipe mode input\n",
    "    dtrain = xgb.DMatrix('/opt/ml/input/data/train')\n",
    "    dval = xgb.DMatrix('/opt/ml/input/data/validation')\n",
    "\n",
    "    # Set your parameters\n",
    "    params = {\n",
    "        'eval_metric': args.eval_metric,\n",
    "        'objective': args.objective,\n",
    "        'num_round': args.num_round,\n",
    "        'rate_drop': args.rate_drop,\n",
    "        'tweedie_variance_power': args.tweedie_variance_power,\n",
    "        'seed': args.seed,\n",
    "    }\n",
    "\n",
    "    # Train your model using xgb.train and your custom evaluation metric\n",
    "    bst = xgb.train(params, dtrain, num_round=args.num_round, feval=my_custom_eval_metric)\n",
    "\n",
    "    # Save your model\n",
    "    bst.save_model(os.path.join(args.sm_model_dir, 'xgboost-model'))"
   ]
  }
 ],
 "metadata": {
  "kernelspec": {
   "display_name": "conda_python3",
   "language": "python",
   "name": "conda_python3"
  },
  "language_info": {
   "codemirror_mode": {
    "name": "ipython",
    "version": 3
   },
   "file_extension": ".py",
   "mimetype": "text/x-python",
   "name": "python",
   "nbconvert_exporter": "python",
   "pygments_lexer": "ipython3",
   "version": "3.10.12"
  }
 },
 "nbformat": 4,
 "nbformat_minor": 5
}
