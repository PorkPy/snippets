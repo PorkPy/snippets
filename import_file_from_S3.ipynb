{
 "cells": [
  {
   "cell_type": "markdown",
   "id": "0ff03bb5",
   "metadata": {},
   "source": [
    "### import file from S3 into local instance."
   ]
  },
  {
   "cell_type": "code",
   "execution_count": 1,
   "id": "60fa87bd",
   "metadata": {},
   "outputs": [],
   "source": [
    "import boto3\n",
    "\n",
    "s3 = boto3.resource('s3')\n",
    "bucket_name = 'cmg-sagemaker-compliance-case-shared-notebooks'\n",
    "file_name = 'phase_3_training.py'\n",
    "s3.Bucket(bucket_name).download_file(file_name, '/home/ec2-user/SageMaker/phase_3_training.py')\n"
   ]
  },
  {
   "cell_type": "markdown",
   "id": "de12ba96",
   "metadata": {},
   "source": [
    "### cli equivalent"
   ]
  },
  {
   "cell_type": "code",
   "execution_count": null,
   "id": "f37737bc",
   "metadata": {},
   "outputs": [],
   "source": [
    "!aws s3 cp s3://cmg-sagemaker-compliance-case-shared-notebooks/phase_3_training.py /home/ec2-user/SageMaker/phase_3_training.py\n"
   ]
  }
 ],
 "metadata": {
  "kernelspec": {
   "display_name": "conda_python3",
   "language": "python",
   "name": "conda_python3"
  },
  "language_info": {
   "codemirror_mode": {
    "name": "ipython",
    "version": 3
   },
   "file_extension": ".py",
   "mimetype": "text/x-python",
   "name": "python",
   "nbconvert_exporter": "python",
   "pygments_lexer": "ipython3",
   "version": "3.10.10"
  }
 },
 "nbformat": 4,
 "nbformat_minor": 5
}
