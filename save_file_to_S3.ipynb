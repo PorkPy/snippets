{
 "cells": [
  {
   "cell_type": "code",
   "execution_count": 1,
   "id": "57ccf5db",
   "metadata": {
    "scrolled": true
   },
   "outputs": [
    {
     "name": "stdout",
     "output_type": "stream",
     "text": [
      "/home/ec2-user/SageMaker\n",
      "benchmark_score.csv\n",
      "cluster.png\n",
      "create_pipeline_for_data_processing_and_training_script.ipynb\n",
      "create_pipeline_to_run_model_dev.ipynb\n",
      "create_pipeline_to_run_model_dev_without_pipinstall.ipynb\n",
      "create_pipeline_to_run_training_script.ipynb\n",
      "feature_analysis. got good model, now reducing features..ipynb\n",
      "feature_analysis_refactored.ipynb\n",
      "feature_analysis-using J's data with SMOTE and 100 rounds.ipynb\n",
      "flatten_data.py\n",
      "Get_Data.py\n",
      "get_inference.py\n",
      "get_training.py\n",
      "hierarchy_clustering_results.txt\n",
      "__init__.py\n",
      "model.tar.gz\n",
      "permutation_importance.png\n",
      "__pycache__\n",
      "sagemaker-xgboost-2023-07-10-20-04-33-581\n",
      "sagemaker-xgboost-2023-07-12-09-04-47-428\n",
      "sagemaker-xgboost-2023-07-12-11-06-14-856\n",
      "sagemaker-xgboost-2023-07-12-14-58-22-014\n",
      "sagemaker-xgboost-2023-07-13-08-23-31-541\n",
      "snippets.py\n",
      "test_results.csv\n",
      "train_model_and_load_pretrained_model_for_batch_inference.ipynb\n",
      "train_results.csv\n",
      "wrapper.py\n"
     ]
    }
   ],
   "source": [
    "!pwd\n",
    "!ls /home/ec2-user/SageMaker/AWS_files/compliance-cases/snippets_models/"
   ]
  },
  {
   "cell_type": "markdown",
   "id": "87f4308a",
   "metadata": {},
   "source": [
    "### upload to S3"
   ]
  },
  {
   "cell_type": "code",
   "execution_count": 11,
   "id": "79621e3f",
   "metadata": {},
   "outputs": [],
   "source": [
    "import boto3\n",
    "\n",
    "# Set the name of the S3 bucket and the key of the file to upload\n",
    "bucket = 'cmg-sagemaker-compliance-case-shared-notebooks'\n",
    "path = '/home/ec2-user/SageMaker/AWS_files/compliance-cases/snippets_models/'\n",
    "key = 'create_pipeline_to_run_training.ipynb'\n",
    "\n",
    "# Set the path to the local notebook file\n",
    "notebook_file = f'{path}/{key}'\n",
    "\n",
    "# Create an S3 client\n",
    "s3 = boto3.client('s3')\n",
    "\n",
    "# Upload the notebook file to S3\n",
    "s3.upload_file(notebook_file, bucket, key)\n"
   ]
  },
  {
   "cell_type": "markdown",
   "id": "b14f54b7",
   "metadata": {},
   "source": [
    "### upload a second file to S3"
   ]
  },
  {
   "cell_type": "code",
   "execution_count": 2,
   "id": "dfff2023",
   "metadata": {},
   "outputs": [],
   "source": [
    "import boto3\n",
    "\n",
    "# Set the name of the S3 bucket and the key of the file to upload\n",
    "bucket = 'cmg-sagemaker-compliance-case-shared-notebooks'\n",
    "key = 'training.py'\n",
    "\n",
    "# Set the path to the local notebook file\n",
    "notebook_file = f'/home/ec2-user/SageMaker/{key}'\n",
    "\n",
    "# Create an S3 client\n",
    "s3 = boto3.client('s3')\n",
    "\n",
    "# Upload the notebook file to S3\n",
    "s3.upload_file(notebook_file, bucket, key)\n"
   ]
  },
  {
   "cell_type": "markdown",
   "id": "3f4f2ab8",
   "metadata": {},
   "source": [
    "### zip a file"
   ]
  },
  {
   "cell_type": "code",
   "execution_count": 9,
   "id": "78bc807a",
   "metadata": {},
   "outputs": [],
   "source": [
    "import zipfile\n",
    "\n",
    "with zipfile.ZipFile('lambda_function.zip', 'w') as myzip:\n",
    "    myzip.write('/home/ec2-user/SageMaker/lambda_function.py')\n"
   ]
  }
 ],
 "metadata": {
  "kernelspec": {
   "display_name": "conda_python3",
   "language": "python",
   "name": "conda_python3"
  },
  "language_info": {
   "codemirror_mode": {
    "name": "ipython",
    "version": 3
   },
   "file_extension": ".py",
   "mimetype": "text/x-python",
   "name": "python",
   "nbconvert_exporter": "python",
   "pygments_lexer": "ipython3",
   "version": "3.10.12"
  }
 },
 "nbformat": 4,
 "nbformat_minor": 5
}
