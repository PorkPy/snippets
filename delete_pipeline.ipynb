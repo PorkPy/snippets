{
 "cells": [
  {
   "cell_type": "code",
   "execution_count": 3,
   "id": "cb6849c3",
   "metadata": {},
   "outputs": [
    {
     "name": "stdout",
     "output_type": "stream",
     "text": [
      "\r\n",
      "An error occurred (AccessDeniedException) when calling the DeletePipeline operation: User: arn:aws:sts::798861612849:assumed-role/AmazonSageMaker-ExecutionRole-20221020T100790/SageMaker is not authorized to perform: codepipeline:DeletePipeline on resource: arn:aws:codepipeline:eu-west-2:798861612849:inference-without-pipinstall-2023-07-25-11-45-09 because no identity-based policy allows the codepipeline:DeletePipeline action\r\n"
     ]
    }
   ],
   "source": [
    "!aws codepipeline delete-pipeline --name 'inference-without-pipinstall-2023-07-25-11-45-09'\n"
   ]
  }
 ],
 "metadata": {
  "kernelspec": {
   "display_name": "conda_python3",
   "language": "python",
   "name": "conda_python3"
  },
  "language_info": {
   "codemirror_mode": {
    "name": "ipython",
    "version": 3
   },
   "file_extension": ".py",
   "mimetype": "text/x-python",
   "name": "python",
   "nbconvert_exporter": "python",
   "pygments_lexer": "ipython3",
   "version": "3.10.12"
  }
 },
 "nbformat": 4,
 "nbformat_minor": 5
}
