{
 "cells": [
  {
   "cell_type": "markdown",
   "id": "eaa61b57",
   "metadata": {},
   "source": [
    "### execute pipeline via boto3 SDK."
   ]
  },
  {
   "cell_type": "code",
   "execution_count": 62,
   "id": "8ae7e50a",
   "metadata": {
    "scrolled": true
   },
   "outputs": [
    {
     "name": "stdout",
     "output_type": "stream",
     "text": [
      "Started pipeline execution: arn:aws:sagemaker:eu-west-2:798861612849:pipeline/model-dev-pipeline-2023-07-11-23-53-29/execution/dpug16vd2nq2\n"
     ]
    }
   ],
   "source": [
    "import boto3\n",
    "\n",
    "# Create a SageMaker client\n",
    "sagemaker_client = boto3.client('sagemaker')\n",
    "\n",
    "# Start the pipeline execution\n",
    "response = sagemaker_client.start_pipeline_execution(\n",
    "    PipelineName=  'model-dev-pipeline-2023-07-11-23-53-29'\n",
    ")\n",
    "\n",
    "# Get the pipeline execution ARN\n",
    "pipeline_execution_arn = response['PipelineExecutionArn']\n",
    "\n",
    "print(f'Started pipeline execution: {pipeline_execution_arn}')\n"
   ]
  },
  {
   "cell_type": "markdown",
   "id": "9ce731f0",
   "metadata": {},
   "source": [
    "## execute pipeline from CLI"
   ]
  },
  {
   "cell_type": "code",
   "execution_count": 3,
   "id": "d01b4be9",
   "metadata": {
    "scrolled": false
   },
   "outputs": [
    {
     "name": "stdout",
     "output_type": "stream",
     "text": [
      "{\r\n",
      "    \"PipelineExecutionArn\": \"arn:aws:sagemaker:eu-west-2:798861612849:pipeline/training-2023-07-26-14-35-28/execution/nkkz70qnjm37\"\r\n",
      "}\r\n"
     ]
    }
   ],
   "source": [
    "# number of runs today = 3\n",
    "!aws sagemaker start-pipeline-execution --pipeline-name 'training-2023-07-26-14-35-28'\n"
   ]
  },
  {
   "cell_type": "code",
   "execution_count": 4,
   "id": "e4a1b943",
   "metadata": {},
   "outputs": [
    {
     "name": "stdout",
     "output_type": "stream",
     "text": [
      "{\r\n",
      "    \"PipelineExecutionArn\": \"arn:aws:sagemaker:eu-west-2:798861612849:pipeline/inference-without-pipinstall-2023-07-25-11-53-15/execution/c72ncm77vr5v\"\r\n",
      "}\r\n"
     ]
    }
   ],
   "source": [
    "!aws sagemaker start-pipeline-execution --pipeline-name 'inference-without-pipinstall-2023-07-25-11-53-15'\n"
   ]
  }
 ],
 "metadata": {
  "kernelspec": {
   "display_name": "conda_python3",
   "language": "python",
   "name": "conda_python3"
  },
  "language_info": {
   "codemirror_mode": {
    "name": "ipython",
    "version": 3
   },
   "file_extension": ".py",
   "mimetype": "text/x-python",
   "name": "python",
   "nbconvert_exporter": "python",
   "pygments_lexer": "ipython3",
   "version": "3.10.12"
  }
 },
 "nbformat": 4,
 "nbformat_minor": 5
}
