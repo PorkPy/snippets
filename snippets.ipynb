{
 "cells": [
  {
   "cell_type": "code",
   "execution_count": null,
   "id": "36ad2043",
   "metadata": {},
   "outputs": [],
   "source": []
  },
  {
   "cell_type": "code",
   "execution_count": 4,
   "id": "919b488b",
   "metadata": {
    "ExecuteTime": {
     "end_time": "2022-09-20T20:36:21.545422Z",
     "start_time": "2022-09-20T20:36:21.076609Z"
    },
    "scrolled": true
   },
   "outputs": [
    {
     "name": "stdout",
     "output_type": "stream",
     "text": [
      "Enabling notebook extension jupyter-js-widgets/extension...\r\n",
      "      - Validating: \u001b[32mOK\u001b[0m\r\n"
     ]
    }
   ],
   "source": [
    "!jupyter nbextension enable --py widgetsnbextension\n",
    "\n",
    "\n",
    "\n"
   ]
  },
  {
   "cell_type": "code",
   "execution_count": 5,
   "id": "20c95171",
   "metadata": {
    "ExecuteTime": {
     "end_time": "2022-09-21T15:26:15.158215Z",
     "start_time": "2022-09-21T15:26:14.288695Z"
    }
   },
   "outputs": [
    {
     "name": "stdout",
     "output_type": "stream",
     "text": [
      "(1000, 10) (1000,)\n"
     ]
    }
   ],
   "source": [
    "# test classification dataset\n",
    "from sklearn.datasets import make_classification\n",
    "# define dataset\n",
    "X, y = make_classification(n_samples=1000, n_features=10, n_informative=5, n_redundant=5, random_state=1)\n",
    "# summarize the dataset\n",
    "print(X.shape, y.shape)"
   ]
  },
  {
   "cell_type": "code",
   "execution_count": 6,
   "id": "7ba6cf20",
   "metadata": {
    "ExecuteTime": {
     "end_time": "2022-09-21T15:26:42.660258Z",
     "start_time": "2022-09-21T15:26:42.655897Z"
    },
    "scrolled": true
   },
   "outputs": [
    {
     "name": "stdout",
     "output_type": "stream",
     "text": [
      "(1000, 10) (1000,)\n"
     ]
    }
   ],
   "source": [
    "# test regression dataset\n",
    "from sklearn.datasets import make_regression\n",
    "# define dataset\n",
    "X, y = make_regression(n_samples=1000, n_features=10, n_informative=5, random_state=1)\n",
    "# summarize the dataset\n",
    "print(X.shape, y.shape)"
   ]
  },
  {
   "cell_type": "code",
   "execution_count": 25,
   "id": "6a00389c",
   "metadata": {
    "ExecuteTime": {
     "end_time": "2022-09-21T16:54:58.060865Z",
     "start_time": "2022-09-21T16:54:46.166061Z"
    }
   },
   "outputs": [
    {
     "name": "stdout",
     "output_type": "stream",
     "text": [
      "Collecting package metadata (current_repodata.json): failed\n",
      "\n",
      "CondaHTTPError: HTTP 000 CONNECTION FAILED for url <https://repo.anaconda.com/pkgs/main/osx-64/current_repodata.json>\n",
      "Elapsed: -\n",
      "\n",
      "An HTTP error occurred when trying to retrieve this URL.\n",
      "HTTP errors are often intermittent, and a simple retry will get you on your way.\n",
      "\n",
      "If your current network has https://www.anaconda.com blocked, please file\n",
      "a support request with your network engineering team.\n",
      "\n",
      "'https//repo.anaconda.com/pkgs/main/osx-64'\n",
      "\n",
      "\n"
     ]
    }
   ],
   "source": [
    "!conda install libomp\n"
   ]
  },
  {
   "cell_type": "code",
   "execution_count": 1,
   "id": "1d90a651",
   "metadata": {
    "ExecuteTime": {
     "end_time": "2022-09-22T09:11:54.028603Z",
     "start_time": "2022-09-22T09:11:52.414854Z"
    }
   },
   "outputs": [
    {
     "ename": "OSError",
     "evalue": "dlopen(/opt/anaconda3/envs/test/lib/python3.7/site-packages/lightgbm/lib_lightgbm.so, 0x0006): Library not loaded: /usr/local/opt/libomp/lib/libomp.dylib\n  Referenced from: /opt/anaconda3/envs/test/lib/python3.7/site-packages/lightgbm/lib_lightgbm.so\n  Reason: tried: '/usr/local/opt/libomp/lib/libomp.dylib' (no such file), '/usr/local/lib/libomp.dylib' (no such file), '/usr/lib/libomp.dylib' (no such file)",
     "output_type": "error",
     "traceback": [
      "\u001b[0;31m---------------------------------------------------------------------------\u001b[0m",
      "\u001b[0;31mOSError\u001b[0m                                   Traceback (most recent call last)",
      "\u001b[0;32m<ipython-input-1-1c39d0be6c14>\u001b[0m in \u001b[0;36m<module>\u001b[0;34m\u001b[0m\n\u001b[1;32m      6\u001b[0m \u001b[0;32mfrom\u001b[0m \u001b[0msklearn\u001b[0m\u001b[0;34m.\u001b[0m\u001b[0mensemble\u001b[0m \u001b[0;32mimport\u001b[0m \u001b[0mHistGradientBoostingClassifier\u001b[0m\u001b[0;34m\u001b[0m\u001b[0;34m\u001b[0m\u001b[0m\n\u001b[1;32m      7\u001b[0m \u001b[0;32mfrom\u001b[0m \u001b[0mxgboost\u001b[0m \u001b[0;32mimport\u001b[0m \u001b[0mXGBClassifier\u001b[0m\u001b[0;34m\u001b[0m\u001b[0;34m\u001b[0m\u001b[0m\n\u001b[0;32m----> 8\u001b[0;31m \u001b[0;32mfrom\u001b[0m \u001b[0mlightgbm\u001b[0m \u001b[0;32mimport\u001b[0m \u001b[0mLGBMClassifier\u001b[0m\u001b[0;34m\u001b[0m\u001b[0;34m\u001b[0m\u001b[0m\n\u001b[0m\u001b[1;32m      9\u001b[0m \u001b[0;32mfrom\u001b[0m \u001b[0mcatboost\u001b[0m \u001b[0;32mimport\u001b[0m \u001b[0mCatBoostClassifier\u001b[0m\u001b[0;34m\u001b[0m\u001b[0;34m\u001b[0m\u001b[0m\n\u001b[1;32m     10\u001b[0m \u001b[0;34m\u001b[0m\u001b[0m\n",
      "\u001b[0;32m/opt/anaconda3/envs/test/lib/python3.7/site-packages/lightgbm/__init__.py\u001b[0m in \u001b[0;36m<module>\u001b[0;34m\u001b[0m\n\u001b[1;32m      6\u001b[0m \u001b[0;32mfrom\u001b[0m \u001b[0mpathlib\u001b[0m \u001b[0;32mimport\u001b[0m \u001b[0mPath\u001b[0m\u001b[0;34m\u001b[0m\u001b[0;34m\u001b[0m\u001b[0m\n\u001b[1;32m      7\u001b[0m \u001b[0;34m\u001b[0m\u001b[0m\n\u001b[0;32m----> 8\u001b[0;31m \u001b[0;32mfrom\u001b[0m \u001b[0;34m.\u001b[0m\u001b[0mbasic\u001b[0m \u001b[0;32mimport\u001b[0m \u001b[0mBooster\u001b[0m\u001b[0;34m,\u001b[0m \u001b[0mDataset\u001b[0m\u001b[0;34m,\u001b[0m \u001b[0mSequence\u001b[0m\u001b[0;34m,\u001b[0m \u001b[0mregister_logger\u001b[0m\u001b[0;34m\u001b[0m\u001b[0;34m\u001b[0m\u001b[0m\n\u001b[0m\u001b[1;32m      9\u001b[0m \u001b[0;32mfrom\u001b[0m \u001b[0;34m.\u001b[0m\u001b[0mcallback\u001b[0m \u001b[0;32mimport\u001b[0m \u001b[0mearly_stopping\u001b[0m\u001b[0;34m,\u001b[0m \u001b[0mlog_evaluation\u001b[0m\u001b[0;34m,\u001b[0m \u001b[0mprint_evaluation\u001b[0m\u001b[0;34m,\u001b[0m \u001b[0mrecord_evaluation\u001b[0m\u001b[0;34m,\u001b[0m \u001b[0mreset_parameter\u001b[0m\u001b[0;34m\u001b[0m\u001b[0;34m\u001b[0m\u001b[0m\n\u001b[1;32m     10\u001b[0m \u001b[0;32mfrom\u001b[0m \u001b[0;34m.\u001b[0m\u001b[0mengine\u001b[0m \u001b[0;32mimport\u001b[0m \u001b[0mCVBooster\u001b[0m\u001b[0;34m,\u001b[0m \u001b[0mcv\u001b[0m\u001b[0;34m,\u001b[0m \u001b[0mtrain\u001b[0m\u001b[0;34m\u001b[0m\u001b[0;34m\u001b[0m\u001b[0m\n",
      "\u001b[0;32m/opt/anaconda3/envs/test/lib/python3.7/site-packages/lightgbm/basic.py\u001b[0m in \u001b[0;36m<module>\u001b[0;34m\u001b[0m\n\u001b[1;32m    108\u001b[0m \u001b[0;34m\u001b[0m\u001b[0m\n\u001b[1;32m    109\u001b[0m \u001b[0;34m\u001b[0m\u001b[0m\n\u001b[0;32m--> 110\u001b[0;31m \u001b[0m_LIB\u001b[0m \u001b[0;34m=\u001b[0m \u001b[0m_load_lib\u001b[0m\u001b[0;34m(\u001b[0m\u001b[0;34m)\u001b[0m\u001b[0;34m\u001b[0m\u001b[0;34m\u001b[0m\u001b[0m\n\u001b[0m\u001b[1;32m    111\u001b[0m \u001b[0;34m\u001b[0m\u001b[0m\n\u001b[1;32m    112\u001b[0m \u001b[0;34m\u001b[0m\u001b[0m\n",
      "\u001b[0;32m/opt/anaconda3/envs/test/lib/python3.7/site-packages/lightgbm/basic.py\u001b[0m in \u001b[0;36m_load_lib\u001b[0;34m()\u001b[0m\n\u001b[1;32m     99\u001b[0m     \u001b[0;32mif\u001b[0m \u001b[0mlen\u001b[0m\u001b[0;34m(\u001b[0m\u001b[0mlib_path\u001b[0m\u001b[0;34m)\u001b[0m \u001b[0;34m==\u001b[0m \u001b[0;36m0\u001b[0m\u001b[0;34m:\u001b[0m\u001b[0;34m\u001b[0m\u001b[0;34m\u001b[0m\u001b[0m\n\u001b[1;32m    100\u001b[0m         \u001b[0;32mreturn\u001b[0m \u001b[0;32mNone\u001b[0m\u001b[0;34m\u001b[0m\u001b[0;34m\u001b[0m\u001b[0m\n\u001b[0;32m--> 101\u001b[0;31m     \u001b[0mlib\u001b[0m \u001b[0;34m=\u001b[0m \u001b[0mctypes\u001b[0m\u001b[0;34m.\u001b[0m\u001b[0mcdll\u001b[0m\u001b[0;34m.\u001b[0m\u001b[0mLoadLibrary\u001b[0m\u001b[0;34m(\u001b[0m\u001b[0mlib_path\u001b[0m\u001b[0;34m[\u001b[0m\u001b[0;36m0\u001b[0m\u001b[0;34m]\u001b[0m\u001b[0;34m)\u001b[0m\u001b[0;34m\u001b[0m\u001b[0;34m\u001b[0m\u001b[0m\n\u001b[0m\u001b[1;32m    102\u001b[0m     \u001b[0mlib\u001b[0m\u001b[0;34m.\u001b[0m\u001b[0mLGBM_GetLastError\u001b[0m\u001b[0;34m.\u001b[0m\u001b[0mrestype\u001b[0m \u001b[0;34m=\u001b[0m \u001b[0mctypes\u001b[0m\u001b[0;34m.\u001b[0m\u001b[0mc_char_p\u001b[0m\u001b[0;34m\u001b[0m\u001b[0;34m\u001b[0m\u001b[0m\n\u001b[1;32m    103\u001b[0m     \u001b[0mcallback\u001b[0m \u001b[0;34m=\u001b[0m \u001b[0mctypes\u001b[0m\u001b[0;34m.\u001b[0m\u001b[0mCFUNCTYPE\u001b[0m\u001b[0;34m(\u001b[0m\u001b[0;32mNone\u001b[0m\u001b[0;34m,\u001b[0m \u001b[0mctypes\u001b[0m\u001b[0;34m.\u001b[0m\u001b[0mc_char_p\u001b[0m\u001b[0;34m)\u001b[0m\u001b[0;34m\u001b[0m\u001b[0;34m\u001b[0m\u001b[0m\n",
      "\u001b[0;32m/opt/anaconda3/envs/test/lib/python3.7/ctypes/__init__.py\u001b[0m in \u001b[0;36mLoadLibrary\u001b[0;34m(self, name)\u001b[0m\n\u001b[1;32m    440\u001b[0m \u001b[0;34m\u001b[0m\u001b[0m\n\u001b[1;32m    441\u001b[0m     \u001b[0;32mdef\u001b[0m \u001b[0mLoadLibrary\u001b[0m\u001b[0;34m(\u001b[0m\u001b[0mself\u001b[0m\u001b[0;34m,\u001b[0m \u001b[0mname\u001b[0m\u001b[0;34m)\u001b[0m\u001b[0;34m:\u001b[0m\u001b[0;34m\u001b[0m\u001b[0;34m\u001b[0m\u001b[0m\n\u001b[0;32m--> 442\u001b[0;31m         \u001b[0;32mreturn\u001b[0m \u001b[0mself\u001b[0m\u001b[0;34m.\u001b[0m\u001b[0m_dlltype\u001b[0m\u001b[0;34m(\u001b[0m\u001b[0mname\u001b[0m\u001b[0;34m)\u001b[0m\u001b[0;34m\u001b[0m\u001b[0;34m\u001b[0m\u001b[0m\n\u001b[0m\u001b[1;32m    443\u001b[0m \u001b[0;34m\u001b[0m\u001b[0m\n\u001b[1;32m    444\u001b[0m \u001b[0mcdll\u001b[0m \u001b[0;34m=\u001b[0m \u001b[0mLibraryLoader\u001b[0m\u001b[0;34m(\u001b[0m\u001b[0mCDLL\u001b[0m\u001b[0;34m)\u001b[0m\u001b[0;34m\u001b[0m\u001b[0;34m\u001b[0m\u001b[0m\n",
      "\u001b[0;32m/opt/anaconda3/envs/test/lib/python3.7/ctypes/__init__.py\u001b[0m in \u001b[0;36m__init__\u001b[0;34m(self, name, mode, handle, use_errno, use_last_error)\u001b[0m\n\u001b[1;32m    362\u001b[0m \u001b[0;34m\u001b[0m\u001b[0m\n\u001b[1;32m    363\u001b[0m         \u001b[0;32mif\u001b[0m \u001b[0mhandle\u001b[0m \u001b[0;32mis\u001b[0m \u001b[0;32mNone\u001b[0m\u001b[0;34m:\u001b[0m\u001b[0;34m\u001b[0m\u001b[0;34m\u001b[0m\u001b[0m\n\u001b[0;32m--> 364\u001b[0;31m             \u001b[0mself\u001b[0m\u001b[0;34m.\u001b[0m\u001b[0m_handle\u001b[0m \u001b[0;34m=\u001b[0m \u001b[0m_dlopen\u001b[0m\u001b[0;34m(\u001b[0m\u001b[0mself\u001b[0m\u001b[0;34m.\u001b[0m\u001b[0m_name\u001b[0m\u001b[0;34m,\u001b[0m \u001b[0mmode\u001b[0m\u001b[0;34m)\u001b[0m\u001b[0;34m\u001b[0m\u001b[0;34m\u001b[0m\u001b[0m\n\u001b[0m\u001b[1;32m    365\u001b[0m         \u001b[0;32melse\u001b[0m\u001b[0;34m:\u001b[0m\u001b[0;34m\u001b[0m\u001b[0;34m\u001b[0m\u001b[0m\n\u001b[1;32m    366\u001b[0m             \u001b[0mself\u001b[0m\u001b[0;34m.\u001b[0m\u001b[0m_handle\u001b[0m \u001b[0;34m=\u001b[0m \u001b[0mhandle\u001b[0m\u001b[0;34m\u001b[0m\u001b[0;34m\u001b[0m\u001b[0m\n",
      "\u001b[0;31mOSError\u001b[0m: dlopen(/opt/anaconda3/envs/test/lib/python3.7/site-packages/lightgbm/lib_lightgbm.so, 0x0006): Library not loaded: /usr/local/opt/libomp/lib/libomp.dylib\n  Referenced from: /opt/anaconda3/envs/test/lib/python3.7/site-packages/lightgbm/lib_lightgbm.so\n  Reason: tried: '/usr/local/opt/libomp/lib/libomp.dylib' (no such file), '/usr/local/lib/libomp.dylib' (no such file), '/usr/lib/libomp.dylib' (no such file)"
     ]
    }
   ],
   "source": [
    "# histogram-based gradient boosting for classification in scikit-learn\n",
    "from numpy import mean\n",
    "from numpy import std\n",
    "from sklearn.datasets import make_classification\n",
    "from sklearn.experimental import enable_hist_gradient_boosting\n",
    "from sklearn.ensemble import HistGradientBoostingClassifier\n",
    "from xgboost import XGBClassifier\n",
    "from lightgbm import LGBMClassifier\n",
    "from catboost import CatBoostClassifier\n",
    "\n",
    "from sklearn.model_selection import cross_val_score\n",
    "from sklearn.model_selection import RepeatedStratifiedKFold\n",
    "from matplotlib import pyplot\n",
    "\n",
    "# define dataset\n",
    "X, y = make_classification(n_samples=1000, n_features=10, n_informative=5, n_redundant=5, random_state=1)\n",
    "\n",
    "# evaluate the model\n",
    "#model = HistGradientBoostingClassifier()\n",
    "#model = XGBClassifier()\n",
    "#model = LGBMClassifier()\n",
    "model = CatBoostClassifier(verbose=0, n_estimators=100)\n",
    "\n",
    "\n",
    "cv = RepeatedStratifiedKFold(n_splits=10, n_repeats=3, random_state=1)\n",
    "n_scores = cross_val_score(model, X, y, scoring='accuracy', cv=cv, n_jobs=-1, error_score='raise')\n",
    "print('Accuracy: %.3f (%.3f) %.3f' % (mean(n_scores), std(n_scores), max(n_scores)))\n",
    "\n",
    "# fit the model on the whole dataset\n",
    "model.fit(X, y)\n",
    "\n",
    "# make a single prediction\n",
    "row = [[2.56999479, -0.13019997, 3.16075093, -4.35936352, -1.61271951, \n",
    "        -1.39352057, -2.48924933, -1.93094078, 3.26130366, 2.05692145]]\n",
    "yhat = model.predict(row)\n",
    "print('Prediction: %d' % yhat)"
   ]
  },
  {
   "cell_type": "code",
   "execution_count": null,
   "id": "aeb2760e",
   "metadata": {},
   "outputs": [],
   "source": [
    "## remopving outliers \n",
    "\n",
    "# def remove_outlier_IQR(df):\n",
    "#     Q1=df.quantile(0.01)\n",
    "#     Q3=df.quantile(0.99)\n",
    "#     IQR=Q3-Q1\n",
    "    \n",
    "#     print(IQR)\n",
    "#     df_final = df[~((df < (Q1 - 1.5 * IQR)) |(df > (Q3 + 1.5 * IQR))).any(axis=1)]\n",
    "#     return df_final\n",
    "\n",
    "# df3=remove_outlier_IQR(df)\n",
    "# print(\"Number of outliers removed : \" , df.shape[0]-df3.shape[0])"
   ]
  },
  {
   "cell_type": "code",
   "execution_count": null,
   "id": "da00e49f",
   "metadata": {},
   "outputs": [],
   "source": [
    "## dendrogram \n",
    "\n",
    "from collections import defaultdict\n",
    "\n",
    "import matplotlib.pyplot as plt\n",
    "import numpy as np\n",
    "from scipy.stats import spearmanr\n",
    "from scipy.cluster import hierarchy\n",
    "from scipy.spatial.distance import squareform\n",
    "\n",
    "from sklearn.ensemble import RandomForestClassifier\n",
    "from sklearn.inspection import permutation_importance\n",
    "from sklearn.model_selection import train_test_split\n",
    "\n",
    "X2, y2 = X_train, y_train \n",
    "X_train2, X_test2, y_train2, y_test2 = train_test_split(X2, y2, random_state=42)\n",
    "\n",
    "clf = RandomForestClassifier(n_estimators=100, random_state=42)\n",
    "clf.fit(X_train2, y_train2)\n",
    "print(\"Accuracy on test data: {:.2f}\".format(clf.score(X_test2, y_test2)))\n",
    "\n",
    "fig, (ax1, ax2) = plt.subplots(2, 1, figsize=(15, 10), constrained_layout=True)\n",
    "corr = spearmanr(X2).correlation\n",
    "print(len(X2))\n",
    "\n",
    "# Ensure the correlation matrix is symmetric\n",
    "corr = (corr + corr.T) / 2\n",
    "np.fill_diagonal(corr, 1)\n",
    "\n",
    "# We convert the correlation matrix to a distance matrix before performing\n",
    "# hierarchical clustering using Ward's linkage.\n",
    "distance_matrix = 1 - np.abs(corr)\n",
    "dist_linkage = hierarchy.ward(squareform(distance_matrix))\n",
    "dendro = hierarchy.dendrogram(\n",
    "    dist_linkage, labels=cols.tolist(), ax=ax1, leaf_rotation=90\n",
    ")\n",
    "dendro_idx = np.arange(0, len(dendro[\"ivl\"]))\n",
    "\n",
    "# ax2.imshow(corr[dendro[\"leaves\"], :][:, dendro[\"leaves\"]])\n",
    "# ax2.set_xticks(dendro_idx)\n",
    "# ax2.set_yticks(dendro_idx)\n",
    "# ax2.set_xticklabels(dendro[\"ivl\"], rotation=\"vertical\")\n",
    "# ax2.set_yticklabels(dendro[\"ivl\"])\n",
    "# fig.tight_layout()\n",
    "plt.show()"
   ]
  },
  {
   "cell_type": "code",
   "execution_count": null,
   "id": "20380ce8",
   "metadata": {},
   "outputs": [],
   "source": [
    "import numpy as np\n",
    "import pandas as pd\n",
    "from sklearn.model_selection import train_test_split\n",
    "from sklearn.preprocessing import StandardScaler, RobustScaler\n",
    "\n",
    "from sklearn.pipeline import make_pipeline, make_union, FeatureUnion\n",
    "from tpot.builtins import StackingEstimator\n",
    "#from tpot.export_utils import set_param_recursive\n",
    "from xgboost import XGBClassifier\n",
    "from sklearn.tree import DecisionTreeClassifier\n",
    "from sklearn.ensemble import (VotingClassifier, \n",
    "                             StackingClassifier,\n",
    "                             BaggingClassifier,\n",
    "                             RandomForestClassifier, \n",
    "                             AdaBoostClassifier, \n",
    "                             ExtraTreesClassifier, \n",
    "                             GradientBoostingClassifier\n",
    "                             \n",
    ")\n",
    "\n",
    "from sklearn.linear_model import LogisticRegression\n",
    "from sklearn.neighbors import KNeighborsClassifier\n",
    "from sklearn.svm import SVC\n",
    "\n",
    "#from sklearn.pipeline import FeatureUnion\n",
    "\n",
    "from sklearn.decomposition import PCA\n",
    "#from sklearn.feature_selection import SelectKBest, chi2\n",
    "from sklearn.model_selection import GridSearchCV\n",
    "\n",
    "\n",
    "\n",
    "\n",
    "# clf1 = ExtraTreesClassifier(bootstrap=True, \n",
    "#                          criterion=\"gini\", \n",
    "#                          max_features=0.4, \n",
    "#                          min_samples_leaf=5, \n",
    "#                          min_samples_split=16, \n",
    "#                          n_estimators=100),\n",
    "    \n",
    "# clf2 = GradientBoostingClassifier(learning_rate=0.1, \n",
    "#                                max_depth=8, \n",
    "#                                max_features=0.15000000000000002, \n",
    "#                                min_samples_leaf=16, \n",
    "#                                min_samples_split=10, \n",
    "#                                n_estimators=100, \n",
    "#                                subsample=0.25)\n",
    "\n",
    "# # Average CV score on the training set was: 0.9562374389968795\n",
    "# exported_pipeline = make_pipeline(\n",
    "#     StackingEstimator(estimator=ExtraTreesClassifier(bootstrap=False, \n",
    "#                                                      criterion=\"entropy\", \n",
    "#                                                      max_features=0.45, \n",
    "#                                                      min_samples_leaf=1, \n",
    "#                                                      min_samples_split=7, \n",
    "#                                                      n_estimators=100)),\n",
    "#     VotingClassifier(estimators=[\n",
    "#         ('lr', clf1), ('rf', clf2)], voting='hard')\n",
    "# )\n",
    "# # Fix random state for all the steps in exported pipeline\n",
    "# set_param_recursive(exported_pipeline.steps, 'random_state', 23) \n",
    "\n",
    "# Estimator = StackingEstimator(estimator=ExtraTreesClassifier(bootstrap=False, \n",
    "#                                                              criterion=\"entropy\", \n",
    "#                                                              max_features=0.45, \n",
    "#                                                              min_samples_leaf=1, \n",
    "#                                                              min_samples_split=7, \n",
    "#                                                              n_estimators=100))\n",
    "\n",
    "XGB = XGBClassifier(base_score=0.5, booster='gbtree', colsample_bylevel=1,\n",
    "              colsample_bynode=1, colsample_bytree=1.0,\n",
    "              enable_categorical=False, eta=0.4, gamma=0.5, gpu_id=-1,\n",
    "              importance_type=None, interaction_constraints='',\n",
    "              learning_rate=0.400000006, max_delta_step=0, max_depth=6,\n",
    "              min_child_weight=1,monotone_constraints='()',\n",
    "              n_estimators=100, n_jobs=12, num_parallel_tree=4,\n",
    "              predictor='auto', random_state=0, reg_alpha=0, reg_lambda=1,\n",
    "              #scale_pos_weight=1, \n",
    "                    subsample=0.8, tree_method='exact',\n",
    "              validate_parameters=1, verbosity=None, num_class=1)\n",
    "\n",
    "ETC = ExtraTreesClassifier(bootstrap=True, \n",
    "                             criterion=\"gini\", \n",
    "                             max_features=0.4, \n",
    "                             min_samples_leaf=5, \n",
    "                             min_samples_split=16, \n",
    "                             n_estimators=100)\n",
    "\n",
    "\n",
    "ETC2 = ExtraTreesClassifier(bootstrap=True, \n",
    "                             criterion=\"entropy\", \n",
    "                             max_features=0.8, \n",
    "                             min_samples_leaf=2, \n",
    "                             min_samples_split=2, \n",
    "                             n_estimators=100)\n",
    "\n",
    "RFC = RandomForestClassifier(bootstrap=False, \n",
    "                             criterion=\"gini\", \n",
    "                             max_features=0.25, \n",
    "                             min_samples_leaf=1, \n",
    "                             min_samples_split=4, \n",
    "                             n_estimators=100)\n",
    "\n",
    "\n",
    "GBC = GradientBoostingClassifier(learning_rate=0.1, \n",
    "                               max_depth=8, \n",
    "                               max_features=0.15000000000000002, \n",
    "                               min_samples_leaf=16, \n",
    "                               min_samples_split=10, \n",
    "                               n_estimators=100, \n",
    "                               subsample=0.25)\n",
    "\n",
    "SVClf = SVC()\n",
    "ABC = AdaBoostClassifier()\n",
    "DTC = DecisionTreeClassifier()\n",
    "KNC = KNeighborsClassifier()\n",
    "\n",
    "\"\"\"  Transformers. \"\"\"\n",
    "Transformers = [\n",
    "                ('Scaler', RobustScaler()),\n",
    "                #('kernel_pca', KernelPCA()),\n",
    "                ('reduce_dim', PCA(.95)),\n",
    "                # ('KBest', SelectKBest(chi2, k=20).fit_transform(X, y)),\n",
    "                #('FEATURE', PolynomialFeatures(degree=2,include_bias=False))\n",
    "]\n",
    "## Combine transformed features\n",
    "Transformers = FeatureUnion(Transformers)\n",
    "\"\"\"********************************************\"\"\"\n",
    "\n",
    "\"\"\" Estimators \"\"\"\n",
    "# Create Base Learners for stacking\n",
    "base_learners = [\n",
    "                  ('XGB',XGB), \n",
    "                  #('ETC', ETC),\n",
    "                  #('RFC',RFC), \n",
    "                  #('DTC', DTC),\n",
    "                  #('GBC', GBC),\n",
    "                  #('SVC', SVC),\n",
    "                  #('KNC', KNC),\n",
    "                  #('ABC', ABC),\n",
    "]\n",
    "                             ]\n",
    "# # Initialize Stacking Classifier with the Meta Learner\n",
    "stack = StackingClassifier(estimators      = base_learners, \n",
    "                           final_estimator = LogisticRegression())# ETC\n",
    "## Voting Classifier\n",
    "vote = VotingClassifier(estimators = base_learners,\n",
    "                        voting     ='soft')\n",
    "## Bagging Classifier\n",
    "bag = BaggingClassifier(base_estimator =XGB,\n",
    "                        n_estimators   = 10, \n",
    "                        random_state   = 0)\n",
    "\"\"\"****************************************\"\"\"\n",
    "\n",
    "\"\"\" Pipeline \"\"\"\n",
    "exported_pipeline = make_pipeline(None, vote) ## use * infront of Transformers when not using union.\n",
    "\"\"\"******************************************\"\"\"\n",
    "\n",
    "\"\"\"  GRID SEARCH. \"\"\"\n",
    "## clf hyper-parameters for gridsearchCV\n",
    "params = [{'votingclassifier__XGB__learning_rate':    [0.1, 0.01, 0.001, 0.0001],\n",
    "           'votingclassifier__XGB__min_child_weight': [1,2,3,4],\n",
    "           'votingclassifier__XGB__subsample':        [0.2, 0.4, 0.6, 0.8]}]\n",
    "\n",
    "exported_pipeline = GridSearchCV(exported_pipeline,\n",
    "                     param_grid=params,\n",
    "                     scoring='accuracy',\n",
    "                     cv=2,\n",
    "                     #n_jobs=-1,\n",
    "                     verbose=10 #needs n_jobs =1\n",
    "                     )\n",
    "\"\"\"************************************************************\"\"\"\n",
    "\n",
    "\n",
    "\"\"\" Train. \"\"\"\n",
    "training_features, testing_features, training_target, testing_target = X_train, X_test, y_train, y_test\n",
    "exported_pipeline.fit(training_features, training_target)\n",
    "results = exported_pipeline.predict(testing_features)\n",
    "\n",
    "print(\"Best Params\", exported_pipeline.best_params_)\n",
    "print(\"Score\", exported_pipeline.score(X_train, y_train))\n",
    "display(results)\n",
    "\n",
    "clf = exported_pipeline"
   ]
  },
  {
   "cell_type": "code",
   "execution_count": null,
   "id": "05f0bbf2",
   "metadata": {},
   "outputs": [],
   "source": [
    "## balanced output\n",
    "from sklearn.metrics import confusion_matrix, accuracy_score\n",
    "from sklearn.metrics import precision_recall_fscore_support\n",
    "clf.fit(X_train, y_train)\n",
    "y_pred = clf.predict(X_test)\n",
    "cm = confusion_matrix(y_test, y_pred)\n",
    "accuracy_score(y_test, y_pred)\n",
    "## 0.941"
   ]
  },
  {
   "cell_type": "code",
   "execution_count": null,
   "id": "25cd42fc",
   "metadata": {},
   "outputs": [],
   "source": [
    "from sklearn.metrics import accuracy_score\n",
    "print(accuracy_score(y_test, y_pred))\n",
    "\n",
    "from sklearn.metrics import f1_score\n",
    "print(f1_score(y_test, y_pred))\n",
    "\n",
    "from sklearn.metrics import precision_score\n",
    "print(precision_score(y_test, y_pred))\n",
    "\n",
    "from sklearn.metrics import recall_score\n",
    "print(recall_score(y_test, y_pred))\n",
    "\n",
    "from sklearn.metrics import roc_auc_score\n",
    "print(roc_auc_score(y_test, clf.predict_proba(X_test)[:, 1]))\n",
    "#roc_auc_score(y_test, clf.decision_function(X_test))"
   ]
  },
  {
   "cell_type": "code",
   "execution_count": null,
   "id": "60226e53",
   "metadata": {},
   "outputs": [],
   "source": [
    "prob_pos_clf = (clf.predict_proba(X_test)[:, 1] >0.4).astype(int)\n",
    "\n",
    "from sklearn.metrics import confusion_matrix, ConfusionMatrixDisplay\n",
    "cm = confusion_matrix(y_test, prob_pos_clf)\n",
    "ConfusionMatrixDisplay(cm).plot();  #, display_labels=labels\n"
   ]
  },
  {
   "cell_type": "code",
   "execution_count": null,
   "id": "90221c71",
   "metadata": {},
   "outputs": [],
   "source": [
    "## new XGBC from tpot\n",
    "from sklearn.metrics import plot_confusion_matrix\n",
    "plot_confusion_matrix(clf, X_test, y_test)  \n",
    "plt.show() "
   ]
  },
  {
   "cell_type": "code",
   "execution_count": null,
   "id": "668bcaf0",
   "metadata": {},
   "outputs": [],
   "source": [
    "# get list of defined veriables\n",
    "%who\n",
    "%whos # this gives more detail.\n",
    "%who_ls ## prints only the names as a list\n",
    "#also\n",
    "dir()\n",
    "locals()\n",
    "globals()\n"
   ]
  },
  {
   "cell_type": "code",
   "execution_count": null,
   "id": "06b05f9f",
   "metadata": {},
   "outputs": [],
   "source": []
  },
  {
   "cell_type": "code",
   "execution_count": null,
   "id": "b120675a",
   "metadata": {},
   "outputs": [],
   "source": [
    "Estimator = StackingEstimator(estimator=ExtraTreesClassifier(bootstrap=False, \n",
    "                                                             criterion=\"entropy\", \n",
    "                                                             max_features=0.45, \n",
    "                                                             min_samples_leaf=1, \n",
    "                                                             min_samples_split=7, \n",
    "                                                             n_estimators=100))\n",
    "\n",
    "XGB = XGBClassifier(base_score=0.5, booster='gbtree', colsample_bylevel=1,\n",
    "              colsample_bynode=1, colsample_bytree=1.0,\n",
    "              enable_categorical=False, eta=0.4, gamma=0.5, gpu_id=-1,\n",
    "              importance_type=None, interaction_constraints='',\n",
    "              learning_rate=0.400000006, max_delta_step=0, max_depth=6,\n",
    "              min_child_weight=1,monotone_constraints='()',\n",
    "              n_estimators=100, n_jobs=12, num_parallel_tree=4,\n",
    "              predictor='auto', random_state=0, reg_alpha=0, reg_lambda=1,\n",
    "              #scale_pos_weight=1, \n",
    "                    subsample=0.8, tree_method='exact',\n",
    "              validate_parameters=1, verbosity=None)\n",
    "\n",
    "ETC = ExtraTreesClassifier(bootstrap=True, \n",
    "                         criterion=\"gini\", \n",
    "                         max_features=0.4, \n",
    "                         min_samples_leaf=5, \n",
    "                         min_samples_split=16, \n",
    "                         n_estimators=100)\n",
    "\n",
    "RFC = RandomForestClassifier(bootstrap=False, \n",
    "                             criterion=\"gini\", \n",
    "                             max_features=0.25, \n",
    "                             min_samples_leaf=1, \n",
    "                             min_samples_split=4, \n",
    "                             n_estimators=100)\n",
    "\n",
    "DTC = DecisionTreeClassifier()\n",
    "\n",
    "GBC = GradientBoostingClassifier(learning_rate=0.1, \n",
    "                               max_depth=8, \n",
    "                               max_features=0.15000000000000002, \n",
    "                               min_samples_leaf=16, \n",
    "                               min_samples_split=10, \n",
    "                               n_estimators=100, \n",
    "                               subsample=0.25)\n",
    "SVC = SVC()\n",
    "\n",
    "\n",
    "\n",
    "\n",
    "Estimators = VotingClassifier(estimators=[\n",
    "                                         #('XGB',XGB), \n",
    "                                          ('ETC', ETC),\n",
    "                                         #('RFC',RFC), \n",
    "                                         #('DTC', DTC),\n",
    "                                         #('GBC', GBC),\n",
    "                                          ('SVC', SVC)\n",
    "                                     ], \n",
    "                                     voting='hard')\n",
    "# Can not run PolynomialFeatures not enought memory \n",
    "\n",
    "from sklearn.decomposition import PCA\n",
    "\n",
    "Transformers = [\n",
    "                ('Scaler', RobustScaler()), \n",
    "                ('reduce_dim', PCA(.85)),\n",
    "                #('FEATURE', PolynomialFeatures(degree=2,include_bias=False))\n",
    "               ]\n",
    "\n",
    "exported_pipeline = Pipeline(Transformers, Estimators)\n"
   ]
  },
  {
   "cell_type": "code",
   "execution_count": 22,
   "id": "b2953ef9",
   "metadata": {
    "ExecuteTime": {
     "end_time": "2022-08-23T11:30:13.078562Z",
     "start_time": "2022-08-23T11:30:13.072194Z"
    }
   },
   "outputs": [
    {
     "name": "stdout",
     "output_type": "stream",
     "text": [
      "Stored 'A' (str)\n",
      "Variable   Type    Data/Info\n",
      "----------------------------\n",
      "A          str     www.fakeurl.com\n",
      "www.fakeurl.com\n"
     ]
    }
   ],
   "source": [
    "# Store variables between sessions\n",
    "A = \"www.fakeurl.com\"\n",
    "%store A\n",
    "%whos str\n",
    "\n",
    "%store -r A\n",
    "print(A)"
   ]
  },
  {
   "cell_type": "code",
   "execution_count": 5,
   "id": "2702c6d0",
   "metadata": {
    "ExecuteTime": {
     "end_time": "2022-08-23T10:23:54.218416Z",
     "start_time": "2022-08-23T10:23:54.133717Z"
    },
    "scrolled": true
   },
   "outputs": [
    {
     "name": "stdout",
     "output_type": "stream",
     "text": [
      "A\t NamespaceMagics\t get_ipython\t getsizeof\t json\t np\t var_dic_list\t \n",
      "No variables match your requested type.\n",
      "Stored 'A' (int)\n",
      "Variable          Type                          Data/Info\n",
      "---------------------------------------------------------\n",
      "A                 int                           10\n",
      "NamespaceMagics   MetaHasTraits                 <class 'IPython.core.magi<...>mespace.NamespaceMagics'>\n",
      "get_ipython       function                      <function get_ipython at 0x7fcd87f2e200>\n",
      "getsizeof         builtin_function_or_method    <built-in function getsizeof>\n",
      "json              module                        <module 'json' from '/opt<...>on3.10/json/__init__.py'>\n",
      "np                module                        <module 'numpy' from '/op<...>kages/numpy/__init__.py'>\n",
      "var_dic_list      function                      <function var_dic_list at 0x7fcd89e17490>\n",
      "10\n"
     ]
    }
   ],
   "source": [
    "# Run code from another notebook\n",
    "%run ../snippets.ipynb ## move up one level to find file.\n",
    "# this will run all code and display the outputs from the spoecified notebook."
   ]
  },
  {
   "cell_type": "code",
   "execution_count": null,
   "id": "6e768191",
   "metadata": {},
   "outputs": [],
   "source": [
    "## In Jupyter you have to expand variables in a bash-like syntax for them to work in magic functions.\n",
    "\n",
    "## That's why you will have to use the $ sign. In your case:\n",
    "\n",
    "import os\n",
    "to_include = os.path.join('example', 'file.py')\n",
    "%load $to_include"
   ]
  },
  {
   "cell_type": "code",
   "execution_count": 8,
   "id": "26b99c97",
   "metadata": {
    "ExecuteTime": {
     "end_time": "2022-08-23T10:34:13.761633Z",
     "start_time": "2022-08-23T10:34:13.604840Z"
    }
   },
   "outputs": [],
   "source": [
    "!export REQUESTS_CA_BUNDLE=/Users/dominic.mckean/Documents/certificate.pem"
   ]
  },
  {
   "cell_type": "code",
   "execution_count": null,
   "id": "2d772264",
   "metadata": {},
   "outputs": [],
   "source": [
    "## bypass ssl certificates. \n",
    "import ssl\n",
    "ssl._create_default_https_context = ssl._create_unverified_context"
   ]
  },
  {
   "cell_type": "markdown",
   "id": "3c4bf17f",
   "metadata": {},
   "source": [
    "code below is imported via %load {URL}"
   ]
  },
  {
   "cell_type": "code",
   "execution_count": null,
   "id": "13898b92",
   "metadata": {},
   "outputs": [],
   "source": [
    "%load \"https://gist.githubusercontent.com/zluvsand/74a6d88e401c4e3f76c2ae783a18689b/raw/5c9fd80a7bed839ba555bf4636e47572bd5c7e6d/pickle.py\""
   ]
  },
  {
   "cell_type": "markdown",
   "id": "3e7436fc",
   "metadata": {},
   "source": [
    "This is the output from the above %load code."
   ]
  },
  {
   "cell_type": "code",
   "execution_count": null,
   "id": "57dcd4b5",
   "metadata": {
    "ExecuteTime": {
     "end_time": "2022-08-23T11:00:00.515258Z",
     "start_time": "2022-08-23T11:00:00.165223Z"
    }
   },
   "outputs": [],
   "source": [
    "# %load \"https://gist.githubusercontent.com/zluvsand/74a6d88e401c4e3f76c2ae783a18689b/raw/5c9fd80a7bed839ba555bf4636e47572bd5c7e6d/pickle.py\"\n",
    "import pickle \n",
    "\n",
    "# Write pickle\n",
    "with open('categorical.pkl', 'wb') as pickle_file:\n",
    "    pickle.dump(categorical, pickle_file)\n",
    "\n",
    "# Load pickle    \n",
    "with open('categorical.pkl', 'rb') as pickle_file:\n",
    "    categorical = pickle.load(pickle_file)"
   ]
  },
  {
   "cell_type": "code",
   "execution_count": 16,
   "id": "6fca9802",
   "metadata": {
    "ExecuteTime": {
     "end_time": "2022-08-23T11:12:18.907015Z",
     "start_time": "2022-08-23T11:12:18.751854Z"
    },
    "scrolled": true
   },
   "outputs": [
    {
     "name": "stdout",
     "output_type": "stream",
     "text": [
      "/Users/dominic.mckean/Library/CloudStorage/OneDrive-SecureEngineering/notebooks\r\n"
     ]
    }
   ],
   "source": [
    "!pwd"
   ]
  },
  {
   "cell_type": "markdown",
   "id": "02feb8d4",
   "metadata": {},
   "source": [
    "Write a snippet file"
   ]
  },
  {
   "cell_type": "code",
   "execution_count": 17,
   "id": "1cbcc1bb",
   "metadata": {
    "ExecuteTime": {
     "end_time": "2022-08-23T11:13:30.294931Z",
     "start_time": "2022-08-23T11:13:30.290549Z"
    },
    "scrolled": true
   },
   "outputs": [
    {
     "name": "stdout",
     "output_type": "stream",
     "text": [
      "Writing setup.py\n"
     ]
    }
   ],
   "source": [
    "%%writefile setup.py\n",
    "# Data manipulation\n",
    "import numpy as np\n",
    "import pandas as pd\n",
    "pd.options.display.max_columns=None\n",
    "pd.options.display.float_format='{:.2f}'.format\n",
    "# Visualisation\n",
    "import matplotlib.pyplot as plt\n",
    "import seaborn as sns\n",
    "sns.set(style='whitegrid', context='talk', palette='rainbow')\n"
   ]
  },
  {
   "cell_type": "markdown",
   "id": "7d231b3b",
   "metadata": {},
   "source": [
    "Load snippets using %load "
   ]
  },
  {
   "cell_type": "code",
   "execution_count": null,
   "id": "72646dea",
   "metadata": {
    "ExecuteTime": {
     "end_time": "2022-08-23T11:14:25.467544Z",
     "start_time": "2022-08-23T11:14:25.463399Z"
    }
   },
   "outputs": [],
   "source": [
    "# %load setup.py\n",
    "\n",
    "# Data manipulation\n",
    "import numpy as np\n",
    "import pandas as pd\n",
    "pd.options.display.max_columns=None\n",
    "pd.options.display.float_format='{:.2f}'.format\n",
    "# Visualisation\n",
    "import matplotlib.pyplot as plt\n",
    "import seaborn as sns\n",
    "sns.set(style='whitegrid', context='talk', palette='rainbow')\n"
   ]
  },
  {
   "cell_type": "markdown",
   "id": "fa0257b9",
   "metadata": {},
   "source": [
    "What the hell did I just do?"
   ]
  },
  {
   "cell_type": "code",
   "execution_count": 19,
   "id": "024ea8cb",
   "metadata": {
    "ExecuteTime": {
     "end_time": "2022-08-23T11:20:01.823069Z",
     "start_time": "2022-08-23T11:20:01.818314Z"
    }
   },
   "outputs": [
    {
     "name": "stdout",
     "output_type": "stream",
     "text": [
      "   1:\n",
      "# Store variables between sessions\n",
      "A = 10\n",
      "%store A\n",
      "   2:\n",
      "# Store variables between sessions\n",
      "A = 10\n",
      "%store A\n",
      "\n",
      "%store -r A\n",
      "print(A)\n",
      "   3:\n",
      "# Store variables between sessions\n",
      "A = 10\n",
      "%store A\n",
      "%whos\n",
      "%store -r A\n",
      "print(A)\n",
      "   4:\n",
      "# Run code from another notebook\n",
      "%run ../snippets.ipynb\n",
      "# this will run all code and display the outputs from the spoecified notebook.\n",
      "   5:\n",
      "# Run code from another notebook\n",
      "%run snippets.ipynb\n",
      "# this will run all code and display the outputs from the spoecified notebook.\n",
      "   6: %load https://gist.githubusercontent.com/zluvsand/74a6d88e401c4e3f76c2ae783a18689b/raw/5c9fd80a7bed839ba555bf4636e47572bd5c7e6d/pickle.py\n",
      "   7:\n",
      "!export REQUESTS_CA_BUNDLE=/Users/dominic.mckean/Documents/certificate.pem\n",
      "%load https://gist.githubusercontent.com/zluvsand/74a6d88e401c4e3f76c2ae783a18689b/raw/5c9fd80a7bed839ba555bf4636e47572bd5c7e6d/pickle.py\n",
      "   8: !export REQUESTS_CA_BUNDLE=/Users/dominic.mckean/Documents/certificate.pem\n",
      "   9: %load https://gist.githubusercontent.com/zluvsand/74a6d88e401c4e3f76c2ae783a18689b/raw/5c9fd80a7bed839ba555bf4636e47572bd5c7e6d/pickle.py\n",
      "  10:\n",
      "!pip install certifi\n",
      "\n",
      "%load https://gist.githubusercontent.com/zluvsand/74a6d88e401c4e3f76c2ae783a18689b/raw/5c9fd80a7bed839ba555bf4636e47572bd5c7e6d/pickle.py\n",
      "  11:\n",
      "!pip install certifi\n",
      "\n",
      "%load \"https://gist.githubusercontent.com/zluvsand/74a6d88e401c4e3f76c2ae783a18689b/raw/5c9fd80a7bed839ba555bf4636e47572bd5c7e6d/pickle.py\"\n",
      "  12:\n",
      "import ssl\n",
      "import certifi\n",
      "\n",
      "urlopen(request, context=ssl.create_default_context(cafile=certifi.where()))\n",
      "\n",
      "%load \"https://gist.githubusercontent.com/zluvsand/74a6d88e401c4e3f76c2ae783a18689b/raw/5c9fd80a7bed839ba555bf4636e47572bd5c7e6d/pickle.py\"\n",
      "  13:\n",
      "import ssl\n",
      "ssl._create_default_https_context = ssl._create_unverified_context\n",
      "\n",
      "%load \"https://gist.githubusercontent.com/zluvsand/74a6d88e401c4e3f76c2ae783a18689b/raw/5c9fd80a7bed839ba555bf4636e47572bd5c7e6d/pickle.py\"\n",
      "  14:\n",
      "!pwd\n",
      "\n",
      "%%writefile ..\\setup.py\n",
      "# Data manipulation\n",
      "import numpy as np\n",
      "import pandas as pd\n",
      "pd.options.display.max_columns=None\n",
      "pd.options.display.float_format='{:.2f}'.format\n",
      "# Visualisation\n",
      "import matplotlib.pyplot as plt\n",
      "import seaborn as sns\n",
      "sns.set(style='whitegrid', context='talk', palette='rainbow')\n",
      "  15:\n",
      "%%writefile ..\\setup.py\n",
      "# Data manipulation\n",
      "import numpy as np\n",
      "import pandas as pd\n",
      "pd.options.display.max_columns=None\n",
      "pd.options.display.float_format='{:.2f}'.format\n",
      "# Visualisation\n",
      "import matplotlib.pyplot as plt\n",
      "import seaborn as sns\n",
      "sns.set(style='whitegrid', context='talk', palette='rainbow')\n",
      "  16: !pwd\n",
      "  17:\n",
      "%%writefile setup.py\n",
      "# Data manipulation\n",
      "import numpy as np\n",
      "import pandas as pd\n",
      "pd.options.display.max_columns=None\n",
      "pd.options.display.float_format='{:.2f}'.format\n",
      "# Visualisation\n",
      "import matplotlib.pyplot as plt\n",
      "import seaborn as sns\n",
      "sns.set(style='whitegrid', context='talk', palette='rainbow')\n",
      "  18: %load setup.py\n",
      "  19: %history -n\n"
     ]
    }
   ],
   "source": [
    "%history -n"
   ]
  },
  {
   "cell_type": "code",
   "execution_count": 28,
   "id": "8c82eec6",
   "metadata": {
    "ExecuteTime": {
     "end_time": "2022-08-24T08:29:51.408584Z",
     "start_time": "2022-08-24T08:29:51.381716Z"
    }
   },
   "outputs": [
    {
     "data": {
      "text/html": [
       "<div>\n",
       "<style scoped>\n",
       "    .dataframe tbody tr th:only-of-type {\n",
       "        vertical-align: middle;\n",
       "    }\n",
       "\n",
       "    .dataframe tbody tr th {\n",
       "        vertical-align: top;\n",
       "    }\n",
       "\n",
       "    .dataframe thead th {\n",
       "        text-align: right;\n",
       "    }\n",
       "</style>\n",
       "<table border=\"1\" class=\"dataframe\">\n",
       "  <thead>\n",
       "    <tr style=\"text-align: right;\">\n",
       "      <th></th>\n",
       "      <th>A</th>\n",
       "      <th>B</th>\n",
       "      <th>C</th>\n",
       "    </tr>\n",
       "  </thead>\n",
       "  <tbody>\n",
       "    <tr>\n",
       "      <th>0</th>\n",
       "      <td>1</td>\n",
       "      <td>1</td>\n",
       "      <td>1.713192</td>\n",
       "    </tr>\n",
       "    <tr>\n",
       "      <th>1</th>\n",
       "      <td>1</td>\n",
       "      <td>2</td>\n",
       "      <td>2.284104</td>\n",
       "    </tr>\n",
       "    <tr>\n",
       "      <th>2</th>\n",
       "      <td>2</td>\n",
       "      <td>3</td>\n",
       "      <td>-0.119250</td>\n",
       "    </tr>\n",
       "    <tr>\n",
       "      <th>3</th>\n",
       "      <td>2</td>\n",
       "      <td>4</td>\n",
       "      <td>0.194030</td>\n",
       "    </tr>\n",
       "  </tbody>\n",
       "</table>\n",
       "</div>"
      ],
      "text/plain": [
       "   A  B         C\n",
       "0  1  1  1.713192\n",
       "1  1  2  2.284104\n",
       "2  2  3 -0.119250\n",
       "3  2  4  0.194030"
      ]
     },
     "metadata": {},
     "output_type": "display_data"
    },
    {
     "data": {
      "text/html": [
       "<div>\n",
       "<style scoped>\n",
       "    .dataframe tbody tr th:only-of-type {\n",
       "        vertical-align: middle;\n",
       "    }\n",
       "\n",
       "    .dataframe tbody tr th {\n",
       "        vertical-align: top;\n",
       "    }\n",
       "\n",
       "    .dataframe thead tr th {\n",
       "        text-align: left;\n",
       "    }\n",
       "\n",
       "    .dataframe thead tr:last-of-type th {\n",
       "        text-align: right;\n",
       "    }\n",
       "</style>\n",
       "<table border=\"1\" class=\"dataframe\">\n",
       "  <thead>\n",
       "    <tr>\n",
       "      <th></th>\n",
       "      <th colspan=\"2\" halign=\"left\">B</th>\n",
       "      <th colspan=\"2\" halign=\"left\">C</th>\n",
       "    </tr>\n",
       "    <tr>\n",
       "      <th></th>\n",
       "      <th>min</th>\n",
       "      <th>max</th>\n",
       "      <th>min</th>\n",
       "      <th>max</th>\n",
       "    </tr>\n",
       "    <tr>\n",
       "      <th>A</th>\n",
       "      <th></th>\n",
       "      <th></th>\n",
       "      <th></th>\n",
       "      <th></th>\n",
       "    </tr>\n",
       "  </thead>\n",
       "  <tbody>\n",
       "    <tr>\n",
       "      <th>1</th>\n",
       "      <td>1</td>\n",
       "      <td>2</td>\n",
       "      <td>1.713192</td>\n",
       "      <td>2.284104</td>\n",
       "    </tr>\n",
       "    <tr>\n",
       "      <th>2</th>\n",
       "      <td>3</td>\n",
       "      <td>4</td>\n",
       "      <td>-0.119250</td>\n",
       "      <td>0.194030</td>\n",
       "    </tr>\n",
       "  </tbody>\n",
       "</table>\n",
       "</div>"
      ],
      "text/plain": [
       "    B             C          \n",
       "  min max       min       max\n",
       "A                            \n",
       "1   1   2  1.713192  2.284104\n",
       "2   3   4 -0.119250  0.194030"
      ]
     },
     "metadata": {},
     "output_type": "display_data"
    },
    {
     "data": {
      "text/html": [
       "<div>\n",
       "<style scoped>\n",
       "    .dataframe tbody tr th:only-of-type {\n",
       "        vertical-align: middle;\n",
       "    }\n",
       "\n",
       "    .dataframe tbody tr th {\n",
       "        vertical-align: top;\n",
       "    }\n",
       "\n",
       "    .dataframe thead tr th {\n",
       "        text-align: left;\n",
       "    }\n",
       "\n",
       "    .dataframe thead tr:last-of-type th {\n",
       "        text-align: right;\n",
       "    }\n",
       "</style>\n",
       "<table border=\"1\" class=\"dataframe\">\n",
       "  <thead>\n",
       "    <tr>\n",
       "      <th></th>\n",
       "      <th colspan=\"4\" halign=\"left\">B</th>\n",
       "      <th>C</th>\n",
       "    </tr>\n",
       "    <tr>\n",
       "      <th></th>\n",
       "      <th>min</th>\n",
       "      <th>max</th>\n",
       "      <th>sum</th>\n",
       "      <th>mean</th>\n",
       "      <th>sum</th>\n",
       "    </tr>\n",
       "    <tr>\n",
       "      <th>A</th>\n",
       "      <th></th>\n",
       "      <th></th>\n",
       "      <th></th>\n",
       "      <th></th>\n",
       "      <th></th>\n",
       "    </tr>\n",
       "  </thead>\n",
       "  <tbody>\n",
       "    <tr>\n",
       "      <th>1</th>\n",
       "      <td>1</td>\n",
       "      <td>2</td>\n",
       "      <td>3</td>\n",
       "      <td>1.5</td>\n",
       "      <td>3.997296</td>\n",
       "    </tr>\n",
       "    <tr>\n",
       "      <th>2</th>\n",
       "      <td>3</td>\n",
       "      <td>4</td>\n",
       "      <td>7</td>\n",
       "      <td>3.5</td>\n",
       "      <td>0.074780</td>\n",
       "    </tr>\n",
       "  </tbody>\n",
       "</table>\n",
       "</div>"
      ],
      "text/plain": [
       "    B                      C\n",
       "  min max sum mean       sum\n",
       "A                           \n",
       "1   1   2   3  1.5  3.997296\n",
       "2   3   4   7  3.5  0.074780"
      ]
     },
     "execution_count": 28,
     "metadata": {},
     "output_type": "execute_result"
    }
   ],
   "source": [
    "import pandas as pd\n",
    "df = pd.DataFrame({'A': [1, 1, 2, 2],\n",
    "                   'B': [1, 2, 3, 4],\n",
    "                   'C': np.random.randn(4)})\n",
    "display(df)\n",
    "display(df.groupby('A').agg(['min', 'max']))\n",
    "df.groupby('A').agg({'B': ['min', 'max', 'sum', 'mean'], 'C': 'sum'})"
   ]
  },
  {
   "cell_type": "code",
   "execution_count": 30,
   "id": "155f2334",
   "metadata": {
    "ExecuteTime": {
     "end_time": "2022-08-24T09:59:53.478784Z",
     "start_time": "2022-08-24T09:59:53.471662Z"
    }
   },
   "outputs": [
    {
     "data": {
      "text/html": [
       "<div>\n",
       "<style scoped>\n",
       "    .dataframe tbody tr th:only-of-type {\n",
       "        vertical-align: middle;\n",
       "    }\n",
       "\n",
       "    .dataframe tbody tr th {\n",
       "        vertical-align: top;\n",
       "    }\n",
       "\n",
       "    .dataframe thead th {\n",
       "        text-align: right;\n",
       "    }\n",
       "</style>\n",
       "<table border=\"1\" class=\"dataframe\">\n",
       "  <thead>\n",
       "    <tr style=\"text-align: right;\">\n",
       "      <th></th>\n",
       "      <th>AAA</th>\n",
       "      <th>BBB</th>\n",
       "      <th>CCC</th>\n",
       "    </tr>\n",
       "  </thead>\n",
       "  <tbody>\n",
       "    <tr>\n",
       "      <th>0</th>\n",
       "      <td>4</td>\n",
       "      <td>10</td>\n",
       "      <td>100</td>\n",
       "    </tr>\n",
       "    <tr>\n",
       "      <th>1</th>\n",
       "      <td>5</td>\n",
       "      <td>20</td>\n",
       "      <td>50</td>\n",
       "    </tr>\n",
       "    <tr>\n",
       "      <th>2</th>\n",
       "      <td>6</td>\n",
       "      <td>30</td>\n",
       "      <td>-30</td>\n",
       "    </tr>\n",
       "    <tr>\n",
       "      <th>3</th>\n",
       "      <td>7</td>\n",
       "      <td>40</td>\n",
       "      <td>-50</td>\n",
       "    </tr>\n",
       "  </tbody>\n",
       "</table>\n",
       "</div>"
      ],
      "text/plain": [
       "   AAA  BBB  CCC\n",
       "0    4   10  100\n",
       "1    5   20   50\n",
       "2    6   30  -30\n",
       "3    7   40  -50"
      ]
     },
     "execution_count": 30,
     "metadata": {},
     "output_type": "execute_result"
    }
   ],
   "source": [
    "df = pd.DataFrame(\n",
    "    {\"AAA\": [4, 5, 6, 7], \"BBB\": [10, 20, 30, 40], \"CCC\": [100, 50, -30, -50]}\n",
    ")\n",
    "df"
   ]
  },
  {
   "cell_type": "code",
   "execution_count": 32,
   "id": "cd350e5d",
   "metadata": {
    "ExecuteTime": {
     "end_time": "2022-08-24T10:00:21.236465Z",
     "start_time": "2022-08-24T10:00:21.228128Z"
    },
    "scrolled": false
   },
   "outputs": [
    {
     "data": {
      "text/html": [
       "<div>\n",
       "<style scoped>\n",
       "    .dataframe tbody tr th:only-of-type {\n",
       "        vertical-align: middle;\n",
       "    }\n",
       "\n",
       "    .dataframe tbody tr th {\n",
       "        vertical-align: top;\n",
       "    }\n",
       "\n",
       "    .dataframe thead th {\n",
       "        text-align: right;\n",
       "    }\n",
       "</style>\n",
       "<table border=\"1\" class=\"dataframe\">\n",
       "  <thead>\n",
       "    <tr style=\"text-align: right;\">\n",
       "      <th></th>\n",
       "      <th>AAA</th>\n",
       "      <th>BBB</th>\n",
       "      <th>CCC</th>\n",
       "    </tr>\n",
       "  </thead>\n",
       "  <tbody>\n",
       "    <tr>\n",
       "      <th>0</th>\n",
       "      <td>4</td>\n",
       "      <td>10</td>\n",
       "      <td>100</td>\n",
       "    </tr>\n",
       "    <tr>\n",
       "      <th>1</th>\n",
       "      <td>5</td>\n",
       "      <td>555</td>\n",
       "      <td>555</td>\n",
       "    </tr>\n",
       "    <tr>\n",
       "      <th>2</th>\n",
       "      <td>6</td>\n",
       "      <td>555</td>\n",
       "      <td>555</td>\n",
       "    </tr>\n",
       "    <tr>\n",
       "      <th>3</th>\n",
       "      <td>7</td>\n",
       "      <td>555</td>\n",
       "      <td>555</td>\n",
       "    </tr>\n",
       "  </tbody>\n",
       "</table>\n",
       "</div>"
      ],
      "text/plain": [
       "   AAA  BBB  CCC\n",
       "0    4   10  100\n",
       "1    5  555  555\n",
       "2    6  555  555\n",
       "3    7  555  555"
      ]
     },
     "execution_count": 32,
     "metadata": {},
     "output_type": "execute_result"
    }
   ],
   "source": [
    "df.loc[df.AAA >= 5, [\"BBB\", \"CCC\"]] = 555\n",
    "df"
   ]
  },
  {
   "cell_type": "code",
   "execution_count": 34,
   "id": "9735dbb5",
   "metadata": {
    "ExecuteTime": {
     "end_time": "2022-08-24T10:01:56.422539Z",
     "start_time": "2022-08-24T10:01:56.415196Z"
    },
    "scrolled": false
   },
   "outputs": [
    {
     "data": {
      "text/html": [
       "<div>\n",
       "<style scoped>\n",
       "    .dataframe tbody tr th:only-of-type {\n",
       "        vertical-align: middle;\n",
       "    }\n",
       "\n",
       "    .dataframe tbody tr th {\n",
       "        vertical-align: top;\n",
       "    }\n",
       "\n",
       "    .dataframe thead th {\n",
       "        text-align: right;\n",
       "    }\n",
       "</style>\n",
       "<table border=\"1\" class=\"dataframe\">\n",
       "  <thead>\n",
       "    <tr style=\"text-align: right;\">\n",
       "      <th></th>\n",
       "      <th>AAA</th>\n",
       "      <th>BBB</th>\n",
       "      <th>CCC</th>\n",
       "      <th>logic</th>\n",
       "    </tr>\n",
       "  </thead>\n",
       "  <tbody>\n",
       "    <tr>\n",
       "      <th>0</th>\n",
       "      <td>4</td>\n",
       "      <td>10</td>\n",
       "      <td>100</td>\n",
       "      <td>low</td>\n",
       "    </tr>\n",
       "    <tr>\n",
       "      <th>1</th>\n",
       "      <td>5</td>\n",
       "      <td>555</td>\n",
       "      <td>555</td>\n",
       "      <td>low</td>\n",
       "    </tr>\n",
       "    <tr>\n",
       "      <th>2</th>\n",
       "      <td>6</td>\n",
       "      <td>555</td>\n",
       "      <td>555</td>\n",
       "      <td>high</td>\n",
       "    </tr>\n",
       "    <tr>\n",
       "      <th>3</th>\n",
       "      <td>7</td>\n",
       "      <td>555</td>\n",
       "      <td>555</td>\n",
       "      <td>high</td>\n",
       "    </tr>\n",
       "  </tbody>\n",
       "</table>\n",
       "</div>"
      ],
      "text/plain": [
       "   AAA  BBB  CCC logic\n",
       "0    4   10  100   low\n",
       "1    5  555  555   low\n",
       "2    6  555  555  high\n",
       "3    7  555  555  high"
      ]
     },
     "execution_count": 34,
     "metadata": {},
     "output_type": "execute_result"
    }
   ],
   "source": [
    "df[\"logic\"] = np.where(df[\"AAA\"] > 5, \"high\", \"low\")\n",
    "df"
   ]
  },
  {
   "cell_type": "code",
   "execution_count": 67,
   "id": "1e81ee2d",
   "metadata": {
    "ExecuteTime": {
     "end_time": "2022-08-24T12:21:51.265578Z",
     "start_time": "2022-08-24T12:21:51.259629Z"
    }
   },
   "outputs": [
    {
     "data": {
      "text/html": [
       "<div>\n",
       "<style scoped>\n",
       "    .dataframe tbody tr th:only-of-type {\n",
       "        vertical-align: middle;\n",
       "    }\n",
       "\n",
       "    .dataframe tbody tr th {\n",
       "        vertical-align: top;\n",
       "    }\n",
       "\n",
       "    .dataframe thead th {\n",
       "        text-align: right;\n",
       "    }\n",
       "</style>\n",
       "<table border=\"1\" class=\"dataframe\">\n",
       "  <thead>\n",
       "    <tr style=\"text-align: right;\">\n",
       "      <th></th>\n",
       "      <th>AAA</th>\n",
       "      <th>BBB</th>\n",
       "      <th>CCC</th>\n",
       "      <th>logic</th>\n",
       "    </tr>\n",
       "  </thead>\n",
       "  <tbody>\n",
       "    <tr>\n",
       "      <th>0</th>\n",
       "      <td>4</td>\n",
       "      <td>10</td>\n",
       "      <td>100</td>\n",
       "      <td>low</td>\n",
       "    </tr>\n",
       "    <tr>\n",
       "      <th>1</th>\n",
       "      <td>5</td>\n",
       "      <td>555</td>\n",
       "      <td>555</td>\n",
       "      <td>low</td>\n",
       "    </tr>\n",
       "    <tr>\n",
       "      <th>2</th>\n",
       "      <td>6</td>\n",
       "      <td>555</td>\n",
       "      <td>555</td>\n",
       "      <td>high</td>\n",
       "    </tr>\n",
       "    <tr>\n",
       "      <th>3</th>\n",
       "      <td>7</td>\n",
       "      <td>555</td>\n",
       "      <td>555</td>\n",
       "      <td>high</td>\n",
       "    </tr>\n",
       "  </tbody>\n",
       "</table>\n",
       "</div>"
      ],
      "text/plain": [
       "   AAA  BBB  CCC logic\n",
       "0    4   10  100   low\n",
       "1    5  555  555   low\n",
       "2    6  555  555  high\n",
       "3    7  555  555  high"
      ]
     },
     "metadata": {},
     "output_type": "display_data"
    }
   ],
   "source": [
    "df2 = df\n",
    "display(df2)"
   ]
  },
  {
   "cell_type": "code",
   "execution_count": 69,
   "id": "d23d271a",
   "metadata": {
    "ExecuteTime": {
     "end_time": "2022-08-24T12:22:31.980773Z",
     "start_time": "2022-08-24T12:22:31.973705Z"
    }
   },
   "outputs": [
    {
     "data": {
      "text/html": [
       "<div>\n",
       "<style scoped>\n",
       "    .dataframe tbody tr th:only-of-type {\n",
       "        vertical-align: middle;\n",
       "    }\n",
       "\n",
       "    .dataframe tbody tr th {\n",
       "        vertical-align: top;\n",
       "    }\n",
       "\n",
       "    .dataframe thead th {\n",
       "        text-align: right;\n",
       "    }\n",
       "</style>\n",
       "<table border=\"1\" class=\"dataframe\">\n",
       "  <thead>\n",
       "    <tr style=\"text-align: right;\">\n",
       "      <th></th>\n",
       "      <th>BBB</th>\n",
       "      <th>CCC</th>\n",
       "      <th>logic</th>\n",
       "    </tr>\n",
       "  </thead>\n",
       "  <tbody>\n",
       "    <tr>\n",
       "      <th>0</th>\n",
       "      <td>10</td>\n",
       "      <td>100</td>\n",
       "      <td>low</td>\n",
       "    </tr>\n",
       "    <tr>\n",
       "      <th>1</th>\n",
       "      <td>555</td>\n",
       "      <td>555</td>\n",
       "      <td>low</td>\n",
       "    </tr>\n",
       "    <tr>\n",
       "      <th>2</th>\n",
       "      <td>555</td>\n",
       "      <td>555</td>\n",
       "      <td>high</td>\n",
       "    </tr>\n",
       "    <tr>\n",
       "      <th>3</th>\n",
       "      <td>555</td>\n",
       "      <td>555</td>\n",
       "      <td>high</td>\n",
       "    </tr>\n",
       "  </tbody>\n",
       "</table>\n",
       "</div>"
      ],
      "text/plain": [
       "   BBB  CCC logic\n",
       "0   10  100   low\n",
       "1  555  555   low\n",
       "2  555  555  high\n",
       "3  555  555  high"
      ]
     },
     "execution_count": 69,
     "metadata": {},
     "output_type": "execute_result"
    }
   ],
   "source": [
    "df2.drop('AAA', axis=1)"
   ]
  },
  {
   "cell_type": "code",
   "execution_count": 71,
   "id": "2d40f9b2",
   "metadata": {
    "ExecuteTime": {
     "end_time": "2022-08-24T12:22:49.232302Z",
     "start_time": "2022-08-24T12:22:49.225896Z"
    }
   },
   "outputs": [
    {
     "data": {
      "text/html": [
       "<div>\n",
       "<style scoped>\n",
       "    .dataframe tbody tr th:only-of-type {\n",
       "        vertical-align: middle;\n",
       "    }\n",
       "\n",
       "    .dataframe tbody tr th {\n",
       "        vertical-align: top;\n",
       "    }\n",
       "\n",
       "    .dataframe thead th {\n",
       "        text-align: right;\n",
       "    }\n",
       "</style>\n",
       "<table border=\"1\" class=\"dataframe\">\n",
       "  <thead>\n",
       "    <tr style=\"text-align: right;\">\n",
       "      <th></th>\n",
       "      <th>AAA</th>\n",
       "      <th>BBB</th>\n",
       "      <th>CCC</th>\n",
       "      <th>logic</th>\n",
       "    </tr>\n",
       "  </thead>\n",
       "  <tbody>\n",
       "    <tr>\n",
       "      <th>0</th>\n",
       "      <td>4</td>\n",
       "      <td>10</td>\n",
       "      <td>100</td>\n",
       "      <td>low</td>\n",
       "    </tr>\n",
       "    <tr>\n",
       "      <th>1</th>\n",
       "      <td>5</td>\n",
       "      <td>555</td>\n",
       "      <td>555</td>\n",
       "      <td>low</td>\n",
       "    </tr>\n",
       "    <tr>\n",
       "      <th>2</th>\n",
       "      <td>6</td>\n",
       "      <td>555</td>\n",
       "      <td>555</td>\n",
       "      <td>high</td>\n",
       "    </tr>\n",
       "    <tr>\n",
       "      <th>3</th>\n",
       "      <td>7</td>\n",
       "      <td>555</td>\n",
       "      <td>555</td>\n",
       "      <td>high</td>\n",
       "    </tr>\n",
       "  </tbody>\n",
       "</table>\n",
       "</div>"
      ],
      "text/plain": [
       "   AAA  BBB  CCC logic\n",
       "0    4   10  100   low\n",
       "1    5  555  555   low\n",
       "2    6  555  555  high\n",
       "3    7  555  555  high"
      ]
     },
     "execution_count": 71,
     "metadata": {},
     "output_type": "execute_result"
    }
   ],
   "source": [
    "df2"
   ]
  },
  {
   "cell_type": "code",
   "execution_count": null,
   "id": "353e590f",
   "metadata": {},
   "outputs": [],
   "source": []
  },
  {
   "cell_type": "code",
   "execution_count": null,
   "id": "05c4d9ce",
   "metadata": {},
   "outputs": [],
   "source": []
  },
  {
   "cell_type": "code",
   "execution_count": 50,
   "id": "6ff1d5b4",
   "metadata": {
    "ExecuteTime": {
     "end_time": "2022-08-24T10:17:55.151344Z",
     "start_time": "2022-08-24T10:17:54.990283Z"
    }
   },
   "outputs": [
    {
     "name": "stdout",
     "output_type": "stream",
     "text": [
      "\u001b[34mDiabetes-Data\u001b[m\u001b[m  \u001b[34mSampleCode\u001b[m\u001b[m     setup.py       snippets.ipynb\r\n"
     ]
    }
   ],
   "source": [
    "!ls"
   ]
  },
  {
   "cell_type": "code",
   "execution_count": 65,
   "id": "d2c7c13e",
   "metadata": {
    "ExecuteTime": {
     "end_time": "2022-08-24T10:31:29.377896Z",
     "start_time": "2022-08-24T10:31:29.369441Z"
    }
   },
   "outputs": [
    {
     "name": "stdout",
     "output_type": "stream",
     "text": [
      "              0      1   2    3\n",
      "0    10-10-1989  08:00  58  149\n",
      "1    10-10-1989  08:00  33  010\n",
      "2    10-10-1989  12:00  60  116\n",
      "3    10-10-1989  12:00  33  004\n",
      "4    10-10-1989  18:00  62  304\n",
      "..          ...    ...  ..  ...\n",
      "756  01-12-1990  22:00  33  016\n",
      "757  01-13-1990  08:00  58  272\n",
      "758  01-13-1990  08:00  33  012\n",
      "759  01-13-1990  12:00  60  388\n",
      "760  01-13-1990  12:00  33  006\n",
      "\n",
      "[761 rows x 4 columns]\n"
     ]
    }
   ],
   "source": [
    "data = pd.read_csv('Diabetes-Data/data-02', sep='\\t', header=None)\n",
    "print(data)"
   ]
  },
  {
   "cell_type": "code",
   "execution_count": 66,
   "id": "b090adab",
   "metadata": {
    "ExecuteTime": {
     "end_time": "2022-09-04T22:58:44.498748Z",
     "start_time": "2022-09-04T22:58:44.488347Z"
    },
    "scrolled": true
   },
   "outputs": [
    {
     "ename": "NameError",
     "evalue": "name 'glimpse' is not defined",
     "output_type": "error",
     "traceback": [
      "\u001b[0;31m---------------------------------------------------------------------------\u001b[0m",
      "\u001b[0;31mNameError\u001b[0m                                 Traceback (most recent call last)",
      "\u001b[0;32m<ipython-input-66-3980f1620e64>\u001b[0m in \u001b[0;36m<module>\u001b[0;34m\u001b[0m\n\u001b[1;32m      1\u001b[0m \u001b[0mdata\u001b[0m \u001b[0;34m=\u001b[0m \u001b[0mpd\u001b[0m\u001b[0;34m.\u001b[0m\u001b[0mDataFrame\u001b[0m\u001b[0;34m(\u001b[0m\u001b[0mdata\u001b[0m\u001b[0;34m)\u001b[0m\u001b[0;34m\u001b[0m\u001b[0;34m\u001b[0m\u001b[0m\n\u001b[0;32m----> 2\u001b[0;31m \u001b[0mglimpse\u001b[0m\u001b[0;34m(\u001b[0m\u001b[0mdata\u001b[0m\u001b[0;34m)\u001b[0m\u001b[0;34m\u001b[0m\u001b[0;34m\u001b[0m\u001b[0m\n\u001b[0m",
      "\u001b[0;31mNameError\u001b[0m: name 'glimpse' is not defined"
     ]
    }
   ],
   "source": [
    "data = pd.DataFrame(data)\n",
    "glimpse(data)"
   ]
  },
  {
   "cell_type": "code",
   "execution_count": 67,
   "id": "0c2b456c",
   "metadata": {
    "ExecuteTime": {
     "end_time": "2022-09-04T23:23:45.172071Z",
     "start_time": "2022-09-04T23:23:45.163500Z"
    }
   },
   "outputs": [
    {
     "data": {
      "text/plain": [
       "('MT19937',\n",
       " array([  71701544, 1072346566, 2121661234,  918365634, 3928473398,\n",
       "        1850182892,  905803554,  757271419, 3101973818, 2649159101,\n",
       "        1725950760, 2502848454,  807244764,  833351479, 2926736477,\n",
       "        2221854113, 4280449964, 2155183950, 1379616348, 3984695742,\n",
       "        2995064547,  291356513,  743016737, 3171804309, 3886992455,\n",
       "        2548021011, 2471562374, 3357349941,  614792274, 1390113488,\n",
       "        4193772143, 2394391791, 2983600632, 3383975624, 1549001603,\n",
       "        3467065487, 2574303137, 3107076302, 2737263544, 2946753915,\n",
       "         517231690, 2261228235, 2076393507, 4026625982, 4144995726,\n",
       "        3588345853, 1143727635, 1104976964, 3899415157,  163537412,\n",
       "        2745216976,  201930166, 1906073453, 2379461487, 3796313016,\n",
       "          60929209, 3242765622,    2719077, 3046594263, 3599623717,\n",
       "        2151402381, 2280900015, 3450230526, 2061034496, 1630952463,\n",
       "        1791677670, 3251886787, 4117564178, 3661480827, 4293161295,\n",
       "        3856137823, 2931348535,  935933335,  666911643, 4161373609,\n",
       "        3688365032, 4044160077, 3100820377, 2107968778,  599795983,\n",
       "        3673346603, 3457248554, 2685700595,  468999964, 3115267145,\n",
       "        3855761390,  491883193, 2412356742, 1285957144,  308100934,\n",
       "        2399687775, 2444042578, 2751976049, 2723219034, 3787087733,\n",
       "        3915654716,  717608811, 3409309774,  707323256,  662789801,\n",
       "        3117205834, 3947710129, 3948850070, 2284190762, 4235936178,\n",
       "        1814023620, 1724781742, 1562792526, 1060486196, 1312391666,\n",
       "        2745741072, 2928963596, 1059743155, 2248820838, 1103382580,\n",
       "        1849736959, 3774027605, 2051473708, 3201847463,  342630307,\n",
       "        1189065974, 2265171864, 3509112383, 3310321456,  526466391,\n",
       "        3050011543, 2316281303,  306664351,  988022365, 1750641571,\n",
       "        4227645883, 2480384895, 2192469183, 3965857566, 1861635881,\n",
       "        1972847640, 4115999115, 2101927108, 3762908009,  322357769,\n",
       "         288796663, 2992204997, 3577618961,  517204252,  993889124,\n",
       "        1880631075, 3658068846, 2459118764, 3285199030, 2334977296,\n",
       "        1346897952, 3594326130, 2131741233, 2857517897, 2018251596,\n",
       "        4113020632, 2476554859,  557836515,  770236583, 1255288458,\n",
       "          21778018, 1643315038, 2693348238,  851022481,  624107829,\n",
       "        2282518567, 4127449163, 3408610291, 2361025316,  814679171,\n",
       "        1779338041, 3851251762, 3557176199, 1387176293, 1322194423,\n",
       "        4283053266, 4116662161, 2114121145, 1885172474, 1791296685,\n",
       "        2841719623, 2861043171, 1501358676, 3456908052,  737996629,\n",
       "        3263143731,  383090325, 1841595244, 2963346880, 2302839582,\n",
       "        1136078319, 1385162624,  415412012, 2272958806, 3004051230,\n",
       "        1554121994,  181742916, 4065918195, 3760342909,  483963991,\n",
       "          34524496,  356448434,  187954579, 2521485730, 2971681633,\n",
       "        2901864042,  943209367, 2159773812, 1448594009, 1335434402,\n",
       "        2476781200, 4086105266, 2064069686, 2950482999, 3288642796,\n",
       "         921519733, 3346473161, 3700347285, 2327259959, 3191079115,\n",
       "        2387378925, 2526147226,  310984849, 3355692172, 3505360790,\n",
       "         329396494, 2458106579, 1940963988, 2969815463, 3450564349,\n",
       "        1424230227, 3460593743, 3326186122, 3135343167, 2667456449,\n",
       "          42726024, 2427573445,  825166654, 3110487958,  970530242,\n",
       "        4283225472, 3755014153, 3340281431, 4031241283, 4019212564,\n",
       "        4134055646,  862959215,  991596785,  275037775,  787158933,\n",
       "        2065822654, 1116962791,   44298935, 3034428972, 2957058129,\n",
       "        3952740769, 1246825789,  221532237,  617207398, 1482873425,\n",
       "        1922123426, 3482600405,  574713398,  180572255,  693855367,\n",
       "        1097059709,  424118072, 1220539563,  907665581, 4173564050,\n",
       "        2797041616, 3826188500,  729076600, 1858827397, 1934401684,\n",
       "        2084877440, 2395761759, 2926673031, 1017406899, 1606713839,\n",
       "         949082541, 2165550714,  638627224, 3675654818, 3340966135,\n",
       "        2175116611, 4114196585, 4000055360, 4283488171,  538030632,\n",
       "        2136847205,  533194932, 2399255589, 3470067203, 2890744186,\n",
       "        1855853077, 2957930450, 2466539354,  289133395, 4075723885,\n",
       "           5046713,  972502630, 3087042727, 3668256574, 2149614700,\n",
       "        2515975544, 1564355313, 1019084858, 3128308338, 3927730941,\n",
       "        1536650263, 1759891342, 2879528969, 2940238185, 2918757863,\n",
       "        3985241770, 3952101331, 2348525962,  218250386, 3093889541,\n",
       "        1953190224, 2150557143, 2821064414,   82210178,   47889001,\n",
       "        2983987485, 3301904952, 1701118638, 1183061464, 2907047128,\n",
       "        1698869098,  935435349, 3396726934, 3826418115, 3040282832,\n",
       "        1225546071,  916100118, 2916699415, 3357482567, 1886246654,\n",
       "           7620528, 1181936900, 2455941666, 2861270263, 1484809276,\n",
       "        3883715477, 1672694124, 4146080276, 1850801619,  711212802,\n",
       "        3913249592, 3543979591, 2422761491, 2896762823, 2442937587,\n",
       "         748076901,  546613040,  670186404, 2173212392, 1371857688,\n",
       "         130700758, 1568114558, 2025138314,  168264964, 3525291883,\n",
       "        1242013462, 3928410582, 2295285251, 3331338891, 2735049180,\n",
       "        3988304928, 1463435753,   79313214, 3190829649, 2636339444,\n",
       "        2128511029, 2032791509, 1115727614,  661159712, 3880082150,\n",
       "        3695998808, 1468834218, 1544285467, 1298839633, 3128471060,\n",
       "        1340476831, 2783974495,  431991643,  733906573,  518633087,\n",
       "        3665883639, 2629601015, 3524943046, 2783790835, 3813090287,\n",
       "        1523889175, 3281531436, 2977831928, 2676496367,  494337914,\n",
       "        1675938024,  408787731, 1408436476, 2408949841, 3216493604,\n",
       "        3835875668, 2185322070, 3230263413, 1067155056, 1387689736,\n",
       "        2976522210,  332623024, 2964896187,  476623758, 2659947788,\n",
       "        4208568354, 4214197972, 1468707172,  759146960,  279129863,\n",
       "        2561133396, 3934692688, 4196866064, 2723333646, 1205439122,\n",
       "         921024443, 2484201849, 3827917226, 3210728875,  187575912,\n",
       "        3307121006, 3076437957,  459324460, 4054239784,  514439089,\n",
       "        3613355276, 3969319492, 1083129198, 3291094397, 3648314056,\n",
       "        1912443222, 2780431684,  538714836, 3917972595, 2508578065,\n",
       "        1926429603,  972257635, 1361792583, 2432614674, 2875976594,\n",
       "        4174904568, 3251705954, 1467503307,  326913213, 2298012931,\n",
       "        3299237016, 4034667357, 1459588126, 4145832935,  982587911,\n",
       "        3501633415, 1019914820, 2026946187, 3965271415, 3515774991,\n",
       "        3131541537, 3984356208,  998326928, 2846806792,  435844068,\n",
       "        1386004327, 2576535756, 2388784640, 1418474266, 3280973219,\n",
       "        3674306615, 2471449641, 2251818198, 2152405904,  859644851,\n",
       "        1148878971, 2202134503, 1269460006, 3900684174, 1387286166,\n",
       "        1597192794, 1789715031, 1753059156, 3189970901,  913283534,\n",
       "        1884375677,  540770797, 1386777753, 3421506494,  608409167,\n",
       "         973151087,   19135266, 2221379830, 3865268280, 1578585745,\n",
       "        3162794146,  501621560, 1747225096,  898674830, 3944955842,\n",
       "        3064191605, 1103166779, 4146659464, 3108276514, 2857129269,\n",
       "        1130180870, 3885869907,  960928016, 4248588122, 3607429641,\n",
       "        1795625441, 2475874531, 3312466649, 2040697689,  987514293,\n",
       "        2639806073, 1771024441, 1271025721, 1831845358, 1664448467,\n",
       "         392001363, 3418619288,  861375737,  745878051, 2145148634,\n",
       "        2045248996, 4025895088,  832747012, 1455603595, 3307944656,\n",
       "        3670716948, 1469842173, 1837935770, 3422217174, 2647767984,\n",
       "         808271516,  530344434, 1115731852, 4146499327, 2138408052,\n",
       "        2644946263,  568790716, 3549406505, 3794636043, 4184786000,\n",
       "        1593400021,  362484018, 4258861615, 4179984388, 2920635193,\n",
       "         258984249, 2000829604,  536219192, 3921981727, 4016862549,\n",
       "        2439229877, 1197531814, 2286425796, 1632063041, 3093907864,\n",
       "        3559451510,  674145237, 1814407355, 1014349972, 3555722150,\n",
       "         960078786, 1729467363, 3513709320, 3713589110, 3572644734,\n",
       "        2819960411, 2142503989, 4143747021,  108175742,  394109467,\n",
       "        2935637387,  893835192, 2997262474,  546904487, 1312100116,\n",
       "        1626093325, 3787901757, 2249978458, 1894314510,  342590002,\n",
       "        2339211489,  799696979,  742361705, 1166762970, 3417274275,\n",
       "        4024674290,  363450584, 3085503735, 2874750837, 2666042209,\n",
       "        2886151601, 1162863577, 3649144237,  135481381,  532273928,\n",
       "        4017599822, 4283902092,  814779593, 2529801503, 3565834491,\n",
       "        2736711826, 1392656883, 2531464978, 2364320389, 3227099810,\n",
       "        1846572601, 3426677704,  399791778, 3991780374, 3939560966,\n",
       "        1854422894,  917495862, 2862530706, 2176530488], dtype=uint32),\n",
       " 7,\n",
       " 0,\n",
       " 0.0)"
      ]
     },
     "execution_count": 67,
     "metadata": {},
     "output_type": "execute_result"
    }
   ],
   "source": [
    "np.random.get_state()"
   ]
  },
  {
   "cell_type": "code",
   "execution_count": 72,
   "id": "ba72be20",
   "metadata": {
    "ExecuteTime": {
     "end_time": "2022-08-25T09:56:44.982264Z",
     "start_time": "2022-08-25T09:56:37.507854Z"
    },
    "scrolled": true
   },
   "outputs": [
    {
     "name": "stdout",
     "output_type": "stream",
     "text": [
      "Looking in indexes: https://nexus.nonprod.dwpcloud.uk/repository/pypi/simple\n",
      "Collecting facets-overview\n",
      "  Downloading https://nexus.nonprod.dwpcloud.uk/repository/pypi/packages/facets-overview/1.0.0/facets_overview-1.0.0-py2.py3-none-any.whl (24 kB)\n",
      "Collecting protobuf>=3.7.0\n",
      "  Downloading https://nexus.nonprod.dwpcloud.uk/repository/pypi/packages/protobuf/4.21.5/protobuf-4.21.5-cp37-abi3-macosx_10_9_universal2.whl (484 kB)\n",
      "\u001b[2K     \u001b[90m━━━━━━━━━━━━━━━━━━━━━━━━━━━━━━━━━━━━━\u001b[0m \u001b[32m484.0/484.0 kB\u001b[0m \u001b[31m597.1 kB/s\u001b[0m eta \u001b[36m0:00:00\u001b[0m00:01\u001b[0m00:01\u001b[0m\n",
      "\u001b[?25hRequirement already satisfied: numpy>=1.16.0 in /opt/anaconda3/envs/test/lib/python3.10/site-packages (from facets-overview) (1.23.1)\n",
      "Requirement already satisfied: pandas>=0.22.0 in /opt/anaconda3/envs/test/lib/python3.10/site-packages (from facets-overview) (1.4.3)\n",
      "Requirement already satisfied: python-dateutil>=2.8.1 in /opt/anaconda3/envs/test/lib/python3.10/site-packages (from pandas>=0.22.0->facets-overview) (2.8.2)\n",
      "Requirement already satisfied: pytz>=2020.1 in /opt/anaconda3/envs/test/lib/python3.10/site-packages (from pandas>=0.22.0->facets-overview) (2022.1)\n",
      "Requirement already satisfied: six>=1.5 in /opt/anaconda3/envs/test/lib/python3.10/site-packages (from python-dateutil>=2.8.1->pandas>=0.22.0->facets-overview) (1.16.0)\n",
      "Installing collected packages: protobuf, facets-overview\n",
      "Successfully installed facets-overview-1.0.0 protobuf-4.21.5\n"
     ]
    }
   ],
   "source": [
    "!pip install facets-overview"
   ]
  },
  {
   "cell_type": "code",
   "execution_count": 4,
   "id": "18a4977d",
   "metadata": {
    "ExecuteTime": {
     "end_time": "2022-08-25T15:57:45.486655Z",
     "start_time": "2022-08-25T15:57:45.482273Z"
    }
   },
   "outputs": [
    {
     "data": {
      "text/plain": [
       "array([[3, 4, 5],\n",
       "       [0, 1, 2],\n",
       "       [6, 7, 8]])"
      ]
     },
     "execution_count": 4,
     "metadata": {},
     "output_type": "execute_result"
    }
   ],
   "source": [
    "arr = np.arange(9).reshape((3, 3))\n",
    "np.random.permutation(arr)"
   ]
  },
  {
   "cell_type": "code",
   "execution_count": 9,
   "id": "3ac051bd",
   "metadata": {
    "ExecuteTime": {
     "end_time": "2022-08-26T09:15:02.370351Z",
     "start_time": "2022-08-26T09:15:02.368014Z"
    }
   },
   "outputs": [],
   "source": [
    "from sklearn import linear_model"
   ]
  },
  {
   "cell_type": "code",
   "execution_count": 10,
   "id": "d54be704",
   "metadata": {
    "ExecuteTime": {
     "end_time": "2022-08-26T09:15:05.733120Z",
     "start_time": "2022-08-26T09:15:05.678595Z"
    }
   },
   "outputs": [],
   "source": [
    "linear_model.ElasticNet?"
   ]
  },
  {
   "cell_type": "code",
   "execution_count": 11,
   "id": "e00691b6",
   "metadata": {
    "ExecuteTime": {
     "end_time": "2022-08-26T15:25:44.339164Z",
     "start_time": "2022-08-26T15:25:37.602598Z"
    }
   },
   "outputs": [
    {
     "name": "stdout",
     "output_type": "stream",
     "text": [
      "Looking in indexes: https://nexus.nonprod.dwpcloud.uk/repository/pypi/simple\n",
      "Collecting xgboost\n",
      "  Downloading https://nexus.nonprod.dwpcloud.uk/repository/pypi/packages/xgboost/1.6.2/xgboost-1.6.2-py3-none-macosx_10_15_x86_64.macosx_11_0_x86_64.macosx_12_0_x86_64.whl (1.7 MB)\n",
      "\u001b[2K     \u001b[90m━━━━━━━━━━━━━━━━━━━━━━━━━━━━━━━━━━━━━━━━\u001b[0m \u001b[32m1.7/1.7 MB\u001b[0m \u001b[31m561.8 kB/s\u001b[0m eta \u001b[36m0:00:00\u001b[0m00:01\u001b[0m00:01\u001b[0m\n",
      "\u001b[?25hRequirement already satisfied: numpy in /opt/anaconda3/envs/test/lib/python3.7/site-packages (from xgboost) (1.21.5)\n",
      "Requirement already satisfied: scipy in /opt/anaconda3/envs/test/lib/python3.7/site-packages (from xgboost) (1.7.3)\n",
      "Installing collected packages: xgboost\n",
      "Successfully installed xgboost-1.6.2\n"
     ]
    }
   ],
   "source": [
    "!pip install xgboost\n"
   ]
  },
  {
   "cell_type": "code",
   "execution_count": 26,
   "id": "3ab5ddf9",
   "metadata": {
    "ExecuteTime": {
     "end_time": "2022-08-26T15:49:12.621205Z",
     "start_time": "2022-08-26T15:49:12.499398Z"
    },
    "scrolled": true
   },
   "outputs": [
    {
     "data": {
      "text/html": [
       "<div>\n",
       "<style scoped>\n",
       "    .dataframe tbody tr th:only-of-type {\n",
       "        vertical-align: middle;\n",
       "    }\n",
       "\n",
       "    .dataframe tbody tr th {\n",
       "        vertical-align: top;\n",
       "    }\n",
       "\n",
       "    .dataframe thead th {\n",
       "        text-align: right;\n",
       "    }\n",
       "</style>\n",
       "<table border=\"1\" class=\"dataframe\">\n",
       "  <thead>\n",
       "    <tr style=\"text-align: right;\">\n",
       "      <th></th>\n",
       "      <th>pclass</th>\n",
       "      <th>name</th>\n",
       "      <th>sex</th>\n",
       "      <th>age</th>\n",
       "      <th>sibsp</th>\n",
       "      <th>parch</th>\n",
       "      <th>ticket</th>\n",
       "      <th>fare</th>\n",
       "      <th>cabin</th>\n",
       "      <th>embarked</th>\n",
       "      <th>boat</th>\n",
       "      <th>body</th>\n",
       "      <th>home.dest</th>\n",
       "      <th>survived</th>\n",
       "    </tr>\n",
       "  </thead>\n",
       "  <tbody>\n",
       "    <tr>\n",
       "      <th>0</th>\n",
       "      <td>1.0</td>\n",
       "      <td>Allen, Miss. Elisabeth Walton</td>\n",
       "      <td>female</td>\n",
       "      <td>29.0000</td>\n",
       "      <td>0.0</td>\n",
       "      <td>0.0</td>\n",
       "      <td>24160</td>\n",
       "      <td>211.3375</td>\n",
       "      <td>B5</td>\n",
       "      <td>S</td>\n",
       "      <td>2</td>\n",
       "      <td>NaN</td>\n",
       "      <td>St Louis, MO</td>\n",
       "      <td>1</td>\n",
       "    </tr>\n",
       "    <tr>\n",
       "      <th>1</th>\n",
       "      <td>1.0</td>\n",
       "      <td>Allison, Master. Hudson Trevor</td>\n",
       "      <td>male</td>\n",
       "      <td>0.9167</td>\n",
       "      <td>1.0</td>\n",
       "      <td>2.0</td>\n",
       "      <td>113781</td>\n",
       "      <td>151.5500</td>\n",
       "      <td>C22 C26</td>\n",
       "      <td>S</td>\n",
       "      <td>11</td>\n",
       "      <td>NaN</td>\n",
       "      <td>Montreal, PQ / Chesterville, ON</td>\n",
       "      <td>1</td>\n",
       "    </tr>\n",
       "    <tr>\n",
       "      <th>2</th>\n",
       "      <td>1.0</td>\n",
       "      <td>Allison, Miss. Helen Loraine</td>\n",
       "      <td>female</td>\n",
       "      <td>2.0000</td>\n",
       "      <td>1.0</td>\n",
       "      <td>2.0</td>\n",
       "      <td>113781</td>\n",
       "      <td>151.5500</td>\n",
       "      <td>C22 C26</td>\n",
       "      <td>S</td>\n",
       "      <td>None</td>\n",
       "      <td>NaN</td>\n",
       "      <td>Montreal, PQ / Chesterville, ON</td>\n",
       "      <td>0</td>\n",
       "    </tr>\n",
       "    <tr>\n",
       "      <th>3</th>\n",
       "      <td>1.0</td>\n",
       "      <td>Allison, Mr. Hudson Joshua Creighton</td>\n",
       "      <td>male</td>\n",
       "      <td>30.0000</td>\n",
       "      <td>1.0</td>\n",
       "      <td>2.0</td>\n",
       "      <td>113781</td>\n",
       "      <td>151.5500</td>\n",
       "      <td>C22 C26</td>\n",
       "      <td>S</td>\n",
       "      <td>None</td>\n",
       "      <td>135.0</td>\n",
       "      <td>Montreal, PQ / Chesterville, ON</td>\n",
       "      <td>0</td>\n",
       "    </tr>\n",
       "    <tr>\n",
       "      <th>4</th>\n",
       "      <td>1.0</td>\n",
       "      <td>Allison, Mrs. Hudson J C (Bessie Waldo Daniels)</td>\n",
       "      <td>female</td>\n",
       "      <td>25.0000</td>\n",
       "      <td>1.0</td>\n",
       "      <td>2.0</td>\n",
       "      <td>113781</td>\n",
       "      <td>151.5500</td>\n",
       "      <td>C22 C26</td>\n",
       "      <td>S</td>\n",
       "      <td>None</td>\n",
       "      <td>NaN</td>\n",
       "      <td>Montreal, PQ / Chesterville, ON</td>\n",
       "      <td>0</td>\n",
       "    </tr>\n",
       "    <tr>\n",
       "      <th>...</th>\n",
       "      <td>...</td>\n",
       "      <td>...</td>\n",
       "      <td>...</td>\n",
       "      <td>...</td>\n",
       "      <td>...</td>\n",
       "      <td>...</td>\n",
       "      <td>...</td>\n",
       "      <td>...</td>\n",
       "      <td>...</td>\n",
       "      <td>...</td>\n",
       "      <td>...</td>\n",
       "      <td>...</td>\n",
       "      <td>...</td>\n",
       "      <td>...</td>\n",
       "    </tr>\n",
       "    <tr>\n",
       "      <th>1304</th>\n",
       "      <td>3.0</td>\n",
       "      <td>Zabour, Miss. Hileni</td>\n",
       "      <td>female</td>\n",
       "      <td>14.5000</td>\n",
       "      <td>1.0</td>\n",
       "      <td>0.0</td>\n",
       "      <td>2665</td>\n",
       "      <td>14.4542</td>\n",
       "      <td>None</td>\n",
       "      <td>C</td>\n",
       "      <td>None</td>\n",
       "      <td>328.0</td>\n",
       "      <td>None</td>\n",
       "      <td>0</td>\n",
       "    </tr>\n",
       "    <tr>\n",
       "      <th>1305</th>\n",
       "      <td>3.0</td>\n",
       "      <td>Zabour, Miss. Thamine</td>\n",
       "      <td>female</td>\n",
       "      <td>NaN</td>\n",
       "      <td>1.0</td>\n",
       "      <td>0.0</td>\n",
       "      <td>2665</td>\n",
       "      <td>14.4542</td>\n",
       "      <td>None</td>\n",
       "      <td>C</td>\n",
       "      <td>None</td>\n",
       "      <td>NaN</td>\n",
       "      <td>None</td>\n",
       "      <td>0</td>\n",
       "    </tr>\n",
       "    <tr>\n",
       "      <th>1306</th>\n",
       "      <td>3.0</td>\n",
       "      <td>Zakarian, Mr. Mapriededer</td>\n",
       "      <td>male</td>\n",
       "      <td>26.5000</td>\n",
       "      <td>0.0</td>\n",
       "      <td>0.0</td>\n",
       "      <td>2656</td>\n",
       "      <td>7.2250</td>\n",
       "      <td>None</td>\n",
       "      <td>C</td>\n",
       "      <td>None</td>\n",
       "      <td>304.0</td>\n",
       "      <td>None</td>\n",
       "      <td>0</td>\n",
       "    </tr>\n",
       "    <tr>\n",
       "      <th>1307</th>\n",
       "      <td>3.0</td>\n",
       "      <td>Zakarian, Mr. Ortin</td>\n",
       "      <td>male</td>\n",
       "      <td>27.0000</td>\n",
       "      <td>0.0</td>\n",
       "      <td>0.0</td>\n",
       "      <td>2670</td>\n",
       "      <td>7.2250</td>\n",
       "      <td>None</td>\n",
       "      <td>C</td>\n",
       "      <td>None</td>\n",
       "      <td>NaN</td>\n",
       "      <td>None</td>\n",
       "      <td>0</td>\n",
       "    </tr>\n",
       "    <tr>\n",
       "      <th>1308</th>\n",
       "      <td>3.0</td>\n",
       "      <td>Zimmerman, Mr. Leo</td>\n",
       "      <td>male</td>\n",
       "      <td>29.0000</td>\n",
       "      <td>0.0</td>\n",
       "      <td>0.0</td>\n",
       "      <td>315082</td>\n",
       "      <td>7.8750</td>\n",
       "      <td>None</td>\n",
       "      <td>S</td>\n",
       "      <td>None</td>\n",
       "      <td>NaN</td>\n",
       "      <td>None</td>\n",
       "      <td>0</td>\n",
       "    </tr>\n",
       "  </tbody>\n",
       "</table>\n",
       "<p>1309 rows × 14 columns</p>\n",
       "</div>"
      ],
      "text/plain": [
       "      pclass                                             name     sex  \\\n",
       "0        1.0                    Allen, Miss. Elisabeth Walton  female   \n",
       "1        1.0                   Allison, Master. Hudson Trevor    male   \n",
       "2        1.0                     Allison, Miss. Helen Loraine  female   \n",
       "3        1.0             Allison, Mr. Hudson Joshua Creighton    male   \n",
       "4        1.0  Allison, Mrs. Hudson J C (Bessie Waldo Daniels)  female   \n",
       "...      ...                                              ...     ...   \n",
       "1304     3.0                             Zabour, Miss. Hileni  female   \n",
       "1305     3.0                            Zabour, Miss. Thamine  female   \n",
       "1306     3.0                        Zakarian, Mr. Mapriededer    male   \n",
       "1307     3.0                              Zakarian, Mr. Ortin    male   \n",
       "1308     3.0                               Zimmerman, Mr. Leo    male   \n",
       "\n",
       "          age  sibsp  parch  ticket      fare    cabin embarked  boat   body  \\\n",
       "0     29.0000    0.0    0.0   24160  211.3375       B5        S     2    NaN   \n",
       "1      0.9167    1.0    2.0  113781  151.5500  C22 C26        S    11    NaN   \n",
       "2      2.0000    1.0    2.0  113781  151.5500  C22 C26        S  None    NaN   \n",
       "3     30.0000    1.0    2.0  113781  151.5500  C22 C26        S  None  135.0   \n",
       "4     25.0000    1.0    2.0  113781  151.5500  C22 C26        S  None    NaN   \n",
       "...       ...    ...    ...     ...       ...      ...      ...   ...    ...   \n",
       "1304  14.5000    1.0    0.0    2665   14.4542     None        C  None  328.0   \n",
       "1305      NaN    1.0    0.0    2665   14.4542     None        C  None    NaN   \n",
       "1306  26.5000    0.0    0.0    2656    7.2250     None        C  None  304.0   \n",
       "1307  27.0000    0.0    0.0    2670    7.2250     None        C  None    NaN   \n",
       "1308  29.0000    0.0    0.0  315082    7.8750     None        S  None    NaN   \n",
       "\n",
       "                            home.dest survived  \n",
       "0                        St Louis, MO        1  \n",
       "1     Montreal, PQ / Chesterville, ON        1  \n",
       "2     Montreal, PQ / Chesterville, ON        0  \n",
       "3     Montreal, PQ / Chesterville, ON        0  \n",
       "4     Montreal, PQ / Chesterville, ON        0  \n",
       "...                               ...      ...  \n",
       "1304                             None        0  \n",
       "1305                             None        0  \n",
       "1306                             None        0  \n",
       "1307                             None        0  \n",
       "1308                             None        0  \n",
       "\n",
       "[1309 rows x 14 columns]"
      ]
     },
     "metadata": {},
     "output_type": "display_data"
    },
    {
     "ename": "ValueError",
     "evalue": "could not convert string to float: 'D'",
     "output_type": "error",
     "traceback": [
      "\u001b[0;31m---------------------------------------------------------------------------\u001b[0m",
      "\u001b[0;31mValueError\u001b[0m                                Traceback (most recent call last)",
      "\u001b[0;32m<ipython-input-26-2ad718b836ba>\u001b[0m in \u001b[0;36m<module>\u001b[0;34m\u001b[0m\n\u001b[1;32m     62\u001b[0m \u001b[0;34m\u001b[0m\u001b[0m\n\u001b[1;32m     63\u001b[0m \u001b[0mlr\u001b[0m \u001b[0;34m=\u001b[0m \u001b[0mLogisticRegression\u001b[0m\u001b[0;34m(\u001b[0m\u001b[0;34m)\u001b[0m\u001b[0;34m\u001b[0m\u001b[0;34m\u001b[0m\u001b[0m\n\u001b[0;32m---> 64\u001b[0;31m \u001b[0mlr\u001b[0m\u001b[0;34m.\u001b[0m\u001b[0mfit\u001b[0m\u001b[0;34m(\u001b[0m\u001b[0mX_train\u001b[0m\u001b[0;34m,\u001b[0m\u001b[0my_train\u001b[0m\u001b[0;34m)\u001b[0m\u001b[0;34m\u001b[0m\u001b[0;34m\u001b[0m\u001b[0m\n\u001b[0m\u001b[1;32m     65\u001b[0m \u001b[0;34m\u001b[0m\u001b[0m\n\u001b[1;32m     66\u001b[0m \u001b[0my_predict_lr\u001b[0m \u001b[0;34m=\u001b[0m \u001b[0mlr\u001b[0m\u001b[0;34m.\u001b[0m\u001b[0mpredict\u001b[0m\u001b[0;34m(\u001b[0m\u001b[0mX_test\u001b[0m\u001b[0;34m)\u001b[0m\u001b[0;34m\u001b[0m\u001b[0;34m\u001b[0m\u001b[0m\n",
      "\u001b[0;32m/opt/anaconda3/envs/test/lib/python3.7/site-packages/sklearn/linear_model/_logistic.py\u001b[0m in \u001b[0;36mfit\u001b[0;34m(self, X, y, sample_weight)\u001b[0m\n\u001b[1;32m   1512\u001b[0m             \u001b[0mdtype\u001b[0m\u001b[0;34m=\u001b[0m\u001b[0m_dtype\u001b[0m\u001b[0;34m,\u001b[0m\u001b[0;34m\u001b[0m\u001b[0;34m\u001b[0m\u001b[0m\n\u001b[1;32m   1513\u001b[0m             \u001b[0morder\u001b[0m\u001b[0;34m=\u001b[0m\u001b[0;34m\"C\"\u001b[0m\u001b[0;34m,\u001b[0m\u001b[0;34m\u001b[0m\u001b[0;34m\u001b[0m\u001b[0m\n\u001b[0;32m-> 1514\u001b[0;31m             \u001b[0maccept_large_sparse\u001b[0m\u001b[0;34m=\u001b[0m\u001b[0msolver\u001b[0m \u001b[0;32mnot\u001b[0m \u001b[0;32min\u001b[0m \u001b[0;34m[\u001b[0m\u001b[0;34m\"liblinear\"\u001b[0m\u001b[0;34m,\u001b[0m \u001b[0;34m\"sag\"\u001b[0m\u001b[0;34m,\u001b[0m \u001b[0;34m\"saga\"\u001b[0m\u001b[0;34m]\u001b[0m\u001b[0;34m,\u001b[0m\u001b[0;34m\u001b[0m\u001b[0;34m\u001b[0m\u001b[0m\n\u001b[0m\u001b[1;32m   1515\u001b[0m         )\n\u001b[1;32m   1516\u001b[0m         \u001b[0mcheck_classification_targets\u001b[0m\u001b[0;34m(\u001b[0m\u001b[0my\u001b[0m\u001b[0;34m)\u001b[0m\u001b[0;34m\u001b[0m\u001b[0;34m\u001b[0m\u001b[0m\n",
      "\u001b[0;32m/opt/anaconda3/envs/test/lib/python3.7/site-packages/sklearn/base.py\u001b[0m in \u001b[0;36m_validate_data\u001b[0;34m(self, X, y, reset, validate_separately, **check_params)\u001b[0m\n\u001b[1;32m    579\u001b[0m                 \u001b[0my\u001b[0m \u001b[0;34m=\u001b[0m \u001b[0mcheck_array\u001b[0m\u001b[0;34m(\u001b[0m\u001b[0my\u001b[0m\u001b[0;34m,\u001b[0m \u001b[0;34m**\u001b[0m\u001b[0mcheck_y_params\u001b[0m\u001b[0;34m)\u001b[0m\u001b[0;34m\u001b[0m\u001b[0;34m\u001b[0m\u001b[0m\n\u001b[1;32m    580\u001b[0m             \u001b[0;32melse\u001b[0m\u001b[0;34m:\u001b[0m\u001b[0;34m\u001b[0m\u001b[0;34m\u001b[0m\u001b[0m\n\u001b[0;32m--> 581\u001b[0;31m                 \u001b[0mX\u001b[0m\u001b[0;34m,\u001b[0m \u001b[0my\u001b[0m \u001b[0;34m=\u001b[0m \u001b[0mcheck_X_y\u001b[0m\u001b[0;34m(\u001b[0m\u001b[0mX\u001b[0m\u001b[0;34m,\u001b[0m \u001b[0my\u001b[0m\u001b[0;34m,\u001b[0m \u001b[0;34m**\u001b[0m\u001b[0mcheck_params\u001b[0m\u001b[0;34m)\u001b[0m\u001b[0;34m\u001b[0m\u001b[0;34m\u001b[0m\u001b[0m\n\u001b[0m\u001b[1;32m    582\u001b[0m             \u001b[0mout\u001b[0m \u001b[0;34m=\u001b[0m \u001b[0mX\u001b[0m\u001b[0;34m,\u001b[0m \u001b[0my\u001b[0m\u001b[0;34m\u001b[0m\u001b[0;34m\u001b[0m\u001b[0m\n\u001b[1;32m    583\u001b[0m \u001b[0;34m\u001b[0m\u001b[0m\n",
      "\u001b[0;32m/opt/anaconda3/envs/test/lib/python3.7/site-packages/sklearn/utils/validation.py\u001b[0m in \u001b[0;36mcheck_X_y\u001b[0;34m(X, y, accept_sparse, accept_large_sparse, dtype, order, copy, force_all_finite, ensure_2d, allow_nd, multi_output, ensure_min_samples, ensure_min_features, y_numeric, estimator)\u001b[0m\n\u001b[1;32m    974\u001b[0m         \u001b[0mensure_min_samples\u001b[0m\u001b[0;34m=\u001b[0m\u001b[0mensure_min_samples\u001b[0m\u001b[0;34m,\u001b[0m\u001b[0;34m\u001b[0m\u001b[0;34m\u001b[0m\u001b[0m\n\u001b[1;32m    975\u001b[0m         \u001b[0mensure_min_features\u001b[0m\u001b[0;34m=\u001b[0m\u001b[0mensure_min_features\u001b[0m\u001b[0;34m,\u001b[0m\u001b[0;34m\u001b[0m\u001b[0;34m\u001b[0m\u001b[0m\n\u001b[0;32m--> 976\u001b[0;31m         \u001b[0mestimator\u001b[0m\u001b[0;34m=\u001b[0m\u001b[0mestimator\u001b[0m\u001b[0;34m,\u001b[0m\u001b[0;34m\u001b[0m\u001b[0;34m\u001b[0m\u001b[0m\n\u001b[0m\u001b[1;32m    977\u001b[0m     )\n\u001b[1;32m    978\u001b[0m \u001b[0;34m\u001b[0m\u001b[0m\n",
      "\u001b[0;32m/opt/anaconda3/envs/test/lib/python3.7/site-packages/sklearn/utils/validation.py\u001b[0m in \u001b[0;36mcheck_array\u001b[0;34m(array, accept_sparse, accept_large_sparse, dtype, order, copy, force_all_finite, ensure_2d, allow_nd, ensure_min_samples, ensure_min_features, estimator)\u001b[0m\n\u001b[1;32m    744\u001b[0m                     \u001b[0marray\u001b[0m \u001b[0;34m=\u001b[0m \u001b[0marray\u001b[0m\u001b[0;34m.\u001b[0m\u001b[0mastype\u001b[0m\u001b[0;34m(\u001b[0m\u001b[0mdtype\u001b[0m\u001b[0;34m,\u001b[0m \u001b[0mcasting\u001b[0m\u001b[0;34m=\u001b[0m\u001b[0;34m\"unsafe\"\u001b[0m\u001b[0;34m,\u001b[0m \u001b[0mcopy\u001b[0m\u001b[0;34m=\u001b[0m\u001b[0;32mFalse\u001b[0m\u001b[0;34m)\u001b[0m\u001b[0;34m\u001b[0m\u001b[0;34m\u001b[0m\u001b[0m\n\u001b[1;32m    745\u001b[0m                 \u001b[0;32melse\u001b[0m\u001b[0;34m:\u001b[0m\u001b[0;34m\u001b[0m\u001b[0;34m\u001b[0m\u001b[0m\n\u001b[0;32m--> 746\u001b[0;31m                     \u001b[0marray\u001b[0m \u001b[0;34m=\u001b[0m \u001b[0mnp\u001b[0m\u001b[0;34m.\u001b[0m\u001b[0masarray\u001b[0m\u001b[0;34m(\u001b[0m\u001b[0marray\u001b[0m\u001b[0;34m,\u001b[0m \u001b[0morder\u001b[0m\u001b[0;34m=\u001b[0m\u001b[0morder\u001b[0m\u001b[0;34m,\u001b[0m \u001b[0mdtype\u001b[0m\u001b[0;34m=\u001b[0m\u001b[0mdtype\u001b[0m\u001b[0;34m)\u001b[0m\u001b[0;34m\u001b[0m\u001b[0;34m\u001b[0m\u001b[0m\n\u001b[0m\u001b[1;32m    747\u001b[0m             \u001b[0;32mexcept\u001b[0m \u001b[0mComplexWarning\u001b[0m \u001b[0;32mas\u001b[0m \u001b[0mcomplex_warning\u001b[0m\u001b[0;34m:\u001b[0m\u001b[0;34m\u001b[0m\u001b[0;34m\u001b[0m\u001b[0m\n\u001b[1;32m    748\u001b[0m                 raise ValueError(\n",
      "\u001b[0;32m/opt/anaconda3/envs/test/lib/python3.7/site-packages/pandas/core/generic.py\u001b[0m in \u001b[0;36m__array__\u001b[0;34m(self, dtype)\u001b[0m\n\u001b[1;32m   1991\u001b[0m \u001b[0;34m\u001b[0m\u001b[0m\n\u001b[1;32m   1992\u001b[0m     \u001b[0;32mdef\u001b[0m \u001b[0m__array__\u001b[0m\u001b[0;34m(\u001b[0m\u001b[0mself\u001b[0m\u001b[0;34m,\u001b[0m \u001b[0mdtype\u001b[0m\u001b[0;34m:\u001b[0m \u001b[0mNpDtype\u001b[0m \u001b[0;34m|\u001b[0m \u001b[0;32mNone\u001b[0m \u001b[0;34m=\u001b[0m \u001b[0;32mNone\u001b[0m\u001b[0;34m)\u001b[0m \u001b[0;34m->\u001b[0m \u001b[0mnp\u001b[0m\u001b[0;34m.\u001b[0m\u001b[0mndarray\u001b[0m\u001b[0;34m:\u001b[0m\u001b[0;34m\u001b[0m\u001b[0;34m\u001b[0m\u001b[0m\n\u001b[0;32m-> 1993\u001b[0;31m         \u001b[0;32mreturn\u001b[0m \u001b[0mnp\u001b[0m\u001b[0;34m.\u001b[0m\u001b[0masarray\u001b[0m\u001b[0;34m(\u001b[0m\u001b[0mself\u001b[0m\u001b[0;34m.\u001b[0m\u001b[0m_values\u001b[0m\u001b[0;34m,\u001b[0m \u001b[0mdtype\u001b[0m\u001b[0;34m=\u001b[0m\u001b[0mdtype\u001b[0m\u001b[0;34m)\u001b[0m\u001b[0;34m\u001b[0m\u001b[0;34m\u001b[0m\u001b[0m\n\u001b[0m\u001b[1;32m   1994\u001b[0m \u001b[0;34m\u001b[0m\u001b[0m\n\u001b[1;32m   1995\u001b[0m     def __array_wrap__(\n",
      "\u001b[0;31mValueError\u001b[0m: could not convert string to float: 'D'"
     ]
    }
   ],
   "source": [
    "import ssl\n",
    "ssl._create_default_https_context = ssl._create_unverified_context\n",
    "#import libraries\n",
    "import pandas as pd\n",
    "import numpy as np \n",
    "from sklearn.ensemble import StackingClassifier, VotingClassifier , RandomForestClassifier\n",
    "from sklearn.metrics import f1_score\n",
    "\n",
    "\n",
    "from sklearn.datasets import fetch_openml\n",
    "\n",
    "\n",
    "#import dataset\n",
    "titanic = fetch_openml('titanic', version=1, as_frame=True)\n",
    "df = titanic['data']\n",
    "df['survived'] = titanic['target']\n",
    "X = df.drop('survived',axis=1)\n",
    "y = df['survived']\n",
    "\n",
    "data = pd.DataFrame(df)\n",
    "display(data)\n",
    "\n",
    "#train-test-split\n",
    "from sklearn.model_selection import train_test_split\n",
    "X_train,X_test,y_train,y_test = train_test_split(X,y,test_size=0.2,random_state=42)\n",
    "\n",
    "#data cleaning and prep\n",
    "\n",
    "def data_clean(df):\n",
    "    df = df.drop(['name','ticket','cabin'],axis=1)  #drop unnecessary columns\n",
    "    for col in df.select_dtypes(include=['number']):   #replace missing value with column mean\n",
    "        df[col].fillna(df[col].mean(),inplace=True) \n",
    "    for col in df.select_dtypes(include=['object']):\n",
    "        df[col].fillna(df[col].value_counts().index[0], inplace=True)  #replace missing value with column mode\n",
    "    return df\n",
    "\n",
    "X_train = data_clean(X_train)   \n",
    "X_test = data_clean(X_test)\n",
    "\n",
    "#data encoding\n",
    "from sklearn.preprocessing import LabelEncoder\n",
    "def data_encode(df):\n",
    "    le_sex = LabelEncoder()\n",
    "    le_embk = LabelEncoder()\n",
    "\n",
    "    df.sex = le_sex.fit_transform(df.sex)\n",
    "    df.embarked = le_embk.fit_transform(df.embarked)\n",
    "\n",
    "    return df, le_sex, le_embk\n",
    "X_train, le_sex, le_embk = data_encode(X_train)\n",
    "\n",
    "def test_encode(df, le_sex, le_embk):\n",
    "\n",
    "    df.sex = le_sex.transform(df.sex)\n",
    "    df.embarked = le_embk.transform(df.embarked)\n",
    "    return df\n",
    "\n",
    "X_test = test_encode(X_test, le_sex, le_embk)\n",
    "\n",
    "#Logistic Regression\n",
    "from sklearn.linear_model import LogisticRegression\n",
    "\n",
    "lr = LogisticRegression()\n",
    "lr.fit(X_train,y_train)\n",
    "\n",
    "y_predict_lr = lr.predict(X_test)\n",
    "score_lr = f1_score(y_test,y_predict_lr)\n",
    "\n",
    "print('The score using Logistic Regression is {}'.format(score_lr))\n",
    "\n",
    "#Nearest Neigbour\n",
    "from sklearn.neighbors import KNeighborsClassifier\n",
    "\n",
    "knn = KNeighborsClassifier(n_neighbors=3)\n",
    "knn.fit(X_train,y_train)\n",
    "\n",
    "y_predict_knn = knn.predict(X_test)\n",
    "score_knn = f1_score(y_test,y_predict_knn)\n",
    "\n",
    "print('The score using K Nearest Neigbours is {}'.format(score_knn))\n"
   ]
  },
  {
   "cell_type": "code",
   "execution_count": 31,
   "id": "d6bf6bb2",
   "metadata": {
    "ExecuteTime": {
     "end_time": "2022-08-30T17:07:33.877236Z",
     "start_time": "2022-08-30T17:07:26.415257Z"
    },
    "scrolled": true
   },
   "outputs": [
    {
     "name": "stdout",
     "output_type": "stream",
     "text": [
      "Looking in indexes: https://nexus.nonprod.dwpcloud.uk/repository/pypi/simple\n",
      "Collecting imblearn\n",
      "  Downloading https://nexus.nonprod.dwpcloud.uk/repository/pypi/packages/imblearn/0.0/imblearn-0.0-py2.py3-none-any.whl (1.9 kB)\n",
      "Collecting imbalanced-learn\n",
      "  Downloading https://nexus.nonprod.dwpcloud.uk/repository/pypi/packages/imbalanced-learn/0.9.1/imbalanced_learn-0.9.1-py3-none-any.whl (199 kB)\n",
      "\u001b[2K     \u001b[90m━━━━━━━━━━━━━━━━━━━━━━━━━━━━━━━━━━━━━\u001b[0m \u001b[32m199.3/199.3 kB\u001b[0m \u001b[31m278.7 kB/s\u001b[0m eta \u001b[36m0:00:00\u001b[0m00:01\u001b[0m00:01\u001b[0m\n",
      "\u001b[?25hRequirement already satisfied: numpy>=1.17.3 in /opt/anaconda3/envs/test/lib/python3.7/site-packages (from imbalanced-learn->imblearn) (1.21.5)\n",
      "Requirement already satisfied: threadpoolctl>=2.0.0 in /opt/anaconda3/envs/test/lib/python3.7/site-packages (from imbalanced-learn->imblearn) (2.2.0)\n",
      "Requirement already satisfied: scipy>=1.3.2 in /opt/anaconda3/envs/test/lib/python3.7/site-packages (from imbalanced-learn->imblearn) (1.7.3)\n",
      "  Downloading https://nexus.nonprod.dwpcloud.uk/repository/pypi/packages/imbalanced-learn/0.9.0/imbalanced_learn-0.9.0-py3-none-any.whl (199 kB)\n",
      "\u001b[2K     \u001b[90m━━━━━━━━━━━━━━━━━━━━━━━━━━━━━━━━━━━━━\u001b[0m \u001b[32m199.1/199.1 kB\u001b[0m \u001b[31m380.6 kB/s\u001b[0m eta \u001b[36m0:00:00\u001b[0ma \u001b[36m0:00:01\u001b[0m\n",
      "\u001b[?25hRequirement already satisfied: joblib>=0.11 in /opt/anaconda3/envs/test/lib/python3.7/site-packages (from imbalanced-learn->imblearn) (1.1.0)\n",
      "Requirement already satisfied: scikit-learn>=1.0.1 in /opt/anaconda3/envs/test/lib/python3.7/site-packages (from imbalanced-learn->imblearn) (1.0.2)\n",
      "Installing collected packages: imbalanced-learn, imblearn\n",
      "Successfully installed imbalanced-learn-0.9.0 imblearn-0.0\n"
     ]
    }
   ],
   "source": [
    "!export REQUESTS_CA_BUNDLE=/Users/dominic.mckean/Documents/certificate.pem\n",
    "!pip install imblearn\n"
   ]
  },
  {
   "cell_type": "code",
   "execution_count": 34,
   "id": "6aa98512",
   "metadata": {
    "ExecuteTime": {
     "end_time": "2022-08-31T08:26:47.692467Z",
     "start_time": "2022-08-31T08:24:47.133019Z"
    },
    "scrolled": true
   },
   "outputs": [
    {
     "name": "stdout",
     "output_type": "stream",
     "text": [
      "Looking in indexes: https://nexus.nonprod.dwpcloud.uk/repository/pypi/simple\n",
      "Collecting torch\n",
      "  Downloading https://nexus.nonprod.dwpcloud.uk/repository/pypi/packages/torch/1.12.1/torch-1.12.1-cp37-none-macosx_10_9_x86_64.whl (137.7 MB)\n",
      "\u001b[2K     \u001b[90m━━━━━━━━━━━━━━━━━━━━━━━━━━━━━━━━━━━━━━━\u001b[0m \u001b[32m137.7/137.7 MB\u001b[0m \u001b[31m1.5 MB/s\u001b[0m eta \u001b[36m0:00:00\u001b[0m00:01\u001b[0m00:03\u001b[0m\n",
      "\u001b[?25hCollecting torchvision\n",
      "  Downloading https://nexus.nonprod.dwpcloud.uk/repository/pypi/packages/torchvision/0.13.1/torchvision-0.13.1-cp37-cp37m-macosx_10_9_x86_64.whl (1.3 MB)\n",
      "\u001b[2K     \u001b[90m━━━━━━━━━━━━━━━━━━━━━━━━━━━━━━━━━━━━━━━━\u001b[0m \u001b[32m1.3/1.3 MB\u001b[0m \u001b[31m1.2 MB/s\u001b[0m eta \u001b[36m0:00:00\u001b[0m00:01\u001b[0m00:01\u001b[0m\n",
      "\u001b[?25hRequirement already satisfied: typing-extensions in /opt/anaconda3/envs/test/lib/python3.7/site-packages (from torch) (4.3.0)\n",
      "Requirement already satisfied: requests in /opt/anaconda3/envs/test/lib/python3.7/site-packages (from torchvision) (2.28.1)\n",
      "Requirement already satisfied: pillow!=8.3.*,>=5.3.0 in /opt/anaconda3/envs/test/lib/python3.7/site-packages (from torchvision) (9.2.0)\n",
      "Requirement already satisfied: numpy in /opt/anaconda3/envs/test/lib/python3.7/site-packages (from torchvision) (1.21.5)\n",
      "Requirement already satisfied: charset-normalizer<3,>=2 in /opt/anaconda3/envs/test/lib/python3.7/site-packages (from requests->torchvision) (2.0.4)\n",
      "Requirement already satisfied: urllib3<1.27,>=1.21.1 in /opt/anaconda3/envs/test/lib/python3.7/site-packages (from requests->torchvision) (1.26.12)\n",
      "Requirement already satisfied: certifi>=2017.4.17 in /opt/anaconda3/envs/test/lib/python3.7/site-packages (from requests->torchvision) (2022.6.15)\n",
      "Requirement already satisfied: idna<4,>=2.5 in /opt/anaconda3/envs/test/lib/python3.7/site-packages (from requests->torchvision) (3.3)\n",
      "Installing collected packages: torch, torchvision\n",
      "Successfully installed torch-1.12.1 torchvision-0.13.1\n"
     ]
    }
   ],
   "source": [
    "!pip3 install torch torchvision\n",
    "\n"
   ]
  },
  {
   "cell_type": "code",
   "execution_count": 40,
   "id": "ec3e005b",
   "metadata": {
    "ExecuteTime": {
     "end_time": "2022-08-31T08:34:03.208740Z",
     "start_time": "2022-08-31T08:34:03.201029Z"
    },
    "scrolled": false
   },
   "outputs": [
    {
     "name": "stdout",
     "output_type": "stream",
     "text": [
      "torch.Size([7, 5, 3, 2])\n",
      "tensor([[[[0.1614, 0.5736],\n",
      "          [0.8854, 0.1298],\n",
      "          [0.8844, 0.7234]],\n",
      "\n",
      "         [[0.9433, 0.6956],\n",
      "          [0.4593, 0.0716],\n",
      "          [0.5729, 0.0717]],\n",
      "\n",
      "         [[0.1251, 0.2693],\n",
      "          [0.4546, 0.4478],\n",
      "          [0.5538, 0.2103]],\n",
      "\n",
      "         [[0.3669, 0.3839],\n",
      "          [0.7246, 0.6143],\n",
      "          [0.7492, 0.8674]],\n",
      "\n",
      "         [[0.5207, 0.4959],\n",
      "          [0.5406, 0.0725],\n",
      "          [0.3991, 0.5128]]],\n",
      "\n",
      "\n",
      "        [[[0.6820, 0.7833],\n",
      "          [0.8283, 0.4287],\n",
      "          [0.6263, 0.6227]],\n",
      "\n",
      "         [[0.1124, 0.0047],\n",
      "          [0.5275, 0.7851],\n",
      "          [0.4294, 0.7187]],\n",
      "\n",
      "         [[0.6545, 0.7786],\n",
      "          [0.6302, 0.7228],\n",
      "          [0.4855, 0.8189]],\n",
      "\n",
      "         [[0.2716, 0.1792],\n",
      "          [0.0511, 0.2016],\n",
      "          [0.0832, 0.9649]],\n",
      "\n",
      "         [[0.6301, 0.3302],\n",
      "          [0.6274, 0.7299],\n",
      "          [0.1099, 0.9487]]],\n",
      "\n",
      "\n",
      "        [[[0.1993, 0.7573],\n",
      "          [0.0179, 0.0891],\n",
      "          [0.4513, 0.6652]],\n",
      "\n",
      "         [[0.4344, 0.6907],\n",
      "          [0.8393, 0.1672],\n",
      "          [0.6785, 0.3891]],\n",
      "\n",
      "         [[0.8049, 0.0523],\n",
      "          [0.2391, 0.7037],\n",
      "          [0.2568, 0.3316]],\n",
      "\n",
      "         [[0.2108, 0.6280],\n",
      "          [0.4563, 0.9697],\n",
      "          [0.0587, 0.4195]],\n",
      "\n",
      "         [[0.1086, 0.7700],\n",
      "          [0.8745, 0.3696],\n",
      "          [0.8114, 0.2748]]],\n",
      "\n",
      "\n",
      "        [[[0.5919, 0.9425],\n",
      "          [0.4263, 0.5750],\n",
      "          [0.5369, 0.4770]],\n",
      "\n",
      "         [[0.4180, 0.5815],\n",
      "          [0.6525, 0.9673],\n",
      "          [0.7329, 0.6820]],\n",
      "\n",
      "         [[0.0914, 0.5744],\n",
      "          [0.0634, 0.8913],\n",
      "          [0.0796, 0.1076]],\n",
      "\n",
      "         [[0.7966, 0.2415],\n",
      "          [0.6445, 0.0407],\n",
      "          [0.6331, 0.3470]],\n",
      "\n",
      "         [[0.4724, 0.9047],\n",
      "          [0.6785, 0.5309],\n",
      "          [0.4824, 0.5569]]],\n",
      "\n",
      "\n",
      "        [[[0.9129, 0.5107],\n",
      "          [0.8472, 0.6828],\n",
      "          [0.2690, 0.7076]],\n",
      "\n",
      "         [[0.3978, 0.0705],\n",
      "          [0.9741, 0.0499],\n",
      "          [0.2030, 0.1218]],\n",
      "\n",
      "         [[0.6000, 0.2687],\n",
      "          [0.6137, 0.1146],\n",
      "          [0.1286, 0.8028]],\n",
      "\n",
      "         [[0.9352, 0.3178],\n",
      "          [0.8233, 0.5614],\n",
      "          [0.6744, 0.4404]],\n",
      "\n",
      "         [[0.1920, 0.9655],\n",
      "          [0.4189, 0.0425],\n",
      "          [0.3538, 0.5239]]],\n",
      "\n",
      "\n",
      "        [[[0.4708, 0.8533],\n",
      "          [0.8926, 0.9471],\n",
      "          [0.1384, 0.2166]],\n",
      "\n",
      "         [[0.2033, 0.0864],\n",
      "          [0.0557, 0.4307],\n",
      "          [0.9591, 0.4891]],\n",
      "\n",
      "         [[0.8277, 0.6502],\n",
      "          [0.9389, 0.8980],\n",
      "          [0.6603, 0.7992]],\n",
      "\n",
      "         [[0.3945, 0.4247],\n",
      "          [0.1590, 0.8950],\n",
      "          [0.6716, 0.3065]],\n",
      "\n",
      "         [[0.4842, 0.1305],\n",
      "          [0.4658, 0.5113],\n",
      "          [0.0221, 0.7281]]],\n",
      "\n",
      "\n",
      "        [[[0.9980, 0.4934],\n",
      "          [0.5556, 0.3356],\n",
      "          [0.8061, 0.3020]],\n",
      "\n",
      "         [[0.7637, 0.0179],\n",
      "          [0.6425, 0.3482],\n",
      "          [0.2257, 0.4602]],\n",
      "\n",
      "         [[0.0666, 0.6058],\n",
      "          [0.9233, 0.1491],\n",
      "          [0.1977, 0.5267]],\n",
      "\n",
      "         [[0.4164, 0.9621],\n",
      "          [0.2432, 0.5637],\n",
      "          [0.0677, 0.8441]],\n",
      "\n",
      "         [[0.0648, 0.7482],\n",
      "          [0.8990, 0.3201],\n",
      "          [0.2439, 0.2431]]]])\n"
     ]
    }
   ],
   "source": [
    "import torch\n",
    "x = torch.rand(7, 5, 3, 2)\n",
    "print(x.shape)\n",
    "print(x)"
   ]
  },
  {
   "cell_type": "code",
   "execution_count": 65,
   "id": "95a96185",
   "metadata": {
    "ExecuteTime": {
     "end_time": "2022-09-04T22:56:56.034075Z",
     "start_time": "2022-09-04T22:56:56.030169Z"
    }
   },
   "outputs": [
    {
     "data": {
      "text/plain": [
       "<module 'sklearn.datasets' from '/opt/anaconda3/envs/test/lib/python3.7/site-packages/sklearn/datasets/__init__.py'>"
      ]
     },
     "execution_count": 65,
     "metadata": {},
     "output_type": "execute_result"
    }
   ],
   "source": [
    "datasets"
   ]
  },
  {
   "cell_type": "code",
   "execution_count": 63,
   "id": "f16347e6",
   "metadata": {
    "ExecuteTime": {
     "end_time": "2022-09-04T22:30:05.883463Z",
     "start_time": "2022-09-04T22:30:05.790922Z"
    },
    "scrolled": true
   },
   "outputs": [
    {
     "data": {
      "image/png": "[encoded data removed]",
      "text/plain": [
       "<Figure size 640x480 with 1 Axes>"
      ]
     },
     "metadata": {},
     "output_type": "display_data"
    }
   ],
   "source": [
    "# plot perfectly calibrated\n",
    "pyplot.plot([0, 1], [0, 1], linestyle='--', label='perfectly calibrated')\n",
    "plt.show()"
   ]
  },
  {
   "cell_type": "code",
   "execution_count": 85,
   "id": "9666f768",
   "metadata": {
    "ExecuteTime": {
     "end_time": "2022-09-05T14:52:34.334217Z",
     "start_time": "2022-09-05T14:52:34.305515Z"
    }
   },
   "outputs": [],
   "source": [
    "from sklearn.datasets import fetch_openml\n",
    "\n",
    "survey = fetch_openml(data_id=534, as_frame=True)"
   ]
  },
  {
   "cell_type": "code",
   "execution_count": 95,
   "id": "92eb64ec",
   "metadata": {
    "ExecuteTime": {
     "end_time": "2022-09-05T14:55:27.445255Z",
     "start_time": "2022-09-05T14:55:27.419911Z"
    }
   },
   "outputs": [
    {
     "data": {
      "text/html": [
       "<div>\n",
       "<style scoped>\n",
       "    .dataframe tbody tr th:only-of-type {\n",
       "        vertical-align: middle;\n",
       "    }\n",
       "\n",
       "    .dataframe tbody tr th {\n",
       "        vertical-align: top;\n",
       "    }\n",
       "\n",
       "    .dataframe thead th {\n",
       "        text-align: right;\n",
       "    }\n",
       "</style>\n",
       "<table border=\"1\" class=\"dataframe\">\n",
       "  <thead>\n",
       "    <tr style=\"text-align: right;\">\n",
       "      <th></th>\n",
       "      <th>EDUCATION</th>\n",
       "      <th>SOUTH</th>\n",
       "      <th>SEX</th>\n",
       "      <th>EXPERIENCE</th>\n",
       "      <th>UNION</th>\n",
       "      <th>AGE</th>\n",
       "      <th>RACE</th>\n",
       "      <th>OCCUPATION</th>\n",
       "      <th>SECTOR</th>\n",
       "      <th>MARR</th>\n",
       "    </tr>\n",
       "  </thead>\n",
       "  <tbody>\n",
       "    <tr>\n",
       "      <th>0</th>\n",
       "      <td>8.0</td>\n",
       "      <td>no</td>\n",
       "      <td>female</td>\n",
       "      <td>21.0</td>\n",
       "      <td>not_member</td>\n",
       "      <td>35.0</td>\n",
       "      <td>Hispanic</td>\n",
       "      <td>Other</td>\n",
       "      <td>Manufacturing</td>\n",
       "      <td>Married</td>\n",
       "    </tr>\n",
       "    <tr>\n",
       "      <th>1</th>\n",
       "      <td>9.0</td>\n",
       "      <td>no</td>\n",
       "      <td>female</td>\n",
       "      <td>42.0</td>\n",
       "      <td>not_member</td>\n",
       "      <td>57.0</td>\n",
       "      <td>White</td>\n",
       "      <td>Other</td>\n",
       "      <td>Manufacturing</td>\n",
       "      <td>Married</td>\n",
       "    </tr>\n",
       "    <tr>\n",
       "      <th>2</th>\n",
       "      <td>12.0</td>\n",
       "      <td>no</td>\n",
       "      <td>male</td>\n",
       "      <td>1.0</td>\n",
       "      <td>not_member</td>\n",
       "      <td>19.0</td>\n",
       "      <td>White</td>\n",
       "      <td>Other</td>\n",
       "      <td>Manufacturing</td>\n",
       "      <td>Unmarried</td>\n",
       "    </tr>\n",
       "    <tr>\n",
       "      <th>3</th>\n",
       "      <td>12.0</td>\n",
       "      <td>no</td>\n",
       "      <td>male</td>\n",
       "      <td>4.0</td>\n",
       "      <td>not_member</td>\n",
       "      <td>22.0</td>\n",
       "      <td>White</td>\n",
       "      <td>Other</td>\n",
       "      <td>Other</td>\n",
       "      <td>Unmarried</td>\n",
       "    </tr>\n",
       "    <tr>\n",
       "      <th>4</th>\n",
       "      <td>12.0</td>\n",
       "      <td>no</td>\n",
       "      <td>male</td>\n",
       "      <td>17.0</td>\n",
       "      <td>not_member</td>\n",
       "      <td>35.0</td>\n",
       "      <td>White</td>\n",
       "      <td>Other</td>\n",
       "      <td>Other</td>\n",
       "      <td>Married</td>\n",
       "    </tr>\n",
       "    <tr>\n",
       "      <th>...</th>\n",
       "      <td>...</td>\n",
       "      <td>...</td>\n",
       "      <td>...</td>\n",
       "      <td>...</td>\n",
       "      <td>...</td>\n",
       "      <td>...</td>\n",
       "      <td>...</td>\n",
       "      <td>...</td>\n",
       "      <td>...</td>\n",
       "      <td>...</td>\n",
       "    </tr>\n",
       "    <tr>\n",
       "      <th>529</th>\n",
       "      <td>18.0</td>\n",
       "      <td>no</td>\n",
       "      <td>male</td>\n",
       "      <td>5.0</td>\n",
       "      <td>not_member</td>\n",
       "      <td>29.0</td>\n",
       "      <td>White</td>\n",
       "      <td>Professional</td>\n",
       "      <td>Other</td>\n",
       "      <td>Unmarried</td>\n",
       "    </tr>\n",
       "    <tr>\n",
       "      <th>530</th>\n",
       "      <td>12.0</td>\n",
       "      <td>no</td>\n",
       "      <td>female</td>\n",
       "      <td>33.0</td>\n",
       "      <td>not_member</td>\n",
       "      <td>51.0</td>\n",
       "      <td>Other</td>\n",
       "      <td>Professional</td>\n",
       "      <td>Other</td>\n",
       "      <td>Married</td>\n",
       "    </tr>\n",
       "    <tr>\n",
       "      <th>531</th>\n",
       "      <td>17.0</td>\n",
       "      <td>no</td>\n",
       "      <td>female</td>\n",
       "      <td>25.0</td>\n",
       "      <td>member</td>\n",
       "      <td>48.0</td>\n",
       "      <td>Other</td>\n",
       "      <td>Professional</td>\n",
       "      <td>Other</td>\n",
       "      <td>Married</td>\n",
       "    </tr>\n",
       "    <tr>\n",
       "      <th>532</th>\n",
       "      <td>12.0</td>\n",
       "      <td>yes</td>\n",
       "      <td>male</td>\n",
       "      <td>13.0</td>\n",
       "      <td>member</td>\n",
       "      <td>31.0</td>\n",
       "      <td>White</td>\n",
       "      <td>Professional</td>\n",
       "      <td>Other</td>\n",
       "      <td>Married</td>\n",
       "    </tr>\n",
       "    <tr>\n",
       "      <th>533</th>\n",
       "      <td>16.0</td>\n",
       "      <td>no</td>\n",
       "      <td>male</td>\n",
       "      <td>33.0</td>\n",
       "      <td>not_member</td>\n",
       "      <td>55.0</td>\n",
       "      <td>White</td>\n",
       "      <td>Professional</td>\n",
       "      <td>Manufacturing</td>\n",
       "      <td>Married</td>\n",
       "    </tr>\n",
       "  </tbody>\n",
       "</table>\n",
       "<p>534 rows × 10 columns</p>\n",
       "</div>"
      ],
      "text/plain": [
       "     EDUCATION SOUTH     SEX  EXPERIENCE       UNION   AGE      RACE  \\\n",
       "0          8.0    no  female        21.0  not_member  35.0  Hispanic   \n",
       "1          9.0    no  female        42.0  not_member  57.0     White   \n",
       "2         12.0    no    male         1.0  not_member  19.0     White   \n",
       "3         12.0    no    male         4.0  not_member  22.0     White   \n",
       "4         12.0    no    male        17.0  not_member  35.0     White   \n",
       "..         ...   ...     ...         ...         ...   ...       ...   \n",
       "529       18.0    no    male         5.0  not_member  29.0     White   \n",
       "530       12.0    no  female        33.0  not_member  51.0     Other   \n",
       "531       17.0    no  female        25.0      member  48.0     Other   \n",
       "532       12.0   yes    male        13.0      member  31.0     White   \n",
       "533       16.0    no    male        33.0  not_member  55.0     White   \n",
       "\n",
       "       OCCUPATION         SECTOR       MARR  \n",
       "0           Other  Manufacturing    Married  \n",
       "1           Other  Manufacturing    Married  \n",
       "2           Other  Manufacturing  Unmarried  \n",
       "3           Other          Other  Unmarried  \n",
       "4           Other          Other    Married  \n",
       "..            ...            ...        ...  \n",
       "529  Professional          Other  Unmarried  \n",
       "530  Professional          Other    Married  \n",
       "531  Professional          Other    Married  \n",
       "532  Professional          Other    Married  \n",
       "533  Professional  Manufacturing    Married  \n",
       "\n",
       "[534 rows x 10 columns]"
      ]
     },
     "metadata": {},
     "output_type": "display_data"
    }
   ],
   "source": [
    "display(survey.data)"
   ]
  },
  {
   "cell_type": "code",
   "execution_count": 91,
   "id": "1527ce7f",
   "metadata": {
    "ExecuteTime": {
     "end_time": "2022-09-05T14:54:24.971401Z",
     "start_time": "2022-09-05T14:54:24.931582Z"
    },
    "scrolled": true
   },
   "outputs": [
    {
     "data": {
      "text/html": [
       "<div>\n",
       "<style scoped>\n",
       "    .dataframe tbody tr th:only-of-type {\n",
       "        vertical-align: middle;\n",
       "    }\n",
       "\n",
       "    .dataframe tbody tr th {\n",
       "        vertical-align: top;\n",
       "    }\n",
       "\n",
       "    .dataframe thead th {\n",
       "        text-align: right;\n",
       "    }\n",
       "</style>\n",
       "<table border=\"1\" class=\"dataframe\">\n",
       "  <thead>\n",
       "    <tr style=\"text-align: right;\">\n",
       "      <th></th>\n",
       "      <th>EDUCATION</th>\n",
       "      <th>SOUTH</th>\n",
       "      <th>SEX</th>\n",
       "      <th>EXPERIENCE</th>\n",
       "      <th>UNION</th>\n",
       "      <th>AGE</th>\n",
       "      <th>RACE</th>\n",
       "      <th>OCCUPATION</th>\n",
       "      <th>SECTOR</th>\n",
       "      <th>MARR</th>\n",
       "    </tr>\n",
       "  </thead>\n",
       "  <tbody>\n",
       "    <tr>\n",
       "      <th>count</th>\n",
       "      <td>534.000000</td>\n",
       "      <td>534</td>\n",
       "      <td>534</td>\n",
       "      <td>534.000000</td>\n",
       "      <td>534</td>\n",
       "      <td>534.000000</td>\n",
       "      <td>534</td>\n",
       "      <td>534</td>\n",
       "      <td>534</td>\n",
       "      <td>534</td>\n",
       "    </tr>\n",
       "    <tr>\n",
       "      <th>unique</th>\n",
       "      <td>NaN</td>\n",
       "      <td>2</td>\n",
       "      <td>2</td>\n",
       "      <td>NaN</td>\n",
       "      <td>2</td>\n",
       "      <td>NaN</td>\n",
       "      <td>3</td>\n",
       "      <td>6</td>\n",
       "      <td>3</td>\n",
       "      <td>2</td>\n",
       "    </tr>\n",
       "    <tr>\n",
       "      <th>top</th>\n",
       "      <td>NaN</td>\n",
       "      <td>no</td>\n",
       "      <td>male</td>\n",
       "      <td>NaN</td>\n",
       "      <td>not_member</td>\n",
       "      <td>NaN</td>\n",
       "      <td>White</td>\n",
       "      <td>Other</td>\n",
       "      <td>Other</td>\n",
       "      <td>Married</td>\n",
       "    </tr>\n",
       "    <tr>\n",
       "      <th>freq</th>\n",
       "      <td>NaN</td>\n",
       "      <td>378</td>\n",
       "      <td>289</td>\n",
       "      <td>NaN</td>\n",
       "      <td>438</td>\n",
       "      <td>NaN</td>\n",
       "      <td>440</td>\n",
       "      <td>156</td>\n",
       "      <td>411</td>\n",
       "      <td>350</td>\n",
       "    </tr>\n",
       "    <tr>\n",
       "      <th>mean</th>\n",
       "      <td>13.018727</td>\n",
       "      <td>NaN</td>\n",
       "      <td>NaN</td>\n",
       "      <td>17.822097</td>\n",
       "      <td>NaN</td>\n",
       "      <td>36.833333</td>\n",
       "      <td>NaN</td>\n",
       "      <td>NaN</td>\n",
       "      <td>NaN</td>\n",
       "      <td>NaN</td>\n",
       "    </tr>\n",
       "    <tr>\n",
       "      <th>std</th>\n",
       "      <td>2.615373</td>\n",
       "      <td>NaN</td>\n",
       "      <td>NaN</td>\n",
       "      <td>12.379710</td>\n",
       "      <td>NaN</td>\n",
       "      <td>11.726573</td>\n",
       "      <td>NaN</td>\n",
       "      <td>NaN</td>\n",
       "      <td>NaN</td>\n",
       "      <td>NaN</td>\n",
       "    </tr>\n",
       "    <tr>\n",
       "      <th>min</th>\n",
       "      <td>2.000000</td>\n",
       "      <td>NaN</td>\n",
       "      <td>NaN</td>\n",
       "      <td>0.000000</td>\n",
       "      <td>NaN</td>\n",
       "      <td>18.000000</td>\n",
       "      <td>NaN</td>\n",
       "      <td>NaN</td>\n",
       "      <td>NaN</td>\n",
       "      <td>NaN</td>\n",
       "    </tr>\n",
       "    <tr>\n",
       "      <th>25%</th>\n",
       "      <td>12.000000</td>\n",
       "      <td>NaN</td>\n",
       "      <td>NaN</td>\n",
       "      <td>8.000000</td>\n",
       "      <td>NaN</td>\n",
       "      <td>28.000000</td>\n",
       "      <td>NaN</td>\n",
       "      <td>NaN</td>\n",
       "      <td>NaN</td>\n",
       "      <td>NaN</td>\n",
       "    </tr>\n",
       "    <tr>\n",
       "      <th>50%</th>\n",
       "      <td>12.000000</td>\n",
       "      <td>NaN</td>\n",
       "      <td>NaN</td>\n",
       "      <td>15.000000</td>\n",
       "      <td>NaN</td>\n",
       "      <td>35.000000</td>\n",
       "      <td>NaN</td>\n",
       "      <td>NaN</td>\n",
       "      <td>NaN</td>\n",
       "      <td>NaN</td>\n",
       "    </tr>\n",
       "    <tr>\n",
       "      <th>75%</th>\n",
       "      <td>15.000000</td>\n",
       "      <td>NaN</td>\n",
       "      <td>NaN</td>\n",
       "      <td>26.000000</td>\n",
       "      <td>NaN</td>\n",
       "      <td>44.000000</td>\n",
       "      <td>NaN</td>\n",
       "      <td>NaN</td>\n",
       "      <td>NaN</td>\n",
       "      <td>NaN</td>\n",
       "    </tr>\n",
       "    <tr>\n",
       "      <th>max</th>\n",
       "      <td>18.000000</td>\n",
       "      <td>NaN</td>\n",
       "      <td>NaN</td>\n",
       "      <td>55.000000</td>\n",
       "      <td>NaN</td>\n",
       "      <td>64.000000</td>\n",
       "      <td>NaN</td>\n",
       "      <td>NaN</td>\n",
       "      <td>NaN</td>\n",
       "      <td>NaN</td>\n",
       "    </tr>\n",
       "  </tbody>\n",
       "</table>\n",
       "</div>"
      ],
      "text/plain": [
       "         EDUCATION SOUTH   SEX  EXPERIENCE       UNION         AGE   RACE  \\\n",
       "count   534.000000   534   534  534.000000         534  534.000000    534   \n",
       "unique         NaN     2     2         NaN           2         NaN      3   \n",
       "top            NaN    no  male         NaN  not_member         NaN  White   \n",
       "freq           NaN   378   289         NaN         438         NaN    440   \n",
       "mean     13.018727   NaN   NaN   17.822097         NaN   36.833333    NaN   \n",
       "std       2.615373   NaN   NaN   12.379710         NaN   11.726573    NaN   \n",
       "min       2.000000   NaN   NaN    0.000000         NaN   18.000000    NaN   \n",
       "25%      12.000000   NaN   NaN    8.000000         NaN   28.000000    NaN   \n",
       "50%      12.000000   NaN   NaN   15.000000         NaN   35.000000    NaN   \n",
       "75%      15.000000   NaN   NaN   26.000000         NaN   44.000000    NaN   \n",
       "max      18.000000   NaN   NaN   55.000000         NaN   64.000000    NaN   \n",
       "\n",
       "       OCCUPATION SECTOR     MARR  \n",
       "count         534    534      534  \n",
       "unique          6      3        2  \n",
       "top         Other  Other  Married  \n",
       "freq          156    411      350  \n",
       "mean          NaN    NaN      NaN  \n",
       "std           NaN    NaN      NaN  \n",
       "min           NaN    NaN      NaN  \n",
       "25%           NaN    NaN      NaN  \n",
       "50%           NaN    NaN      NaN  \n",
       "75%           NaN    NaN      NaN  \n",
       "max           NaN    NaN      NaN  "
      ]
     },
     "execution_count": 91,
     "metadata": {},
     "output_type": "execute_result"
    }
   ],
   "source": [
    "X = survey.data[survey.feature_names]\n",
    "X.describe(include=\"all\")"
   ]
  },
  {
   "cell_type": "code",
   "execution_count": 96,
   "id": "ce9948a6",
   "metadata": {
    "ExecuteTime": {
     "end_time": "2022-09-05T15:01:08.098768Z",
     "start_time": "2022-09-05T15:01:08.093660Z"
    },
    "scrolled": true
   },
   "outputs": [
    {
     "data": {
      "text/plain": [
       "0    5.10\n",
       "1    4.95\n",
       "2    6.67\n",
       "3    4.00\n",
       "4    7.50\n",
       "Name: WAGE, dtype: float64"
      ]
     },
     "execution_count": 96,
     "metadata": {},
     "output_type": "execute_result"
    }
   ],
   "source": [
    "y = survey.target.values.ravel()\n",
    "survey.target.head()"
   ]
  },
  {
   "cell_type": "code",
   "execution_count": 124,
   "id": "435e3f97",
   "metadata": {
    "ExecuteTime": {
     "end_time": "2022-09-09T08:47:01.486172Z",
     "start_time": "2022-09-09T08:46:50.138673Z"
    },
    "scrolled": true
   },
   "outputs": [
    {
     "name": "stdout",
     "output_type": "stream",
     "text": [
      "Mean=50.020, Standard Deviation=5.055\n"
     ]
    },
    {
     "data": {
      "image/png": "[encoded data removed]",
      "text/plain": [
       "<Figure size 640x480 with 1 Axes>"
      ]
     },
     "metadata": {},
     "output_type": "display_data"
    }
   ],
   "source": [
    "# example of parametric probability density estimation\n",
    "from matplotlib import pyplot\n",
    "from numpy.random import normal\n",
    "from numpy import mean\n",
    "from numpy import std\n",
    "from scipy.stats import norm\n",
    "# generate a sample\n",
    "sample = normal(loc=50, scale=5, size=10000)\n",
    "# calculate parameters\n",
    "sample_mean = mean(sample)\n",
    "sample_std = std(sample)\n",
    "print('Mean=%.3f, Standard Deviation=%.3f' % (sample_mean, sample_std))\n",
    "# define the distribution\n",
    "dist = norm(sample_mean, sample_std)\n",
    "# sample probabilities for a range of outcomes\n",
    "values = [value for value in range(30, 70)]\n",
    "probabilities = [dist.pdf(value) for value in values]\n",
    "# plot the histogram and pdf\n",
    "pyplot.hist(sample, bins=10000, density=True)\n",
    "pyplot.plot(values, probabilities)\n",
    "pyplot.show()"
   ]
  },
  {
   "cell_type": "code",
   "execution_count": 125,
   "id": "5e48d727",
   "metadata": {
    "ExecuteTime": {
     "end_time": "2022-09-09T09:20:00.264895Z",
     "start_time": "2022-09-09T09:20:00.103091Z"
    },
    "scrolled": true
   },
   "outputs": [
    {
     "data": {
      "image/png": "[encoded data removed]",
      "text/plain": [
       "<Figure size 640x480 with 1 Axes>"
      ]
     },
     "metadata": {},
     "output_type": "display_data"
    }
   ],
   "source": [
    "# example of a bimodal data sample\n",
    "from matplotlib import pyplot\n",
    "from numpy.random import normal\n",
    "from numpy import hstack\n",
    "# generate a sample\n",
    "sample1 = normal(loc=20, scale=5, size=300)\n",
    "sample2 = normal(loc=40, scale=5, size=700)\n",
    "sample = hstack((sample1, sample2))\n",
    "# plot the histogram\n",
    "pyplot.hist(sample, bins=50)\n",
    "pyplot.show()"
   ]
  },
  {
   "cell_type": "code",
   "execution_count": 126,
   "id": "3801954f",
   "metadata": {
    "ExecuteTime": {
     "end_time": "2022-09-09T09:59:18.661073Z",
     "start_time": "2022-09-09T09:59:18.473009Z"
    }
   },
   "outputs": [
    {
     "data": {
      "image/png": "[encoded data removed]",
      "text/plain": [
       "<Figure size 640x480 with 1 Axes>"
      ]
     },
     "metadata": {},
     "output_type": "display_data"
    }
   ],
   "source": [
    "# example of kernel density estimation for a bimodal data sample\n",
    "from matplotlib import pyplot\n",
    "from numpy.random import normal\n",
    "from numpy import hstack\n",
    "from numpy import asarray\n",
    "from numpy import exp\n",
    "from sklearn.neighbors import KernelDensity\n",
    "# generate a sample\n",
    "sample1 = normal(loc=20, scale=5, size=300)\n",
    "sample2 = normal(loc=40, scale=5, size=700)\n",
    "sample = hstack((sample1, sample2))\n",
    "# fit density\n",
    "model = KernelDensity(bandwidth=2, kernel='gaussian')\n",
    "sample = sample.reshape((len(sample), 1))\n",
    "model.fit(sample)\n",
    "# sample probabilities for a range of outcomes\n",
    "values = asarray([value for value in range(1, 60)])\n",
    "values = values.reshape((len(values), 1))\n",
    "probabilities = model.score_samples(values)\n",
    "probabilities = exp(probabilities)\n",
    "# plot the histogram and pdf\n",
    "pyplot.hist(sample, bins=50, density=True)\n",
    "pyplot.plot(values[:], probabilities)\n",
    "pyplot.show()"
   ]
  }
 ],
 "metadata": {
  "kernelspec": {
   "display_name": "Python 3",
   "language": "python",
   "name": "python3"
  },
  "language_info": {
   "codemirror_mode": {
    "name": "ipython",
    "version": 3
   },
   "file_extension": ".py",
   "mimetype": "text/x-python",
   "name": "python",
   "nbconvert_exporter": "python",
   "pygments_lexer": "ipython3",
   "version": "3.7.13"
  },
  "toc": {
   "base_numbering": 1,
   "nav_menu": {},
   "number_sections": true,
   "sideBar": true,
   "skip_h1_title": false,
   "title_cell": "Table of Contents",
   "title_sidebar": "Contents",
   "toc_cell": false,
   "toc_position": {},
   "toc_section_display": true,
   "toc_window_display": false
  },
  "varInspector": {
   "cols": {
    "lenName": 16,
    "lenType": 16,
    "lenVar": 40
   },
   "kernels_config": {
    "python": {
     "delete_cmd_postfix": "",
     "delete_cmd_prefix": "del ",
     "library": "var_list.py",
     "varRefreshCmd": "print(var_dic_list())"
    },
    "r": {
     "delete_cmd_postfix": ") ",
     "delete_cmd_prefix": "rm(",
     "library": "var_list.r",
     "varRefreshCmd": "cat(var_dic_list()) "
    }
   },
   "types_to_exclude": [
    "module",
    "function",
    "builtin_function_or_method",
    "instance",
    "_Feature"
   ],
   "window_display": false
  }
 },
 "nbformat": 4,
 "nbformat_minor": 5
}
