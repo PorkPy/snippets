{
 "cells": [
  {
   "cell_type": "code",
   "execution_count": 1,
   "id": "fd180039",
   "metadata": {
    "scrolled": true
   },
   "outputs": [
    {
     "name": "stdout",
     "output_type": "stream",
     "text": [
      "Pipeline name: ProcessRawData-28Jul\n",
      "Creation date: 2023-07-28 15:47:32.270000+00:00\n",
      "\n",
      "Pipeline name: ProcessRawData-28Jul2\n",
      "Creation date: 2023-07-28 15:38:51.622000+00:00\n",
      "\n",
      "Pipeline name: ProcessRawData-28Jul1\n",
      "Creation date: 2023-07-28 15:29:17.203000+00:00\n",
      "\n",
      "Pipeline name: ProcessRawData-27Jul8\n",
      "Creation date: 2023-07-28 15:19:35.082000+00:00\n",
      "\n",
      "Pipeline name: ProcessRawData-27Jul7\n",
      "Creation date: 2023-07-27 16:13:26.655000+00:00\n",
      "\n",
      "Pipeline name: ProcessRawData-27Jul6\n",
      "Creation date: 2023-07-27 14:40:50.202000+00:00\n",
      "\n",
      "Pipeline name: ProcessRawData-27Jul4\n",
      "Creation date: 2023-07-27 11:12:54.115000+00:00\n",
      "\n",
      "Pipeline name: ProcessRawData-27Jul3\n",
      "Creation date: 2023-07-27 11:06:09.408000+00:00\n",
      "\n",
      "Pipeline name: ProcessRawData-27Jul2\n",
      "Creation date: 2023-07-27 10:52:55.508000+00:00\n",
      "\n",
      "Pipeline name: ProcessRawData-27Jul1\n",
      "Creation date: 2023-07-27 10:36:46.244000+00:00\n",
      "\n",
      "Pipeline name: ProcessRawData-27Jul\n",
      "Creation date: 2023-07-27 10:29:33.410000+00:00\n",
      "\n",
      "Pipeline name: model-dev-pipeline-2023-07-27-raw\n",
      "Creation date: 2023-07-27 08:43:58.711000+00:00\n",
      "\n",
      "Pipeline name: model-dev-pipeline-2023-07-27-08-43-17\n",
      "Creation date: 2023-07-27 08:43:17.268000+00:00\n",
      "\n",
      "Pipeline name: model-dev-pipeline-2023-07-27-08-42-35\n",
      "Creation date: 2023-07-27 08:42:35.495000+00:00\n",
      "\n",
      "Pipeline name: ProcessRawData\n",
      "Creation date: 2023-07-26 17:03:38.937000+00:00\n",
      "\n",
      "Pipeline name: ProcessingPipeline\n",
      "Creation date: 2023-07-26 15:50:13.990000+00:00\n",
      "\n",
      "Pipeline name: model-dev-pipeline-2023-07-26-14-38-14\n",
      "Creation date: 2023-07-26 14:38:14.723000+00:00\n",
      "\n",
      "Pipeline name: training-2023-07-26-14-35-28\n",
      "Creation date: 2023-07-26 14:35:28.363000+00:00\n",
      "\n",
      "Pipeline name: model-dev-pipeline-2023-07-26-14-32-18\n",
      "Creation date: 2023-07-26 14:32:18.846000+00:00\n",
      "\n",
      "Pipeline name: training-2023-07-26-14-20-25\n",
      "Creation date: 2023-07-26 14:20:26.163000+00:00\n",
      "\n",
      "Pipeline name: model-dev-pipeline-2023-07-26-10-38-57\n",
      "Creation date: 2023-07-26 10:38:57.889000+00:00\n",
      "\n",
      "Pipeline name: inference-without-pipinstall-2023-07-25-11-53-15\n",
      "Creation date: 2023-07-25 11:53:15.466000+00:00\n",
      "\n",
      "Pipeline name: inference-without-pipinstall-2023-07-25-11-45-09\n",
      "Creation date: 2023-07-25 11:45:10.169000+00:00\n",
      "\n",
      "Pipeline name: inference-pipeline-2023-07-25-12-12-46\n",
      "Creation date: 2023-07-25 11:12:47.086000+00:00\n",
      "\n",
      "Pipeline name: model-dev-pipeline-2023-07-11-23-53-29\n",
      "Creation date: 2023-07-11 23:53:29.990000+00:00\n",
      "\n",
      "Pipeline name: model-dev-without-pipinstall-2023-07-10-21-58-41\n",
      "Creation date: 2023-07-10 21:58:41.615000+00:00\n",
      "\n",
      "Pipeline name: model-dev-without-pipinstall-2023-07-10-19-03-06\n",
      "Creation date: 2023-07-10 19:03:06.357000+00:00\n",
      "\n",
      "Pipeline name: model-dev-pipeline-2023-07-10-17-41-28\n",
      "Creation date: 2023-07-10 17:41:28.729000+00:00\n",
      "\n",
      "Pipeline name: model-dev-pipeline-2023-07-10-15-53-47\n",
      "Creation date: 2023-07-10 15:53:47.991000+00:00\n",
      "\n",
      "Pipeline name: BancsPipeline\n",
      "Creation date: 2023-07-07 15:33:02.067000+00:00\n",
      "\n",
      "Pipeline name: MyPipeline-2023-07-03-21-07-05\n",
      "Creation date: 2023-07-03 21:07:05.799000+00:00\n",
      "\n",
      "Pipeline name: MyPipeline-1688418163\n",
      "Creation date: 2023-07-03 21:02:44.037000+00:00\n",
      "\n",
      "Pipeline name: AbalonePipeline\n",
      "Creation date: 2023-07-03 09:42:30.443000+00:00\n",
      "\n"
     ]
    }
   ],
   "source": [
    "import boto3\n",
    "from sagemaker.workflow.pipeline import Pipeline\n",
    "\n",
    "# Get the list of pipelines\n",
    "client = boto3.client(\"sagemaker\")\n",
    "response = client.list_pipelines()\n",
    "pipelines = response[\"PipelineSummaries\"]\n",
    "\n",
    "# Print the pipeline names and creation dates\n",
    "for pipeline in pipelines:\n",
    "    print(f\"Pipeline name: {pipeline['PipelineName']}\")\n",
    "    print(f\"Creation date: {pipeline['CreationTime']}\")\n",
    "    print()\n"
   ]
  },
  {
   "cell_type": "code",
   "execution_count": 11,
   "id": "39e65a99",
   "metadata": {
    "scrolled": true
   },
   "outputs": [],
   "source": [
    "#!pip install --upgrade sagemaker\n"
   ]
  },
  {
   "cell_type": "code",
   "execution_count": 8,
   "id": "32556dbd",
   "metadata": {},
   "outputs": [
    {
     "name": "stdout",
     "output_type": "stream",
     "text": [
      "2.167.0\n"
     ]
    }
   ],
   "source": [
    "import sagemaker\n",
    "print(sagemaker.__version__)\n"
   ]
  },
  {
   "cell_type": "markdown",
   "id": "8f365c51",
   "metadata": {},
   "source": [
    "View pipeline status"
   ]
  },
  {
   "cell_type": "code",
   "execution_count": 82,
   "id": "0e5a2a72",
   "metadata": {},
   "outputs": [
    {
     "name": "stdout",
     "output_type": "stream",
     "text": [
      "Failed\n"
     ]
    }
   ],
   "source": [
    "import boto3\n",
    "\n",
    "# Get the pipeline name\n",
    "pipeline_name = \"training-2023-07-26-14-35-28\"\n",
    "\n",
    "# Get the pipeline execution ARN\n",
    "client = boto3.client(\"sagemaker\")\n",
    "response = client.list_pipeline_executions(PipelineName=pipeline_name)\n",
    "execution_arn = response[\"PipelineExecutionSummaries\"][0][\"PipelineExecutionArn\"]\n",
    "\n",
    "# Get the pipeline execution status\n",
    "response = client.describe_pipeline_execution(PipelineExecutionArn=execution_arn)\n",
    "status = response[\"PipelineExecutionStatus\"]\n",
    "print(status)\n"
   ]
  },
  {
   "cell_type": "markdown",
   "id": "8e0c65c8",
   "metadata": {},
   "source": [
    "View cloudwatch logs for pipeline. "
   ]
  },
  {
   "cell_type": "code",
   "execution_count": 9,
   "id": "60063ec0",
   "metadata": {},
   "outputs": [],
   "source": [
    "# Set the pipeline name and execution ARN\n",
    "pipeline_name = 'training-2023-07-26-14-35-28'\n",
    "execution_arn = \"arn:aws:sagemaker:eu-west-2:798861612849:pipeline/training-2023-07-26-14-35-28/execution/fp0wdczidf3t\"\n"
   ]
  },
  {
   "cell_type": "code",
   "execution_count": 26,
   "id": "221dd8dd",
   "metadata": {},
   "outputs": [],
   "source": [
    "# Set the pipeline name and execution ARN\n",
    "pipeline_name = 'inference-without-pipinstall-2023-07-25-11-45-09'\n",
    "execution_arn = \"arn:aws:sagemaker:eu-west-2:798861612849:pipeline/inference-without-pipinstall-2023-07-25-11-53-15/execution/p46478mfka6y\"\n"
   ]
  },
  {
   "cell_type": "code",
   "execution_count": 25,
   "id": "b22ae2ac",
   "metadata": {},
   "outputs": [
    {
     "name": "stdout",
     "output_type": "stream",
     "text": [
      "Execution ID: arn:aws:sagemaker:eu-west-2:798861612849:pipeline/inference-without-pipinstall-2023-07-25-11-45-09/execution/puusxlnviu9t\n",
      "Status: Failed\n",
      "\n"
     ]
    }
   ],
   "source": [
    "import boto3\n",
    "\n",
    "# Set up the SageMaker client\n",
    "sagemaker = boto3.client('sagemaker')\n",
    "\n",
    "# Specify the name of the pipeline\n",
    "pipeline_name = pipeline_name\n",
    "\n",
    "# Get a list of executions for the pipeline\n",
    "response = sagemaker.list_pipeline_executions(PipelineName=pipeline_name)\n",
    "\n",
    "# Print information about each execution\n",
    "for execution in response['PipelineExecutionSummaries']:\n",
    "    print(f'Execution ID: {execution[\"PipelineExecutionArn\"]}')\n",
    "    print(f'Status: {execution[\"PipelineExecutionStatus\"]}')\n",
    "    print()\n"
   ]
  },
  {
   "cell_type": "markdown",
   "id": "b170c8e2",
   "metadata": {},
   "source": [
    "get details about specific execution such as execution-name"
   ]
  },
  {
   "cell_type": "code",
   "execution_count": 24,
   "id": "b0aa0a87",
   "metadata": {},
   "outputs": [
    {
     "name": "stdout",
     "output_type": "stream",
     "text": [
      "{'PipelineArn': 'arn:aws:sagemaker:eu-west-2:798861612849:pipeline/inference-without-pipinstall-2023-07-25-11-53-15', 'PipelineExecutionArn': 'arn:aws:sagemaker:eu-west-2:798861612849:pipeline/inference-without-pipinstall-2023-07-25-11-53-15/execution/p46478mfka6y', 'PipelineExecutionDisplayName': 'execution-1690989534399', 'PipelineExecutionStatus': 'Executing', 'CreationTime': datetime.datetime(2023, 8, 2, 15, 18, 54, 332000, tzinfo=tzlocal()), 'LastModifiedTime': datetime.datetime(2023, 8, 2, 15, 18, 54, 332000, tzinfo=tzlocal()), 'CreatedBy': {}, 'LastModifiedBy': {}, 'ResponseMetadata': {'RequestId': '71510efb-d067-4612-8f51-95556cbb5724', 'HTTPStatusCode': 200, 'HTTPHeaders': {'x-amzn-requestid': '71510efb-d067-4612-8f51-95556cbb5724', 'content-type': 'application/x-amz-json-1.1', 'content-length': '461', 'date': 'Wed, 02 Aug 2023 15:29:37 GMT'}, 'RetryAttempts': 0}}\n"
     ]
    }
   ],
   "source": [
    "import boto3\n",
    "\n",
    "# Set up the SageMaker client\n",
    "sagemaker = boto3.client('sagemaker')\n",
    "\n",
    "# Specify the ARN of the pipeline execution\n",
    "pipeline_execution_arn = execution_arn #execution[\"PipelineExecutionArn\"]\n",
    "\n",
    "# Get information about the pipeline execution\n",
    "response = sagemaker.describe_pipeline_execution(\n",
    "    PipelineExecutionArn=pipeline_execution_arn\n",
    ")\n",
    "\n",
    "# Print information about the pipeline execution\n",
    "print(response)\n"
   ]
  },
  {
   "cell_type": "code",
   "execution_count": 16,
   "id": "17f592b0",
   "metadata": {
    "scrolled": true
   },
   "outputs": [
    {
     "name": "stdout",
     "output_type": "stream",
     "text": [
      "arn:aws:sagemaker:eu-west-2:798861612849:pipeline/inference-without-pipinstall-2023-07-25-11-45-09/execution/puusxlnviu9t\n"
     ]
    }
   ],
   "source": [
    "import boto3\n",
    "\n",
    "# Set the pipeline name\n",
    "pipeline_name = pipeline_name\n",
    "\n",
    "# Create a SageMaker client\n",
    "client = boto3.client(\"sagemaker\")\n",
    "\n",
    "# Get the pipeline execution ARN\n",
    "response = client.list_pipeline_executions(PipelineName=pipeline_name)\n",
    "execution_arn = response[\"PipelineExecutionSummaries\"][0][\"PipelineExecutionArn\"]\n",
    "\n",
    "# Print the execution ARN\n",
    "print(execution_arn)\n"
   ]
  },
  {
   "cell_type": "markdown",
   "id": "68d326ef",
   "metadata": {},
   "source": [
    "view time before failure"
   ]
  },
  {
   "cell_type": "code",
   "execution_count": 23,
   "id": "5d9a5812",
   "metadata": {},
   "outputs": [
    {
     "name": "stdout",
     "output_type": "stream",
     "text": [
      "The pipeline execution did not fail.\n"
     ]
    }
   ],
   "source": [
    "import boto3\n",
    "from datetime import datetime\n",
    "\n",
    "\n",
    "# Create a SageMaker client\n",
    "client = boto3.client(\"sagemaker\")\n",
    "\n",
    "# Get the pipeline execution status and start time\n",
    "response = client.describe_pipeline_execution(PipelineExecutionArn=execution_arn)\n",
    "status = response[\"PipelineExecutionStatus\"]\n",
    "start_time = response[\"CreationTime\"]\n",
    "\n",
    "# Calculate the elapsed time before failure\n",
    "if status == \"Failed\":\n",
    "    end_time = response[\"LastModifiedTime\"]\n",
    "    elapsed_time = end_time - start_time\n",
    "    print(f\"Elapsed time before failure: {elapsed_time}\")\n",
    "else:\n",
    "    print(\"The pipeline execution did not fail.\")\n"
   ]
  },
  {
   "cell_type": "markdown",
   "id": "02564e60",
   "metadata": {},
   "source": []
  },
  {
   "cell_type": "code",
   "execution_count": 22,
   "id": "a2f70f5b",
   "metadata": {},
   "outputs": [
    {
     "name": "stdout",
     "output_type": "stream",
     "text": [
      "arn:aws:sagemaker:eu-west-2:798861612849:pipeline/inference-without-pipinstall-2023-07-25-11-53-15/execution/p46478mfka6y\n"
     ]
    }
   ],
   "source": [
    "import boto3\n",
    "\n",
    "# Set the pipeline name and execution ARN\n",
    "pipeline_name = pipeline_name\n",
    "execution_arn = execution_arn\n",
    "print(execution_arn)\n",
    "\n",
    "# Create a SageMaker client\n",
    "client = boto3.client(\"sagemaker\")\n",
    "\n",
    "# Get the pipeline execution details\n",
    "response = client.describe_pipeline_execution(PipelineExecutionArn=execution_arn)\n",
    "\n",
    "# Print the failure reason and error message\n",
    "if \"FailureReason\" in response:\n",
    "    print(f\"Failure reason: {response['FailureReason']}\")\n",
    "if \"ErrorMessage\" in response:\n",
    "    print(f\"Error message: {response['ErrorMessage']}\")\n"
   ]
  },
  {
   "cell_type": "markdown",
   "id": "96aa48b9",
   "metadata": {},
   "source": [
    "## View Processing Jobs"
   ]
  },
  {
   "cell_type": "markdown",
   "id": "b5a87d9a",
   "metadata": {},
   "source": [
    "get the latest processingjobs log streams"
   ]
  },
  {
   "cell_type": "code",
   "execution_count": 126,
   "id": "3bd930b8",
   "metadata": {},
   "outputs": [
    {
     "name": "stdout",
     "output_type": "stream",
     "text": [
      "Latest log stream name: pipelines-akrndp028d4d-BaNCSProcessing-bt5CWFFRqs/algo-1-1690824906\n"
     ]
    }
   ],
   "source": [
    "import boto3\n",
    "\n",
    "# Set the log group name\n",
    "log_group_name = \"/aws/sagemaker/ProcessingJobs\"\n",
    "\n",
    "# Create a CloudWatch logs client\n",
    "client = boto3.client(\"logs\")\n",
    "\n",
    "# Get the list of log streams\n",
    "response = client.describe_log_streams(\n",
    "    logGroupName=log_group_name,\n",
    "    orderBy=\"LastEventTime\",\n",
    "    descending=True\n",
    ")\n",
    "log_streams = response[\"logStreams\"]\n",
    "\n",
    "# Get the latest log stream name\n",
    "if len(log_streams) > 0:\n",
    "    latest_log_stream_name = log_streams[7][\"logStreamName\"]\n",
    "    print(f\"Latest log stream name: {latest_log_stream_name}\")\n",
    "else:\n",
    "    print(\"No log streams found.\")\n"
   ]
  },
  {
   "cell_type": "markdown",
   "id": "03e19c85",
   "metadata": {},
   "source": [
    "view logs for latest processingjobs"
   ]
  },
  {
   "cell_type": "code",
   "execution_count": 115,
   "id": "ca650542",
   "metadata": {
    "scrolled": true
   },
   "outputs": [
    {
     "name": "stdout",
     "output_type": "stream",
     "text": [
      "Collecting sagemaker\n",
      "  Downloading sagemaker-2.173.0.tar.gz (854 kB)\n",
      "     ━━━━━━━━━━━━━━━━━━━━━━━━━━━━━━━━━━━━━━ 854.4/854.4 kB 39.1 MB/s eta 0:00:00\n",
      "  Preparing metadata (setup.py): started\n",
      "  Preparing metadata (setup.py): finished with status 'done'\n",
      "Collecting attrs<24,>=23.1.0\n",
      "  Downloading attrs-23.1.0-py3-none-any.whl (61 kB)\n",
      "     ━━━━━━━━━━━━━━━━━━━━━━━━━━━━━━━━━━━━━━━━ 61.2/61.2 kB 13.3 MB/s eta 0:00:00\n",
      "Collecting boto3<2.0,>=1.26.131\n",
      "  Downloading boto3-1.28.16-py3-none-any.whl (135 kB)\n",
      "     ━━━━━━━━━━━━━━━━━━━━━━━━━━━━━━━━━━━━━━ 135.8/135.8 kB 28.6 MB/s eta 0:00:00\n",
      "Collecting cloudpickle==2.2.1\n",
      "  Downloading cloudpickle-2.2.1-py3-none-any.whl (25 kB)\n",
      "Collecting google-pasta\n",
      "  Downloading google_pasta-0.2.0-py3-none-any.whl (57 kB)\n",
      "     ━━━━━━━━━━━━━━━━━━━━━━━━━━━━━━━━━━━━━━━━ 57.5/57.5 kB 11.0 MB/s eta 0:00:00\n",
      "Requirement already satisfied: numpy<2.0,>=1.9.0 in /miniconda3/lib/python3.7/site-packages (from sagemaker) (1.19.2)\n",
      "Requirement already satisfied: protobuf<5.0,>=3.12 in /miniconda3/lib/python3.7/site-packages (from sagemaker) (3.20.2)\n",
      "Collecting smdebug_rulesconfig==1.0.1\n",
      "  Downloading smdebug_rulesconfig-1.0.1-py2.py3-none-any.whl (20 kB)\n",
      "Requirement already satisfied: importlib-metadata<7.0,>=1.4.0 in /miniconda3/lib/python3.7/site-packages (from sagemaker) (6.0.0)\n",
      "Collecting packaging>=20.0\n",
      "  Downloading packaging-23.1-py3-none-any.whl (48 kB)\n",
      "     ━━━━━━━━━━━━━━━━━━━━━━━━━━━━━━━━━━━━━━━━ 48.9/48.9 kB 12.2 MB/s eta 0:00:00\n",
      "Requirement already satisfied: pandas in /miniconda3/lib/python3.7/site-packages (from sagemaker) (1.1.3)\n",
      "Collecting pathos\n",
      "  Downloading pathos-0.3.1-py3-none-any.whl (82 kB)\n",
      "     ━━━━━━━━━━━━━━━━━━━━━━━━━━━━━━━━━━━━━━━━ 82.1/82.1 kB 21.0 MB/s eta 0:00:00\n",
      "Collecting schema\n",
      "  Downloading schema-0.7.5-py2.py3-none-any.whl (17 kB)\n",
      "Collecting PyYAML~=6.0\n",
      "  Downloading PyYAML-6.0.1-cp37-cp37m-manylinux_2_17_x86_64.manylinux2014_x86_64.whl (670 kB)\n",
      "     ━━━━━━━━━━━━━━━━━━━━━━━━━━━━━━━━━━━━━━ 670.1/670.1 kB 53.2 MB/s eta 0:00:00\n",
      "Collecting jsonschema\n",
      "  Downloading jsonschema-4.17.3-py3-none-any.whl (90 kB)\n",
      "     ━━━━━━━━━━━━━━━━━━━━━━━━━━━━━━━━━━━━━━━━ 90.4/90.4 kB 21.2 MB/s eta 0:00:00\n",
      "Collecting platformdirs\n",
      "  Downloading platformdirs-3.10.0-py3-none-any.whl (17 kB)\n",
      "Collecting tblib==1.7.0\n",
      "  Downloading tblib-1.7.0-py2.py3-none-any.whl (12 kB)\n",
      "Collecting botocore<1.32.0,>=1.31.16\n",
      "  Downloading botocore-1.31.16-py3-none-any.whl (11.1 MB)\n",
      "     ━━━━━━━━━━━━━━━━━━━━━━━━━━━━━━━━━━━━━━━━ 11.1/11.1 MB 82.3 MB/s eta 0:00:00\n",
      "Requirement already satisfied: jmespath<2.0.0,>=0.7.1 in /miniconda3/lib/python3.7/site-packages (from boto3<2.0,>=1.26.131->sagemaker) (1.0.1)\n",
      "Requirement already satisfied: s3transfer<0.7.0,>=0.6.0 in /miniconda3/lib/python3.7/site-packages (from boto3<2.0,>=1.26.131->sagemaker) (0.6.0)\n",
      "Requirement already satisfied: typing-extensions>=3.6.4 in /miniconda3/lib/python3.7/site-packages (from importlib-metadata<7.0,>=1.4.0->sagemaker) (4.4.0)\n",
      "Requirement already satisfied: zipp>=0.5 in /miniconda3/lib/python3.7/site-packages (from importlib-metadata<7.0,>=1.4.0->sagemaker) (3.13.0)\n",
      "Requirement already satisfied: six in /miniconda3/lib/python3.7/site-packages (from google-pasta->sagemaker) (1.15.0)\n",
      "Collecting pkgutil-resolve-name>=1.3.10\n",
      "  Downloading pkgutil_resolve_name-1.3.10-py3-none-any.whl (4.7 kB)\n",
      "Collecting importlib-resources>=1.4.0\n",
      "  Downloading importlib_resources-5.12.0-py3-none-any.whl (36 kB)\n",
      "Collecting pyrsistent!=0.17.0,!=0.17.1,!=0.17.2,>=0.14.0\n",
      "  Downloading pyrsistent-0.19.3-py3-none-any.whl (57 kB)\n",
      "     ━━━━━━━━━━━━━━━━━━━━━━━━━━━━━━━━━━━━━━━━ 57.5/57.5 kB 14.1 MB/s eta 0:00:00\n",
      "Requirement already satisfied: pytz>=2017.2 in /miniconda3/lib/python3.7/site-packages (from pandas->sagemaker) (2022.7.1)\n",
      "Requirement already satisfied: python-dateutil>=2.7.3 in /miniconda3/lib/python3.7/site-packages (from pandas->sagemaker) (2.8.1)\n",
      "Collecting multiprocess>=0.70.15\n",
      "  Downloading multiprocess-0.70.15-py37-none-any.whl (116 kB)\n",
      "     ━━━━━━━━━━━━━━━━━━━━━━━━━━━━━━━━━━━━━━ 116.3/116.3 kB 25.1 MB/s eta 0:00:00\n",
      "Collecting ppft>=1.7.6.7\n",
      "  Downloading ppft-1.7.6.7-py3-none-any.whl (56 kB)\n",
      "     ━━━━━━━━━━━━━━━━━━━━━━━━━━━━━━━━━━━━━━━━ 56.8/56.8 kB 13.3 MB/s eta 0:00:00\n",
      "Collecting dill>=0.3.7\n",
      "  Downloading dill-0.3.7-py3-none-any.whl (115 kB)\n",
      "     ━━━━━━━━━━━━━━━━━━━━━━━━━━━━━━━━━━━━━━ 115.3/115.3 kB 26.0 MB/s eta 0:00:00\n",
      "Collecting pox>=0.3.3\n",
      "  Downloading pox-0.3.3-py3-none-any.whl (29 kB)\n",
      "Collecting typing-extensions>=3.6.4\n",
      "  Downloading typing_extensions-4.7.1-py3-none-any.whl (33 kB)\n",
      "Collecting contextlib2>=0.5.5\n",
      "  Downloading contextlib2-21.6.0-py2.py3-none-any.whl (13 kB)\n",
      "Requirement already satisfied: urllib3<1.27,>=1.25.4 in /miniconda3/lib/python3.7/site-packages (from botocore<1.32.0,>=1.31.16->boto3<2.0,>=1.26.131->sagemaker) (1.26.14)\n",
      "Building wheels for collected packages: sagemaker\n",
      "  Building wheel for sagemaker (setup.py): started\n",
      "  Building wheel for sagemaker (setup.py): finished with status 'done'\n",
      "  Created wheel for sagemaker: filename=sagemaker-2.173.0-py2.py3-none-any.whl size=1163283 sha256=3488f6c693799287b78bf203ba3ff5256838f82ec184cdc153c7773b360b9855\n",
      "  Stored in directory: /root/.cache/pip/wheels/60/36/51/bd95494827eef1c60ac3a0a49b0c95051fe45d5ebe9a7b5e5f\n",
      "Successfully built sagemaker\n",
      "Installing collected packages: typing-extensions, tblib, smdebug_rulesconfig, PyYAML, pyrsistent, ppft, pox, pkgutil-resolve-name, packaging, importlib-resources, google-pasta, dill, contextlib2, cloudpickle, schema, platformdirs, multiprocess, botocore, pathos, attrs, jsonschema, boto3, sagemaker\n",
      "  Attempting uninstall: typing-extensions\n",
      "    Found existing installation: typing_extensions 4.4.0\n",
      "    Uninstalling typing_extensions-4.4.0:\n",
      "      Successfully uninstalled typing_extensions-4.4.0\n",
      "  Attempting uninstall: botocore\n",
      "    Found existing installation: botocore 1.27.18\n",
      "    Uninstalling botocore-1.27.18:\n",
      "      Successfully uninstalled botocore-1.27.18\n",
      "  Attempting uninstall: boto3\n",
      "    Found existing installation: boto3 1.24.17\n",
      "    Uninstalling boto3-1.24.17:\n",
      "      Successfully uninstalled boto3-1.24.17\n",
      "ERROR: pip's dependency resolver does not currently take into account all the packages that are installed. This behaviour is the source of the following dependency conflicts.\n",
      "sagemaker-sklearn-container 2.0 requires boto3==1.24.17, but you have boto3 1.28.16 which is incompatible.\n",
      "sagemaker-sklearn-container 2.0 requires botocore==1.27.18, but you have botocore 1.31.16 which is incompatible.\n",
      "Successfully installed PyYAML-6.0.1 attrs-23.1.0 boto3-1.28.16 botocore-1.31.16 cloudpickle-2.2.1 contextlib2-21.6.0 dill-0.3.7 google-pasta-0.2.0 importlib-resources-5.12.0 jsonschema-4.17.3 multiprocess-0.70.15 packaging-23.1 pathos-0.3.1 pkgutil-resolve-name-1.3.10 platformdirs-3.10.0 pox-0.3.3 ppft-1.7.6.7 pyrsistent-0.19.3 sagemaker-2.173.0 schema-0.7.5 smdebug_rulesconfig-1.0.1 tblib-1.7.0 typing-extensions-4.7.1\n",
      "WARNING: Running pip as the 'root' user can result in broken permissions and conflicting behaviour with the system package manager. It is recommended to use a virtual environment instead: https://pip.pypa.io/warnings/venv\n",
      "[notice] A new release of pip is available: 23.0 -> 23.2.1\n",
      "[notice] To update, run: pip install --upgrade pip\n",
      "getting data\n",
      "/miniconda3/lib/python3.7/site-packages/boto3/compat.py:82: PythonDeprecationWarning: Boto3 will no longer support Python 3.7 starting December 13, 2023. To continue receiving service updates, bug fixes, and security updates please upgrade to Python 3.8 or later. More information can be found here: https://aws.amazon.com/blogs/developer/python-support-policy-updates-for-aws-sdks-and-tools/\n",
      "  warnings.warn(warning, PythonDeprecationWarning)\n",
      "***. done ***\n",
      "defining model\n",
      "Couldn't call 'get_role' to get Role ARN from role name AmazonSageMaker-ExecutionRole-20221020T100790 to get Role path.\n",
      "Assuming role was created in SageMaker AWS console, as the name contains `AmazonSageMaker-ExecutionRole`. Defaulting to Role ARN with service-role in path. If this Role ARN is incorrect, please add IAM read permissions to your role or supply the Role Arn directly.\n",
      "fitting model\n",
      "INFO:sagemaker:Creating training-job with name: sagemaker-xgboost-2023-08-01-14-21-45-312\n",
      "2023-08-01 14:21:45 Starting - Starting the training job...\n",
      "2023-08-01 14:22:08 Starting - Preparing the instances for training......\n",
      "2023-08-01 14:23:16 Downloading - Downloading input data...\n",
      "2023-08-01 14:23:36 Training - Downloading the training image...\n",
      "2023-08-01 14:24:11 Training - Training image download completed. Training in progress....\n",
      "2023-08-01 14:24:36 Uploading - Uploading generated training model[2023-08-01 14:24:31.494 ip-10-0-152-139.eu-west-2.compute.internal:7 INFO utils.py:28] RULE_JOB_STOP_SIGNAL_FILENAME: None\n",
      "[2023-08-01 14:24:31.563 ip-10-0-152-139.eu-west-2.compute.internal:7 INFO profiler_config_parser.py:111] User has disabled profiler.\n",
      "[2023-08-01:14:24:31:INFO] Imported framework sagemaker_xgboost_container.training\n",
      "[2023-08-01:14:24:31:INFO] Failed to parse hyperparameter eval_metric value auc to Json.\n",
      "Returning the value itself\n",
      "[2023-08-01:14:24:31:INFO] Failed to parse hyperparameter objective value binary:logistic to Json.\n",
      "Returning the value itself\n",
      "[2023-08-01:14:24:32:INFO] Running XGBoost Sagemaker in algorithm mode\n",
      "[2023-08-01:14:24:32:INFO] Determined 1 GPU(s) available on the instance.\n",
      "[2023-08-01:14:24:32:INFO] Determined delimiter of CSV input is ','\n",
      "[2023-08-01:14:24:32:INFO] Determined delimiter of CSV input is ','\n",
      "[2023-08-01:14:24:32:INFO] files path: /opt/ml/input/data/train\n",
      "[2023-08-01:14:24:32:INFO] Determined delimiter of CSV input is ','\n",
      "[2023-08-01:14:24:32:INFO] files path: /opt/ml/input/data/validation\n",
      "[2023-08-01:14:24:32:INFO] Determined delimiter of CSV input is ','\n",
      "[2023-08-01:14:24:32:INFO] Single node training.\n",
      "[2023-08-01:14:24:32:INFO] Train matrix has 6047 rows and 59 columns\n",
      "[2023-08-01:14:24:32:INFO] Validation matrix has 756 rows\n",
      "[2023-08-01 14:24:32.079 ip-10-0-152-139.eu-west-2.compute.internal:7 INFO json_config.py:92] Creating hook from json_config at /opt/ml/input/config/debughookconfig.json.\n",
      "[2023-08-01 14:24:32.079 ip-10-0-152-139.eu-west-2.compute.internal:7 INFO hook.py:206] tensorboard_dir has not been set for the hook. SMDebug will not be exporting tensorboard summaries.\n",
      "[2023-08-01 14:24:32.080 ip-10-0-152-139.eu-west-2.compute.internal:7 INFO hook.py:259] Saving to /opt/ml/output/tensors\n",
      "[2023-08-01 14:24:32.080 ip-10-0-152-139.eu-west-2.compute.internal:7 INFO state_store.py:77] The checkpoint config file /opt/ml/input/config/checkpointconfig.json does not exist.\n",
      "[2023-08-01:14:24:32:INFO] Debug hook created from config\n",
      "[14:24:32] WARNING: ../src/learner.cc:576: \n",
      "Parameters: { \"rate_drop\", \"tweedie_variance_power\" } might not be used.\n",
      "  This could be a false alarm, with some parameters getting used by language bindings but\n",
      "  then being mistakenly passed down to XGBoost core, or some parameter actually being used\n",
      "  but getting flagged wrongly here. Please open an issue if you find any such cases.\n",
      "[0]#011train-auc:0.77912#011validation-auc:0.69775\n",
      "[2023-08-01 14:24:32.096 ip-10-0-152-139.eu-west-2.compute.internal:7 INFO hook.py:427] Monitoring the collections: metrics\n",
      "[2023-08-01 14:24:32.099 ip-10-0-152-139.eu-west-2.compute.internal:7 INFO hook.py:491] Hook is writing from the hook with pid: 7\n",
      "[1]#011train-auc:0.81605#011validation-auc:0.71844\n",
      "[2]#011train-auc:0.83193#011validation-auc:0.73314\n",
      "[3]#011train-auc:0.84383#011validation-auc:0.73980\n",
      "[4]#011train-auc:0.85912#011validation-auc:0.74317\n",
      "[5]#011train-auc:0.87011#011validation-auc:0.74869\n",
      "[6]#011train-auc:0.87673#011validation-auc:0.75024\n",
      "[7]#011train-auc:0.88409#011validation-auc:0.75921\n",
      "[8]#011train-auc:0.89340#011validation-auc:0.77016\n",
      "[9]#011train-auc:0.89947#011validation-auc:0.76810\n",
      "2023-08-01 14:24:48 Completed - Training job completed\n",
      "Training seconds: 93\n",
      "Billable seconds: 93\n",
      "length X_test (756, 59)\n",
      "length y_test (756,)\n",
      "INFO:sagemaker:Creating model with name: sagemaker-xgboost-2023-08-01-14-25-27-665\n",
      "INFO:sagemaker:Creating endpoint-config with name sagemaker-xgboost-2023-08-01-14-25-27-665\n",
      "INFO:sagemaker:Creating endpoint with name sagemaker-xgboost-2023-08-01-14-25-27-665\n",
      "-----!length y_pred 756\n",
      "Model Passed Varification\n",
      "/miniconda3/lib/python3.7/site-packages/boto3/compat.py:82: PythonDeprecationWarning: Boto3 will no longer support Python 3.7 starting December 13, 2023. To continue receiving service updates, bug fixes, and security updates please upgrade to Python 3.8 or later. More information can be found here: https://aws.amazon.com/blogs/developer/python-support-policy-updates-for-aws-sdks-and-tools/\n",
      "  warnings.warn(warning, PythonDeprecationWarning)\n",
      "model_dev_pipeline/model_artefacts/sagemaker-xgboost-2023-08-01-14-21-45-312/debug-output/claim.smd\n",
      "target key model_artefacts/sagemaker-xgboost-2023-08-01-14-21-45-312/debug-output/claim.smd \n",
      "model_dev_pipeline/model_artefacts/sagemaker-xgboost-2023-08-01-14-21-45-312/debug-output/collections/000000000/worker_0_collections.json\n",
      "target key model_artefacts/sagemaker-xgboost-2023-08-01-14-21-45-312/debug-output/collections/000000000/worker_0_collections.json \n",
      "model_dev_pipeline/model_artefacts/sagemaker-xgboost-2023-08-01-14-21-45-312/debug-output/events/000000000000/000000000000_worker_0.tfevents\n",
      "target key model_artefacts/sagemaker-xgboost-2023-08-01-14-21-45-312/debug-output/events/000000000000/000000000000_worker_0.tfevents \n",
      "model_dev_pipeline/model_artefacts/sagemaker-xgboost-2023-08-01-14-21-45-312/debug-output/index/000000000/000000000000_worker_0.json\n",
      "target key model_artefacts/sagemaker-xgboost-2023-08-01-14-21-45-312/debug-output/index/000000000/000000000000_worker_0.json \n",
      "model_dev_pipeline/model_artefacts/sagemaker-xgboost-2023-08-01-14-21-45-312/debug-output/training_job_end.ts\n",
      "target key model_artefacts/sagemaker-xgboost-2023-08-01-14-21-45-312/debug-output/training_job_end.ts \n",
      "model_dev_pipeline/model_artefacts/sagemaker-xgboost-2023-08-01-14-21-45-312/output/model.tar.gz\n",
      "target key model_artefacts/sagemaker-xgboost-2023-08-01-14-21-45-312/output/model.tar.gz \n",
      "model_dev_pipeline/model_artefacts/sagemaker-xgboost-2023-08-01-14-21-45-312/profiler-output/framework/training_job_end.ts\n",
      "target key model_artefacts/sagemaker-xgboost-2023-08-01-14-21-45-312/profiler-output/framework/training_job_end.ts \n",
      "model_dev_pipeline/model_artefacts/sagemaker-xgboost-2023-08-01-14-21-45-312/profiler-output/system/incremental/2023080114/1690899780.algo-1.json\n",
      "target key model_artefacts/sagemaker-xgboost-2023-08-01-14-21-45-312/profiler-output/system/incremental/2023080114/1690899780.algo-1.json \n",
      "model_dev_pipeline/model_artefacts/sagemaker-xgboost-2023-08-01-14-21-45-312/profiler-output/system/incremental/2023080114/1690899840.algo-1.json\n",
      "target key model_artefacts/sagemaker-xgboost-2023-08-01-14-21-45-312/profiler-output/system/incremental/2023080114/1690899840.algo-1.json \n",
      "model_dev_pipeline/model_artefacts/sagemaker-xgboost-2023-08-01-14-21-45-312/profiler-output/system/training_job_end.ts\n",
      "target key model_artefacts/sagemaker-xgboost-2023-08-01-14-21-45-312/profiler-output/system/training_job_end.ts \n",
      "Model Uploaded to S3\n",
      "Traceback (most recent call last):\n",
      "  File \"/opt/ml/processing/input/code/training.py\", line 300, in <module>\n",
      "    delete_endpoint()\n",
      "  File \"/opt/ml/processing/input/code/training.py\", line 275, in delete_endpoint\n",
      "    xgb_predictor.delete_endpoint()\n",
      "NameError: name 'xgb_predictor' is not defined\n"
     ]
    }
   ],
   "source": [
    "import boto3\n",
    "\n",
    "# Set the log group and log stream names\n",
    "log_group_name = \"/aws/sagemaker/ProcessingJobs\"\n",
    "log_stream_name = 'pipelines-wccx0x2yt9x9-MyProcessingStep-KILXvqNmzf/algo-1-1690899682' #latest_log_stream_name\n",
    "\n",
    "# Create a CloudWatch logs client\n",
    "client = boto3.client(\"logs\")\n",
    "\n",
    "# Get the log events\n",
    "response = client.get_log_events(\n",
    "    logGroupName=log_group_name,\n",
    "    logStreamName=log_stream_name\n",
    ")\n",
    "events = response[\"events\"]\n",
    "\n",
    "# Print the log events\n",
    "for event in events:\n",
    "    print(event[\"message\"])\n"
   ]
  },
  {
   "cell_type": "code",
   "execution_count": 94,
   "id": "f32eb448",
   "metadata": {
    "scrolled": false
   },
   "outputs": [
    {
     "name": "stdout",
     "output_type": "stream",
     "text": [
      "{'PipelineArn': 'arn:aws:sagemaker:eu-west-2:798861612849:pipeline/training-2023-07-26-14-35-28', 'PipelineExecutionArn': 'arn:aws:sagemaker:eu-west-2:798861612849:pipeline/training-2023-07-26-14-35-28/execution/wccx0x2yt9x9', 'PipelineExecutionDisplayName': 'execution-1690899464200', 'PipelineExecutionStatus': 'Executing', 'CreationTime': datetime.datetime(2023, 8, 1, 14, 17, 44, 114000, tzinfo=tzlocal()), 'LastModifiedTime': datetime.datetime(2023, 8, 1, 14, 17, 44, 114000, tzinfo=tzlocal()), 'CreatedBy': {}, 'LastModifiedBy': {}, 'ResponseMetadata': {'RequestId': '63a5c44a-bf88-4bda-b271-77d188db8a2f', 'HTTPStatusCode': 200, 'HTTPHeaders': {'x-amzn-requestid': '63a5c44a-bf88-4bda-b271-77d188db8a2f', 'content-type': 'application/x-amz-json-1.1', 'content-length': '421', 'date': 'Tue, 01 Aug 2023 14:21:02 GMT'}, 'RetryAttempts': 0}}\n"
     ]
    }
   ],
   "source": [
    "import boto3\n",
    "\n",
    "# Set up the SageMaker client\n",
    "sagemaker = boto3.client('sagemaker')\n",
    "\n",
    "# Specify the ARN of the pipeline execution\n",
    "pipeline_execution_arn = execution_arn\n",
    "\n",
    "# Get information about the pipeline execution\n",
    "response = sagemaker.describe_pipeline_execution(\n",
    "    PipelineExecutionArn=pipeline_execution_arn\n",
    ")\n",
    "\n",
    "# Print information about the pipeline execution\n",
    "print(response)\n"
   ]
  }
 ],
 "metadata": {
  "kernelspec": {
   "display_name": "conda_python3",
   "language": "python",
   "name": "conda_python3"
  },
  "language_info": {
   "codemirror_mode": {
    "name": "ipython",
    "version": 3
   },
   "file_extension": ".py",
   "mimetype": "text/x-python",
   "name": "python",
   "nbconvert_exporter": "python",
   "pygments_lexer": "ipython3",
   "version": "3.10.12"
  }
 },
 "nbformat": 4,
 "nbformat_minor": 5
}
