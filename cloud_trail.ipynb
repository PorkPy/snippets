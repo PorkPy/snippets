{
 "cells": [
  {
   "cell_type": "code",
   "execution_count": 1,
   "id": "a1076d8c",
   "metadata": {},
   "outputs": [
    {
     "ename": "ClientError",
     "evalue": "An error occurred (AccessDeniedException) when calling the LookupEvents operation:is not authorized to perform: cloudtrail:LookupEvents because no identity-based policy allows the cloudtrail:LookupEvents action",
     "output_type": "error",
     "traceback": [
      "\u001b[0;31m---------------------------------------------------------------------------\u001b[0m",
      "\u001b[0;31mClientError\u001b[0m                               Traceback (most recent call last)",
     ]
    }
   ],
   "source": [
    "import boto3\n",
    "\n",
    "# Create a CloudTrail client\n",
    "cloudtrail = boto3.client('cloudtrail')\n",
    "\n",
    "# Specify the time range to look up events\n",
    "start_time = '2023-07-30T00:00:00Z'\n",
    "end_time = '2023-08-12T00:00:00Z'\n",
    "\n",
    "# Specify the S3 bucket to look up events for\n",
    "s3_bucket = 'cmg-sagemaker-compliance-cases-data'\n",
    "\n",
    "# Look up events in the specified time range for the specified S3 bucket\n",
    "response = cloudtrail.lookup_events(\n",
    "    StartTime=start_time,\n",
    "    EndTime=end_time,\n",
    "    LookupAttributes=[\n",
    "        {\n",
    "            'AttributeKey': 'ResourceName',\n",
    "            'AttributeValue': s3_bucket\n",
    "        }\n",
    "    ]\n",
    ")\n",
    "\n",
    "# Print the details of each event\n",
    "for event in response['Events']:\n",
    "    print('Event time:', event['EventTime'])\n",
    "    print('Event name:', event['EventName'])\n",
    "    print('Username:', event['Username'])\n",
    "    print('Resources:', event.get('Resources', []))\n",
    "    print('CloudTrail event:', event['CloudTrailEvent'])\n",
    "    print()\n"
   ]
  }
 ],
 "metadata": {
  "kernelspec": {
   "display_name": "conda_python3",
   "language": "python",
   "name": "conda_python3"
  },
  "language_info": {
   "codemirror_mode": {
    "name": "ipython",
    "version": 3
   },
   "file_extension": ".py",
   "mimetype": "text/x-python",
   "name": "python",
   "nbconvert_exporter": "python",
   "pygments_lexer": "ipython3",
   "version": "3.10.10"
  }
 },
 "nbformat": 4,
 "nbformat_minor": 5
}
