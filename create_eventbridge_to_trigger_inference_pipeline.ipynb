{
 
   "source": [
    "import boto3\n",
    "import sagemaker\n",
    "import json\n",
    "\n",
    "s3_bucket = 'cmg-sagemaker-compliance-cases-data'\n",
    "s3_prefix = 'inference_data_trigger/'\n",
    "pipeline_name = 'inference-without-pipinstall-2023-07-25-11-53-15'\n",
    "region = 'eu-west-2'\n",
    "role_arn =  sagemaker.get_execution_role()\n",
    "\n",
    "eventbridge_client = boto3.client('events', region_name=region)\n",
    "sagemaker_client = boto3.client('sagemaker', region_name=region)\n",
    "\n",
    "# Get the pipeline ARN\n",
    "pipeline_arn = sagemaker_client.list_pipelines(PipelineNamePrefix=pipeline_name)['PipelineSummaries'][0]['PipelineArn']\n",
    "\n",
    "# Create the event pattern\n",
    "event_pattern = {\n",
    "    \"source\": [\"aws.s3\"],\n",
    "    \"detail-type\": [\"ObjectCreated\"],\n",
    "    \"detail\": {\n",
    "        \"eventSource\": [\"s3.amazonaws.com\"],\n",
    "        \"eventName\": [\"ObjectCreated:Put\"],\n",
    "        \"requestParameters\": {\n",
    "            \"bucketName\": [s3_bucket],\n",
    "            \"key\": [{\n",
    "                \"prefix\": s3_prefix\n",
    "            }]\n",
    "        }\n",
    "    }\n",
    "}\n",
    "\n",
    "# Create the rule\n",
    "rule_response = eventbridge_client.put_rule(\n",
    "    Name='cmg_sagemaker_pipeline',\n",
    "    State='ENABLED',\n",
    "    Description='Rule to trigger SageMaker pipeline when new file is added to S3 bucket',\n",
    "    RoleArn=role_arn,\n",
    "    EventPattern=json.dumps(event_pattern)\n",
    ")\n",
    "\n",
    "# Add the target\n",
    "target_response = eventbridge_client.put_targets(\n",
    "    Rule='cmg_sagemaker_pipeline',\n",
    "    Targets=[\n",
    "        {\n",
    "            'Id': '1',\n",
    "            'Arn': pipeline_arn,\n",
    "            'RoleArn': role_arn,\n",
    "            'Input': '{\"PipelineExecutionDescription\": \"Started by EventBridge rule\"}',\n",
    "            'InputPath': '$.detail'\n",
    "        }\n",
    "    ]\n",
    ")\n",
    "\n",
    "print(f'Rule ARN: {rule_response[\"RuleArn\"]}')\n"
   ]
  },
  {
   "cell_type": "code",
   "execution_count": 9,
   "id": "583b2a04",
   "metadata": {},
   "outputs": [
    {
     "name": "stdout",
     "output_type": "stream",
     "text": [
      "arn:aws:iam::798861612849:role/service-role/AmazonSageMaker-ExecutionRole-20221020T100790\n"
     ]
    }
   ],
   "source": [
    "role_arn =  sagemaker.get_execution_role()\n",
    "print(role_arn)"
   ]
  },
  {
   "cell_type": "code",
   "execution_count": 5,
   "id": "de0d21ca",
   "metadata": {},
   "outputs": [
    {
     "name": "stdout",
     "output_type": "stream",
     "text": [
      "\r\n",
      "Error parsing parameter '--policy-document': Unable to load paramfile file://trust-policy.json: [Errno 2] No such file or directory: 'trust-policy.json'\r\n"
     ]
    }
   ],
   "source": [
    "ROLE_NAME = 'AmazonSageMaker-ExecutionRole-20221020T100790'\n",
    "!aws iam update-assume-role-policy --role-name ROLE_NAME --policy-document file://trust-policy.json\n"
   ]
  },
  {
   "cell_type": "code",
   "execution_count": 7,
   "id": "a0dcc3f9",
   "metadata": {},
   "outputs": [
    {
     "name": "stdout",
     "output_type": "stream",
     "text": [
      "\r\n",
      "An error occurred (AccessDenied) when calling the GetRole operation: User: arn:aws:sts::798861612849:assumed-role/AmazonSageMaker-ExecutionRole-20221020T100790/SageMaker is not authorized to perform: iam:GetRole on resource: role ROLE_NAME because no identity-based policy allows the iam:GetRole action\r\n"
     ]
    }
   ],
   "source": [
    "!aws iam get-role --role-name ROLE_NAME --query 'Role.AssumeRolePolicyDocument'\n"
   ]
  }
 ],
 "metadata": {
  "kernelspec": {
   "display_name": "conda_python3",
   "language": "python",
   "name": "conda_python3"
  },
  "language_info": {
   "codemirror_mode": {
    "name": "ipython",
    "version": 3
   },
   "file_extension": ".py",
   "mimetype": "text/x-python",
   "name": "python",
   "nbconvert_exporter": "python",
   "pygments_lexer": "ipython3",
   "version": "3.10.12"
  }
 },
 "nbformat": 4,
 "nbformat_minor": 5
}
