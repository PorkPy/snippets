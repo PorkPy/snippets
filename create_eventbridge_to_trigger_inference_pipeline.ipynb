{
 "cells": [
  {
   "cell_type": "code",
   "execution_count": 1,
   "id": "106e0102",
   "metadata": {
    "scrolled": false
   },
   "outputs": [
    {
     "ename": "ClientError",
     "evalue": "An error occurred (ValidationException) when calling the PutRule operation: Provided role 'arn:aws:iam::798861612849:role/service-role/AmazonSageMaker-ExecutionRole-20221020T100790' cannot be assumed by principal 'events.amazonaws.com'.",
     "output_type": "error",
     "traceback": [
      "\u001b[0;31m---------------------------------------------------------------------------\u001b[0m",
      "\u001b[0;31mClientError\u001b[0m                               Traceback (most recent call last)",
      "Cell \u001b[0;32mIn[1], line 34\u001b[0m\n\u001b[1;32m     18\u001b[0m event_pattern \u001b[38;5;241m=\u001b[39m {\n\u001b[1;32m     19\u001b[0m     \u001b[38;5;124m\"\u001b[39m\u001b[38;5;124msource\u001b[39m\u001b[38;5;124m\"\u001b[39m: [\u001b[38;5;124m\"\u001b[39m\u001b[38;5;124maws.s3\u001b[39m\u001b[38;5;124m\"\u001b[39m],\n\u001b[1;32m     20\u001b[0m     \u001b[38;5;124m\"\u001b[39m\u001b[38;5;124mdetail-type\u001b[39m\u001b[38;5;124m\"\u001b[39m: [\u001b[38;5;124m\"\u001b[39m\u001b[38;5;124mObjectCreated\u001b[39m\u001b[38;5;124m\"\u001b[39m],\n\u001b[0;32m   (...)\u001b[0m\n\u001b[1;32m     30\u001b[0m     }\n\u001b[1;32m     31\u001b[0m }\n\u001b[1;32m     33\u001b[0m \u001b[38;5;66;03m# Create the rule\u001b[39;00m\n\u001b[0;32m---> 34\u001b[0m rule_response \u001b[38;5;241m=\u001b[39m \u001b[43meventbridge_client\u001b[49m\u001b[38;5;241;43m.\u001b[39;49m\u001b[43mput_rule\u001b[49m\u001b[43m(\u001b[49m\n\u001b[1;32m     35\u001b[0m \u001b[43m    \u001b[49m\u001b[43mName\u001b[49m\u001b[38;5;241;43m=\u001b[39;49m\u001b[38;5;124;43m'\u001b[39;49m\u001b[38;5;124;43mcmg_sagemaker_pipeline\u001b[39;49m\u001b[38;5;124;43m'\u001b[39;49m\u001b[43m,\u001b[49m\n\u001b[1;32m     36\u001b[0m \u001b[43m    \u001b[49m\u001b[43mState\u001b[49m\u001b[38;5;241;43m=\u001b[39;49m\u001b[38;5;124;43m'\u001b[39;49m\u001b[38;5;124;43mENABLED\u001b[39;49m\u001b[38;5;124;43m'\u001b[39;49m\u001b[43m,\u001b[49m\n\u001b[1;32m     37\u001b[0m \u001b[43m    \u001b[49m\u001b[43mDescription\u001b[49m\u001b[38;5;241;43m=\u001b[39;49m\u001b[38;5;124;43m'\u001b[39;49m\u001b[38;5;124;43mRule to trigger SageMaker pipeline when new file is added to S3 bucket\u001b[39;49m\u001b[38;5;124;43m'\u001b[39;49m\u001b[43m,\u001b[49m\n\u001b[1;32m     38\u001b[0m \u001b[43m    \u001b[49m\u001b[43mRoleArn\u001b[49m\u001b[38;5;241;43m=\u001b[39;49m\u001b[43mrole_arn\u001b[49m\u001b[43m,\u001b[49m\n\u001b[1;32m     39\u001b[0m \u001b[43m    \u001b[49m\u001b[43mEventPattern\u001b[49m\u001b[38;5;241;43m=\u001b[39;49m\u001b[43mjson\u001b[49m\u001b[38;5;241;43m.\u001b[39;49m\u001b[43mdumps\u001b[49m\u001b[43m(\u001b[49m\u001b[43mevent_pattern\u001b[49m\u001b[43m)\u001b[49m\n\u001b[1;32m     40\u001b[0m \u001b[43m)\u001b[49m\n\u001b[1;32m     42\u001b[0m \u001b[38;5;66;03m# Add the target\u001b[39;00m\n\u001b[1;32m     43\u001b[0m target_response \u001b[38;5;241m=\u001b[39m eventbridge_client\u001b[38;5;241m.\u001b[39mput_targets(\n\u001b[1;32m     44\u001b[0m     Rule\u001b[38;5;241m=\u001b[39m\u001b[38;5;124m'\u001b[39m\u001b[38;5;124mcmg_sagemaker_pipeline\u001b[39m\u001b[38;5;124m'\u001b[39m,\n\u001b[1;32m     45\u001b[0m     Targets\u001b[38;5;241m=\u001b[39m[\n\u001b[0;32m   (...)\u001b[0m\n\u001b[1;32m     53\u001b[0m     ]\n\u001b[1;32m     54\u001b[0m )\n",
      "File \u001b[0;32m~/anaconda3/envs/python3/lib/python3.10/site-packages/botocore/client.py:530\u001b[0m, in \u001b[0;36mClientCreator._create_api_method.<locals>._api_call\u001b[0;34m(self, *args, **kwargs)\u001b[0m\n\u001b[1;32m    526\u001b[0m     \u001b[38;5;28;01mraise\u001b[39;00m \u001b[38;5;167;01mTypeError\u001b[39;00m(\n\u001b[1;32m    527\u001b[0m         \u001b[38;5;124mf\u001b[39m\u001b[38;5;124m\"\u001b[39m\u001b[38;5;132;01m{\u001b[39;00mpy_operation_name\u001b[38;5;132;01m}\u001b[39;00m\u001b[38;5;124m() only accepts keyword arguments.\u001b[39m\u001b[38;5;124m\"\u001b[39m\n\u001b[1;32m    528\u001b[0m     )\n\u001b[1;32m    529\u001b[0m \u001b[38;5;66;03m# The \"self\" in this scope is referring to the BaseClient.\u001b[39;00m\n\u001b[0;32m--> 530\u001b[0m \u001b[38;5;28;01mreturn\u001b[39;00m \u001b[38;5;28;43mself\u001b[39;49m\u001b[38;5;241;43m.\u001b[39;49m\u001b[43m_make_api_call\u001b[49m\u001b[43m(\u001b[49m\u001b[43moperation_name\u001b[49m\u001b[43m,\u001b[49m\u001b[43m \u001b[49m\u001b[43mkwargs\u001b[49m\u001b[43m)\u001b[49m\n",
      "File \u001b[0;32m~/anaconda3/envs/python3/lib/python3.10/site-packages/botocore/client.py:964\u001b[0m, in \u001b[0;36mBaseClient._make_api_call\u001b[0;34m(self, operation_name, api_params)\u001b[0m\n\u001b[1;32m    962\u001b[0m     error_code \u001b[38;5;241m=\u001b[39m parsed_response\u001b[38;5;241m.\u001b[39mget(\u001b[38;5;124m\"\u001b[39m\u001b[38;5;124mError\u001b[39m\u001b[38;5;124m\"\u001b[39m, {})\u001b[38;5;241m.\u001b[39mget(\u001b[38;5;124m\"\u001b[39m\u001b[38;5;124mCode\u001b[39m\u001b[38;5;124m\"\u001b[39m)\n\u001b[1;32m    963\u001b[0m     error_class \u001b[38;5;241m=\u001b[39m \u001b[38;5;28mself\u001b[39m\u001b[38;5;241m.\u001b[39mexceptions\u001b[38;5;241m.\u001b[39mfrom_code(error_code)\n\u001b[0;32m--> 964\u001b[0m     \u001b[38;5;28;01mraise\u001b[39;00m error_class(parsed_response, operation_name)\n\u001b[1;32m    965\u001b[0m \u001b[38;5;28;01melse\u001b[39;00m:\n\u001b[1;32m    966\u001b[0m     \u001b[38;5;28;01mreturn\u001b[39;00m parsed_response\n",
      "\u001b[0;31mClientError\u001b[0m: An error occurred (ValidationException) when calling the PutRule operation: Provided role 'arn:aws:iam::798861612849:role/service-role/AmazonSageMaker-ExecutionRole-20221020T100790' cannot be assumed by principal 'events.amazonaws.com'."
     ]
    }
   ],
   "source": [
    "import boto3\n",
    "import sagemaker\n",
    "import json\n",
    "\n",
    "s3_bucket = 'cmg-sagemaker-compliance-cases-data'\n",
    "s3_prefix = 'inference_data_trigger/'\n",
    "pipeline_name = 'inference-without-pipinstall-2023-07-25-11-53-15'\n",
    "region = 'eu-west-2'\n",
    "role_arn =  sagemaker.get_execution_role()\n",
    "\n",
    "eventbridge_client = boto3.client('events', region_name=region)\n",
    "sagemaker_client = boto3.client('sagemaker', region_name=region)\n",
    "\n",
    "# Get the pipeline ARN\n",
    "pipeline_arn = sagemaker_client.list_pipelines(PipelineNamePrefix=pipeline_name)['PipelineSummaries'][0]['PipelineArn']\n",
    "\n",
    "# Create the event pattern\n",
    "event_pattern = {\n",
    "    \"source\": [\"aws.s3\"],\n",
    "    \"detail-type\": [\"ObjectCreated\"],\n",
    "    \"detail\": {\n",
    "        \"eventSource\": [\"s3.amazonaws.com\"],\n",
    "        \"eventName\": [\"ObjectCreated:Put\"],\n",
    "        \"requestParameters\": {\n",
    "            \"bucketName\": [s3_bucket],\n",
    "            \"key\": [{\n",
    "                \"prefix\": s3_prefix\n",
    "            }]\n",
    "        }\n",
    "    }\n",
    "}\n",
    "\n",
    "# Create the rule\n",
    "rule_response = eventbridge_client.put_rule(\n",
    "    Name='cmg_sagemaker_pipeline',\n",
    "    State='ENABLED',\n",
    "    Description='Rule to trigger SageMaker pipeline when new file is added to S3 bucket',\n",
    "    RoleArn=role_arn,\n",
    "    EventPattern=json.dumps(event_pattern)\n",
    ")\n",
    "\n",
    "# Add the target\n",
    "target_response = eventbridge_client.put_targets(\n",
    "    Rule='cmg_sagemaker_pipeline',\n",
    "    Targets=[\n",
    "        {\n",
    "            'Id': '1',\n",
    "            'Arn': pipeline_arn,\n",
    "            'RoleArn': role_arn,\n",
    "            'Input': '{\"PipelineExecutionDescription\": \"Started by EventBridge rule\"}',\n",
    "            'InputPath': '$.detail'\n",
    "        }\n",
    "    ]\n",
    ")\n",
    "\n",
    "print(f'Rule ARN: {rule_response[\"RuleArn\"]}')\n"
   ]
  },
  {
   "cell_type": "code",
   "execution_count": 9,
   "id": "583b2a04",
   "metadata": {},
   "outputs": [
    {
     "name": "stdout",
     "output_type": "stream",
     "text": [
      "arn:aws:iam::798861612849:role/service-role/AmazonSageMaker-ExecutionRole-20221020T100790\n"
     ]
    }
   ],
   "source": [
    "role_arn =  sagemaker.get_execution_role()\n",
    "print(role_arn)"
   ]
  },
  {
   "cell_type": "code",
   "execution_count": 5,
   "id": "de0d21ca",
   "metadata": {},
   "outputs": [
    {
     "name": "stdout",
     "output_type": "stream",
     "text": [
      "\r\n",
      "Error parsing parameter '--policy-document': Unable to load paramfile file://trust-policy.json: [Errno 2] No such file or directory: 'trust-policy.json'\r\n"
     ]
    }
   ],
   "source": [
    "ROLE_NAME = 'AmazonSageMaker-ExecutionRole-20221020T100790'\n",
    "!aws iam update-assume-role-policy --role-name ROLE_NAME --policy-document file://trust-policy.json\n"
   ]
  },
  {
   "cell_type": "code",
   "execution_count": 7,
   "id": "a0dcc3f9",
   "metadata": {},
   "outputs": [
    {
     "name": "stdout",
     "output_type": "stream",
     "text": [
      "\r\n",
      "An error occurred (AccessDenied) when calling the GetRole operation: User: arn:aws:sts::798861612849:assumed-role/AmazonSageMaker-ExecutionRole-20221020T100790/SageMaker is not authorized to perform: iam:GetRole on resource: role ROLE_NAME because no identity-based policy allows the iam:GetRole action\r\n"
     ]
    }
   ],
   "source": [
    "!aws iam get-role --role-name ROLE_NAME --query 'Role.AssumeRolePolicyDocument'\n"
   ]
  }
 ],
 "metadata": {
  "kernelspec": {
   "display_name": "conda_python3",
   "language": "python",
   "name": "conda_python3"
  },
  "language_info": {
   "codemirror_mode": {
    "name": "ipython",
    "version": 3
   },
   "file_extension": ".py",
   "mimetype": "text/x-python",
   "name": "python",
   "nbconvert_exporter": "python",
   "pygments_lexer": "ipython3",
   "version": "3.10.12"
  }
 },
 "nbformat": 4,
 "nbformat_minor": 5
}
