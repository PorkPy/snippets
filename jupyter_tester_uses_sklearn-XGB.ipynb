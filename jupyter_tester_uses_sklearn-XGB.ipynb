{
 "cells": [
  {
   "cell_type": "markdown",
   "id": "922c1066",
   "metadata": {},
   "source": [
    "## Wrapper Function\n",
    "This function together with its terminal API extracts away the complications of all the data collection and preparation scrips as well as training, testing and inference. \n",
    "\n",
    "To use this function, all that is needed is to gitclone the repo https://gitlab.core.awscmg-dev.dwpcloud.uk/machine-learning/compliance-cases.git .\n",
    "This is easiest using vscode as you can easily see all folders and git status while working on your files.\n",
    "Switch to dominic.mckean branch.\n",
    "\n",
    "#### Installation Instructions:\n",
    "Once downloaded, locate the snippets.pth file.\n",
    "Amend this file with the your path to 'compliance-cases/snippets_models'.\n",
    "\n",
    "Find the site-packages folder for your python environment.\n",
    "Mine is a conda env- '/opt/anaconda3/envs/test/lib/python3.7/site-packages'\n",
    "\n",
    "Copy the amended snippets.pth file to your site-packages folder.\n",
    "\n",
    "check the .pth file has been added to path.\n",
    "<br>\n",
    "\\>>> import sys\n",
    "<br>\n",
    "\\>>> print('\\n'.join(sys.path))\n",
    "<br>\n",
    "Or just run the cell below!\n",
    "\n",
    "Your $PATH should now contain a path to the snippets module."
   ]
  },
  {
   "cell_type": "code",
   "execution_count": 1,
   "id": "b20a5d79",
   "metadata": {
    "ExecuteTime": {
     "end_time": "2022-12-23T14:53:16.923885Z",
     "start_time": "2022-12-23T14:53:16.920708Z"
    },
    "scrolled": true
   },
   "outputs": [
    {
     "name": "stdout",
     "output_type": "stream",
     "text": [
      "/home/ec2-user/SageMaker/AWS_files/compliance-cases/snippets_models\n",
      "/home/ec2-user/anaconda3/envs/amazonei_pytorch_latest_p37/lib/python37.zip\n",
      "/home/ec2-user/anaconda3/envs/amazonei_pytorch_latest_p37/lib/python3.7\n",
      "/home/ec2-user/anaconda3/envs/amazonei_pytorch_latest_p37/lib/python3.7/lib-dynload\n",
      "\n",
      "/home/ec2-user/anaconda3/envs/amazonei_pytorch_latest_p37/lib/python3.7/site-packages\n",
      "/home/ec2-user/anaconda3/envs/amazonei_pytorch_latest_p37/lib/python3.7/site-packages/IPython/extensions\n",
      "/home/ec2-user/.ipython\n"
     ]
    }
   ],
   "source": [
    "import sys\n",
    "print('\\n'.join(sys.path))"
   ]
  },
  {
   "cell_type": "markdown",
   "id": "36752420",
   "metadata": {},
   "source": [
    "### Data PATH\n",
    "Within the path.txt file, amend the paths to where your data is stored. \n",
    "For convenience, navigate to the shared data folder on OneDrive and click the button at the top of the page called 'add shortcut to my files'.\n",
    "This shared folder shortcut will now be available to the computer and can therefore be used as a direct path to shared data without needing to download anything. \n",
    "Within path.txt there are various paths for loading and dumping data in case you want to save different levels of data in different locations, which is sensible. At the top of each .py file in the module, you can stipulate which line in the path.txt fine to search."
   ]
  },
  {
   "cell_type": "markdown",
   "id": "6ecdb75f",
   "metadata": {},
   "source": [
    "### Jupyter function:\n",
    "For training a model, uncomment the training cell.\n",
    "In the folder_list variable, list the names of the folders and sub-folders you want to search for data.\n",
    "Add a filename to your dataset under save_filename. When data has been collected and concatenated, the save filename will be 'concat_[save_filename]'.\n",
    "When the data has been preprocessed, it will be saved as 'flttan_[save_filename]'\n",
    "The 'inference' flag tells the code whether to carry out training or inference.\n",
    "\n",
    "### Python API\n",
    "From the terminal, navigate to the snippets_models folder and run: python wrapper.py --folder_list folder1 folder2 --save_filename filename --inference True/False.\n",
    "The code will do all the work. \n",
    "Just wait for the results to come back."
   ]
  },
  {
   "cell_type": "markdown",
   "id": "43cdfd19",
   "metadata": {},
   "source": [
    "#### Note: If any code is changed in the module, this notebook with require restarting."
   ]
  },
  {
   "cell_type": "markdown",
   "id": "b479b3bb",
   "metadata": {
    "tags": []
   },
   "source": [
    "Train a mode\n",
    "\n",
    "# remember to change flatten - number of sub area SR from 1000 to 100."
   ]
  },
  {
   "cell_type": "code",
   "execution_count": null,
   "id": "f35d4446",
   "metadata": {
    "ExecuteTime": {
     "end_time": "2023-02-15T10:52:04.553174Z",
     "start_time": "2023-02-15T10:51:45.122161Z"
    },
    "scrolled": true,
    "tags": []
   },
   "outputs": [
    {
     "name": "stdout",
     "output_type": "stream",
     "text": [
      "Inference =  False\n",
      "testing =  False\n",
      "Getting Training Data\n",
      "synth_data/MCASE_DATA_ARR_MGNT_21102022.csv\n",
      "synth_data/MCASE_DATA_ARR_MGNT_FIRSTHALF_2013_24102022.csv\n",
      "synth_data/MCASE_DATA_ARR_MGNT_FIRSTHALF_2014_24102022.csv\n"
     ]
    },
    {
     "name": "stderr",
     "output_type": "stream",
     "text": [
      "/home/ec2-user/SageMaker/AWS_files/compliance-cases/snippets_models/wrapper.py:71: DtypeWarning: Columns (24) have mixed types.Specify dtype option on import or set low_memory=False.\n",
      "  get_training_data()\n"
     ]
    },
    {
     "name": "stdout",
     "output_type": "stream",
     "text": [
      "synth_data/MCASE_DATA_ARR_MGNT_FIRSTHALF_2015_28102022.csv\n",
      "synth_data/MCASE_DATA_ARR_MGNT_FIRSTHALF_2016_01112022.csv\n",
      "synth_data/MCASE_DATA_ARR_MGNT_FIRSTHALF_2017_01112022.csv\n",
      "synth_data/MCASE_DATA_ARR_MGNT_FIRSTHALF_2018_01112022.csv\n",
      "synth_data/MCASE_DATA_ARR_MGNT_FIRSTHALF_2019_01112022.csv\n"
     ]
    },
    {
     "name": "stderr",
     "output_type": "stream",
     "text": [
      "/home/ec2-user/SageMaker/AWS_files/compliance-cases/snippets_models/wrapper.py:71: DtypeWarning: Columns (2) have mixed types.Specify dtype option on import or set low_memory=False.\n",
      "  get_training_data()\n"
     ]
    },
    {
     "name": "stdout",
     "output_type": "stream",
     "text": [
      "synth_data/MCASE_DATA_ARR_MGNT_FIRSTHALF_2020_01112022.csv\n",
      "synth_data/MCASE_DATA_ARR_MGNT_FIRSTHALF_2021_01112022.csv\n",
      "synth_data/MCASE_DATA_ARR_MGNT_SECONDHALF_2013_24102022.csv\n",
      "synth_data/MCASE_DATA_ARR_MGNT_SECONDHALF_2014_24102022.csv\n",
      "synth_data/MCASE_DATA_ARR_MGNT_SECONDHALF_2015_31102022.csv\n",
      "synth_data/MCASE_DATA_ARR_MGNT_SECONDHALF_2016_31102022.csv\n",
      "synth_data/MCASE_DATA_ARR_MGNT_SECONDHALF_2017_31102022.csv\n"
     ]
    },
    {
     "name": "stderr",
     "output_type": "stream",
     "text": [
      "/home/ec2-user/SageMaker/AWS_files/compliance-cases/snippets_models/wrapper.py:71: DtypeWarning: Columns (23) have mixed types.Specify dtype option on import or set low_memory=False.\n",
      "  get_training_data()\n"
     ]
    },
    {
     "name": "stdout",
     "output_type": "stream",
     "text": [
      "synth_data/MCASE_DATA_ARR_MGNT_SECONDHALF_2018_31102022.csv\n",
      "synth_data/MCASE_DATA_ARR_MGNT_SECONDHALF_2019_31102022.csv\n",
      "synth_data/MCASE_DATA_ARR_MGNT_SECONDHALF_2020_31102022.csv\n",
      "synth_data/MCASE_DATA_ARR_MGNT_SECONDHALF_2021_31102022.csv\n",
      "synth_data/MCASE_DATA_ARR_MGNT_SECONDHALF_2022_31102022.csv\n",
      "synth_data/MCASE_DATA_COC_FIRSTHALF_2016_01112022.csv\n"
     ]
    },
    {
     "name": "stderr",
     "output_type": "stream",
     "text": [
      "/home/ec2-user/SageMaker/AWS_files/compliance-cases/snippets_models/wrapper.py:71: DtypeWarning: Columns (3,50) have mixed types.Specify dtype option on import or set low_memory=False.\n",
      "  get_training_data()\n"
     ]
    },
    {
     "name": "stdout",
     "output_type": "stream",
     "text": [
      "synth_data/MCASE_DATA_COC_SECONDHALF_2015_31102022.csv\n",
      "synth_data/MCASE_DATA__COC_21102022.csv\n",
      "synth_data/MCASE_DATA__COC_FIRSTHALF_2013_24102022.csv\n",
      "synth_data/MCASE_DATA__COC_FIRSTHALF_2014_24102022.csv\n",
      "synth_data/MCASE_DATA__COC_FIRSTHALF_2015_28102022.csv\n",
      "synth_data/MCASE_DATA__COC_FIRSTHALF_2015_28102022_2.csv\n",
      "synth_data/MCASE_DATA__COC_FIRSTHALF_2016_01112022.csv\n",
      "synth_data/MCASE_DATA__COC_FIRSTHALF_2017_01112022.csv\n"
     ]
    },
    {
     "name": "stderr",
     "output_type": "stream",
     "text": [
      "/home/ec2-user/SageMaker/AWS_files/compliance-cases/snippets_models/wrapper.py:71: DtypeWarning: Columns (3,36,50) have mixed types.Specify dtype option on import or set low_memory=False.\n",
      "  get_training_data()\n"
     ]
    },
    {
     "name": "stdout",
     "output_type": "stream",
     "text": [
      "synth_data/MCASE_DATA__COC_FIRSTHALF_2017_01112022_2.csv\n",
      "synth_data/MCASE_DATA__COC_FIRSTHALF_2018_01112022.csv\n"
     ]
    },
    {
     "name": "stderr",
     "output_type": "stream",
     "text": [
      "/home/ec2-user/SageMaker/AWS_files/compliance-cases/snippets_models/wrapper.py:71: DtypeWarning: Columns (23,35,36) have mixed types.Specify dtype option on import or set low_memory=False.\n",
      "  get_training_data()\n"
     ]
    },
    {
     "name": "stdout",
     "output_type": "stream",
     "text": [
      "synth_data/MCASE_DATA__COC_FIRSTHALF_2018_011120221.csv\n",
      "synth_data/MCASE_DATA__COC_FIRSTHALF_2019_01112022.csv\n",
      "synth_data/MCASE_DATA__COC_FIRSTHALF_2020_01112022.csv\n",
      "synth_data/MCASE_DATA__COC_FIRSTHALF_2021_01112022.csv\n",
      "synth_data/MCASE_DATA__COC_SECONDHALF_2013_24102022.csv\n",
      "synth_data/MCASE_DATA__COC_SECONDHALF_2014_24102022.csv\n",
      "synth_data/MCASE_DATA__COC_SECONDHALF_2015_31102022.csv\n"
     ]
    },
    {
     "name": "stderr",
     "output_type": "stream",
     "text": [
      "/home/ec2-user/SageMaker/AWS_files/compliance-cases/snippets_models/wrapper.py:71: DtypeWarning: Columns (49) have mixed types.Specify dtype option on import or set low_memory=False.\n",
      "  get_training_data()\n"
     ]
    },
    {
     "name": "stdout",
     "output_type": "stream",
     "text": [
      "synth_data/MCASE_DATA__COC_SECONDHALF_2016_31102022.csv\n",
      "synth_data/MCASE_DATA__COC_SECONDHALF_2016_31102022_2.csv\n",
      "synth_data/MCASE_DATA__COC_SECONDHALF_2017_31102022.csv\n",
      "synth_data/MCASE_DATA__COC_SECONDHALF_2017_31102022_2.csv\n",
      "synth_data/MCASE_DATA__COC_SECONDHALF_2018_31102022.csv\n",
      "synth_data/MCASE_DATA__COC_SECONDHALF_2019_31102022.csv\n",
      "synth_data/MCASE_DATA__COC_SECONDHALF_2020_31102022.csv\n",
      "synth_data/MCASE_DATA__COC_SECONDHALF_2021_31102022.csv\n",
      "synth_data/MOPF_DD.csv\n"
     ]
    },
    {
     "name": "stderr",
     "output_type": "stream",
     "text": [
      "/home/ec2-user/SageMaker/AWS_files/compliance-cases/snippets_models/wrapper.py:71: DtypeWarning: Columns (24,37) have mixed types.Specify dtype option on import or set low_memory=False.\n",
      "  get_training_data()\n"
     ]
    },
    {
     "name": "stdout",
     "output_type": "stream",
     "text": [
      "synth_data/MOPF_DEO.csv\n",
      "synth_data/MOPF_VSO.csv\n",
      "\n",
      " Saving Concatenated Data to S3\n",
      "\n",
      " Save location =  cmg-sagemaker-compliance-cases-data/synth_concat_data/\n",
      "\n",
      "\n",
      " ********* . User =  ec2-user\n"
     ]
    },
    {
     "name": "stderr",
     "output_type": "stream",
     "text": [
      "/home/ec2-user/SageMaker/AWS_files/compliance-cases/snippets_models/flatten_data.py:46: DtypeWarning: Columns (10) have mixed types.Specify dtype option on import or set low_memory=False.\n",
      "  data = get_data(0)\n"
     ]
    },
    {
     "name": "stdout",
     "output_type": "stream",
     "text": [
      "\n",
      " **** Getting Synthetic Data ****\n",
      " \n",
      "\n",
      " Saving flattened data\n",
      "\n",
      "\n",
      " ********* . User =  ec2-user\n",
      "\n",
      "Save File Name\n",
      " AWS_synth_training_data\n",
      "Training...\n",
      "\n",
      "Using Model:  XGB\n",
      "Using user defined data\n",
      "\n",
      " Target unique counts \n",
      " [[    0 10336]\n",
      " [    1 11747]]\n",
      "\n",
      " Test unique counts \n",
      " [[   0 1149]\n",
      " [   1 1305]]\n",
      "\n",
      " Data shape (22083, 103) (2454, 103) (22083,) (2454,)\n",
      "Model: XGB\n",
      "Training...\n",
      "Testing...\n"
     ]
    }
   ],
   "source": [
    "## Training\n",
    "from wrapper import wrapper_func \n",
    "import pandas as pd\n",
    "\n",
    "folder_list = ['TL2', '24102022', '31102011', '21102022', '01112011', '28102022']\n",
    "## using syth data for AWS\n",
    "\n",
    "save_filename = 'AWS_synth_training_data'\n",
    "inference = False\n",
    "testing = False\n",
    "\n",
    "results_df, proba_results_df,  X_test, y_test, data, X_train, y_train = wrapper_func(folder_list, \n",
    "                                                                save_filename,\n",
    "                                                                inference,\n",
    "                                                                 testing,\n",
    "                                                                )\n"
   ]
  },
  {
   "cell_type": "code",
   "execution_count": 2,
   "id": "135594f6",
   "metadata": {
    "ExecuteTime": {
     "end_time": "2023-02-15T10:56:11.948509Z",
     "start_time": "2023-02-15T10:56:11.939724Z"
    },
    "tags": []
   },
   "outputs": [
    {
     "name": "stdout",
     "output_type": "stream",
     "text": [
      "              precision    recall  f1-score   support\n",
      "\n",
      "           0       0.85      0.88      0.86      1149\n",
      "           1       0.89      0.86      0.87      1305\n",
      "\n",
      "    accuracy                           0.87      2454\n",
      "   macro avg       0.87      0.87      0.87      2454\n",
      "weighted avg       0.87      0.87      0.87      2454\n",
      "\n"
     ]
    }
   ],
   "source": [
    "\n",
    "from sklearn.metrics import classification_report\n",
    "\n",
    "print(classification_report(y_test, results_df.iloc[:,0]))\n"
   ]
  },
  {
   "cell_type": "markdown",
   "id": "c3243a89",
   "metadata": {},
   "source": [
    "Get inference results\n",
    "things i want to try.\n",
    "check training accuracy between open sr count and not\n",
    "check between time feature and not."
   ]
  },
  {
   "cell_type": "code",
   "execution_count": null,
   "id": "828b0e3a",
   "metadata": {
    "ExecuteTime": {
     "end_time": "2023-02-09T12:21:36.592771Z",
     "start_time": "2023-02-09T12:21:35.968407Z"
    },
    "code_folding": []
   },
   "outputs": [],
   "source": [
    "## inference\n",
    "from wrapper import wrapper_func \n",
    "import pandas as pd\n",
    "\n",
    "folder_list = ['CurrentIncome']\n",
    "save_filename = 'CurrentIncome'\n",
    "inference = True\n",
    "testing = False\n",
    "\n",
    "results_df, proba_results_df,  X_test, y_test, data = wrapper_func(folder_list, \n",
    "                                                                    save_filename,\n",
    "                                                                    inference,\n",
    "                                                                    testing,\n",
    "                                                                    )"
   ]
  },
  {
   "cell_type": "code",
   "execution_count": null,
   "id": "e86b6268",
   "metadata": {
    "ExecuteTime": {
     "end_time": "2023-01-16T11:38:03.446999Z",
     "start_time": "2023-01-16T11:38:03.357400Z"
    }
   },
   "outputs": [],
   "source": [
    "import pandas as pd\n",
    "pd.set_option('display.max_columns', None)\n",
    "\n",
    "with open(\"../path.txt\", \"r\") as fileObject:\n",
    "        PATH = fileObject.readlines()\n",
    "        PATH = '/Users/'+\"dominic.mckean\"+PATH[0]\n",
    "## remove pesky '\\n' from list of PATHs.\n",
    "PATH = PATH.strip('\\n')\n",
    "data = pd.read_csv('/Users/dominic.mckean/Library/CloudStorage/OneDrive-SecureEngineering/results_data/cleaned_data/flatten_inference_data.csv')\n",
    "data"
   ]
  },
  {
   "cell_type": "code",
   "execution_count": null,
   "id": "24d4d647",
   "metadata": {
    "ExecuteTime": {
     "end_time": "2023-01-11T16:09:28.876644Z",
     "start_time": "2023-01-11T16:09:24.355013Z"
    }
   },
   "outputs": [],
   "source": [
    "## testing\n",
    "from wrapper import wrapper_func \n",
    "import pandas as pd\n",
    "\n",
    "folder_list = ['TestData']\n",
    "save_filename = 'test_data'\n",
    "inference = False\n",
    "testing = True\n",
    "\n",
    "results_df, proba_results_df,  X_test, y_test, data = wrapper_func(folder_list, \n",
    "                                                                    save_filename,\n",
    "                                                                    inference,\n",
    "                                                                    testing,\n",
    "                                                                    )"
   ]
  },
  {
   "cell_type": "code",
   "execution_count": 2,
   "id": "a34dacf9",
   "metadata": {
    "ExecuteTime": {
     "end_time": "2023-02-15T10:52:48.083489Z",
     "start_time": "2023-02-15T10:52:48.066778Z"
    }
   },
   "outputs": [
    {
     "data": {
      "text/html": [
       "<div>\n",
       "<style scoped>\n",
       "    .dataframe tbody tr th:only-of-type {\n",
       "        vertical-align: middle;\n",
       "    }\n",
       "\n",
       "    .dataframe tbody tr th {\n",
       "        vertical-align: top;\n",
       "    }\n",
       "\n",
       "    .dataframe thead th {\n",
       "        text-align: right;\n",
       "    }\n",
       "</style>\n",
       "<table border=\"1\" class=\"dataframe\">\n",
       "  <thead>\n",
       "    <tr style=\"text-align: right;\">\n",
       "      <th></th>\n",
       "      <th>XGB proba_preds</th>\n",
       "      <th>mean</th>\n",
       "      <th>mcase_life_cycle</th>\n",
       "    </tr>\n",
       "  </thead>\n",
       "  <tbody>\n",
       "    <tr>\n",
       "      <th>0</th>\n",
       "      <td>0.841</td>\n",
       "      <td>0.841</td>\n",
       "      <td>0</td>\n",
       "    </tr>\n",
       "    <tr>\n",
       "      <th>1</th>\n",
       "      <td>0.984</td>\n",
       "      <td>0.984</td>\n",
       "      <td>1</td>\n",
       "    </tr>\n",
       "    <tr>\n",
       "      <th>2</th>\n",
       "      <td>0.010</td>\n",
       "      <td>0.010</td>\n",
       "      <td>0</td>\n",
       "    </tr>\n",
       "    <tr>\n",
       "      <th>3</th>\n",
       "      <td>0.716</td>\n",
       "      <td>0.716</td>\n",
       "      <td>0</td>\n",
       "    </tr>\n",
       "    <tr>\n",
       "      <th>4</th>\n",
       "      <td>0.042</td>\n",
       "      <td>0.042</td>\n",
       "      <td>0</td>\n",
       "    </tr>\n",
       "  </tbody>\n",
       "</table>\n",
       "</div>"
      ],
      "text/plain": [
       "   XGB proba_preds   mean  mcase_life_cycle\n",
       "0            0.841  0.841                 0\n",
       "1            0.984  0.984                 1\n",
       "2            0.010  0.010                 0\n",
       "3            0.716  0.716                 0\n",
       "4            0.042  0.042                 0"
      ]
     },
     "execution_count": 2,
     "metadata": {},
     "output_type": "execute_result"
    }
   ],
   "source": [
    "mcase_life_cycle = pd.DataFrame(y_test, columns=['mcase_life_cycle'])\n",
    "results = pd.concat([proba_results_df, mcase_life_cycle], axis=1)\n",
    "results.head()"
   ]
  },
  {
   "cell_type": "code",
   "execution_count": null,
   "id": "5c3f4a09",
   "metadata": {
    "ExecuteTime": {
     "end_time": "2023-02-15T10:39:22.661461Z",
     "start_time": "2023-02-15T10:39:22.633595Z"
    }
   },
   "outputs": [],
   "source": [
    "## find most important features in inference data\n",
    "bob = pd.concat([X_test, proba_results_df['mean']], axis=1)\n",
    "bob1 = bob[bob['mean'] >0.8]\n",
    "bob1.loc['total'] = pd.Series(bob1.sum())\n",
    "bob2 = bob1.loc['total'].sort_values(ascending=False).to_frame()\n",
    "pd.set_option('display.max_rows', None)\n",
    "pd.set_option('display.float_format', lambda x: '%.1f' % x)\n",
    "bob2.reset_index(inplace=True)\n",
    "display(bob2)"
   ]
  },
  {
   "cell_type": "code",
   "execution_count": null,
   "id": "0fbb6911",
   "metadata": {
    "ExecuteTime": {
     "end_time": "2023-01-20T12:41:10.749680Z",
     "start_time": "2023-01-20T12:41:10.731423Z"
    }
   },
   "outputs": [],
   "source": [
    "## find most important features in inference data\n",
    "cat = pd.concat([X_test, proba_results_df['mean']], axis=1)\n",
    "cat = cat[cat['mean'] <0.2]\n",
    "cat.loc['total'] = pd.Series(cat.sum())\n",
    "cat = cat.loc['total'].sort_values(ascending=False).to_frame()\n",
    "pd.set_option('display.max_rows', None)\n",
    "pd.set_option('display.float_format', lambda x: '%.1f' % x)\n",
    "cat = cat.reset_index()\n",
    "display(cat)"
   ]
  },
  {
   "cell_type": "code",
   "execution_count": null,
   "id": "c4aafa3c",
   "metadata": {
    "ExecuteTime": {
     "end_time": "2023-01-20T12:41:17.047783Z",
     "start_time": "2023-01-20T12:41:17.021839Z"
    },
    "scrolled": true
   },
   "outputs": [],
   "source": [
    "alice = pd.merge(bob2, cat, on='index')\n",
    "alice.columns = ['index','>80%', \"<20%\"]\n",
    "alice['delta'] = alice['>80%'] - alice['<20%']\n",
    "alice['%'] = alice['>80%'] / alice['<20%'] *100\n",
    "\n",
    "alice.sort_values(by=['delta'], ascending=False, inplace=True)\n",
    "alice.loc['total'] = pd.Series(alice.loc[3:,['>80%', '<20%']].sum())\n",
    "\n",
    "alice"
   ]
  },
  {
   "cell_type": "code",
   "execution_count": null,
   "id": "bbde2a74",
   "metadata": {
    "ExecuteTime": {
     "end_time": "2023-01-20T12:58:22.937526Z",
     "start_time": "2023-01-20T12:58:22.933742Z"
    }
   },
   "outputs": [],
   "source": [
    "## pickle models for prediction\n",
    "import pickle\n",
    "filename = f'alice.pkl'\n",
    "with open(filename, 'wb') as file:\n",
    "    pickle.dump(alice, file)"
   ]
  },
  {
   "cell_type": "code",
   "execution_count": 3,
   "id": "ef341f74",
   "metadata": {
    "ExecuteTime": {
     "end_time": "2023-02-15T10:59:23.099411Z",
     "start_time": "2023-02-15T10:59:22.778270Z"
    }
   },
   "outputs": [
    {
     "data": {
      "text/html": [
       "<div>\n",
       "<style scoped>\n",
       "    .dataframe tbody tr th:only-of-type {\n",
       "        vertical-align: middle;\n",
       "    }\n",
       "\n",
       "    .dataframe tbody tr th {\n",
       "        vertical-align: top;\n",
       "    }\n",
       "\n",
       "    .dataframe thead th {\n",
       "        text-align: right;\n",
       "    }\n",
       "</style>\n",
       "<table border=\"1\" class=\"dataframe\">\n",
       "  <thead>\n",
       "    <tr style=\"text-align: right;\">\n",
       "      <th></th>\n",
       "      <th>lifecycle</th>\n",
       "      <th>preds</th>\n",
       "    </tr>\n",
       "  </thead>\n",
       "  <tbody>\n",
       "    <tr>\n",
       "      <th>0</th>\n",
       "      <td>0</td>\n",
       "      <td>0</td>\n",
       "    </tr>\n",
       "    <tr>\n",
       "      <th>1</th>\n",
       "      <td>1</td>\n",
       "      <td>1</td>\n",
       "    </tr>\n",
       "    <tr>\n",
       "      <th>2</th>\n",
       "      <td>0</td>\n",
       "      <td>0</td>\n",
       "    </tr>\n",
       "    <tr>\n",
       "      <th>3</th>\n",
       "      <td>1</td>\n",
       "      <td>1</td>\n",
       "    </tr>\n",
       "    <tr>\n",
       "      <th>4</th>\n",
       "      <td>0</td>\n",
       "      <td>0</td>\n",
       "    </tr>\n",
       "  </tbody>\n",
       "</table>\n",
       "</div>"
      ],
      "text/plain": [
       "   lifecycle  preds\n",
       "0          0      0\n",
       "1          1      1\n",
       "2          0      0\n",
       "3          1      1\n",
       "4          0      0"
      ]
     },
     "metadata": {},
     "output_type": "display_data"
    },
    {
     "name": "stdout",
     "output_type": "stream",
     "text": [
      "(2454, 2)\n",
      "              precision    recall  f1-score   support\n",
      "\n",
      "           0       0.85      0.88      0.86      1149\n",
      "           1       0.89      0.86      0.87      1305\n",
      "\n",
      "    accuracy                           0.87      2454\n",
      "   macro avg       0.87      0.87      0.87      2454\n",
      "weighted avg       0.87      0.87      0.87      2454\n",
      "\n"
     ]
    },
    {
     "data": {
      "image/png": "[encoded data removed]",
      "text/plain": [
       "<Figure size 640x480 with 2 Axes>"
      ]
     },
     "metadata": {},
     "output_type": "display_data"
    },
    {
     "data": {
      "image/png": "[encoded data removed]",
      "text/plain": [
       "<Figure size 640x480 with 2 Axes>"
      ]
     },
     "metadata": {},
     "output_type": "display_data"
    }
   ],
   "source": [
    "## Confusion Marices\n",
    "from sklearn.metrics import (confusion_matrix, \n",
    "                             ConfusionMatrixDisplay, \n",
    "                             precision_score, \n",
    "                             recall_score, \n",
    "                             roc_auc_score,\n",
    "                             f1_score,\n",
    "                             accuracy_score,\n",
    "                             classification_report,\n",
    "                            )\n",
    "%matplotlib inline\n",
    "\n",
    "matrix = pd.DataFrame()\n",
    "matrix['lifecycle'] = y_test #results['mcase_life_cycle'].astype(int)\n",
    "matrix['preds']     = results_df.iloc[:,0] #results['XGB proba_preds']\n",
    "display(matrix.head())\n",
    "print(matrix.shape)\n",
    "\n",
    "preds = (matrix.preds >0.5).astype(int)\n",
    "cm = confusion_matrix(matrix.lifecycle, preds, normalize='true')\n",
    "ConfusionMatrixDisplay(cm).plot()  \n",
    "\n",
    "##counts\n",
    "cm = confusion_matrix(matrix.lifecycle, preds)\n",
    "ConfusionMatrixDisplay(cm).plot(); \n",
    "\n",
    "print(classification_report(matrix.lifecycle, preds))\n"
   ]
  },
  {
   "cell_type": "markdown",
   "id": "3f21c20b",
   "metadata": {},
   "source": [
    "Display results"
   ]
  },
  {
   "cell_type": "code",
   "execution_count": 4,
   "id": "f6be20ea",
   "metadata": {
    "ExecuteTime": {
     "end_time": "2023-01-09T16:06:44.157647Z",
     "start_time": "2023-01-09T16:06:43.963864Z"
    }
   },
   "outputs": [
    {
     "ename": "NameError",
     "evalue": "name 'results' is not defined",
     "output_type": "error",
     "traceback": [
      "\u001b[0;31m---------------------------------------------------------------------------\u001b[0m",
      "\u001b[0;31mNameError\u001b[0m                                 Traceback (most recent call last)",
      "\u001b[0;32m/tmp/ipykernel_10354/507567422.py\u001b[0m in \u001b[0;36m<module>\u001b[0;34m\u001b[0m\n\u001b[1;32m      3\u001b[0m \u001b[0mcm\u001b[0m \u001b[0;34m=\u001b[0m \u001b[0msns\u001b[0m\u001b[0;34m.\u001b[0m\u001b[0mlight_palette\u001b[0m\u001b[0;34m(\u001b[0m\u001b[0;34m'green'\u001b[0m\u001b[0;34m,\u001b[0m \u001b[0mas_cmap\u001b[0m\u001b[0;34m=\u001b[0m\u001b[0;32mTrue\u001b[0m\u001b[0;34m)\u001b[0m\u001b[0;34m\u001b[0m\u001b[0;34m\u001b[0m\u001b[0m\n\u001b[1;32m      4\u001b[0m \u001b[0;34m\u001b[0m\u001b[0m\n\u001b[0;32m----> 5\u001b[0;31m \u001b[0mstyled_proba_results_df\u001b[0m \u001b[0;34m=\u001b[0m \u001b[0mresults\u001b[0m\u001b[0;34m.\u001b[0m\u001b[0mstyle\u001b[0m\u001b[0;34m.\u001b[0m\u001b[0mbackground_gradient\u001b[0m\u001b[0;34m(\u001b[0m\u001b[0mcmap\u001b[0m\u001b[0;34m=\u001b[0m\u001b[0mcm\u001b[0m\u001b[0;34m)\u001b[0m\u001b[0;34m\u001b[0m\u001b[0;34m\u001b[0m\u001b[0m\n\u001b[0m\u001b[1;32m      6\u001b[0m \u001b[0;31m## show results\u001b[0m\u001b[0;34m\u001b[0m\u001b[0;34m\u001b[0m\u001b[0;34m\u001b[0m\u001b[0m\n\u001b[1;32m      7\u001b[0m \u001b[0mstyled_proba_results_df\u001b[0m\u001b[0;34m\u001b[0m\u001b[0;34m\u001b[0m\u001b[0m\n",
      "\u001b[0;31mNameError\u001b[0m: name 'results' is not defined"
     ]
    }
   ],
   "source": [
    "import seaborn as sns\n",
    "## set styling for heatmaps results.\n",
    "cm = sns.light_palette('green', as_cmap=True)\n",
    "    \n",
    "styled_proba_results_df = results.style.background_gradient(cmap=cm)\n",
    "## show results\n",
    "styled_proba_results_df"
   ]
  },
  {
   "cell_type": "markdown",
   "id": "43cbf2fd",
   "metadata": {},
   "source": [
    "Copy df to clipboard to paste directly into excel for adhoc filtering.\n"
   ]
  },
  {
   "cell_type": "code",
   "execution_count": null,
   "id": "9ff25ab4",
   "metadata": {
    "ExecuteTime": {
     "end_time": "2022-12-15T12:10:17.054615Z",
     "start_time": "2022-12-15T12:10:16.995313Z"
    }
   },
   "outputs": [],
   "source": [
    "results.to_clipboard()"
   ]
  },
  {
   "cell_type": "markdown",
   "id": "cad3b1b1",
   "metadata": {},
   "source": [
    "Install QGrid if you dont already have it\n",
    "You will need to restart your notebook instance after install."
   ]
  },
  {
   "cell_type": "code",
   "execution_count": null,
   "id": "b573cdad",
   "metadata": {
    "ExecuteTime": {
     "end_time": "2022-12-09T15:00:04.695458Z",
     "start_time": "2022-12-09T14:59:59.158Z"
    }
   },
   "outputs": [],
   "source": [
    "# !pip install qgrid\n",
    "# from IPython.display import display\n",
    "# !jupyter nbextension enable --py --sys-prefix qgrid"
   ]
  },
  {
   "cell_type": "markdown",
   "id": "07124dc8",
   "metadata": {},
   "source": [
    "Display qgrid for adhoc filtering/sorting"
   ]
  },
  {
   "cell_type": "code",
   "execution_count": null,
   "id": "0ce2cd43",
   "metadata": {
    "ExecuteTime": {
     "end_time": "2023-01-09T16:07:28.594221Z",
     "start_time": "2023-01-09T16:07:28.567320Z"
    }
   },
   "outputs": [],
   "source": [
    "import qgrid\n",
    "#qgrid_widget = qgrid.QGridWidget(df=proba_results_df, show_toolbar=True)\n",
    "qgrid_widget = qgrid.show_grid(proba_results_df, show_toolbar=True)\n",
    "qgrid_widget"
   ]
  },
  {
   "cell_type": "markdown",
   "id": "76c8d2fd",
   "metadata": {},
   "source": [
    "## Data Analysis "
   ]
  },
  {
   "cell_type": "markdown",
   "id": "1cc01775",
   "metadata": {},
   "source": [
    "This section will examine the test/inference data to try and identify good features.\n",
    "It is suspected that new data may have different SRs and different proportion of SRs and so the feature importance will be different. "
   ]
  },
  {
   "cell_type": "code",
   "execution_count": 5,
   "id": "09dd3855",
   "metadata": {
    "ExecuteTime": {
     "end_time": "2023-02-15T11:37:58.799399Z",
     "start_time": "2023-02-15T11:37:58.776481Z"
    }
   },
   "outputs": [
    {
     "name": "stdout",
     "output_type": "stream",
     "text": [
      "Data Columns\n",
      "  Index(['generalenquiry', 'changedeoemploymentdetails', 'changeclientdata',\n",
      "       'changecontact/securityinfo', 'arrearsreview', 'noaction',\n",
      "       'changeclientdata(adj)', 'changeaddressdetails', 'outofarrears',\n",
      "       'annualreview',\n",
      "       ...\n",
      "       'benefits_p', 'default_so_p', 'deo_p', 'der_p', 'directdebit_p',\n",
      "       'voluntary_so_p', 'ar_missed_payment_count', 'age', 'open_sr_count',\n",
      "       'target'],\n",
      "      dtype='object', length=105)\n",
      "\n",
      "X_test shape\n",
      " (4908, 103)\n"
     ]
    }
   ],
   "source": [
    "import pandas as pd\n",
    "import matplotlib.pyplot as plt\n",
    "from sklearn.model_selection import train_test_split\n",
    "#data = pd.read_csv('/Users/dominic.mckean/Library/CloudStorage/OneDrive-SecureEngineering/notebooks/Test&Learn2/cleaned_data/flatten_training_data.csv')\n",
    "\n",
    "## show data columns\n",
    "print(\"Data Columns\\n \",data.columns)\n",
    "## columns to drop as not part of input data.\n",
    "columns_list = ['master_case_number', \n",
    "                #'sr_open_date', \n",
    "                'target', \n",
    "                #'mopf_collection_day', \n",
    "                #'mcase_life_cycle',\n",
    "                #'ar_cc_outstanding_balance',\n",
    "                #'income',\n",
    "                #'Closed',\n",
    "                ]\n",
    "## get X from inference/test data\n",
    "X = data.drop(columns_list, axis=1)\n",
    "\n",
    "# get y from data.\n",
    "y = data['target'] #data['mcase_life_cycle']\n",
    "y = y.to_numpy()\n",
    "y = y.tolist()\n",
    "## train test split.\n",
    "X_train, X_test, y_train, y_test = train_test_split(X, y,\n",
    "                                                    test_size=0.20, \n",
    "                                                    shuffle=True,\n",
    "                                                    stratify = y,\n",
    "                                                    random_state=42)\n",
    "\n",
    "## show input data shape\n",
    "print(\"\\nX_test shape\\n\",X_test.shape)"
   ]
  },
  {
   "cell_type": "code",
   "execution_count": 13,
   "id": "5cced22b",
   "metadata": {
    "ExecuteTime": {
     "end_time": "2023-02-15T11:38:09.940529Z",
     "start_time": "2023-02-15T11:38:09.923719Z"
    }
   },
   "outputs": [
    {
     "data": {
      "text/plain": [
       "82"
      ]
     },
     "execution_count": 13,
     "metadata": {},
     "output_type": "execute_result"
    }
   ],
   "source": [
    "## Get the clf used in training.\n",
    "import pickle\n",
    "\n",
    "## get local pkl file path\n",
    "pklpath = '../model_files'\n",
    "\n",
    "filename = pklpath + f'/XGBtest.pkl'\n",
    "with open(filename, 'rb') as file:  \n",
    "    clf = pickle.load(file)\n",
    "    \n",
    "## check the num of features used in training\n",
    "clf[1].n_features_in_"
   ]
  },
  {
   "cell_type": "code",
   "execution_count": 6,
   "id": "147309b0",
   "metadata": {
    "ExecuteTime": {
     "end_time": "2023-02-15T11:38:23.517053Z",
     "start_time": "2023-02-15T11:38:12.126860Z"
    }
   },
   "outputs": [
    {
     "ename": "NameError",
     "evalue": "name 'clf' is not defined",
     "output_type": "error",
     "traceback": [
      "\u001b[0;31m---------------------------------------------------------------------------\u001b[0m",
      "\u001b[0;31mNameError\u001b[0m                                 Traceback (most recent call last)",
      "\u001b[0;32m/tmp/ipykernel_10354/401457334.py\u001b[0m in \u001b[0;36m<module>\u001b[0;34m\u001b[0m\n\u001b[1;32m      2\u001b[0m \u001b[0;32mfrom\u001b[0m \u001b[0msklearn\u001b[0m\u001b[0;34m.\u001b[0m\u001b[0minspection\u001b[0m \u001b[0;32mimport\u001b[0m \u001b[0mpermutation_importance\u001b[0m\u001b[0;34m\u001b[0m\u001b[0;34m\u001b[0m\u001b[0m\n\u001b[1;32m      3\u001b[0m \u001b[0;34m\u001b[0m\u001b[0m\n\u001b[0;32m----> 4\u001b[0;31m \u001b[0mperm_importance\u001b[0m \u001b[0;34m=\u001b[0m \u001b[0mpermutation_importance\u001b[0m\u001b[0;34m(\u001b[0m\u001b[0mclf\u001b[0m\u001b[0;34m,\u001b[0m \u001b[0mX_test\u001b[0m\u001b[0;34m,\u001b[0m \u001b[0my_test\u001b[0m\u001b[0;34m,\u001b[0m \u001b[0mn_repeats\u001b[0m\u001b[0;34m=\u001b[0m\u001b[0;36m10\u001b[0m\u001b[0;34m,\u001b[0m \u001b[0mrandom_state\u001b[0m\u001b[0;34m=\u001b[0m\u001b[0;36m42\u001b[0m\u001b[0;34m)\u001b[0m\u001b[0;34m\u001b[0m\u001b[0;34m\u001b[0m\u001b[0m\n\u001b[0m",
      "\u001b[0;31mNameError\u001b[0m: name 'clf' is not defined"
     ]
    }
   ],
   "source": [
    "## carry out permutation importance \n",
    "from sklearn.inspection import permutation_importance\n",
    "\n",
    "perm_importance = permutation_importance(clf, X_test, y_test, n_repeats=10, random_state=42)"
   ]
  },
  {
   "cell_type": "code",
   "execution_count": 15,
   "id": "0704a879",
   "metadata": {
    "ExecuteTime": {
     "end_time": "2023-02-15T11:38:24.062332Z",
     "start_time": "2023-02-15T11:38:24.058316Z"
    }
   },
   "outputs": [],
   "source": [
    "## Create a list of column names\n",
    "cols = data.columns.drop(columns_list)\n",
    "cols_df = pd.DataFrame(cols)\n"
   ]
  },
  {
   "cell_type": "code",
   "execution_count": 16,
   "id": "8db13c3b",
   "metadata": {
    "ExecuteTime": {
     "end_time": "2023-02-15T11:38:27.808453Z",
     "start_time": "2023-02-15T11:38:24.557097Z"
    }
   },
   "outputs": [
    {
     "data": {
      "text/html": [
       "<div>\n",
       "<style scoped>\n",
       "    .dataframe tbody tr th:only-of-type {\n",
       "        vertical-align: middle;\n",
       "    }\n",
       "\n",
       "    .dataframe tbody tr th {\n",
       "        vertical-align: top;\n",
       "    }\n",
       "\n",
       "    .dataframe thead tr th {\n",
       "        text-align: left;\n",
       "    }\n",
       "\n",
       "    .dataframe thead tr:last-of-type th {\n",
       "        text-align: right;\n",
       "    }\n",
       "</style>\n",
       "<table border=\"1\" class=\"dataframe\">\n",
       "  <thead>\n",
       "    <tr>\n",
       "      <th></th>\n",
       "      <th>outofarrears</th>\n",
       "      <th>defaultstandingorder</th>\n",
       "      <th>annualreview</th>\n",
       "      <th>open_sr_count</th>\n",
       "      <th>reviewcase&amp;decideonaction</th>\n",
       "      <th>annualincomeupdate</th>\n",
       "      <th>noaction</th>\n",
       "      <th>changepaymentdetails</th>\n",
       "      <th>defaultsoclientcontact</th>\n",
       "      <th>none_p</th>\n",
       "      <th>ar_cc_outstanding_balance</th>\n",
       "      <th>changeaddressdetails</th>\n",
       "      <th>arrearsreview</th>\n",
       "      <th>ar_missed_payment_count</th>\n",
       "      <th>age</th>\n",
       "      <th>dfbfailure</th>\n",
       "      <th>changebenefitdetails</th>\n",
       "      <th>deo</th>\n",
       "      <th>changeclientdata</th>\n",
       "      <th>generalenquiry</th>\n",
       "      <th>arrears-negotiation</th>\n",
       "      <th>representdirectdebit</th>\n",
       "      <th>deo_p</th>\n",
       "      <th>changecontact/securityinfo</th>\n",
       "      <th>changeincome</th>\n",
       "      <th>compliancenotification</th>\n",
       "      <th>default_so_p</th>\n",
       "      <th>changeclientdata(adj)</th>\n",
       "      <th>disclosure</th>\n",
       "      <th>existingcase</th>\n",
       "      <th>changemethodofpymtfrom</th>\n",
       "      <th>changedeoemploymentdetails</th>\n",
       "      <th>directdebit</th>\n",
       "      <th>voluntary_so_p</th>\n",
       "      <th>amendexistingmopf</th>\n",
       "      <th>benefitagency</th>\n",
       "      <th>voluntarystandingorder</th>\n",
       "      <th>changetoservicetype</th>\n",
       "      <th>reviewsuppression</th>\n",
       "      <th>directpayment</th>\n",
       "      <th>changepersonaldetails</th>\n",
       "      <th>currentincomereview</th>\n",
       "      <th>mandatoryreconsideration</th>\n",
       "      <th>sharedcare</th>\n",
       "      <th>actionmissedpayment</th>\n",
       "      <th>dpdirectnonscheme</th>\n",
       "      <th>qcnotinfulltimeeducation</th>\n",
       "      <th>allocatetoaccount</th>\n",
       "      <th>None</th>\n",
       "      <th>arrears-enforceddeo</th>\n",
       "      <th>manualallocationflag</th>\n",
       "      <th>newrocinnrphousehold</th>\n",
       "      <th>nrpnotprimarycarerofroc</th>\n",
       "      <th>directdebit_p</th>\n",
       "      <th>pwcnotprimarycarerofqc</th>\n",
       "      <th>additionalincome</th>\n",
       "      <th>activatesuppression</th>\n",
       "      <th>activateclientrep</th>\n",
       "      <th>clientcredit/debitcard</th>\n",
       "      <th>dissatisfaction</th>\n",
       "      <th>recordvoluntarypayment</th>\n",
       "      <th>changeclientdata(variation)</th>\n",
       "      <th>reissuecorrespondence</th>\n",
       "      <th>dpnonschemeadjustments</th>\n",
       "      <th>gatherinfo</th>\n",
       "      <th>resolution</th>\n",
       "      <th>reviseincome</th>\n",
       "      <th>benefits_p</th>\n",
       "      <th>standardpayment</th>\n",
       "      <th>client</th>\n",
       "      <th>childturns20</th>\n",
       "      <th>lo</th>\n",
       "      <th>rdo-soleaccount</th>\n",
       "      <th>correction/revision</th>\n",
       "      <th>courtpresentation</th>\n",
       "      <th>provideadvice</th>\n",
       "      <th>der_p</th>\n",
       "      <th>investigatedfbstatus</th>\n",
       "      <th>lo-magistratescourt</th>\n",
       "      <th>arrearsactioninprogress</th>\n",
       "      <th>sendgenericcorrespondence</th>\n",
       "      <th>amendexistingmopt</th>\n",
       "    </tr>\n",
       "    <tr>\n",
       "      <th>Permutation Importance</th>\n",
       "      <th></th>\n",
       "      <th></th>\n",
       "      <th></th>\n",
       "      <th></th>\n",
       "      <th></th>\n",
       "      <th></th>\n",
       "      <th></th>\n",
       "      <th></th>\n",
       "      <th></th>\n",
       "      <th></th>\n",
       "      <th></th>\n",
       "      <th></th>\n",
       "      <th></th>\n",
       "      <th></th>\n",
       "      <th></th>\n",
       "      <th></th>\n",
       "      <th></th>\n",
       "      <th></th>\n",
       "      <th></th>\n",
       "      <th></th>\n",
       "      <th></th>\n",
       "      <th></th>\n",
       "      <th></th>\n",
       "      <th></th>\n",
       "      <th></th>\n",
       "      <th></th>\n",
       "      <th></th>\n",
       "      <th></th>\n",
       "      <th></th>\n",
       "      <th></th>\n",
       "      <th></th>\n",
       "      <th></th>\n",
       "      <th></th>\n",
       "      <th></th>\n",
       "      <th></th>\n",
       "      <th></th>\n",
       "      <th></th>\n",
       "      <th></th>\n",
       "      <th></th>\n",
       "      <th></th>\n",
       "      <th></th>\n",
       "      <th></th>\n",
       "      <th></th>\n",
       "      <th></th>\n",
       "      <th></th>\n",
       "      <th></th>\n",
       "      <th></th>\n",
       "      <th></th>\n",
       "      <th></th>\n",
       "      <th></th>\n",
       "      <th></th>\n",
       "      <th></th>\n",
       "      <th></th>\n",
       "      <th></th>\n",
       "      <th></th>\n",
       "      <th></th>\n",
       "      <th></th>\n",
       "      <th></th>\n",
       "      <th></th>\n",
       "      <th></th>\n",
       "      <th></th>\n",
       "      <th></th>\n",
       "      <th></th>\n",
       "      <th></th>\n",
       "      <th></th>\n",
       "      <th></th>\n",
       "      <th></th>\n",
       "      <th></th>\n",
       "      <th></th>\n",
       "      <th></th>\n",
       "      <th></th>\n",
       "      <th></th>\n",
       "      <th></th>\n",
       "      <th></th>\n",
       "      <th></th>\n",
       "      <th></th>\n",
       "      <th></th>\n",
       "      <th></th>\n",
       "      <th></th>\n",
       "      <th></th>\n",
       "      <th></th>\n",
       "      <th></th>\n",
       "    </tr>\n",
       "  </thead>\n",
       "  <tbody>\n",
       "    <tr>\n",
       "      <th>mean</th>\n",
       "      <td>0.004099</td>\n",
       "      <td>0.003576</td>\n",
       "      <td>0.003559</td>\n",
       "      <td>0.003500</td>\n",
       "      <td>0.003279</td>\n",
       "      <td>0.003271</td>\n",
       "      <td>0.003236</td>\n",
       "      <td>0.003057</td>\n",
       "      <td>0.003007</td>\n",
       "      <td>0.002891</td>\n",
       "      <td>0.002808</td>\n",
       "      <td>0.002327</td>\n",
       "      <td>0.002308</td>\n",
       "      <td>0.002306</td>\n",
       "      <td>0.002071</td>\n",
       "      <td>0.001975</td>\n",
       "      <td>0.001946</td>\n",
       "      <td>0.001732</td>\n",
       "      <td>0.001722</td>\n",
       "      <td>0.001706</td>\n",
       "      <td>0.001701</td>\n",
       "      <td>0.001667</td>\n",
       "      <td>0.001618</td>\n",
       "      <td>0.001613</td>\n",
       "      <td>0.001449</td>\n",
       "      <td>0.001433</td>\n",
       "      <td>0.001387</td>\n",
       "      <td>0.001336</td>\n",
       "      <td>0.001284</td>\n",
       "      <td>0.001279</td>\n",
       "      <td>0.001249</td>\n",
       "      <td>0.001232</td>\n",
       "      <td>0.001155</td>\n",
       "      <td>0.001082</td>\n",
       "      <td>0.001070</td>\n",
       "      <td>0.001045</td>\n",
       "      <td>0.000994</td>\n",
       "      <td>0.000931</td>\n",
       "      <td>0.000839</td>\n",
       "      <td>0.000813</td>\n",
       "      <td>0.000773</td>\n",
       "      <td>0.000758</td>\n",
       "      <td>0.000750</td>\n",
       "      <td>0.000722</td>\n",
       "      <td>0.000721</td>\n",
       "      <td>0.000704</td>\n",
       "      <td>0.000704</td>\n",
       "      <td>0.000605</td>\n",
       "      <td>0.000581</td>\n",
       "      <td>0.000512</td>\n",
       "      <td>0.000510</td>\n",
       "      <td>0.000456</td>\n",
       "      <td>0.000419</td>\n",
       "      <td>0.000416</td>\n",
       "      <td>0.000416</td>\n",
       "      <td>0.000387</td>\n",
       "      <td>0.000387</td>\n",
       "      <td>0.000387</td>\n",
       "      <td>0.000372</td>\n",
       "      <td>0.000363</td>\n",
       "      <td>0.000363</td>\n",
       "      <td>0.000326</td>\n",
       "      <td>0.000309</td>\n",
       "      <td>0.000298</td>\n",
       "      <td>0.000251</td>\n",
       "      <td>0.000251</td>\n",
       "      <td>0.000251</td>\n",
       "      <td>0.000251</td>\n",
       "      <td>0.000251</td>\n",
       "      <td>0.000228</td>\n",
       "      <td>0.000208</td>\n",
       "      <td>0.000208</td>\n",
       "      <td>0.000208</td>\n",
       "      <td>0.000140</td>\n",
       "      <td>0.000140</td>\n",
       "      <td>0.000140</td>\n",
       "      <td>0.000140</td>\n",
       "      <td>0.000140</td>\n",
       "      <td>0.000000</td>\n",
       "      <td>0.0</td>\n",
       "      <td>0.0</td>\n",
       "      <td>0.0</td>\n",
       "    </tr>\n",
       "    <tr>\n",
       "      <th>std_dev</th>\n",
       "      <td>0.020335</td>\n",
       "      <td>0.033271</td>\n",
       "      <td>0.026477</td>\n",
       "      <td>0.039181</td>\n",
       "      <td>0.009121</td>\n",
       "      <td>0.018008</td>\n",
       "      <td>0.039460</td>\n",
       "      <td>0.026431</td>\n",
       "      <td>0.017124</td>\n",
       "      <td>0.011633</td>\n",
       "      <td>0.005910</td>\n",
       "      <td>0.002792</td>\n",
       "      <td>0.042206</td>\n",
       "      <td>0.023174</td>\n",
       "      <td>0.014751</td>\n",
       "      <td>0.037832</td>\n",
       "      <td>0.002373</td>\n",
       "      <td>0.003490</td>\n",
       "      <td>0.002745</td>\n",
       "      <td>0.005770</td>\n",
       "      <td>0.004095</td>\n",
       "      <td>0.008655</td>\n",
       "      <td>0.000047</td>\n",
       "      <td>0.011308</td>\n",
       "      <td>0.002839</td>\n",
       "      <td>0.002745</td>\n",
       "      <td>0.003211</td>\n",
       "      <td>-0.000279</td>\n",
       "      <td>0.000140</td>\n",
       "      <td>0.002420</td>\n",
       "      <td>0.003118</td>\n",
       "      <td>0.002932</td>\n",
       "      <td>0.003164</td>\n",
       "      <td>0.005444</td>\n",
       "      <td>-0.000419</td>\n",
       "      <td>0.000186</td>\n",
       "      <td>0.000372</td>\n",
       "      <td>0.002327</td>\n",
       "      <td>0.001163</td>\n",
       "      <td>0.001163</td>\n",
       "      <td>0.000838</td>\n",
       "      <td>0.001163</td>\n",
       "      <td>0.000465</td>\n",
       "      <td>0.001070</td>\n",
       "      <td>0.000931</td>\n",
       "      <td>-0.000047</td>\n",
       "      <td>0.000512</td>\n",
       "      <td>0.000419</td>\n",
       "      <td>0.001489</td>\n",
       "      <td>-0.000140</td>\n",
       "      <td>-0.000465</td>\n",
       "      <td>0.000372</td>\n",
       "      <td>0.000605</td>\n",
       "      <td>-0.000465</td>\n",
       "      <td>0.000000</td>\n",
       "      <td>-0.000047</td>\n",
       "      <td>-0.000047</td>\n",
       "      <td>-0.000047</td>\n",
       "      <td>-0.000186</td>\n",
       "      <td>0.000140</td>\n",
       "      <td>-0.000140</td>\n",
       "      <td>0.000512</td>\n",
       "      <td>0.000186</td>\n",
       "      <td>0.001536</td>\n",
       "      <td>-0.000047</td>\n",
       "      <td>0.000419</td>\n",
       "      <td>0.000047</td>\n",
       "      <td>-0.000047</td>\n",
       "      <td>-0.000047</td>\n",
       "      <td>0.001117</td>\n",
       "      <td>0.000465</td>\n",
       "      <td>0.000000</td>\n",
       "      <td>0.000000</td>\n",
       "      <td>0.000419</td>\n",
       "      <td>0.000512</td>\n",
       "      <td>0.000419</td>\n",
       "      <td>0.000047</td>\n",
       "      <td>0.000047</td>\n",
       "      <td>0.000465</td>\n",
       "      <td>0.0</td>\n",
       "      <td>0.0</td>\n",
       "      <td>0.0</td>\n",
       "    </tr>\n",
       "  </tbody>\n",
       "</table>\n",
       "</div>"
      ],
      "text/plain": [
       "                       outofarrears defaultstandingorder annualreview  \\\n",
       "Permutation Importance                                                  \n",
       "mean                       0.004099             0.003576     0.003559   \n",
       "std_dev                    0.020335             0.033271     0.026477   \n",
       "\n",
       "                       open_sr_count reviewcase&decideonaction  \\\n",
       "Permutation Importance                                           \n",
       "mean                        0.003500                  0.003279   \n",
       "std_dev                     0.039181                  0.009121   \n",
       "\n",
       "                       annualincomeupdate  noaction changepaymentdetails  \\\n",
       "Permutation Importance                                                     \n",
       "mean                             0.003271  0.003236             0.003057   \n",
       "std_dev                          0.018008  0.039460             0.026431   \n",
       "\n",
       "                       defaultsoclientcontact    none_p  \\\n",
       "Permutation Importance                                    \n",
       "mean                                 0.003007  0.002891   \n",
       "std_dev                              0.017124  0.011633   \n",
       "\n",
       "                       ar_cc_outstanding_balance changeaddressdetails  \\\n",
       "Permutation Importance                                                  \n",
       "mean                                    0.002808             0.002327   \n",
       "std_dev                                 0.005910             0.002792   \n",
       "\n",
       "                       arrearsreview ar_missed_payment_count       age  \\\n",
       "Permutation Importance                                                   \n",
       "mean                        0.002308                0.002306  0.002071   \n",
       "std_dev                     0.042206                0.023174  0.014751   \n",
       "\n",
       "                       dfbfailure changebenefitdetails       deo  \\\n",
       "Permutation Importance                                             \n",
       "mean                     0.001975             0.001946  0.001732   \n",
       "std_dev                  0.037832             0.002373  0.003490   \n",
       "\n",
       "                       changeclientdata generalenquiry arrears-negotiation  \\\n",
       "Permutation Importance                                                       \n",
       "mean                           0.001722       0.001706            0.001701   \n",
       "std_dev                        0.002745       0.005770            0.004095   \n",
       "\n",
       "                       representdirectdebit     deo_p  \\\n",
       "Permutation Importance                                  \n",
       "mean                               0.001667  0.001618   \n",
       "std_dev                            0.008655  0.000047   \n",
       "\n",
       "                       changecontact/securityinfo changeincome  \\\n",
       "Permutation Importance                                           \n",
       "mean                                     0.001613     0.001449   \n",
       "std_dev                                  0.011308     0.002839   \n",
       "\n",
       "                       compliancenotification default_so_p  \\\n",
       "Permutation Importance                                       \n",
       "mean                                 0.001433     0.001387   \n",
       "std_dev                              0.002745     0.003211   \n",
       "\n",
       "                       changeclientdata(adj) disclosure existingcase  \\\n",
       "Permutation Importance                                                 \n",
       "mean                                0.001336   0.001284     0.001279   \n",
       "std_dev                            -0.000279   0.000140     0.002420   \n",
       "\n",
       "                       changemethodofpymtfrom changedeoemploymentdetails  \\\n",
       "Permutation Importance                                                     \n",
       "mean                                 0.001249                   0.001232   \n",
       "std_dev                              0.003118                   0.002932   \n",
       "\n",
       "                       directdebit voluntary_so_p amendexistingmopf  \\\n",
       "Permutation Importance                                                \n",
       "mean                      0.001155       0.001082          0.001070   \n",
       "std_dev                   0.003164       0.005444         -0.000419   \n",
       "\n",
       "                       benefitagency voluntarystandingorder  \\\n",
       "Permutation Importance                                        \n",
       "mean                        0.001045               0.000994   \n",
       "std_dev                     0.000186               0.000372   \n",
       "\n",
       "                       changetoservicetype reviewsuppression directpayment  \\\n",
       "Permutation Importance                                                       \n",
       "mean                              0.000931          0.000839      0.000813   \n",
       "std_dev                           0.002327          0.001163      0.001163   \n",
       "\n",
       "                       changepersonaldetails currentincomereview  \\\n",
       "Permutation Importance                                             \n",
       "mean                                0.000773            0.000758   \n",
       "std_dev                             0.000838            0.001163   \n",
       "\n",
       "                       mandatoryreconsideration sharedcare  \\\n",
       "Permutation Importance                                       \n",
       "mean                                   0.000750   0.000722   \n",
       "std_dev                                0.000465   0.001070   \n",
       "\n",
       "                       actionmissedpayment dpdirectnonscheme  \\\n",
       "Permutation Importance                                         \n",
       "mean                              0.000721          0.000704   \n",
       "std_dev                           0.000931         -0.000047   \n",
       "\n",
       "                       qcnotinfulltimeeducation allocatetoaccount      None  \\\n",
       "Permutation Importance                                                        \n",
       "mean                                   0.000704          0.000605  0.000581   \n",
       "std_dev                                0.000512          0.000419  0.001489   \n",
       "\n",
       "                       arrears-enforceddeo manualallocationflag  \\\n",
       "Permutation Importance                                            \n",
       "mean                              0.000512             0.000510   \n",
       "std_dev                          -0.000140            -0.000465   \n",
       "\n",
       "                       newrocinnrphousehold nrpnotprimarycarerofroc  \\\n",
       "Permutation Importance                                                \n",
       "mean                               0.000456                0.000419   \n",
       "std_dev                            0.000372                0.000605   \n",
       "\n",
       "                       directdebit_p pwcnotprimarycarerofqc additionalincome  \\\n",
       "Permutation Importance                                                         \n",
       "mean                        0.000416               0.000416         0.000387   \n",
       "std_dev                    -0.000465               0.000000        -0.000047   \n",
       "\n",
       "                       activatesuppression activateclientrep  \\\n",
       "Permutation Importance                                         \n",
       "mean                              0.000387          0.000387   \n",
       "std_dev                          -0.000047         -0.000047   \n",
       "\n",
       "                       clientcredit/debitcard dissatisfaction  \\\n",
       "Permutation Importance                                          \n",
       "mean                                 0.000372        0.000363   \n",
       "std_dev                             -0.000186        0.000140   \n",
       "\n",
       "                       recordvoluntarypayment changeclientdata(variation)  \\\n",
       "Permutation Importance                                                      \n",
       "mean                                 0.000363                    0.000326   \n",
       "std_dev                             -0.000140                    0.000512   \n",
       "\n",
       "                       reissuecorrespondence dpnonschemeadjustments  \\\n",
       "Permutation Importance                                                \n",
       "mean                                0.000309               0.000298   \n",
       "std_dev                             0.000186               0.001536   \n",
       "\n",
       "                       gatherinfo resolution reviseincome benefits_p  \\\n",
       "Permutation Importance                                                 \n",
       "mean                     0.000251   0.000251     0.000251   0.000251   \n",
       "std_dev                 -0.000047   0.000419     0.000047  -0.000047   \n",
       "\n",
       "                       standardpayment    client childturns20        lo  \\\n",
       "Permutation Importance                                                    \n",
       "mean                          0.000251  0.000228     0.000208  0.000208   \n",
       "std_dev                      -0.000047  0.001117     0.000465  0.000000   \n",
       "\n",
       "                       rdo-soleaccount correction/revision courtpresentation  \\\n",
       "Permutation Importance                                                         \n",
       "mean                          0.000208            0.000140          0.000140   \n",
       "std_dev                       0.000000            0.000419          0.000512   \n",
       "\n",
       "                       provideadvice     der_p investigatedfbstatus  \\\n",
       "Permutation Importance                                                \n",
       "mean                        0.000140  0.000140             0.000140   \n",
       "std_dev                     0.000419  0.000047             0.000047   \n",
       "\n",
       "                       lo-magistratescourt arrearsactioninprogress  \\\n",
       "Permutation Importance                                               \n",
       "mean                              0.000000                     0.0   \n",
       "std_dev                           0.000465                     0.0   \n",
       "\n",
       "                       sendgenericcorrespondence amendexistingmopt  \n",
       "Permutation Importance                                              \n",
       "mean                                         0.0               0.0  \n",
       "std_dev                                      0.0               0.0  "
      ]
     },
     "metadata": {},
     "output_type": "display_data"
    },
    {
     "data": {
      "text/html": [
       "<div>\n",
       "<style scoped>\n",
       "    .dataframe tbody tr th:only-of-type {\n",
       "        vertical-align: middle;\n",
       "    }\n",
       "\n",
       "    .dataframe tbody tr th {\n",
       "        vertical-align: top;\n",
       "    }\n",
       "\n",
       "    .dataframe thead th {\n",
       "        text-align: right;\n",
       "    }\n",
       "</style>\n",
       "<table border=\"1\" class=\"dataframe\">\n",
       "  <thead>\n",
       "    <tr style=\"text-align: right;\">\n",
       "      <th></th>\n",
       "      <th>0</th>\n",
       "      <th>Importance</th>\n",
       "    </tr>\n",
       "    <tr>\n",
       "      <th>Feature Importance</th>\n",
       "      <th></th>\n",
       "      <th></th>\n",
       "    </tr>\n",
       "  </thead>\n",
       "  <tbody>\n",
       "    <tr>\n",
       "      <th>17</th>\n",
       "      <td>dfbfailure</td>\n",
       "      <td>0.170723</td>\n",
       "    </tr>\n",
       "    <tr>\n",
       "      <th>2</th>\n",
       "      <td>arrearsreview</td>\n",
       "      <td>0.121018</td>\n",
       "    </tr>\n",
       "    <tr>\n",
       "      <th>79</th>\n",
       "      <td>ar_missed_payment_count</td>\n",
       "      <td>0.083283</td>\n",
       "    </tr>\n",
       "    <tr>\n",
       "      <th>19</th>\n",
       "      <td>defaultstandingorder</td>\n",
       "      <td>0.049556</td>\n",
       "    </tr>\n",
       "    <tr>\n",
       "      <th>20</th>\n",
       "      <td>defaultsoclientcontact</td>\n",
       "      <td>0.042731</td>\n",
       "    </tr>\n",
       "  </tbody>\n",
       "</table>\n",
       "</div>"
      ],
      "text/plain": [
       "                                          0  Importance\n",
       "Feature Importance                                     \n",
       "17                               dfbfailure    0.170723\n",
       "2                             arrearsreview    0.121018\n",
       "79                  ar_missed_payment_count    0.083283\n",
       "19                     defaultstandingorder    0.049556\n",
       "20                   defaultsoclientcontact    0.042731"
      ]
     },
     "metadata": {},
     "output_type": "display_data"
    },
    {
     "data": {
      "image/png": "[encoded data removed]",
      "text/plain": [
       "<Figure size 1008x1440 with 2 Axes>"
      ]
     },
     "metadata": {
      "needs_background": "light"
     },
     "output_type": "display_data"
    }
   ],
   "source": [
    "import matplotlib.pyplot as plt\n",
    "import numpy as np\n",
    "pd.set_option('display.max_columns', None)\n",
    "\n",
    "\n",
    "## sort index for perm_importance and feature importance\n",
    "box_idx         = perm_importance.importances_mean.argsort()#[-1:] ## set number of features to examine\n",
    "barh_sorted_idx = np.argsort(clf[1].feature_importances_) ## indexing will vary depending on pipelinr depth.\n",
    "## permutation importance\n",
    "permutation_df = pd.DataFrame([perm_importance.importances_mean], columns=[cols])\n",
    "permutation_df = pd.DataFrame(np.insert(permutation_df.values, 0, \n",
    "                                        values=[[perm_importance.importances_std]], \n",
    "                                        axis  =0),\n",
    "                                        columns=[cols],\n",
    "                                        index  =['mean', 'std_dev'])\n",
    "\n",
    "permutation_df.sort_values(by = 'mean', axis = 1, ascending = False, inplace=True)\n",
    "permutation_df.index.name = \"Permutation Importance\"\n",
    "display(permutation_df)\n",
    "\n",
    "## feature importance\n",
    "importance_df_ = clf[1].feature_importances_\n",
    "importance_df_ = pd.DataFrame(importance_df_, columns=['Importance'])\n",
    "importance_df  = pd.concat([cols_df, importance_df_], axis=1)\n",
    "importance_df.sort_values(by='Importance', ascending=False, inplace=True)\n",
    "importance_df.index.name = \"Feature Importance\"\n",
    "display(importance_df.head())\n",
    "\n",
    "## plot\n",
    "fig, (ax1, ax2) = plt.subplots(1, 2, figsize=(14, 20))\n",
    "ax1.barh(cols[barh_sorted_idx], ## If error on this line, check line 3.\n",
    "         clf[1].feature_importances_[barh_sorted_idx], \n",
    "         height=0.7)\n",
    "\n",
    "ax2.boxplot(\n",
    "            perm_importance.importances[box_idx].T,\n",
    "            vert=False,\n",
    "            labels=cols[box_idx]\n",
    "    ,\n",
    ")\n",
    "fig.tight_layout()\n",
    "plt.show()"
   ]
  },
  {
   "cell_type": "markdown",
   "id": "5e969e61",
   "metadata": {},
   "source": [
    " For each feature, display the mean permutation importance with the standard deviation. "
   ]
  },
  {
   "cell_type": "code",
   "execution_count": null,
   "id": "61acf6b6",
   "metadata": {
    "ExecuteTime": {
     "end_time": "2023-01-17T11:30:34.459740Z",
     "start_time": "2023-01-17T11:30:34.454632Z"
    },
    "scrolled": true
   },
   "outputs": [],
   "source": [
    "## show permutation importance as list\n",
    "r = perm_importance\n",
    "for i in r.importances_mean.argsort()[::-1]:\n",
    "    if r.importances_mean[i] - 2 * r.importances_std[i] > 0:\n",
    "        print(f\"{cols[i]:<33}\"\n",
    "              f\"{r.importances_mean[i]:.3f}\"\n",
    "              f\" +/- {r.importances_std[i]:.3f}\")\n"
   ]
  },
  {
   "cell_type": "markdown",
   "id": "979a6413",
   "metadata": {},
   "source": [
    "Carry out hierarchy clustering on dataset to find redundant features.\n",
    "The outputs are a dengrogram to visually identify the various clusters, and a Spearman correlation matrix. "
   ]
  },
  {
   "cell_type": "code",
   "execution_count": null,
   "id": "a7290af1",
   "metadata": {
    "ExecuteTime": {
     "end_time": "2023-01-17T11:31:01.814345Z",
     "start_time": "2023-01-17T11:30:56.987583Z"
    }
   },
   "outputs": [],
   "source": [
    "from scipy.stats import spearmanr\n",
    "from scipy.cluster import hierarchy\n",
    "from scipy.spatial.distance import squareform\n",
    "\n",
    "print(\"Accuracy on test data: {:.4f}\".format(clf.score(X_test, y_test)))\n",
    "\n",
    "fig, (ax1, ax2) = plt.subplots(2, 1, figsize=(15, 20), gridspec_kw={'height_ratios': [1, 2]})\n",
    "corr = spearmanr(X_train).correlation\n",
    "print(len(X_train))\n",
    "\n",
    "# Ensure the correlation matrix is symmetric\n",
    "corr = (corr + corr.T) / 2\n",
    "np.fill_diagonal(corr, 1)\n",
    "\n",
    "# We convert the correlation matrix to a distance matrix before performing\n",
    "# hierarchical clustering using Ward's linkage.\n",
    "distance_matrix = 1 - np.abs(corr)\n",
    "dist_linkage = hierarchy.ward(squareform(distance_matrix))\n",
    "dendro = hierarchy.dendrogram(\n",
    "    dist_linkage, labels=X_train.columns.tolist(), ax=ax1, leaf_rotation=90\n",
    ")\n",
    "dendro_idx = np.arange(0, len(dendro[\"ivl\"]))\n",
    "\n",
    "ax2.imshow(corr[dendro[\"leaves\"], :][:, dendro[\"leaves\"]]);\n",
    "ax2.set_xticks(dendro_idx);\n",
    "ax2.set_yticks(dendro_idx);\n",
    "ax2.set_xticklabels(dendro[\"ivl\"], rotation=\"vertical\");\n",
    "ax2.set_yticklabels(dendro[\"ivl\"]);\n",
    "fig.tight_layout();\n",
    "plt.show()"
   ]
  },
  {
   "cell_type": "markdown",
   "id": "4b9286cb",
   "metadata": {},
   "source": [
    "Using the clusters generated using hierarchy, pick one feature from each and retrain the model.\n",
    "Removing colinear features should help improve the model. "
   ]
  },
  {
   "cell_type": "code",
   "execution_count": null,
   "id": "b70f62d2",
   "metadata": {
    "ExecuteTime": {
     "end_time": "2023-01-17T11:31:30.405259Z",
     "start_time": "2023-01-17T11:31:28.055789Z"
    }
   },
   "outputs": [],
   "source": [
    "from collections import defaultdict\n",
    "from sklearn.base import clone\n",
    "\n",
    "\n",
    "cluster_ids = hierarchy.fcluster(dist_linkage, 0.5, criterion=\"inconsistent\", depth=2)\n",
    "cluster_id_to_feature_ids = defaultdict(list)\n",
    "\n",
    "for idx, cluster_id in enumerate(cluster_ids):\n",
    "    cluster_id_to_feature_ids[cluster_id].append(idx)\n",
    "print(\"Clusters: \\n\", cluster_id_to_feature_ids.values())\n",
    "selected_features = [v[0] for v in cluster_id_to_feature_ids.values()]\n",
    "print(\"\\n selected_features: \", selected_features)\n",
    "print(\"length of selected features\", len(selected_features), '/', len(X_train.columns))\n",
    "X_train_sel = X_train.iloc[:, selected_features]\n",
    "X_test_sel = X_test.iloc[:, selected_features]\n",
    "\n",
    "clf_sel = clone(clf)\n",
    "clf_sel.fit(X_train_sel, y_train)\n",
    "print(\n",
    "    \"\\n Accuracy on test data with features removed: {:.4f}\".format(\n",
    "        clf_sel.score(X_test_sel, y_test)\n",
    "    )\n",
    ")"
   ]
  },
  {
   "cell_type": "markdown",
   "id": "23d5f5ae",
   "metadata": {},
   "source": [
    "DIY feature importance code. The code drops each feature in turn and retrains the model. The resulting train and test scores for each dropped feature are collected and displayed in the next cell.   "
   ]
  },
  {
   "cell_type": "code",
   "execution_count": null,
   "id": "0fbc8b8c",
   "metadata": {
    "ExecuteTime": {
     "end_time": "2023-01-17T11:36:49.819033Z",
     "start_time": "2023-01-17T11:31:42.675608Z"
    },
    "scrolled": true
   },
   "outputs": [],
   "source": [
    "## gets scores for each dropped feature. ## very slow ~16m\n",
    "train_scores = []\n",
    "test_scores = []\n",
    "X_train_df = X_train\n",
    "X_test_df = X_test\n",
    "\n",
    "for col in X_train.columns:\n",
    "    print(col)\n",
    "    model_clone = clone(clf) ## make a cloned copy of the current classifier. \n",
    "    model_clone.random_state = 42\n",
    "    model_clone.fit(X_train_df.drop(col, axis = 1), y_train)\n",
    "    drop_col_score_train = model_clone.score(X_train_df.drop(col, axis = 1), y_train)\n",
    "    drop_col_score_test = model_clone.score(X_test_df.drop(col, axis = 1), y_test)\n",
    "    train_scores.append(drop_col_score_train)\n",
    "    test_scores.append(drop_col_score_test)"
   ]
  },
  {
   "cell_type": "markdown",
   "id": "618dd36b",
   "metadata": {},
   "source": []
  },
  {
   "cell_type": "code",
   "execution_count": null,
   "id": "5e22385e",
   "metadata": {
    "ExecuteTime": {
     "end_time": "2023-01-17T11:39:48.553083Z",
     "start_time": "2023-01-17T11:39:48.532807Z"
    },
    "scrolled": true
   },
   "outputs": [],
   "source": [
    "## training score with dropped columns. What is the new  score when columns is dropped.\n",
    "scores_df = pd.DataFrame(train_scores, columns=['Scores'])\n",
    "train_results = pd.concat([cols_df, scores_df], axis=1)\n",
    "train_results.sort_values(by='Scores', ascending=True, inplace=True)\n",
    "\n",
    "display(train_results)\n",
    "\n",
    "## testing score with dropped columns\n",
    "scores_df = pd.DataFrame(test_scores, columns=['Scores'])\n",
    "test_results = pd.concat([cols_df, scores_df], axis=1)\n",
    "test_results.sort_values(by='Scores', ascending=True, inplace=True)\n",
    "\n",
    "display(test_results)"
   ]
  },
  {
   "cell_type": "code",
   "execution_count": null,
   "id": "982d1671",
   "metadata": {
    "ExecuteTime": {
     "end_time": "2023-01-17T11:40:06.912506Z",
     "start_time": "2023-01-17T11:40:06.894308Z"
    }
   },
   "outputs": [],
   "source": [
    "## Get a benchmark score for comparison \n",
    "benchmark_score = clf.score(X_test, y_test)\n",
    "print(benchmark_score)"
   ]
  },
  {
   "cell_type": "markdown",
   "id": "6f89b34c",
   "metadata": {},
   "source": [
    "Display the change in score for each removed feature. Removed features that have a positive effect on the model will show a value below zero.\n"
   ]
  },
  {
   "cell_type": "code",
   "execution_count": null,
   "id": "f415a280",
   "metadata": {
    "ExecuteTime": {
     "end_time": "2023-01-17T16:55:41.194191Z",
     "start_time": "2023-01-17T16:55:39.543470Z"
    }
   },
   "outputs": [],
   "source": [
    "testscores2 = benchmark_score - test_results['Scores']\n",
    "scores_df = pd.DataFrame(testscores2, columns=['Scores'])\n",
    "scores_df = pd.concat([cols_df, scores_df], axis=1)\n",
    "scores_df.sort_values(by='Scores', ascending=True, inplace=True)\n",
    "#df = df[-6:]\n",
    "bars = scores_df.plot.barh(x=0, y='Scores', figsize=(10,30));\n",
    "bars.bar_label(bars.containers[0]);"
   ]
  },
  {
   "cell_type": "code",
   "execution_count": null,
   "id": "c0a4a139",
   "metadata": {
    "ExecuteTime": {
     "end_time": "2023-01-17T11:42:08.144952Z",
     "start_time": "2023-01-17T11:42:08.142426Z"
    },
    "scrolled": true
   },
   "outputs": [],
   "source": [
    "plt.show()"
   ]
  },
  {
   "cell_type": "code",
   "execution_count": null,
   "id": "e564edf3",
   "metadata": {
    "ExecuteTime": {
     "end_time": "2023-01-17T11:42:17.002067Z",
     "start_time": "2023-01-17T11:42:13.886044Z"
    }
   },
   "outputs": [],
   "source": [
    "from sklearn.tree import DecisionTreeClassifier, export_text\n",
    "\n",
    "model = clf[1].fit(X_train, y_train)\n",
    "print(model)\n",
    "treex = export_text(model, feature_names=list(cols), spacing=5, show_weights=True)\n",
    "print(treex)"
   ]
  },
  {
   "cell_type": "code",
   "execution_count": null,
   "id": "9aee7998",
   "metadata": {
    "ExecuteTime": {
     "end_time": "2023-01-17T11:42:29.113565Z",
     "start_time": "2023-01-17T11:42:28.985294Z"
    }
   },
   "outputs": [],
   "source": [
    "from sklearn import tree\n",
    "%matplotlib inline\n",
    "\n",
    "\n",
    "## Diagram of the decision tree, for illustrative purposes. \n",
    "fig = plt.figure(figsize=(25,20))\n",
    "_ = tree.plot_tree(model, \n",
    "                   feature_names=list(cols),  \n",
    "                   class_names=['0','1'],\n",
    "                   filled=True)"
   ]
  }
 ],
 "metadata": {
  "kernelspec": {
   "display_name": "conda_amazonei_pytorch_latest_p37",
   "language": "python",
   "name": "conda_amazonei_pytorch_latest_p37"
  },
  "language_info": {
   "codemirror_mode": {
    "name": "ipython",
    "version": 3
   },
   "file_extension": ".py",
   "mimetype": "text/x-python",
   "name": "python",
   "nbconvert_exporter": "python",
   "pygments_lexer": "ipython3",
   "version": "3.7.10"
  },
  "toc": {
   "base_numbering": 1,
   "nav_menu": {},
   "number_sections": true,
   "sideBar": true,
   "skip_h1_title": false,
   "title_cell": "Table of Contents",
   "title_sidebar": "Contents",
   "toc_cell": false,
   "toc_position": {},
   "toc_section_display": true,
   "toc_window_display": false
  },
  "varInspector": {
   "cols": {
    "lenName": 16,
    "lenType": 16,
    "lenVar": 40
   },
   "kernels_config": {
    "python": {
     "delete_cmd_postfix": "",
     "delete_cmd_prefix": "del ",
     "library": "var_list.py",
     "varRefreshCmd": "print(var_dic_list())"
    },
    "r": {
     "delete_cmd_postfix": ") ",
     "delete_cmd_prefix": "rm(",
     "library": "var_list.r",
     "varRefreshCmd": "cat(var_dic_list()) "
    }
   },
   "types_to_exclude": [
    "module",
    "function",
    "builtin_function_or_method",
    "instance",
    "_Feature"
   ],
   "window_display": false
  }
 },
 "nbformat": 4,
 "nbformat_minor": 5
}
