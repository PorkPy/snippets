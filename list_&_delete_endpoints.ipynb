{
 "cells": [
  {
   "cell_type": "code",
   "execution_count": 1,
   "id": "372de826",
   "metadata": {},
   "outputs": [],
   "source": [
    "import boto3\n",
    "\n",
    "# Create a SageMaker client\n",
    "sagemaker = boto3.client(\"sagemaker\")\n",
    "\n",
    "# List all endpoints\n",
    "endpoints = sagemaker.list_endpoints(SortBy=\"Status\")\n",
    "for endpoint in endpoints[\"Endpoints\"]:\n",
    "    print(endpoint[\"EndpointName\"])"
   ]
  },
  {
   "cell_type": "code",
   "execution_count": 3,
   "id": "f9111337",
   "metadata": {},
   "outputs": [],
   "source": [
    "# Delete all endpoints\n",
    "for endpoint in endpoints[\"Endpoints\"]:\n",
    "    sagemaker.delete_endpoint(EndpointName=endpoint[\"EndpointName\"])"
   ]
  }
 ],
 "metadata": {
  "kernelspec": {
   "display_name": "conda_python3",
   "language": "python",
   "name": "conda_python3"
  },
  "language_info": {
   "codemirror_mode": {
    "name": "ipython",
    "version": 3
   },
   "file_extension": ".py",
   "mimetype": "text/x-python",
   "name": "python",
   "nbconvert_exporter": "python",
   "pygments_lexer": "ipython3",
   "version": "3.10.10"
  }
 },
 "nbformat": 4,
 "nbformat_minor": 5
}
