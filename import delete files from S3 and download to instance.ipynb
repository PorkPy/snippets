{
 "cells": [
  {
   "cell_type": "markdown",
   "id": "3ca67f76",
   "metadata": {},
   "source": [
    "### Import folders and files from S3 bucket and download to SageMaker instance storage"
   ]
  },
  {
   "cell_type": "code",
   "execution_count": 2,
   "id": "7c70cd0c",
   "metadata": {
    "scrolled": true
   },
   "outputs": [
    {
     "name": "stdout",
     "output_type": "stream",
     "text": [
      "AWS_files/.DS_Store\n",
      "AWS_files/compliance-cases/.DS_Store\n",
      "AWS_files/compliance-cases/ENV.txt\n",
      "AWS_files/compliance-cases/model_files/ABC.pkl\n",
      "AWS_files/compliance-cases/model_files/CAT.pkl\n",
      "AWS_files/compliance-cases/model_files/DTC.pkl\n",
      "AWS_files/compliance-cases/model_files/ETC.pkl\n",
      "AWS_files/compliance-cases/model_files/GBC.pkl\n",
      "AWS_files/compliance-cases/model_files/KNC.pkl\n",
      "AWS_files/compliance-cases/model_files/LR.pkl\n",
      "AWS_files/compliance-cases/model_files/MLP.pkl\n",
      "AWS_files/compliance-cases/model_files/RFC.pkl\n",
      "AWS_files/compliance-cases/model_files/SVC.pkl\n",
      "AWS_files/compliance-cases/model_files/XGB.pkl\n",
      "AWS_files/compliance-cases/model_files/XGBtest.pkl\n",
      "AWS_files/compliance-cases/model_files/inference_columns.pkl\n",
      "AWS_files/compliance-cases/path.txt\n",
      "AWS_files/compliance-cases/snippets.pth\n",
      "AWS_files/compliance-cases/snippets_models/__init__.py\n",
      "AWS_files/compliance-cases/snippets_models/flatten_data.py\n",
      "AWS_files/compliance-cases/snippets_models/get_inference.py\n",
      "AWS_files/compliance-cases/snippets_models/get_training.py\n",
      "AWS_files/compliance-cases/snippets_models/jupyter_tester.ipynb\n",
      "AWS_files/compliance-cases/snippets_models/snippets.py\n",
      "AWS_files/compliance-cases/snippets_models/train_and_test.py\n",
      "AWS_files/compliance-cases/snippets_models/wrapper.py\n"
     ]
    }
   ],
   "source": [
    "import os\n",
    "import boto3, sagemaker\n",
    "\n",
    "## S3 bucket name \n",
    "BUCKET_NAME = 'cmg-sagemaker-compliance-cases-data'\n",
    "## look only in specific folder in bucket\n",
    "subfolder = 'AWS_files'\n",
    "## destination path to save files downloaded\n",
    "dest_file = '/home/ec2-user/SageMaker/'\n",
    "## create a bucket object pointing to S3 bucket and subfolder is \n",
    "bucket = boto3.client('s3').list_objects(Bucket= BUCKET_NAME, Prefix= subfolder)\n",
    "\n",
    "## for each item in S3 bucket: \n",
    "for obj in bucket[\"Contents\"]:\n",
    "    file = obj[\"Key\"]\n",
    "    print(file)\n",
    "    ## download file to SageMaker instance storage\n",
    "#     s3.Bucket(BUCKET_NAME).download_file(file, dest_file+file)"
   ]
  },
  {
   "cell_type": "markdown",
   "id": "601ae083",
   "metadata": {},
   "source": [
    "### Empty default bucket\n"
   ]
  },
  {
   "cell_type": "code",
   "execution_count": 3,
   "id": "7710b3b6",
   "metadata": {
    "scrolled": true
   },
   "outputs": [
    {
     "name": "stdout",
     "output_type": "stream",
     "text": [
      "Default bucket is empty\n"
     ]
    }
   ],
   "source": [
    "## empty default bucket\n",
    "import boto3, sagemaker\n",
    "\n",
    "## define default bucket\n",
    "default_bucket = sagemaker.Session().default_bucket() \n",
    "\n",
    "## delete all objects\n",
    "boto3.resource('s3').Bucket(default_bucket).objects.delete()\n",
    "\n",
    "## check for remaining objs in bucket \n",
    "mybucket = boto3.client('s3').list_objects(Bucket=default_bucket) \n",
    "try:\n",
    "    for obj in mybucket[\"Contents\"]:\n",
    "        print(obj[\"Key\"])\n",
    "except:\n",
    "    print('Default bucket is empty')"
   ]
  },
  {
   "cell_type": "markdown",
   "id": "d009b58b",
   "metadata": {},
   "source": [
    "### delete specific objs in list from S3 bucket.\n"
   ]
  },
  {
   "cell_type": "code",
   "execution_count": 34,
   "id": "50cd65d0",
   "metadata": {},
   "outputs": [
    {
     "name": "stdout",
     "output_type": "stream",
     "text": [
      "\n",
      "AWS_files/.DS_Store\n",
      "AWS_files/compliance-cases/.DS_Store\n",
      "AWS_files/compliance-cases/ENV.txt\n",
      "AWS_files/compliance-cases/model_files/ABC.pkl\n",
      "AWS_files/compliance-cases/model_files/CAT.pkl\n",
      "AWS_files/compliance-cases/model_files/DTC.pkl\n",
      "AWS_files/compliance-cases/model_files/ETC.pkl\n",
      "AWS_files/compliance-cases/model_files/GBC.pkl\n",
      "AWS_files/compliance-cases/model_files/KNC.pkl\n",
      "AWS_files/compliance-cases/model_files/LR.pkl\n",
      "AWS_files/compliance-cases/model_files/MLP.pkl\n",
      "AWS_files/compliance-cases/model_files/RFC.pkl\n",
      "AWS_files/compliance-cases/model_files/SVC.pkl\n",
      "AWS_files/compliance-cases/model_files/XGB.pkl\n",
      "AWS_files/compliance-cases/model_files/XGBtest.pkl\n",
      "AWS_files/compliance-cases/model_files/inference_columns.pkl\n",
      "AWS_files/compliance-cases/path.txt\n",
      "AWS_files/compliance-cases/snippets.pth\n",
      "AWS_files/compliance-cases/snippets_models/__init__.py\n",
      "AWS_files/compliance-cases/snippets_models/flatten_data.py\n",
      "AWS_files/compliance-cases/snippets_models/get_inference.py\n",
      "AWS_files/compliance-cases/snippets_models/get_training.py\n",
      "AWS_files/compliance-cases/snippets_models/jupyter_tester.ipynb\n",
      "AWS_files/compliance-cases/snippets_models/snippets.py\n",
      "AWS_files/compliance-cases/snippets_models/train_and_test.py\n",
      "AWS_files/compliance-cases/snippets_models/wrapper.py\n",
      "For_Training.csv\n",
      "flatten_training_data.csv\n",
      "synth_data/MCASE_DATA_ARR_MGNT_21102022.csv\n",
      "synth_data/MCASE_DATA_ARR_MGNT_FIRSTHALF_2013_24102022.csv\n",
      "synth_data/MCASE_DATA_ARR_MGNT_FIRSTHALF_2014_24102022.csv\n",
      "synth_data/MCASE_DATA_ARR_MGNT_FIRSTHALF_2015_28102022.csv\n",
      "synth_data/MCASE_DATA_ARR_MGNT_FIRSTHALF_2016_01112022.csv\n",
      "synth_data/MCASE_DATA_ARR_MGNT_FIRSTHALF_2017_01112022.csv\n",
      "synth_data/MCASE_DATA_ARR_MGNT_FIRSTHALF_2018_01112022.csv\n",
      "synth_data/MCASE_DATA_ARR_MGNT_FIRSTHALF_2019_01112022.csv\n",
      "synth_data/MCASE_DATA_ARR_MGNT_FIRSTHALF_2020_01112022.csv\n",
      "synth_data/MCASE_DATA_ARR_MGNT_FIRSTHALF_2021_01112022.csv\n",
      "synth_data/MCASE_DATA_ARR_MGNT_SECONDHALF_2013_24102022.csv\n",
      "synth_data/MCASE_DATA_ARR_MGNT_SECONDHALF_2014_24102022.csv\n",
      "synth_data/MCASE_DATA_ARR_MGNT_SECONDHALF_2015_31102022.csv\n",
      "synth_data/MCASE_DATA_ARR_MGNT_SECONDHALF_2016_31102022.csv\n",
      "synth_data/MCASE_DATA_ARR_MGNT_SECONDHALF_2017_31102022.csv\n",
      "synth_data/MCASE_DATA_ARR_MGNT_SECONDHALF_2018_31102022.csv\n",
      "synth_data/MCASE_DATA_ARR_MGNT_SECONDHALF_2019_31102022.csv\n",
      "synth_data/MCASE_DATA_ARR_MGNT_SECONDHALF_2020_31102022.csv\n",
      "synth_data/MCASE_DATA_ARR_MGNT_SECONDHALF_2021_31102022.csv\n",
      "synth_data/MCASE_DATA_ARR_MGNT_SECONDHALF_2022_31102022.csv\n",
      "synth_data/MCASE_DATA_COC_FIRSTHALF_2016_01112022.csv\n",
      "synth_data/MCASE_DATA_COC_SECONDHALF_2015_31102022.csv\n",
      "synth_data/MCASE_DATA__COC_21102022.csv\n",
      "synth_data/MCASE_DATA__COC_FIRSTHALF_2013_24102022.csv\n",
      "synth_data/MCASE_DATA__COC_FIRSTHALF_2014_24102022.csv\n",
      "synth_data/MCASE_DATA__COC_FIRSTHALF_2015_28102022.csv\n",
      "synth_data/MCASE_DATA__COC_FIRSTHALF_2015_28102022_2.csv\n",
      "synth_data/MCASE_DATA__COC_FIRSTHALF_2016_01112022.csv\n",
      "synth_data/MCASE_DATA__COC_FIRSTHALF_2017_01112022.csv\n",
      "synth_data/MCASE_DATA__COC_FIRSTHALF_2017_01112022_2.csv\n",
      "synth_data/MCASE_DATA__COC_FIRSTHALF_2018_01112022.csv\n",
      "synth_data/MCASE_DATA__COC_FIRSTHALF_2018_011120221.csv\n",
      "synth_data/MCASE_DATA__COC_FIRSTHALF_2019_01112022.csv\n",
      "synth_data/MCASE_DATA__COC_FIRSTHALF_2020_01112022.csv\n",
      "synth_data/MCASE_DATA__COC_FIRSTHALF_2021_01112022.csv\n",
      "synth_data/MCASE_DATA__COC_SECONDHALF_2013_24102022.csv\n",
      "synth_data/MCASE_DATA__COC_SECONDHALF_2014_24102022.csv\n",
      "synth_data/MCASE_DATA__COC_SECONDHALF_2015_31102022.csv\n",
      "synth_data/MCASE_DATA__COC_SECONDHALF_2016_31102022.csv\n",
      "synth_data/MCASE_DATA__COC_SECONDHALF_2016_31102022_2.csv\n",
      "synth_data/MCASE_DATA__COC_SECONDHALF_2017_31102022.csv\n",
      "synth_data/MCASE_DATA__COC_SECONDHALF_2017_31102022_2.csv\n",
      "synth_data/MCASE_DATA__COC_SECONDHALF_2018_31102022.csv\n",
      "synth_data/MCASE_DATA__COC_SECONDHALF_2019_31102022.csv\n",
      "synth_data/MCASE_DATA__COC_SECONDHALF_2020_31102022.csv\n",
      "synth_data/MCASE_DATA__COC_SECONDHALF_2021_31102022.csv\n",
      "synth_data/MOPF_DD.csv\n",
      "synth_data/MOPF_DEO.csv\n",
      "synth_data/MOPF_VSO.csv\n",
      "synth_data_training_data.csv\n",
      "synth_datatest_data.csv\n",
      "synth_flatten_from_raw_data/flatten.csv\n",
      "synth_flatten_training_data.csv\n",
      "test_write.csv\n",
      "\n",
      "AWS_files/.DS_Store\n",
      "AWS_files/compliance-cases/.DS_Store\n",
      "AWS_files/compliance-cases/ENV.txt\n",
      "AWS_files/compliance-cases/model_files/ABC.pkl\n",
      "AWS_files/compliance-cases/model_files/CAT.pkl\n",
      "AWS_files/compliance-cases/model_files/DTC.pkl\n",
      "AWS_files/compliance-cases/model_files/ETC.pkl\n",
      "AWS_files/compliance-cases/model_files/GBC.pkl\n",
      "AWS_files/compliance-cases/model_files/KNC.pkl\n",
      "AWS_files/compliance-cases/model_files/LR.pkl\n",
      "AWS_files/compliance-cases/model_files/MLP.pkl\n",
      "AWS_files/compliance-cases/model_files/RFC.pkl\n",
      "AWS_files/compliance-cases/model_files/SVC.pkl\n",
      "AWS_files/compliance-cases/model_files/XGB.pkl\n",
      "AWS_files/compliance-cases/model_files/XGBtest.pkl\n",
      "AWS_files/compliance-cases/model_files/inference_columns.pkl\n",
      "AWS_files/compliance-cases/path.txt\n",
      "AWS_files/compliance-cases/snippets.pth\n",
      "AWS_files/compliance-cases/snippets_models/__init__.py\n",
      "AWS_files/compliance-cases/snippets_models/flatten_data.py\n",
      "AWS_files/compliance-cases/snippets_models/get_inference.py\n",
      "AWS_files/compliance-cases/snippets_models/get_training.py\n",
      "AWS_files/compliance-cases/snippets_models/jupyter_tester.ipynb\n",
      "AWS_files/compliance-cases/snippets_models/snippets.py\n",
      "AWS_files/compliance-cases/snippets_models/train_and_test.py\n",
      "AWS_files/compliance-cases/snippets_models/wrapper.py\n",
      "synth_data/MCASE_DATA_ARR_MGNT_21102022.csv\n",
      "synth_data/MCASE_DATA_ARR_MGNT_FIRSTHALF_2013_24102022.csv\n",
      "synth_data/MCASE_DATA_ARR_MGNT_FIRSTHALF_2014_24102022.csv\n",
      "synth_data/MCASE_DATA_ARR_MGNT_FIRSTHALF_2015_28102022.csv\n",
      "synth_data/MCASE_DATA_ARR_MGNT_FIRSTHALF_2016_01112022.csv\n",
      "synth_data/MCASE_DATA_ARR_MGNT_FIRSTHALF_2017_01112022.csv\n",
      "synth_data/MCASE_DATA_ARR_MGNT_FIRSTHALF_2018_01112022.csv\n",
      "synth_data/MCASE_DATA_ARR_MGNT_FIRSTHALF_2019_01112022.csv\n",
      "synth_data/MCASE_DATA_ARR_MGNT_FIRSTHALF_2020_01112022.csv\n",
      "synth_data/MCASE_DATA_ARR_MGNT_FIRSTHALF_2021_01112022.csv\n",
      "synth_data/MCASE_DATA_ARR_MGNT_SECONDHALF_2013_24102022.csv\n",
      "synth_data/MCASE_DATA_ARR_MGNT_SECONDHALF_2014_24102022.csv\n",
      "synth_data/MCASE_DATA_ARR_MGNT_SECONDHALF_2015_31102022.csv\n",
      "synth_data/MCASE_DATA_ARR_MGNT_SECONDHALF_2016_31102022.csv\n",
      "synth_data/MCASE_DATA_ARR_MGNT_SECONDHALF_2017_31102022.csv\n",
      "synth_data/MCASE_DATA_ARR_MGNT_SECONDHALF_2018_31102022.csv\n",
      "synth_data/MCASE_DATA_ARR_MGNT_SECONDHALF_2019_31102022.csv\n",
      "synth_data/MCASE_DATA_ARR_MGNT_SECONDHALF_2020_31102022.csv\n",
      "synth_data/MCASE_DATA_ARR_MGNT_SECONDHALF_2021_31102022.csv\n",
      "synth_data/MCASE_DATA_ARR_MGNT_SECONDHALF_2022_31102022.csv\n",
      "synth_data/MCASE_DATA_COC_FIRSTHALF_2016_01112022.csv\n",
      "synth_data/MCASE_DATA_COC_SECONDHALF_2015_31102022.csv\n",
      "synth_data/MCASE_DATA__COC_21102022.csv\n",
      "synth_data/MCASE_DATA__COC_FIRSTHALF_2013_24102022.csv\n",
      "synth_data/MCASE_DATA__COC_FIRSTHALF_2014_24102022.csv\n",
      "synth_data/MCASE_DATA__COC_FIRSTHALF_2015_28102022.csv\n",
      "synth_data/MCASE_DATA__COC_FIRSTHALF_2015_28102022_2.csv\n",
      "synth_data/MCASE_DATA__COC_FIRSTHALF_2016_01112022.csv\n",
      "synth_data/MCASE_DATA__COC_FIRSTHALF_2017_01112022.csv\n",
      "synth_data/MCASE_DATA__COC_FIRSTHALF_2017_01112022_2.csv\n",
      "synth_data/MCASE_DATA__COC_FIRSTHALF_2018_01112022.csv\n",
      "synth_data/MCASE_DATA__COC_FIRSTHALF_2018_011120221.csv\n",
      "synth_data/MCASE_DATA__COC_FIRSTHALF_2019_01112022.csv\n",
      "synth_data/MCASE_DATA__COC_FIRSTHALF_2020_01112022.csv\n",
      "synth_data/MCASE_DATA__COC_FIRSTHALF_2021_01112022.csv\n",
      "synth_data/MCASE_DATA__COC_SECONDHALF_2013_24102022.csv\n",
      "synth_data/MCASE_DATA__COC_SECONDHALF_2014_24102022.csv\n",
      "synth_data/MCASE_DATA__COC_SECONDHALF_2015_31102022.csv\n",
      "synth_data/MCASE_DATA__COC_SECONDHALF_2016_31102022.csv\n",
      "synth_data/MCASE_DATA__COC_SECONDHALF_2016_31102022_2.csv\n",
      "synth_data/MCASE_DATA__COC_SECONDHALF_2017_31102022.csv\n",
      "synth_data/MCASE_DATA__COC_SECONDHALF_2017_31102022_2.csv\n",
      "synth_data/MCASE_DATA__COC_SECONDHALF_2018_31102022.csv\n",
      "synth_data/MCASE_DATA__COC_SECONDHALF_2019_31102022.csv\n",
      "synth_data/MCASE_DATA__COC_SECONDHALF_2020_31102022.csv\n",
      "synth_data/MCASE_DATA__COC_SECONDHALF_2021_31102022.csv\n",
      "synth_data/MOPF_DD.csv\n",
      "synth_data/MOPF_DEO.csv\n",
      "synth_data/MOPF_VSO.csv\n",
      "synth_flatten_from_raw_data/flatten.csv\n"
     ]
    }
   ],
   "source": [
    "## delete specific objs in list from S3 bucket.\n",
    "'''\n",
    "There is no need to specify a subfolder when deleting objects, only the key is needed.\n",
    "'''\n",
    "\n",
    "## S3 bucket name \n",
    "BUCKET_NAME = 'cmg-sagemaker-compliance-cases-data'\n",
    "\n",
    "object_keys = [\n",
    "    'test_write.csv',\n",
    "    'synth_flatten_training_data.csv',\n",
    "    'synth_datatest_data.csv',\n",
    "    'synth_data_training_data.csv',\n",
    "    'For_Training.csv',\n",
    "    'flatten_training_data.csv',\n",
    "]\n",
    "\n",
    "## print objects before delete\n",
    "print_objs('XGB_data')\n",
    "mybucket = boto3.resource('s3').Bucket(BUCKET_NAME)\n",
    "response = mybucket.delete_objects(Delete={'Objects': [{'Key': key} for key in object_keys]})\n",
    "## print objects after delete\n",
    "print_objs('XGB_data')"
   ]
  },
  {
   "cell_type": "markdown",
   "id": "bb54380f",
   "metadata": {},
   "source": [
    "### recursive delete all contents from specified folder.\n"
   ]
  },
  {
   "cell_type": "code",
   "execution_count": 32,
   "id": "069754f2",
   "metadata": {},
   "outputs": [
    {
     "name": "stdout",
     "output_type": "stream",
     "text": [
      "synth_concat_data//concat.csv\n"
     ]
    }
   ],
   "source": [
    "## recursive delete all contents from specified folder.\n",
    "\n",
    "BUCKET_NAME = 'cmg-sagemaker-compliance-cases-data'\n",
    "## look only in specific folder in bucket\n",
    "subfolder = 'synth_concat_data/'\n",
    "\n",
    "s3 = boto3.resource('s3')\n",
    "mybucket = s3.Bucket(BUCKET_NAME)\n",
    "\n",
    "## create a bucket object pointing to S3 bucket and subfolder is \n",
    "bucket = client.list_objects(Bucket= BUCKET_NAME, Prefix= subfolder)\n",
    "## for each item in S3 bucket: \n",
    "for obj in bucket[\"Contents\"]:\n",
    "    key = obj[\"Key\"]\n",
    "    print(key)\n",
    "    object_keys = [key]\n",
    "    mybucket.delete_objects(Delete={'Objects': [{'Key': key} for key in object_keys]})\n"
   ]
  },
  {
   "cell_type": "markdown",
   "id": "9b32fe6f",
   "metadata": {},
   "source": [
    "### for checking contents of default bucket.\n"
   ]
  },
  {
   "cell_type": "code",
   "execution_count": 4,
   "id": "34c40e87",
   "metadata": {
    "scrolled": true
   },
   "outputs": [
    {
     "name": "stdout",
     "output_type": "stream",
     "text": [
      "Default bucket is empty\n"
     ]
    }
   ],
   "source": [
    "## for checking contents of default bucket.\n",
    "import boto3, sagemaker\n",
    "\n",
    "default_bucket = sagemaker.Session().default_bucket() \n",
    "mybucket = boto3.client('s3').list_objects(Bucket=default_bucket) \n",
    "\n",
    "try:\n",
    "    ## for each obj in S3 bucket, print obj: \n",
    "    for obj in mybucket[\"Contents\"]:\n",
    "        print(obj[\"Key\"])\n",
    "except:\n",
    "    print('Default bucket is empty')"
   ]
  },
  {
   "cell_type": "markdown",
   "id": "8f099336",
   "metadata": {},
   "source": [
    "### recursively delete objects from S3 using CLI"
   ]
  },
  {
   "cell_type": "code",
   "execution_count": null,
   "id": "50ab1dd4",
   "metadata": {},
   "outputs": [],
   "source": [
    "## CLI\n",
    "aws s3 rm --recursive s3://cmg-sagemaker-compliance-cases-data/XGB_data/"
   ]
  }
 ],
 "metadata": {
  "kernelspec": {
   "display_name": "conda_pytorch_p39",
   "language": "python",
   "name": "conda_pytorch_p39"
  },
  "language_info": {
   "codemirror_mode": {
    "name": "ipython",
    "version": 3
   },
   "file_extension": ".py",
   "mimetype": "text/x-python",
   "name": "python",
   "nbconvert_exporter": "python",
   "pygments_lexer": "ipython3",
   "version": "3.9.15"
  }
 },
 "nbformat": 4,
 "nbformat_minor": 5
}
