{
 "cells": [
  {
   "cell_type": "markdown",
   "id": "0ff03bb5",
   "metadata": {},
   "source": [
    "### import file from S3 into local instance."
   ]
  },
  {
   "cell_type": "code",
   "execution_count": 1,
   "id": "60fa87bd",
   "metadata": {},
   "outputs": [],
   "source": [
    "import boto3\n",
    "\n",
    "s3 = boto3.resource('s3')\n",
    "bucket_name = ''\n",
    "file_name = ''\n",
    "s3.Bucket(bucket_name).download_file(file_name, '/home/ec2-user/SageMaker/new_file.py')\n"
   ]
  },
  {
   "cell_type": "markdown",
   "id": "de12ba96",
   "metadata": {},
   "source": [
    "### cli equivalent"
   ]
  },
  {
   "cell_type": "code",
   "execution_count": null,
   "id": "f37737bc",
   "metadata": {},
   "outputs": [],
   "source": [
    "!aws s3 cp s3://'bucket_name'/'file_name' 'save location and file name'\n"
   ]
  }
 ],
 "metadata": {
  "kernelspec": {
   "display_name": "Python 3.10.3 64-bit",
   "language": "python",
   "name": "python3"
  },
  "language_info": {
   "codemirror_mode": {
    "name": "ipython",
    "version": 3
   },
   "file_extension": ".py",
   "mimetype": "text/x-python",
   "name": "python",
   "nbconvert_exporter": "python",
   "pygments_lexer": "ipython3",
   "version": "3.10.3"
  },
  "vscode": {
   "interpreter": {
    "hash": "aee8b7b246df8f9039afb4144a1f6fd8d2ca17a180786b69acc140d282b71a49"
   }
  }
 },
 "nbformat": 4,
 "nbformat_minor": 5
}
