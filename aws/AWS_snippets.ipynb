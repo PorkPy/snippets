{
 "cells": [
  {
   "cell_type": "markdown",
   "id": "e5e27145",
   "metadata": {},
   "source": [
    "### Import folders and files from S3 bucket and download to SageMaker instance storage\n"
   ]
  },
  {
   "cell_type": "code",
   "execution_count": null,
   "id": "23ba688e",
   "metadata": {},
   "outputs": [],
   "source": [
    "## load libraries\n",
    "import os\n",
    "## AWS Python SDK\n",
    "import boto3\n",
    "from botocore.exceptions import ClientError  \n",
    "## When running on SageMaker, need execution role\n",
    "from sagemaker import get_execution_role\n",
    "## this just needs defining for some reason.\n",
    "role = get_execution_role()\n",
    "\n",
    "## S3 bucket name \n",
    "BUCKET_NAME = 'bucket_name'\n",
    "## look only in specific folder in bucket\n",
    "subfolder = 'AWS_files'\n",
    "## destination path to save files downloaded\n",
    "dest_file = '/home/ec2-user/SageMaker/'\n",
    "\n",
    "client = boto3.client('s3')\n",
    "s3 = boto3.resource('s3')\n",
    "\n",
    "## create a bucket object pointing to S3 bucket and subfolder is \n",
    "bucket = client.list_objects(Bucket=BUCKET_NAME, Prefix=subfolder)\n",
    "## for each item in S3 bucket: \n",
    "for content in bucket[\"Contents\"]:\n",
    "    file = content[\"Key\"]\n",
    "    print(file)\n",
    "    ## download file to SageMaker instance storage\n",
    "    s3.Bucket(BUCKET_NAME).download_file(file, dest_file+file)"
   ]
  }
 ],
 "metadata": {
  "kernelspec": {
   "display_name": "Python 3",
   "language": "python",
   "name": "python3"
  },
  "language_info": {
   "codemirror_mode": {
    "name": "ipython",
    "version": 3
   },
   "file_extension": ".py",
   "mimetype": "text/x-python",
   "name": "python",
   "nbconvert_exporter": "python",
   "pygments_lexer": "ipython3",
   "version": "3.7.13"
  },
  "toc": {
   "base_numbering": 1,
   "nav_menu": {},
   "number_sections": true,
   "sideBar": true,
   "skip_h1_title": false,
   "title_cell": "Table of Contents",
   "title_sidebar": "Contents",
   "toc_cell": false,
   "toc_position": {},
   "toc_section_display": true,
   "toc_window_display": false
  },
  "varInspector": {
   "cols": {
    "lenName": 16,
    "lenType": 16,
    "lenVar": 40
   },
   "kernels_config": {
    "python": {
     "delete_cmd_postfix": "",
     "delete_cmd_prefix": "del ",
     "library": "var_list.py",
     "varRefreshCmd": "print(var_dic_list())"
    },
    "r": {
     "delete_cmd_postfix": ") ",
     "delete_cmd_prefix": "rm(",
     "library": "var_list.r",
     "varRefreshCmd": "cat(var_dic_list()) "
    }
   },
   "types_to_exclude": [
    "module",
    "function",
    "builtin_function_or_method",
    "instance",
    "_Feature"
   ],
   "window_display": false
  }
 },
 "nbformat": 4,
 "nbformat_minor": 5
}
