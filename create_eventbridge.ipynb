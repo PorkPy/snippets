{
 "cells": [
  {
   "cell_type": "code",
   "execution_count": 1,
   "id": "abdf5c6f",
   "metadata": {},
   "outputs": [
    {
     ]
    }
   ],
   "source": [
    "import boto3\n",
    "import sagemaker\n",
    "\n",
    "s3_bucket = 'bucket'\n",
    "s3_prefix = 'prefix'\n",
    "pipeline_name = 'MyPipeline-2023-07-03-21-07-05'\n",
    "region = 'eu-west-2'\n",
    "role_arn =  sagemaker.get_execution_role()\n",
    "\n",
    "eventbridge_client = boto3.client('events', region_name=region)\n",
    "sagemaker_client = boto3.client('sagemaker', region_name=region)\n",
    "\n",
    "# Get the pipeline ARN\n",
    "pipeline_arn = sagemaker_client.list_pipelines(PipelineNamePrefix=pipeline_name)['PipelineSummaries'][0]['PipelineArn']\n",
    "\n",
    "# Create the rule\n",
    "rule_response = eventbridge_client.put_rule(\n",
    "    Name='cmg_sagemaker_pipeline',\n",
    "    EventPattern=f'{{\"source\": [\"aws.s3\"], \"detail-type\": [\"ObjectCreated:*\"], \"detail\": {{\"bucket\": {{\"name\": [\"{s3_bucket}\"]}}, \"object\": {{\"key\": [{{\"prefix\": \"{s3_prefix}training\"}}]}}}}}}',\n",
    "    State='ENABLED',\n",
    "    Description='Rule to trigger SageMaker pipeline when new file is added to S3 bucket',\n",
    "    RoleArn=role_arn\n",
    ")\n",
    "\n",
    "# Add the target\n",
    "target_response = eventbridge_client.put_targets(\n",
    "    Rule='my-sagemaker-pipeline-trigger-rule',\n",
    "    Targets=[\n",
    "        {\n",
    "            'Id': '1',\n",
    "            'Arn': pipeline_arn,\n",
    "            'RoleArn': role_arn,\n",
    "            'Input': '{\"PipelineExecutionDescription\": \"Started by EventBridge rule\"}',\n",
    "            'InputPath': '$.detail'\n",
    "        }\n",
    "    ]\n",
    ")\n",
    "\n",
    "print(f'Rule ARN: {rule_response[\"RuleArn\"]}')\n"
   ]
  }
 ],
 "metadata": {
  "kernelspec": {
   "display_name": "conda_python3",
   "language": "python",
   "name": "conda_python3"
  },
  "language_info": {
   "codemirror_mode": {
    "name": "ipython",
    "version": 3
   },
   "file_extension": ".py",
   "mimetype": "text/x-python",
   "name": "python",
   "nbconvert_exporter": "python",
   "pygments_lexer": "ipython3",
   "version": "3.10.10"
  }
 },
 "nbformat": 4,
 "nbformat_minor": 5
}
